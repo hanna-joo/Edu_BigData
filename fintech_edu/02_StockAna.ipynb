{
 "cells": [
  {
   "cell_type": "markdown",
   "metadata": {},
   "source": [
    "*tool - jupyter notebook "
   ]
  },
  {
   "cell_type": "markdown",
   "metadata": {},
   "source": [
    "## 마케팅 효과 분석: 마케팅 포인트와 주가와의 상관관계 분석\n",
    "\n",
    "## 2. 주가 모멘텀 분석\n",
    "* 주가 참고 사이트 : http://www.thinkpool.com/itemanal/i/index.jsp?mcd=Q0&code=035760&Gcode=000_002\n",
    "\n",
    "\n",
    "* 예시)\n",
    "    * 미디어주 분석\n",
    "    * CJ ENM(035760)  \n",
    "         - https://finance.naver.com/item/sise_day.nhn?code=069960&page=1"
   ]
  },
  {
   "cell_type": "markdown",
   "metadata": {},
   "source": [
    "### 0) 패키지 설치"
   ]
  },
  {
   "cell_type": "code",
   "execution_count": 1,
   "metadata": {},
   "outputs": [],
   "source": [
    "import sqlite3\n",
    "import numpy as np\n",
    "import pandas as pd\n",
    "import matplotlib as mpl\n",
    "import matplotlib.pyplot as plt\n",
    "import matplotlib.font_manager as fm\n",
    "fname = fm.FontProperties(fname='malgun.ttf').get_name()\n",
    "mpl.rc('font',family=fname)\n",
    "import matplotlib.gridspec as gridspec"
   ]
  },
  {
   "cell_type": "markdown",
   "metadata": {},
   "source": [
    "### 1) 필요한 데이터 호출\n",
    "- 함수: selData(whr=' where SIDX=0')"
   ]
  },
  {
   "cell_type": "code",
   "execution_count": 2,
   "metadata": {},
   "outputs": [],
   "source": [
    "dbname='NaverStock.db'\n",
    "def selData(whr=' where SIDX=0'):\n",
    "    with sqlite3.connect(dbname) as conn:\n",
    "        cur=conn.cursor()\n",
    "        sql='select SDAY,OPENP,HIGHP,LOWP,CLOSEP,VOL from StockDay '+whr\n",
    "        cur.execute(sql)\n",
    "        rows=cur.fetchall()\n",
    "        cur.close()\n",
    "    return rows"
   ]
  },
  {
   "cell_type": "code",
   "execution_count": 3,
   "metadata": {},
   "outputs": [
    {
     "data": {
      "text/html": [
       "<div>\n",
       "<style scoped>\n",
       "    .dataframe tbody tr th:only-of-type {\n",
       "        vertical-align: middle;\n",
       "    }\n",
       "\n",
       "    .dataframe tbody tr th {\n",
       "        vertical-align: top;\n",
       "    }\n",
       "\n",
       "    .dataframe thead th {\n",
       "        text-align: right;\n",
       "    }\n",
       "</style>\n",
       "<table border=\"1\" class=\"dataframe\">\n",
       "  <thead>\n",
       "    <tr style=\"text-align: right;\">\n",
       "      <th></th>\n",
       "      <th>SDAY</th>\n",
       "      <th>OPENP</th>\n",
       "      <th>HIGHP</th>\n",
       "      <th>LOWP</th>\n",
       "      <th>CLOSEP</th>\n",
       "      <th>VOL</th>\n",
       "    </tr>\n",
       "  </thead>\n",
       "  <tbody>\n",
       "    <tr>\n",
       "      <th>0</th>\n",
       "      <td>20200102</td>\n",
       "      <td>159300</td>\n",
       "      <td>159400</td>\n",
       "      <td>151000</td>\n",
       "      <td>155600</td>\n",
       "      <td>125376</td>\n",
       "    </tr>\n",
       "    <tr>\n",
       "      <th>1</th>\n",
       "      <td>20200103</td>\n",
       "      <td>155800</td>\n",
       "      <td>157500</td>\n",
       "      <td>153100</td>\n",
       "      <td>154700</td>\n",
       "      <td>98855</td>\n",
       "    </tr>\n",
       "    <tr>\n",
       "      <th>2</th>\n",
       "      <td>20200106</td>\n",
       "      <td>153000</td>\n",
       "      <td>153900</td>\n",
       "      <td>150200</td>\n",
       "      <td>150200</td>\n",
       "      <td>78272</td>\n",
       "    </tr>\n",
       "    <tr>\n",
       "      <th>3</th>\n",
       "      <td>20200107</td>\n",
       "      <td>150300</td>\n",
       "      <td>154600</td>\n",
       "      <td>150300</td>\n",
       "      <td>154600</td>\n",
       "      <td>65431</td>\n",
       "    </tr>\n",
       "    <tr>\n",
       "      <th>4</th>\n",
       "      <td>20200108</td>\n",
       "      <td>152700</td>\n",
       "      <td>153200</td>\n",
       "      <td>150700</td>\n",
       "      <td>151300</td>\n",
       "      <td>75841</td>\n",
       "    </tr>\n",
       "  </tbody>\n",
       "</table>\n",
       "</div>"
      ],
      "text/plain": [
       "       SDAY   OPENP   HIGHP    LOWP  CLOSEP     VOL\n",
       "0  20200102  159300  159400  151000  155600  125376\n",
       "1  20200103  155800  157500  153100  154700   98855\n",
       "2  20200106  153000  153900  150200  150200   78272\n",
       "3  20200107  150300  154600  150300  154600   65431\n",
       "4  20200108  152700  153200  150700  151300   75841"
      ]
     },
     "execution_count": 3,
     "metadata": {},
     "output_type": "execute_result"
    }
   ],
   "source": [
    "whr = 'where SDAY>20200101 and SCODE=\"035760\" order by SDAY asc limit 250'\n",
    "res = selData(whr)\n",
    "cols = ['SDAY','OPENP','HIGHP','LOWP','CLOSEP','VOL']\n",
    "df = pd.DataFrame(data=res, columns = cols)\n",
    "df.head()"
   ]
  },
  {
   "cell_type": "markdown",
   "metadata": {},
   "source": [
    "- 주가 시각화"
   ]
  },
  {
   "cell_type": "code",
   "execution_count": 4,
   "metadata": {},
   "outputs": [
    {
     "data": {
      "text/plain": [
       "<matplotlib.axes._subplots.AxesSubplot at 0x187fce08640>"
      ]
     },
     "execution_count": 4,
     "metadata": {},
     "output_type": "execute_result"
    },
    {
     "data": {
      "image/png": "[encoded data removed]",
      "text/plain": [
       "<Figure size 432x288 with 1 Axes>"
      ]
     },
     "metadata": {
      "needs_background": "light"
     },
     "output_type": "display_data"
    }
   ],
   "source": [
    "sels = ['CLOSEP','OPENP']\n",
    "df[sels].plot()"
   ]
  },
  {
   "cell_type": "markdown",
   "metadata": {},
   "source": [
    "### 2) 이동평균선\n",
    "* 주가 기술분석\n",
    "* 단기 이평선(5일 이평선) 장기 이평선(30일 이평선)을 설정\n",
    "* 장단기 이평선을 분석\n",
    "    * 골든크로스 (단기 이평선이 장기 이평선을 아래에서 위로 통과) > 매수\n",
    "    * 데드크로스 (단기 이평선이 장기 이평선을 위에서 아래로 통과) > 매도\n",
    "    * 마케팅의 시장평가 지점을 지정\n",
    "\n",
    "\n",
    "* 함수: makeMV(baseday=5, basedata=df['CLOSEP'])"
   ]
  },
  {
   "cell_type": "code",
   "execution_count": 5,
   "metadata": {},
   "outputs": [],
   "source": [
    "def makeMV(baseday=5, basedata=df['CLOSEP']):\n",
    "    res = []\n",
    "    # 초기화 하기: 1-4일까지는 평균이 안나오니 0으로 채우기\n",
    "    for i in range(baseday-1):\n",
    "        res.append(0)\n",
    "    # 이동평균 데이터 만들기\n",
    "    n = len(basedata)-(baseday-1)\n",
    "    print(\"총 데이터수:\",len(basedata),\"초기화 안되고 채워야할 부분:\",n)\n",
    "    for i in range(n):\n",
    "        mvdata = np.average(basedata[i:i+baseday])\n",
    "        res.append(mvdata)\n",
    "    return res"
   ]
  },
  {
   "cell_type": "code",
   "execution_count": 6,
   "metadata": {
    "scrolled": true
   },
   "outputs": [
    {
     "name": "stdout",
     "output_type": "stream",
     "text": [
      "총 데이터수: 179 초기화 안되고 채워야할 부분: 175\n",
      "총 데이터수: 179 초기화 안되고 채워야할 부분: 150\n"
     ]
    },
    {
     "data": {
      "text/html": [
       "<div>\n",
       "<style scoped>\n",
       "    .dataframe tbody tr th:only-of-type {\n",
       "        vertical-align: middle;\n",
       "    }\n",
       "\n",
       "    .dataframe tbody tr th {\n",
       "        vertical-align: top;\n",
       "    }\n",
       "\n",
       "    .dataframe thead th {\n",
       "        text-align: right;\n",
       "    }\n",
       "</style>\n",
       "<table border=\"1\" class=\"dataframe\">\n",
       "  <thead>\n",
       "    <tr style=\"text-align: right;\">\n",
       "      <th></th>\n",
       "      <th>SDAY</th>\n",
       "      <th>OPENP</th>\n",
       "      <th>HIGHP</th>\n",
       "      <th>LOWP</th>\n",
       "      <th>CLOSEP</th>\n",
       "      <th>VOL</th>\n",
       "      <th>MV5</th>\n",
       "      <th>MV30</th>\n",
       "    </tr>\n",
       "  </thead>\n",
       "  <tbody>\n",
       "    <tr>\n",
       "      <th>0</th>\n",
       "      <td>20200102</td>\n",
       "      <td>159300</td>\n",
       "      <td>159400</td>\n",
       "      <td>151000</td>\n",
       "      <td>155600</td>\n",
       "      <td>125376</td>\n",
       "      <td>0.0</td>\n",
       "      <td>0.0</td>\n",
       "    </tr>\n",
       "    <tr>\n",
       "      <th>1</th>\n",
       "      <td>20200103</td>\n",
       "      <td>155800</td>\n",
       "      <td>157500</td>\n",
       "      <td>153100</td>\n",
       "      <td>154700</td>\n",
       "      <td>98855</td>\n",
       "      <td>0.0</td>\n",
       "      <td>0.0</td>\n",
       "    </tr>\n",
       "    <tr>\n",
       "      <th>2</th>\n",
       "      <td>20200106</td>\n",
       "      <td>153000</td>\n",
       "      <td>153900</td>\n",
       "      <td>150200</td>\n",
       "      <td>150200</td>\n",
       "      <td>78272</td>\n",
       "      <td>0.0</td>\n",
       "      <td>0.0</td>\n",
       "    </tr>\n",
       "    <tr>\n",
       "      <th>3</th>\n",
       "      <td>20200107</td>\n",
       "      <td>150300</td>\n",
       "      <td>154600</td>\n",
       "      <td>150300</td>\n",
       "      <td>154600</td>\n",
       "      <td>65431</td>\n",
       "      <td>0.0</td>\n",
       "      <td>0.0</td>\n",
       "    </tr>\n",
       "    <tr>\n",
       "      <th>4</th>\n",
       "      <td>20200108</td>\n",
       "      <td>152700</td>\n",
       "      <td>153200</td>\n",
       "      <td>150700</td>\n",
       "      <td>151300</td>\n",
       "      <td>75841</td>\n",
       "      <td>153280.0</td>\n",
       "      <td>0.0</td>\n",
       "    </tr>\n",
       "  </tbody>\n",
       "</table>\n",
       "</div>"
      ],
      "text/plain": [
       "       SDAY   OPENP   HIGHP    LOWP  CLOSEP     VOL       MV5  MV30\n",
       "0  20200102  159300  159400  151000  155600  125376       0.0   0.0\n",
       "1  20200103  155800  157500  153100  154700   98855       0.0   0.0\n",
       "2  20200106  153000  153900  150200  150200   78272       0.0   0.0\n",
       "3  20200107  150300  154600  150300  154600   65431       0.0   0.0\n",
       "4  20200108  152700  153200  150700  151300   75841  153280.0   0.0"
      ]
     },
     "execution_count": 6,
     "metadata": {},
     "output_type": "execute_result"
    }
   ],
   "source": [
    "# 이동평균선 값 df에 넣기\n",
    "df['MV5'] = makeMV(5)\n",
    "df['MV30'] = makeMV(30)\n",
    "df.head()"
   ]
  },
  {
   "cell_type": "code",
   "execution_count": 7,
   "metadata": {},
   "outputs": [
    {
     "data": {
      "text/plain": [
       "<function matplotlib.pyplot.show(*args, **kw)>"
      ]
     },
     "execution_count": 7,
     "metadata": {},
     "output_type": "execute_result"
    },
    {
     "data": {
      "image/png": "[encoded data removed]",
      "text/plain": [
       "<Figure size 432x288 with 1 Axes>"
      ]
     },
     "metadata": {
      "needs_background": "light"
     },
     "output_type": "display_data"
    }
   ],
   "source": [
    "# 시각화\n",
    "df[['CLOSEP','MV5']].plot()\n",
    "plt.legend()\n",
    "plt.show"
   ]
  },
  {
   "cell_type": "markdown",
   "metadata": {},
   "source": [
    "- 함수화 과정"
   ]
  },
  {
   "cell_type": "code",
   "execution_count": 8,
   "metadata": {},
   "outputs": [
    {
     "name": "stdout",
     "output_type": "stream",
     "text": [
      "총 데이터수: 179 초기화 안되고 채워야할 부분: 175\n"
     ]
    },
    {
     "data": {
      "image/png": "[encoded data removed]",
      "text/plain": [
       "<Figure size 432x288 with 1 Axes>"
      ]
     },
     "metadata": {
      "needs_background": "light"
     },
     "output_type": "display_data"
    }
   ],
   "source": [
    "res = []\n",
    "baseday=5 # 5일 평균선\n",
    "basedata = df['CLOSEP']\n",
    "\n",
    "# 초기화 하기: 1-4일까지는 평균이 안나오니 0으로 채우기\n",
    "for i in range(baseday-1):\n",
    "    res.append(0)\n",
    "    \n",
    "# 이동평균 데이터 만들기\n",
    "n = len(basedata)-(baseday-1)\n",
    "print(\"총 데이터수:\",len(basedata),\"초기화 안되고 채워야할 부분:\",n)\n",
    "\n",
    "for i in range(n):\n",
    "    mvdata = np.average(basedata[i:i+baseday])\n",
    "    res.append(mvdata)\n",
    "\n",
    "# 시각화\n",
    "df['CLOSEP'].plot()\n",
    "plt.plot(res,label='MV5') # 5일동안의 평균 지점(MV5)\n",
    "plt.xlim(25,50)\n",
    "plt.ylim(100000,170000)\n",
    "plt.legend()\n",
    "plt.show()"
   ]
  },
  {
   "cell_type": "markdown",
   "metadata": {},
   "source": [
    "### 3) 성장 모멘텀\n",
    "#### 장단기 크로스 포인트 분석\n",
    "* 주가 장단기 이평선에 관한 크로스 포인트 분석\n",
    "* 이를 통해 시장에 반영된 마케팅 기준선을 부여"
   ]
  },
  {
   "cell_type": "code",
   "execution_count": 9,
   "metadata": {},
   "outputs": [
    {
     "data": {
      "text/plain": [
       "<function matplotlib.pyplot.show(*args, **kw)>"
      ]
     },
     "execution_count": 9,
     "metadata": {},
     "output_type": "execute_result"
    },
    {
     "data": {
      "image/png": "[encoded data removed]",
      "text/plain": [
       "<Figure size 432x288 with 1 Axes>"
      ]
     },
     "metadata": {
      "needs_background": "light"
     },
     "output_type": "display_data"
    }
   ],
   "source": [
    "df[['MV5','MV30']].plot()\n",
    "# plt.xlim(0,10)\n",
    "# plt.ylim(150000, 170000)\n",
    "plt.legend()\n",
    "plt.show"
   ]
  },
  {
   "cell_type": "code",
   "execution_count": 10,
   "metadata": {},
   "outputs": [
    {
     "data": {
      "text/html": [
       "<div>\n",
       "<style scoped>\n",
       "    .dataframe tbody tr th:only-of-type {\n",
       "        vertical-align: middle;\n",
       "    }\n",
       "\n",
       "    .dataframe tbody tr th {\n",
       "        vertical-align: top;\n",
       "    }\n",
       "\n",
       "    .dataframe thead th {\n",
       "        text-align: right;\n",
       "    }\n",
       "</style>\n",
       "<table border=\"1\" class=\"dataframe\">\n",
       "  <thead>\n",
       "    <tr style=\"text-align: right;\">\n",
       "      <th></th>\n",
       "      <th>SDAY</th>\n",
       "      <th>OPENP</th>\n",
       "      <th>HIGHP</th>\n",
       "      <th>LOWP</th>\n",
       "      <th>CLOSEP</th>\n",
       "      <th>VOL</th>\n",
       "      <th>MV5</th>\n",
       "      <th>MV30</th>\n",
       "      <th>holdPos</th>\n",
       "    </tr>\n",
       "  </thead>\n",
       "  <tbody>\n",
       "    <tr>\n",
       "      <th>0</th>\n",
       "      <td>20200102</td>\n",
       "      <td>159300</td>\n",
       "      <td>159400</td>\n",
       "      <td>151000</td>\n",
       "      <td>155600</td>\n",
       "      <td>125376</td>\n",
       "      <td>0.0</td>\n",
       "      <td>0.0</td>\n",
       "      <td>0</td>\n",
       "    </tr>\n",
       "    <tr>\n",
       "      <th>1</th>\n",
       "      <td>20200103</td>\n",
       "      <td>155800</td>\n",
       "      <td>157500</td>\n",
       "      <td>153100</td>\n",
       "      <td>154700</td>\n",
       "      <td>98855</td>\n",
       "      <td>0.0</td>\n",
       "      <td>0.0</td>\n",
       "      <td>0</td>\n",
       "    </tr>\n",
       "    <tr>\n",
       "      <th>2</th>\n",
       "      <td>20200106</td>\n",
       "      <td>153000</td>\n",
       "      <td>153900</td>\n",
       "      <td>150200</td>\n",
       "      <td>150200</td>\n",
       "      <td>78272</td>\n",
       "      <td>0.0</td>\n",
       "      <td>0.0</td>\n",
       "      <td>0</td>\n",
       "    </tr>\n",
       "    <tr>\n",
       "      <th>3</th>\n",
       "      <td>20200107</td>\n",
       "      <td>150300</td>\n",
       "      <td>154600</td>\n",
       "      <td>150300</td>\n",
       "      <td>154600</td>\n",
       "      <td>65431</td>\n",
       "      <td>0.0</td>\n",
       "      <td>0.0</td>\n",
       "      <td>0</td>\n",
       "    </tr>\n",
       "    <tr>\n",
       "      <th>4</th>\n",
       "      <td>20200108</td>\n",
       "      <td>152700</td>\n",
       "      <td>153200</td>\n",
       "      <td>150700</td>\n",
       "      <td>151300</td>\n",
       "      <td>75841</td>\n",
       "      <td>153280.0</td>\n",
       "      <td>0.0</td>\n",
       "      <td>0</td>\n",
       "    </tr>\n",
       "  </tbody>\n",
       "</table>\n",
       "</div>"
      ],
      "text/plain": [
       "       SDAY   OPENP   HIGHP    LOWP  CLOSEP     VOL       MV5  MV30  holdPos\n",
       "0  20200102  159300  159400  151000  155600  125376       0.0   0.0        0\n",
       "1  20200103  155800  157500  153100  154700   98855       0.0   0.0        0\n",
       "2  20200106  153000  153900  150200  150200   78272       0.0   0.0        0\n",
       "3  20200107  150300  154600  150300  154600   65431       0.0   0.0        0\n",
       "4  20200108  152700  153200  150700  151300   75841  153280.0   0.0        0"
      ]
     },
     "execution_count": 10,
     "metadata": {},
     "output_type": "execute_result"
    }
   ],
   "source": [
    "# 장단기 주가 모멘텀\n",
    "short = df['MV5']\n",
    "long = df['MV30']\n",
    "res = []\n",
    "\n",
    "# 초기화\n",
    "longday = 30\n",
    "for i in range(longday):\n",
    "    res.append(0)\n",
    "for i in range(longday, len(short)):\n",
    "    if(short[i]>long[i]):\n",
    "        res.append(1)\n",
    "    else:\n",
    "        res.append(-1)\n",
    "df['holdPos'] = res\n",
    "df.head()"
   ]
  },
  {
   "cell_type": "code",
   "execution_count": 11,
   "metadata": {},
   "outputs": [
    {
     "data": {
      "text/plain": [
       "[<matplotlib.lines.Line2D at 0x187fd713250>]"
      ]
     },
     "execution_count": 11,
     "metadata": {},
     "output_type": "execute_result"
    },
    {
     "name": "stderr",
     "output_type": "stream",
     "text": [
      "C:\\Anaconda3\\lib\\site-packages\\matplotlib\\backends\\backend_agg.py:214: RuntimeWarning: Glyph 8722 missing from current font.\n",
      "  font.set_text(s, 0.0, flags=flags)\n",
      "C:\\Anaconda3\\lib\\site-packages\\matplotlib\\backends\\backend_agg.py:183: RuntimeWarning: Glyph 8722 missing from current font.\n",
      "  font.set_text(s, 0, flags=flags)\n"
     ]
    },
    {
     "data": {
      "image/png": "[encoded data removed]",
      "text/plain": [
       "<Figure size 432x288 with 1 Axes>"
      ]
     },
     "metadata": {
      "needs_background": "light"
     },
     "output_type": "display_data"
    }
   ],
   "source": [
    "plt.plot(res)"
   ]
  },
  {
   "cell_type": "markdown",
   "metadata": {},
   "source": [
    "#### 성장동력과 크로스포인트와의 관계\n",
    "* 단기 성장성(성장비율)과 장단기 주가 모멘텀 분석\n",
    "* 실질적 주가에 영향을 주는 마케팅 포인트 지점 획득"
   ]
  },
  {
   "cell_type": "code",
   "execution_count": 12,
   "metadata": {},
   "outputs": [
    {
     "name": "stderr",
     "output_type": "stream",
     "text": [
      "<ipython-input-12-ccc24ab48d42>:5: RuntimeWarning: invalid value encountered in double_scalars\n",
      "  c = ((baseData[i]/baseData[i-1])-1)*20  # 증폭\n",
      "<ipython-input-12-ccc24ab48d42>:5: RuntimeWarning: divide by zero encountered in double_scalars\n",
      "  c = ((baseData[i]/baseData[i-1])-1)*20  # 증폭\n",
      "C:\\Anaconda3\\lib\\site-packages\\matplotlib\\backends\\backend_agg.py:214: RuntimeWarning: Glyph 8722 missing from current font.\n",
      "  font.set_text(s, 0.0, flags=flags)\n",
      "C:\\Anaconda3\\lib\\site-packages\\matplotlib\\backends\\backend_agg.py:183: RuntimeWarning: Glyph 8722 missing from current font.\n",
      "  font.set_text(s, 0, flags=flags)\n"
     ]
    },
    {
     "data": {
      "image/png": "[encoded data removed]",
      "text/plain": [
       "<Figure size 432x288 with 1 Axes>"
      ]
     },
     "metadata": {
      "needs_background": "light"
     },
     "output_type": "display_data"
    }
   ],
   "source": [
    "baseData = df['MV5']\n",
    "res = []\n",
    "for i in range(1,len(baseData)):\n",
    "    # 단기 성장성: 어제 MV5 대비 오늘 MV5\n",
    "    c = ((baseData[i]/baseData[i-1])-1)*20  # 증폭\n",
    "    res.append(c)\n",
    "\n",
    "# 시각화로 비교해보기\n",
    "df['holdPos'].plot()\n",
    "plt.plot(res)\n",
    "plt.plot([0,175],[0,0]) # 0 기준선 그리기\n",
    "plt.legend()\n",
    "plt.xlim(30,175)\n",
    "plt.ylim(-2,2)\n",
    "plt.show()"
   ]
  },
  {
   "cell_type": "markdown",
   "metadata": {},
   "source": [
    "### 4) 캔들차트 분석\n",
    "* 라이브러리: mpl_finance\n",
    "* 시가 고가 저가 종가를 분석하여 마케팅의 적시적 효과를 보기 위함\n",
    " <img src = \"candle.png\" />\n",
    " \n",
    "        - 양봉 망치형: 악재를 모두 소진했다\n",
    "        - 음봉 망치형: 악재를 어느정도 소진, 최악X\n",
    "        - 양봉 역망치형: 어느정도 호재가 깎임 > 관망\n",
    "        - 음봉 역망치형: 악재 잔존 > 매도\n",
    "        - 십자가형: 매수=매도 탄탄하게 버팀 > 관망"
   ]
  },
  {
   "cell_type": "code",
   "execution_count": 13,
   "metadata": {},
   "outputs": [
    {
     "name": "stdout",
     "output_type": "stream",
     "text": [
      "Requirement already satisfied: mplfinance in c:\\anaconda3\\lib\\site-packages (0.12.7a0)\n",
      "Requirement already satisfied: pandas in c:\\anaconda3\\lib\\site-packages (from mplfinance) (1.0.5)\n",
      "Requirement already satisfied: matplotlib in c:\\anaconda3\\lib\\site-packages (from mplfinance) (3.2.2)\n",
      "Requirement already satisfied: pytz>=2017.2 in c:\\anaconda3\\lib\\site-packages (from pandas->mplfinance) (2020.1)\n",
      "Requirement already satisfied: numpy>=1.13.3 in c:\\anaconda3\\lib\\site-packages (from pandas->mplfinance) (1.18.5)\n",
      "Requirement already satisfied: python-dateutil>=2.6.1 in c:\\anaconda3\\lib\\site-packages (from pandas->mplfinance) (2.8.1)\n",
      "Requirement already satisfied: pyparsing!=2.0.4,!=2.1.2,!=2.1.6,>=2.0.1 in c:\\anaconda3\\lib\\site-packages (from matplotlib->mplfinance) (2.4.7)\n",
      "Requirement already satisfied: kiwisolver>=1.0.1 in c:\\anaconda3\\lib\\site-packages (from matplotlib->mplfinance) (1.2.0)\n",
      "Requirement already satisfied: cycler>=0.10 in c:\\anaconda3\\lib\\site-packages (from matplotlib->mplfinance) (0.10.0)\n",
      "Requirement already satisfied: six>=1.5 in c:\\anaconda3\\lib\\site-packages (from python-dateutil>=2.6.1->pandas->mplfinance) (1.15.0)\n",
      "Requirement already satisfied: mpl_finance in c:\\anaconda3\\lib\\site-packages (0.10.1)\n",
      "Requirement already satisfied: matplotlib in c:\\anaconda3\\lib\\site-packages (from mpl_finance) (3.2.2)\n",
      "Requirement already satisfied: cycler>=0.10 in c:\\anaconda3\\lib\\site-packages (from matplotlib->mpl_finance) (0.10.0)\n",
      "Requirement already satisfied: python-dateutil>=2.1 in c:\\anaconda3\\lib\\site-packages (from matplotlib->mpl_finance) (2.8.1)\n",
      "Requirement already satisfied: pyparsing!=2.0.4,!=2.1.2,!=2.1.6,>=2.0.1 in c:\\anaconda3\\lib\\site-packages (from matplotlib->mpl_finance) (2.4.7)\n",
      "Requirement already satisfied: kiwisolver>=1.0.1 in c:\\anaconda3\\lib\\site-packages (from matplotlib->mpl_finance) (1.2.0)\n",
      "Requirement already satisfied: numpy>=1.11 in c:\\anaconda3\\lib\\site-packages (from matplotlib->mpl_finance) (1.18.5)\n",
      "Requirement already satisfied: six in c:\\anaconda3\\lib\\site-packages (from cycler>=0.10->matplotlib->mpl_finance) (1.15.0)\n",
      "Requirement already up-to-date: mplfinance in c:\\anaconda3\\lib\\site-packages (0.12.7a0)\n",
      "Requirement already satisfied, skipping upgrade: matplotlib in c:\\anaconda3\\lib\\site-packages (from mplfinance) (3.2.2)\n",
      "Requirement already satisfied, skipping upgrade: pandas in c:\\anaconda3\\lib\\site-packages (from mplfinance) (1.0.5)\n",
      "Requirement already satisfied, skipping upgrade: python-dateutil>=2.1 in c:\\anaconda3\\lib\\site-packages (from matplotlib->mplfinance) (2.8.1)\n",
      "Requirement already satisfied, skipping upgrade: pyparsing!=2.0.4,!=2.1.2,!=2.1.6,>=2.0.1 in c:\\anaconda3\\lib\\site-packages (from matplotlib->mplfinance) (2.4.7)\n",
      "Requirement already satisfied, skipping upgrade: numpy>=1.11 in c:\\anaconda3\\lib\\site-packages (from matplotlib->mplfinance) (1.18.5)\n",
      "Requirement already satisfied, skipping upgrade: cycler>=0.10 in c:\\anaconda3\\lib\\site-packages (from matplotlib->mplfinance) (0.10.0)\n",
      "Requirement already satisfied, skipping upgrade: kiwisolver>=1.0.1 in c:\\anaconda3\\lib\\site-packages (from matplotlib->mplfinance) (1.2.0)\n",
      "Requirement already satisfied, skipping upgrade: pytz>=2017.2 in c:\\anaconda3\\lib\\site-packages (from pandas->mplfinance) (2020.1)\n",
      "Requirement already satisfied, skipping upgrade: six>=1.5 in c:\\anaconda3\\lib\\site-packages (from python-dateutil>=2.1->matplotlib->mplfinance) (1.15.0)\n"
     ]
    }
   ],
   "source": [
    "# 라이브러리 다운로드\n",
    "#1.\n",
    "!pip install mplfinance\n",
    "#2.\n",
    "!pip install mpl_finance\n",
    "!pip install --upgrade mplfinance"
   ]
  },
  {
   "cell_type": "code",
   "execution_count": 14,
   "metadata": {},
   "outputs": [
    {
     "name": "stderr",
     "output_type": "stream",
     "text": [
      "C:\\Anaconda3\\lib\\site-packages\\mpl_finance.py:16: DeprecationWarning: \n",
      "\n",
      "  =================================================================\n",
      "\n",
      "   WARNING: `mpl_finance` is deprecated:\n",
      "\n",
      "    Please use `mplfinance` instead (no hyphen, no underscore).\n",
      "\n",
      "    To install: `pip install --upgrade mplfinance` \n",
      "\n",
      "   For more information, see: https://pypi.org/project/mplfinance/\n",
      "\n",
      "  =================================================================\n",
      "\n",
      "  __warnings.warn('\\n\\n  ================================================================='+\n"
     ]
    }
   ],
   "source": [
    "from mpl_finance import candlestick_ohlc"
   ]
  },
  {
   "cell_type": "code",
   "execution_count": 15,
   "metadata": {},
   "outputs": [
    {
     "data": {
      "text/plain": [
       "([200413,\n",
       "  200417,\n",
       "  200422,\n",
       "  200427,\n",
       "  200504,\n",
       "  200508,\n",
       "  200513,\n",
       "  200518,\n",
       "  200521,\n",
       "  200526,\n",
       "  200529,\n",
       "  200603,\n",
       "  200608,\n",
       "  200611,\n",
       "  200616,\n",
       "  200619,\n",
       "  200624],\n",
       " array([ 0,  3,  6,  9, 12, 15, 18, 21, 24, 27, 30, 33, 36, 39, 42, 45, 48]))"
      ]
     },
     "execution_count": 15,
     "metadata": {},
     "output_type": "execute_result"
    }
   ],
   "source": [
    "# OPENP -> HIGHP -> LOWP -> CLOSEP -> VOL\n",
    "lMin = 70\n",
    "lMax = 120\n",
    "cols = ['OPENP','HIGHP','LOWP','CLOSEP']\n",
    "cdata = df[cols].values[lMin:lMax]   # 디테일한 부분 보기\n",
    "voldata = df['VOL'].values[lMin:lMax]\n",
    "days = df['SDAY'].values[lMin:lMax]\n",
    "gmv5 = df['MV5'].values[lMin:lMax]\n",
    "gmv30 = df['MV30'].values[lMin:lMax]\n",
    "\n",
    "xtic = np.arange(0, len(days), step=3) # 인터벌 생성\n",
    "xdays = [days[i]-20000000 for i in xtic]\n",
    "xdays, xtic"
   ]
  },
  {
   "cell_type": "code",
   "execution_count": 16,
   "metadata": {
    "scrolled": true
   },
   "outputs": [
    {
     "data": {
      "image/png": "[encoded data removed]",
      "text/plain": [
       "<Figure size 576x360 with 2 Axes>"
      ]
     },
     "metadata": {
      "needs_background": "light"
     },
     "output_type": "display_data"
    }
   ],
   "source": [
    "# 그림비율\n",
    "fig = plt.figure(figsize=(8,5))\n",
    "\n",
    "# 그리드 2행 1열짜리 높이비율 3:1로 생성\n",
    "gs = gridspec.GridSpec(2,1,height_ratios=[3,1])\n",
    "axis = []\n",
    "# 축 선정\n",
    "axis.append(plt.subplot(gs[0]))\n",
    "# axis[0]을 그리드 공유\n",
    "axis.append(plt.subplot(gs[1],sharex=axis[0]))\n",
    "# 공유 x축 표시 없애기\n",
    "axis[0].get_xaxis().set_visible(False)\n",
    "\n",
    "# 캔들스틱용 데이터 만들기\n",
    "x = np.arange(len(cdata))\n",
    "xa = np.reshape(x, (-1,1)) # x 형태 세로로 변환\n",
    "ohlc = np.hstack((xa,cdata)) # xa와 cdata 한 덩어리로 만들기\n",
    "\n",
    "# 캔들스틱 그리기\n",
    "candlestick_ohlc(axis[0], ohlc, width=0.5, colorup='r', colordown='b')\n",
    "\n",
    "# 거래량 그래프\n",
    "axis[1].bar(x, voldata, color='g', width=0.5)\n",
    "plt.title(\"CJ ENM #2 주가 영향 분석\")\n",
    "\n",
    "plt.xticks(xtic, xdays, rotation=45)  # xticks(넣을 위치, 넣을 라벨)\n",
    "\n",
    "# 이동평균선 그리기\n",
    "axis[0].plot(gmv5, color='orange', label=\"5일 이평선\")\n",
    "axis[0].plot(gmv30, color='gold', label=\"30일 이평선\") \n",
    "axis[0].legend()\n",
    "plt.tight_layout() # 가늘고 예쁘게 만들어줌\n",
    "plt.savefig('cchart_cjenm.jpg')\n",
    "plt.show()"
   ]
  },
  {
   "cell_type": "markdown",
   "metadata": {},
   "source": [
    "ㄴ> 특이점 있는 날짜 발견 시 네이버 데이터랩, 구글에 가서 검색하기\n",
    "ㄴ> 키워드 예시: cj enm 2020.06.14"
   ]
  },
  {
   "cell_type": "markdown",
   "metadata": {},
   "source": [
    "### 5) 경쟁사(동종업계) 분석\n",
    "- 동종 유사 주가의 경쟁사 분석을 통해 시장기준 주가 분석\n",
    "\n",
    "\n",
    "- 참고사이트: [씽크풀](http://www.thinkpool.com/itemanal/i/index.jsp?mcd=Q0&code=035760&Gcode=000_002)"
   ]
  },
  {
   "cell_type": "code",
   "execution_count": 17,
   "metadata": {},
   "outputs": [
    {
     "data": {
      "text/html": [
       "<div>\n",
       "<style scoped>\n",
       "    .dataframe tbody tr th:only-of-type {\n",
       "        vertical-align: middle;\n",
       "    }\n",
       "\n",
       "    .dataframe tbody tr th {\n",
       "        vertical-align: top;\n",
       "    }\n",
       "\n",
       "    .dataframe thead th {\n",
       "        text-align: right;\n",
       "    }\n",
       "</style>\n",
       "<table border=\"1\" class=\"dataframe\">\n",
       "  <thead>\n",
       "    <tr style=\"text-align: right;\">\n",
       "      <th></th>\n",
       "      <th>SDAY</th>\n",
       "      <th>OPENP</th>\n",
       "      <th>HIGHP</th>\n",
       "      <th>LOWP</th>\n",
       "      <th>CLOSEP</th>\n",
       "      <th>VOL</th>\n",
       "    </tr>\n",
       "  </thead>\n",
       "  <tbody>\n",
       "    <tr>\n",
       "      <th>0</th>\n",
       "      <td>20200102</td>\n",
       "      <td>148600</td>\n",
       "      <td>148600</td>\n",
       "      <td>146400</td>\n",
       "      <td>146500</td>\n",
       "      <td>14920</td>\n",
       "    </tr>\n",
       "    <tr>\n",
       "      <th>1</th>\n",
       "      <td>20200103</td>\n",
       "      <td>148200</td>\n",
       "      <td>148200</td>\n",
       "      <td>145800</td>\n",
       "      <td>145800</td>\n",
       "      <td>16373</td>\n",
       "    </tr>\n",
       "    <tr>\n",
       "      <th>2</th>\n",
       "      <td>20200106</td>\n",
       "      <td>145700</td>\n",
       "      <td>146400</td>\n",
       "      <td>143000</td>\n",
       "      <td>143000</td>\n",
       "      <td>16978</td>\n",
       "    </tr>\n",
       "    <tr>\n",
       "      <th>3</th>\n",
       "      <td>20200107</td>\n",
       "      <td>142700</td>\n",
       "      <td>144400</td>\n",
       "      <td>141200</td>\n",
       "      <td>142000</td>\n",
       "      <td>12613</td>\n",
       "    </tr>\n",
       "    <tr>\n",
       "      <th>4</th>\n",
       "      <td>20200108</td>\n",
       "      <td>141800</td>\n",
       "      <td>141800</td>\n",
       "      <td>138100</td>\n",
       "      <td>139400</td>\n",
       "      <td>21254</td>\n",
       "    </tr>\n",
       "  </tbody>\n",
       "</table>\n",
       "</div>"
      ],
      "text/plain": [
       "       SDAY   OPENP   HIGHP    LOWP  CLOSEP    VOL\n",
       "0  20200102  148600  148600  146400  146500  14920\n",
       "1  20200103  148200  148200  145800  145800  16373\n",
       "2  20200106  145700  146400  143000  143000  16978\n",
       "3  20200107  142700  144400  141200  142000  12613\n",
       "4  20200108  141800  141800  138100  139400  21254"
      ]
     },
     "execution_count": 17,
     "metadata": {},
     "output_type": "execute_result"
    }
   ],
   "source": [
    "# 동종업계 기업(경쟁사) 데이터 가져오기\n",
    "whr = 'where SDAY>20200101 and SCODE=\"028150\" order by SDAY asc limit 250'\n",
    "res = selData(whr)\n",
    "cols = ['SDAY','OPENP','HIGHP','LOWP','CLOSEP','VOL']\n",
    "dfgs = pd.DataFrame(data=res, columns = cols)\n",
    "dfgs.head()"
   ]
  },
  {
   "cell_type": "code",
   "execution_count": 18,
   "metadata": {},
   "outputs": [
    {
     "data": {
      "text/html": [
       "<div>\n",
       "<style scoped>\n",
       "    .dataframe tbody tr th:only-of-type {\n",
       "        vertical-align: middle;\n",
       "    }\n",
       "\n",
       "    .dataframe tbody tr th {\n",
       "        vertical-align: top;\n",
       "    }\n",
       "\n",
       "    .dataframe thead th {\n",
       "        text-align: right;\n",
       "    }\n",
       "</style>\n",
       "<table border=\"1\" class=\"dataframe\">\n",
       "  <thead>\n",
       "    <tr style=\"text-align: right;\">\n",
       "      <th></th>\n",
       "      <th>SDAY</th>\n",
       "      <th>OPENP</th>\n",
       "      <th>HIGHP</th>\n",
       "      <th>LOWP</th>\n",
       "      <th>CLOSEP</th>\n",
       "      <th>VOL</th>\n",
       "      <th>MV5</th>\n",
       "      <th>MV30</th>\n",
       "      <th>holdPos</th>\n",
       "      <th>gsClose</th>\n",
       "    </tr>\n",
       "  </thead>\n",
       "  <tbody>\n",
       "    <tr>\n",
       "      <th>0</th>\n",
       "      <td>20200102</td>\n",
       "      <td>159300</td>\n",
       "      <td>159400</td>\n",
       "      <td>151000</td>\n",
       "      <td>155600</td>\n",
       "      <td>125376</td>\n",
       "      <td>0.0</td>\n",
       "      <td>0.0</td>\n",
       "      <td>0</td>\n",
       "      <td>146500.0</td>\n",
       "    </tr>\n",
       "    <tr>\n",
       "      <th>1</th>\n",
       "      <td>20200103</td>\n",
       "      <td>155800</td>\n",
       "      <td>157500</td>\n",
       "      <td>153100</td>\n",
       "      <td>154700</td>\n",
       "      <td>98855</td>\n",
       "      <td>0.0</td>\n",
       "      <td>0.0</td>\n",
       "      <td>0</td>\n",
       "      <td>145800.0</td>\n",
       "    </tr>\n",
       "    <tr>\n",
       "      <th>2</th>\n",
       "      <td>20200106</td>\n",
       "      <td>153000</td>\n",
       "      <td>153900</td>\n",
       "      <td>150200</td>\n",
       "      <td>150200</td>\n",
       "      <td>78272</td>\n",
       "      <td>0.0</td>\n",
       "      <td>0.0</td>\n",
       "      <td>0</td>\n",
       "      <td>143000.0</td>\n",
       "    </tr>\n",
       "    <tr>\n",
       "      <th>3</th>\n",
       "      <td>20200107</td>\n",
       "      <td>150300</td>\n",
       "      <td>154600</td>\n",
       "      <td>150300</td>\n",
       "      <td>154600</td>\n",
       "      <td>65431</td>\n",
       "      <td>0.0</td>\n",
       "      <td>0.0</td>\n",
       "      <td>0</td>\n",
       "      <td>142000.0</td>\n",
       "    </tr>\n",
       "    <tr>\n",
       "      <th>4</th>\n",
       "      <td>20200108</td>\n",
       "      <td>152700</td>\n",
       "      <td>153200</td>\n",
       "      <td>150700</td>\n",
       "      <td>151300</td>\n",
       "      <td>75841</td>\n",
       "      <td>153280.0</td>\n",
       "      <td>0.0</td>\n",
       "      <td>0</td>\n",
       "      <td>139400.0</td>\n",
       "    </tr>\n",
       "  </tbody>\n",
       "</table>\n",
       "</div>"
      ],
      "text/plain": [
       "       SDAY   OPENP   HIGHP    LOWP  CLOSEP     VOL       MV5  MV30  holdPos  \\\n",
       "0  20200102  159300  159400  151000  155600  125376       0.0   0.0        0   \n",
       "1  20200103  155800  157500  153100  154700   98855       0.0   0.0        0   \n",
       "2  20200106  153000  153900  150200  150200   78272       0.0   0.0        0   \n",
       "3  20200107  150300  154600  150300  154600   65431       0.0   0.0        0   \n",
       "4  20200108  152700  153200  150700  151300   75841  153280.0   0.0        0   \n",
       "\n",
       "    gsClose  \n",
       "0  146500.0  \n",
       "1  145800.0  \n",
       "2  143000.0  \n",
       "3  142000.0  \n",
       "4  139400.0  "
      ]
     },
     "execution_count": 18,
     "metadata": {},
     "output_type": "execute_result"
    }
   ],
   "source": [
    "df['gsClose'] = dfgs['CLOSEP']\n",
    "df.head()"
   ]
  },
  {
   "cell_type": "code",
   "execution_count": 20,
   "metadata": {},
   "outputs": [
    {
     "data": {
      "text/plain": [
       "<function matplotlib.pyplot.show(*args, **kw)>"
      ]
     },
     "execution_count": 20,
     "metadata": {},
     "output_type": "execute_result"
    },
    {
     "data": {
      "image/png": "[encoded data removed]",
      "text/plain": [
       "<Figure size 432x288 with 1 Axes>"
      ]
     },
     "metadata": {
      "needs_background": "light"
     },
     "output_type": "display_data"
    }
   ],
   "source": [
    "df[['CLOSEP','gsClose']].plot()\n",
    "# plt.xlim(0,10)\n",
    "# plt.ylim(150000, 170000)\n",
    "plt.legend()\n",
    "plt.show"
   ]
  }
 ],
 "metadata": {
  "kernelspec": {
   "display_name": "Python 3",
   "language": "python",
   "name": "python3"
  },
  "language_info": {
   "codemirror_mode": {
    "name": "ipython",
    "version": 3
   },
   "file_extension": ".py",
   "mimetype": "text/x-python",
   "name": "python",
   "nbconvert_exporter": "python",
   "pygments_lexer": "ipython3",
   "version": "3.8.3"
  }
 },
 "nbformat": 4,
 "nbformat_minor": 4
}
