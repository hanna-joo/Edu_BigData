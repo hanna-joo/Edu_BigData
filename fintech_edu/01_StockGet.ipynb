{
 "cells": [
  {
   "cell_type": "markdown",
   "metadata": {},
   "source": [
    "*tool - jupyter notebook "
   ]
  },
  {
   "cell_type": "markdown",
   "metadata": {},
   "source": [
    "## 마케팅 효과 분석: 마케팅 포인트와 주가와의 상관관계 분석\n",
    "\n",
    "## 1. 주가정보 획득\n",
    "* 마케팅 포인트와 주가와의 상관관계 분석을 위한 주가 획득\n",
    "\n",
    "\n",
    "* 예시)\n",
    "    * 미디어주 분석\n",
    "    * CJ ENM(035760)  \n",
    "         - https://finance.naver.com/item/sise_day.nhn?code=069960&page=1"
   ]
  },
  {
   "cell_type": "markdown",
   "metadata": {},
   "source": [
    "### 0) 패키지 설치"
   ]
  },
  {
   "cell_type": "code",
   "execution_count": 2,
   "metadata": {},
   "outputs": [],
   "source": [
    "import sqlite3\n",
    "import requests # 내부 source 를 가져오는 라이브러리\n",
    "from bs4 import BeautifulSoup\n",
    "import numpy as np\n",
    "import pandas as pd"
   ]
  },
  {
   "cell_type": "markdown",
   "metadata": {},
   "source": [
    "### 1) 주가 정보 크롤링"
   ]
  },
  {
   "cell_type": "markdown",
   "metadata": {},
   "source": [
    "- 함수: stockGet(url='')"
   ]
  },
  {
   "cell_type": "code",
   "execution_count": 57,
   "metadata": {},
   "outputs": [],
   "source": [
    "# 함수 선언부 url을 매개변수화\n",
    "def stockGet(url=''):\n",
    "    src = requests.get(url)\n",
    "    result = src.content.strip()\n",
    "    html = BeautifulSoup(result,'html.parser')\n",
    "    tgts = html.select('table.type2 tr')\n",
    "    \n",
    "    res = []\n",
    "    for tgt in tgts:\n",
    "        if(tgt.select('td .p10')): \n",
    "            sday = tgt.select('td .p10')[0].text.replace(\".\",\"\")\n",
    "            \n",
    "            endp = tgt.select('td.num')[0].text.replace(\",\",\"\")\n",
    "            startp = tgt.select('td.num')[2].text.replace(\",\",\"\")\n",
    "            maxp = tgt.select('td.num')[3].text.replace(\",\",\"\")\n",
    "            minp = tgt.select('td.num')[4].text.replace(\",\",\"\")\n",
    "            vol = tgt.select('td.num')[5].text.replace(\",\",\"\")\n",
    "            res.append((sday,startp,maxp,minp,endp,vol))\n",
    "\n",
    "    return res"
   ]
  },
  {
   "cell_type": "markdown",
   "metadata": {},
   "source": [
    "- 함수화 과정\n",
    "    + [select 참고](https://hogni.tistory.com/46)"
   ]
  },
  {
   "cell_type": "code",
   "execution_count": 39,
   "metadata": {},
   "outputs": [
    {
     "data": {
      "text/plain": [
       "[<span class=\"tah p10 gray03\">2020.09.16</span>]"
      ]
     },
     "execution_count": 39,
     "metadata": {},
     "output_type": "execute_result"
    }
   ],
   "source": [
    "url = 'https://finance.naver.com/item/sise_day.nhn?code=069960&page=1'\n",
    "src = requests.get(url)\n",
    "result = src.content.strip() # strip(char): 문자열에서 특정 문자(char) 제거\n",
    "html = BeautifulSoup(result,'html.parser') # 구문 분석\n",
    "tgts = html.select('table.type2 tr') # select 태그찾기: 자손(공백), 자식(>)\n",
    "\n",
    "# len(tgts) = 16개 > 필요없는 tr이 존재함 > 정제 필요"
   ]
  },
  {
   "cell_type": "code",
   "execution_count": 43,
   "metadata": {},
   "outputs": [
    {
     "data": {
      "text/plain": [
       "<span class=\"tah p10 gray03\">2020.09.16</span>"
      ]
     },
     "execution_count": 43,
     "metadata": {},
     "output_type": "execute_result"
    }
   ],
   "source": [
    "tgts[3].select('.tah.p10.gray03')[0] \n",
    "tgts[3].select('td .p10')[0] \n",
    "# 날짜가 들어가 있는 tr에는 모두 (td 자식 중) p10라는 클래스 요소가 있음"
   ]
  },
  {
   "cell_type": "code",
   "execution_count": 49,
   "metadata": {},
   "outputs": [
    {
     "data": {
      "text/plain": [
       "('57,600', '57,600')"
      ]
     },
     "execution_count": 49,
     "metadata": {},
     "output_type": "execute_result"
    }
   ],
   "source": [
    "(tgts[3].select('td.num')[2].text, tgts[3].select('td.num')[2].text)"
   ]
  },
  {
   "cell_type": "code",
   "execution_count": 52,
   "metadata": {},
   "outputs": [
    {
     "data": {
      "text/plain": [
       "[('20200917', '57700', '57700', '56500', '57000', '220136'),\n",
       " ('20200916', '57600', '58500', '57100', '57700', '257684'),\n",
       " ('20200915', '57500', '58000', '56600', '57400', '219583'),\n",
       " ('20200914', '57000', '58400', '56700', '57200', '324102'),\n",
       " ('20200911', '56400', '57400', '56200', '56300', '269437'),\n",
       " ('20200910', '56500', '57200', '55900', '56400', '262036'),\n",
       " ('20200909', '55900', '56600', '55400', '56000', '125147'),\n",
       " ('20200908', '56800', '57100', '56300', '56400', '152605'),\n",
       " ('20200907', '56100', '57100', '55600', '56300', '174472'),\n",
       " ('20200904', '55300', '56200', '55100', '55800', '194702')]"
      ]
     },
     "execution_count": 52,
     "metadata": {},
     "output_type": "execute_result"
    }
   ],
   "source": [
    "res = []\n",
    "for tgt in tgts:\n",
    "    if(tgt.select('td .p10')): # 날짜있는 줄만 취급\n",
    "        sday = tgt.select('td .p10')[0].text.replace(\".\",\"\")\n",
    "        # 날짜 가져오기\n",
    "        endp = tgt.select('td.num')[0].text.replace(\",\",\"\")\n",
    "        startp = tgt.select('td.num')[2].text.replace(\",\",\"\")\n",
    "        maxp = tgt.select('td.num')[3].text.replace(\",\",\"\")\n",
    "        minp = tgt.select('td.num')[4].text.replace(\",\",\"\")\n",
    "        vol = tgt.select('td.num')[5].text.replace(\",\",\"\")\n",
    "        res.append((sday,startp,maxp,minp,endp,vol))\n",
    "res"
   ]
  },
  {
   "cell_type": "markdown",
   "metadata": {},
   "source": [
    "### 2) SQLite 에 데이터 입력"
   ]
  },
  {
   "cell_type": "markdown",
   "metadata": {},
   "source": [
    "- 사전 준비\n",
    "    + DB Browser for SQLite [다운](https://sqlitebrowser.org/dl/)\n",
    "    + 'NaverStock.db' 데이터 베이스 만들기\n",
    "    + 'StockDay' 테이블 추가하기\n",
    "    + 컬럼 추가하기: SIDX,SCODE,SCOMP,SDAY,OPENP,HIGHP,LOWP,CLOSEP,VOL)\n",
    "    + 데이터 타입: (SCODE,SCOMP-TEXT),(SDAY-INT),(나머지-NUMERIC)\n",
    "    \n",
    "    \n",
    "- 함수 \n",
    "    + addData(data): 데이터 추가 함수\n",
    "    + selData(data): 데이터 선택 함수 - 데이터 추가 시 중복방지용"
   ]
  },
  {
   "cell_type": "code",
   "execution_count": 54,
   "metadata": {},
   "outputs": [],
   "source": [
    "def addData(data):\n",
    "    with sqlite3.connect(dbname) as conn:\n",
    "        cur=conn.cursor()\n",
    "        sql = 'insert into StockDay \\\n",
    "        (SIDX,SCODE,SCOMP,SDAY,OPENP,HIGHP,LOWP,CLOSEP,VOL) \\\n",
    "        values (?,?,?,?,?,?,?,?,?)'\n",
    "        ##### data=[1001,60000,' 신세계','20200830',30,60,70,50,250]\n",
    "        cur.execute(sql,data)\n",
    "        conn.commit()\n",
    "        cur.close()"
   ]
  },
  {
   "cell_type": "code",
   "execution_count": 55,
   "metadata": {},
   "outputs": [],
   "source": [
    "dbname='NaverStock.db'\n",
    "def selData(whr=' where SIDX=0'):\n",
    "    with sqlite3.connect(dbname) as conn:\n",
    "        cur=conn.cursor()\n",
    "        sql='select SIDX from StockDay '+whr\n",
    "        cur.execute(sql)\n",
    "        rows=cur.fetchall()\n",
    "        cur.close()\n",
    "    return rows"
   ]
  },
  {
   "cell_type": "markdown",
   "metadata": {},
   "source": [
    "### 3) 최종: 주가 정보 크롤링 + 입력"
   ]
  },
  {
   "cell_type": "markdown",
   "metadata": {},
   "source": [
    "- 함수: MyCrawl(comp=('현대백화점','069960'),sp=int,ep=int)"
   ]
  },
  {
   "cell_type": "code",
   "execution_count": 63,
   "metadata": {},
   "outputs": [],
   "source": [
    "def MyCrawl(comp=('현대백화점','069960'),sp=int,ep=int):\n",
    "    sCode = comp[1]\n",
    "    sComp = comp[0]\n",
    "    urlsrc = 'https://finance.naver.com/item/sise_day.nhn?code={0}&page={1}'\n",
    "    for i in range(sp,ep):\n",
    "        print('#'*30)\n",
    "        url = urlsrc.format(sCode, i)\n",
    "        print(url)\n",
    "        # 데이터 크롤링(stockGet)\n",
    "        rs = stockGet(url)\n",
    "\n",
    "        for r in rs:\n",
    "            sidx = r[0]+sCode\n",
    "            data = [sidx, sCode, sComp, r[0], r[1], r[2], r[3], r[4], r[5]]\n",
    "            # 데이터 입력: 중복데이터 확인 > 입력\n",
    "            preData = selData(' where SIDX='+sidx)\n",
    "            if(preData):\n",
    "                print(\"중복데이터입니다.\", preData)\n",
    "            else:\n",
    "                addData(data)"
   ]
  },
  {
   "cell_type": "markdown",
   "metadata": {},
   "source": [
    "- 함수화 과정"
   ]
  },
  {
   "cell_type": "code",
   "execution_count": 59,
   "metadata": {},
   "outputs": [
    {
     "name": "stdout",
     "output_type": "stream",
     "text": [
      "##############################\n",
      "https://finance.naver.com/item/sise_day.nhn?code=069960&page=1\n",
      "중복데이터입니다. [(20200917069960,)]\n",
      "중복데이터입니다. [(20200916069960,)]\n",
      "중복데이터입니다. [(20200915069960,)]\n",
      "중복데이터입니다. [(20200914069960,)]\n",
      "중복데이터입니다. [(20200911069960,)]\n",
      "중복데이터입니다. [(20200910069960,)]\n",
      "중복데이터입니다. [(20200909069960,)]\n",
      "중복데이터입니다. [(20200908069960,)]\n",
      "중복데이터입니다. [(20200907069960,)]\n",
      "중복데이터입니다. [(20200904069960,)]\n"
     ]
    }
   ],
   "source": [
    "urlsrc = 'https://finance.naver.com/item/sise_day.nhn?code={0}&page={1}'\n",
    "sCode = '069960'\n",
    "sComp = '현대백화점'\n",
    "for i in range(1,2):\n",
    "    print('#'*30)\n",
    "    url = urlsrc.format(sCode, i)\n",
    "    print(url)\n",
    "    # 데이터 크롤링(stockGet)\n",
    "    rs = stockGet(url)\n",
    "    \n",
    "    for r in rs:\n",
    "        sidx = r[0]+sCode\n",
    "        ### data=[1001,60000,' 신세계','20200830',30,60,70,50,250]\n",
    "        data = [sidx, sCode, sComp, r[0], r[1], r[2], r[3], r[4], r[5]]\n",
    "        # 데이터 입력: 중복데이터 확인 > 입력\n",
    "        preData = selData(' where SIDX='+sidx)\n",
    "        if(preData):\n",
    "            print(\"중복데이터입니다.\", preData)\n",
    "        else:\n",
    "            # print(r)\n",
    "            addData(data)"
   ]
  },
  {
   "cell_type": "markdown",
   "metadata": {},
   "source": [
    "### 4) 최종 함수 실습하기"
   ]
  },
  {
   "cell_type": "code",
   "execution_count": 66,
   "metadata": {},
   "outputs": [],
   "source": [
    "compList = [('CJENM','035760'),('GS홈쇼핑','028150')]"
   ]
  },
  {
   "cell_type": "code",
   "execution_count": 67,
   "metadata": {},
   "outputs": [
    {
     "name": "stdout",
     "output_type": "stream",
     "text": [
      "##############################\n",
      "https://finance.naver.com/item/sise_day.nhn?code=035760&page=1\n",
      "중복데이터입니다. [(20200916035760,)]\n",
      "중복데이터입니다. [(20200915035760,)]\n",
      "중복데이터입니다. [(20200914035760,)]\n",
      "중복데이터입니다. [(20200911035760,)]\n",
      "중복데이터입니다. [(20200910035760,)]\n",
      "중복데이터입니다. [(20200909035760,)]\n",
      "중복데이터입니다. [(20200908035760,)]\n",
      "중복데이터입니다. [(20200907035760,)]\n",
      "중복데이터입니다. [(20200904035760,)]\n",
      "##############################\n",
      "https://finance.naver.com/item/sise_day.nhn?code=035760&page=2\n",
      "중복데이터입니다. [(20200903035760,)]\n",
      "중복데이터입니다. [(20200902035760,)]\n",
      "중복데이터입니다. [(20200901035760,)]\n",
      "중복데이터입니다. [(20200831035760,)]\n",
      "중복데이터입니다. [(20200828035760,)]\n",
      "중복데이터입니다. [(20200827035760,)]\n",
      "중복데이터입니다. [(20200826035760,)]\n",
      "중복데이터입니다. [(20200825035760,)]\n",
      "중복데이터입니다. [(20200824035760,)]\n",
      "중복데이터입니다. [(20200821035760,)]\n",
      "##############################\n",
      "https://finance.naver.com/item/sise_day.nhn?code=035760&page=3\n",
      "중복데이터입니다. [(20200820035760,)]\n",
      "중복데이터입니다. [(20200819035760,)]\n",
      "중복데이터입니다. [(20200818035760,)]\n",
      "중복데이터입니다. [(20200814035760,)]\n",
      "중복데이터입니다. [(20200813035760,)]\n",
      "중복데이터입니다. [(20200812035760,)]\n",
      "중복데이터입니다. [(20200811035760,)]\n",
      "중복데이터입니다. [(20200810035760,)]\n",
      "중복데이터입니다. [(20200807035760,)]\n",
      "중복데이터입니다. [(20200806035760,)]\n",
      "##############################\n",
      "https://finance.naver.com/item/sise_day.nhn?code=035760&page=4\n",
      "중복데이터입니다. [(20200805035760,)]\n",
      "중복데이터입니다. [(20200804035760,)]\n",
      "중복데이터입니다. [(20200803035760,)]\n",
      "중복데이터입니다. [(20200731035760,)]\n",
      "중복데이터입니다. [(20200730035760,)]\n",
      "중복데이터입니다. [(20200729035760,)]\n",
      "중복데이터입니다. [(20200728035760,)]\n",
      "중복데이터입니다. [(20200727035760,)]\n",
      "중복데이터입니다. [(20200724035760,)]\n",
      "중복데이터입니다. [(20200723035760,)]\n"
     ]
    }
   ],
   "source": [
    "MyCrawl(compList[0],1,5)"
   ]
  }
 ],
 "metadata": {
  "kernelspec": {
   "display_name": "Python 3",
   "language": "python",
   "name": "python3"
  },
  "language_info": {
   "codemirror_mode": {
    "name": "ipython",
    "version": 3
   },
   "file_extension": ".py",
   "mimetype": "text/x-python",
   "name": "python",
   "nbconvert_exporter": "python",
   "pygments_lexer": "ipython3",
   "version": "3.8.3"
  }
 },
 "nbformat": 4,
 "nbformat_minor": 4
}
