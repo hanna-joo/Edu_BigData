{
  "nbformat": 4,
  "nbformat_minor": 0,
  "metadata": {
    "colab": {
      "name": "pandas_basic.ipynb",
      "provenance": [],
      "collapsed_sections": [],
      "authorship_tag": "ABX9TyP2boT8dq++8p19/H84ai8n",
      "include_colab_link": true
    },
    "kernelspec": {
      "name": "python3",
      "display_name": "Python 3"
    }
  },
  "cells": [
    {
      "cell_type": "markdown",
      "metadata": {
        "id": "view-in-github",
        "colab_type": "text"
      },
      "source": [
        "<a href=\"https://colab.research.google.com/github/hanna-joo/bigdata_edu/blob/master/python_edu/pandas_basic.ipynb\" target=\"_parent\"><img src=\"https://colab.research.google.com/assets/colab-badge.svg\" alt=\"Open In Colab\"/></a>"
      ]
    },
    {
      "cell_type": "code",
      "metadata": {
        "id": "ZlJvfRkAd_D3"
      },
      "source": [
        "import numpy as np\n",
        "import pandas as pd"
      ],
      "execution_count": null,
      "outputs": []
    },
    {
      "cell_type": "markdown",
      "metadata": {
        "id": "HG6t_hHxemml"
      },
      "source": [
        "# 1. 변수 생성 (Object creation)"
      ]
    },
    {
      "cell_type": "code",
      "metadata": {
        "colab": {
          "base_uri": "https://localhost:8080/"
        },
        "id": "KZEP0W0Hexf6",
        "outputId": "457ef7d1-6670-4067-985e-0bb96341f496"
      },
      "source": [
        "# Series 생성\n",
        "s = pd.Series([1,3,5,np.nan,6,8])\n",
        "s"
      ],
      "execution_count": null,
      "outputs": [
        {
          "output_type": "execute_result",
          "data": {
            "text/plain": [
              "0    1.0\n",
              "1    3.0\n",
              "2    5.0\n",
              "3    NaN\n",
              "4    6.0\n",
              "5    8.0\n",
              "dtype: float64"
            ]
          },
          "metadata": {
            "tags": []
          },
          "execution_count": 2
        }
      ]
    },
    {
      "cell_type": "code",
      "metadata": {
        "colab": {
          "base_uri": "https://localhost:8080/",
          "height": 286
        },
        "id": "_hOrPCNGe5j9",
        "outputId": "1c15c185-cc0e-4d5d-be75-b32b142f824c"
      },
      "source": [
        "# DataFrame 생성: Numpy 행렬\n",
        "dates = pd.date_range('20130101',periods=6)\n",
        "print(dates)\n",
        "df = pd.DataFrame(np.random.randn(6,4),index=dates,columns=list('ABCD'))\n",
        "df"
      ],
      "execution_count": null,
      "outputs": [
        {
          "output_type": "stream",
          "text": [
            "DatetimeIndex(['2013-01-01', '2013-01-02', '2013-01-03', '2013-01-04',\n",
            "               '2013-01-05', '2013-01-06'],\n",
            "              dtype='datetime64[ns]', freq='D')\n"
          ],
          "name": "stdout"
        },
        {
          "output_type": "execute_result",
          "data": {
            "text/html": [
              "<div>\n",
              "<style scoped>\n",
              "    .dataframe tbody tr th:only-of-type {\n",
              "        vertical-align: middle;\n",
              "    }\n",
              "\n",
              "    .dataframe tbody tr th {\n",
              "        vertical-align: top;\n",
              "    }\n",
              "\n",
              "    .dataframe thead th {\n",
              "        text-align: right;\n",
              "    }\n",
              "</style>\n",
              "<table border=\"1\" class=\"dataframe\">\n",
              "  <thead>\n",
              "    <tr style=\"text-align: right;\">\n",
              "      <th></th>\n",
              "      <th>A</th>\n",
              "      <th>B</th>\n",
              "      <th>C</th>\n",
              "      <th>D</th>\n",
              "    </tr>\n",
              "  </thead>\n",
              "  <tbody>\n",
              "    <tr>\n",
              "      <th>2013-01-01</th>\n",
              "      <td>0.680374</td>\n",
              "      <td>0.517372</td>\n",
              "      <td>-1.671865</td>\n",
              "      <td>-0.974822</td>\n",
              "    </tr>\n",
              "    <tr>\n",
              "      <th>2013-01-02</th>\n",
              "      <td>1.016652</td>\n",
              "      <td>-1.274628</td>\n",
              "      <td>-0.977082</td>\n",
              "      <td>-0.731951</td>\n",
              "    </tr>\n",
              "    <tr>\n",
              "      <th>2013-01-03</th>\n",
              "      <td>0.061942</td>\n",
              "      <td>-0.762119</td>\n",
              "      <td>-1.454836</td>\n",
              "      <td>0.457252</td>\n",
              "    </tr>\n",
              "    <tr>\n",
              "      <th>2013-01-04</th>\n",
              "      <td>-0.717764</td>\n",
              "      <td>1.754018</td>\n",
              "      <td>-0.322983</td>\n",
              "      <td>0.132655</td>\n",
              "    </tr>\n",
              "    <tr>\n",
              "      <th>2013-01-05</th>\n",
              "      <td>1.127538</td>\n",
              "      <td>-0.861880</td>\n",
              "      <td>1.026014</td>\n",
              "      <td>1.636723</td>\n",
              "    </tr>\n",
              "    <tr>\n",
              "      <th>2013-01-06</th>\n",
              "      <td>-1.449656</td>\n",
              "      <td>2.067481</td>\n",
              "      <td>1.412776</td>\n",
              "      <td>-0.638622</td>\n",
              "    </tr>\n",
              "  </tbody>\n",
              "</table>\n",
              "</div>"
            ],
            "text/plain": [
              "                   A         B         C         D\n",
              "2013-01-01  0.680374  0.517372 -1.671865 -0.974822\n",
              "2013-01-02  1.016652 -1.274628 -0.977082 -0.731951\n",
              "2013-01-03  0.061942 -0.762119 -1.454836  0.457252\n",
              "2013-01-04 -0.717764  1.754018 -0.322983  0.132655\n",
              "2013-01-05  1.127538 -0.861880  1.026014  1.636723\n",
              "2013-01-06 -1.449656  2.067481  1.412776 -0.638622"
            ]
          },
          "metadata": {
            "tags": []
          },
          "execution_count": 3
        }
      ]
    },
    {
      "cell_type": "code",
      "metadata": {
        "colab": {
          "base_uri": "https://localhost:8080/",
          "height": 292
        },
        "id": "jWFZWtv2e4Sw",
        "outputId": "23e61efe-ee16-4273-b7cb-37162a03276e"
      },
      "source": [
        "# DataFrame 생성: 딕셔너리\n",
        "df2 = pd.DataFrame({'A': 1.,\n",
        "                    'B': pd.Timestamp('20130102'),\n",
        "                    'C': pd.Series(1, index=list(range(4)), dtype='float32'),\n",
        "                    'D': np.array([3]*4, dtype='int32'),\n",
        "                    'E': pd.Categorical(['test','train','test','train']),\n",
        "                    'F': 'foo'})\n",
        "print(df2.dtypes)\n",
        "df2"
      ],
      "execution_count": null,
      "outputs": [
        {
          "output_type": "stream",
          "text": [
            "A           float64\n",
            "B    datetime64[ns]\n",
            "C           float32\n",
            "D             int32\n",
            "E          category\n",
            "F            object\n",
            "dtype: object\n"
          ],
          "name": "stdout"
        },
        {
          "output_type": "execute_result",
          "data": {
            "text/html": [
              "<div>\n",
              "<style scoped>\n",
              "    .dataframe tbody tr th:only-of-type {\n",
              "        vertical-align: middle;\n",
              "    }\n",
              "\n",
              "    .dataframe tbody tr th {\n",
              "        vertical-align: top;\n",
              "    }\n",
              "\n",
              "    .dataframe thead th {\n",
              "        text-align: right;\n",
              "    }\n",
              "</style>\n",
              "<table border=\"1\" class=\"dataframe\">\n",
              "  <thead>\n",
              "    <tr style=\"text-align: right;\">\n",
              "      <th></th>\n",
              "      <th>A</th>\n",
              "      <th>B</th>\n",
              "      <th>C</th>\n",
              "      <th>D</th>\n",
              "      <th>E</th>\n",
              "      <th>F</th>\n",
              "    </tr>\n",
              "  </thead>\n",
              "  <tbody>\n",
              "    <tr>\n",
              "      <th>0</th>\n",
              "      <td>1.0</td>\n",
              "      <td>2013-01-02</td>\n",
              "      <td>1.0</td>\n",
              "      <td>3</td>\n",
              "      <td>test</td>\n",
              "      <td>foo</td>\n",
              "    </tr>\n",
              "    <tr>\n",
              "      <th>1</th>\n",
              "      <td>1.0</td>\n",
              "      <td>2013-01-02</td>\n",
              "      <td>1.0</td>\n",
              "      <td>3</td>\n",
              "      <td>train</td>\n",
              "      <td>foo</td>\n",
              "    </tr>\n",
              "    <tr>\n",
              "      <th>2</th>\n",
              "      <td>1.0</td>\n",
              "      <td>2013-01-02</td>\n",
              "      <td>1.0</td>\n",
              "      <td>3</td>\n",
              "      <td>test</td>\n",
              "      <td>foo</td>\n",
              "    </tr>\n",
              "    <tr>\n",
              "      <th>3</th>\n",
              "      <td>1.0</td>\n",
              "      <td>2013-01-02</td>\n",
              "      <td>1.0</td>\n",
              "      <td>3</td>\n",
              "      <td>train</td>\n",
              "      <td>foo</td>\n",
              "    </tr>\n",
              "  </tbody>\n",
              "</table>\n",
              "</div>"
            ],
            "text/plain": [
              "     A          B    C  D      E    F\n",
              "0  1.0 2013-01-02  1.0  3   test  foo\n",
              "1  1.0 2013-01-02  1.0  3  train  foo\n",
              "2  1.0 2013-01-02  1.0  3   test  foo\n",
              "3  1.0 2013-01-02  1.0  3  train  foo"
            ]
          },
          "metadata": {
            "tags": []
          },
          "execution_count": 4
        }
      ]
    },
    {
      "cell_type": "markdown",
      "metadata": {
        "id": "ofJgllM1h3tH"
      },
      "source": [
        "# 2. 데이터 확인 (Viewing data)\n"
      ]
    },
    {
      "cell_type": "code",
      "metadata": {
        "colab": {
          "base_uri": "https://localhost:8080/",
          "height": 111
        },
        "id": "6bX65Y5Oh_I5",
        "outputId": "485ba7b3-1fdf-429c-a7ac-83dacd4536e5"
      },
      "source": [
        "df.head(2)"
      ],
      "execution_count": null,
      "outputs": [
        {
          "output_type": "execute_result",
          "data": {
            "text/html": [
              "<div>\n",
              "<style scoped>\n",
              "    .dataframe tbody tr th:only-of-type {\n",
              "        vertical-align: middle;\n",
              "    }\n",
              "\n",
              "    .dataframe tbody tr th {\n",
              "        vertical-align: top;\n",
              "    }\n",
              "\n",
              "    .dataframe thead th {\n",
              "        text-align: right;\n",
              "    }\n",
              "</style>\n",
              "<table border=\"1\" class=\"dataframe\">\n",
              "  <thead>\n",
              "    <tr style=\"text-align: right;\">\n",
              "      <th></th>\n",
              "      <th>A</th>\n",
              "      <th>B</th>\n",
              "      <th>C</th>\n",
              "      <th>D</th>\n",
              "    </tr>\n",
              "  </thead>\n",
              "  <tbody>\n",
              "    <tr>\n",
              "      <th>2013-01-01</th>\n",
              "      <td>0.680374</td>\n",
              "      <td>0.517372</td>\n",
              "      <td>-1.671865</td>\n",
              "      <td>-0.974822</td>\n",
              "    </tr>\n",
              "    <tr>\n",
              "      <th>2013-01-02</th>\n",
              "      <td>1.016652</td>\n",
              "      <td>-1.274628</td>\n",
              "      <td>-0.977082</td>\n",
              "      <td>-0.731951</td>\n",
              "    </tr>\n",
              "  </tbody>\n",
              "</table>\n",
              "</div>"
            ],
            "text/plain": [
              "                   A         B         C         D\n",
              "2013-01-01  0.680374  0.517372 -1.671865 -0.974822\n",
              "2013-01-02  1.016652 -1.274628 -0.977082 -0.731951"
            ]
          },
          "metadata": {
            "tags": []
          },
          "execution_count": 5
        }
      ]
    },
    {
      "cell_type": "code",
      "metadata": {
        "colab": {
          "base_uri": "https://localhost:8080/"
        },
        "id": "RhCTwYngiDMo",
        "outputId": "8b427348-4f45-4651-d87a-8b94fbe28aca"
      },
      "source": [
        "df.index"
      ],
      "execution_count": null,
      "outputs": [
        {
          "output_type": "execute_result",
          "data": {
            "text/plain": [
              "DatetimeIndex(['2013-01-01', '2013-01-02', '2013-01-03', '2013-01-04',\n",
              "               '2013-01-05', '2013-01-06'],\n",
              "              dtype='datetime64[ns]', freq='D')"
            ]
          },
          "metadata": {
            "tags": []
          },
          "execution_count": 6
        }
      ]
    },
    {
      "cell_type": "code",
      "metadata": {
        "colab": {
          "base_uri": "https://localhost:8080/"
        },
        "id": "UeJVWF6_iEtr",
        "outputId": "ceb10d27-2d7b-45d2-9d0f-fc4df1401544"
      },
      "source": [
        "df.columns"
      ],
      "execution_count": null,
      "outputs": [
        {
          "output_type": "execute_result",
          "data": {
            "text/plain": [
              "Index(['A', 'B', 'C', 'D'], dtype='object')"
            ]
          },
          "metadata": {
            "tags": []
          },
          "execution_count": 7
        }
      ]
    },
    {
      "cell_type": "code",
      "metadata": {
        "colab": {
          "base_uri": "https://localhost:8080/"
        },
        "id": "7nv61h3RiGUp",
        "outputId": "355362c2-bc2a-4d92-f2e1-0c5fc1bbe985"
      },
      "source": [
        "# Numpy 행렬에는 단 한가지의 dtype만 가능\n",
        "# Pandas 데이터 프레임에는 컬럼당 한가지의 dtype만 가능\n",
        "df.to_numpy()"
      ],
      "execution_count": null,
      "outputs": [
        {
          "output_type": "execute_result",
          "data": {
            "text/plain": [
              "array([[ 0.68037358,  0.51737233, -1.67186508, -0.97482208],\n",
              "       [ 1.01665214, -1.27462752, -0.97708234, -0.73195097],\n",
              "       [ 0.06194247, -0.76211858, -1.45483628,  0.45725156],\n",
              "       [-0.71776378,  1.75401809, -0.32298288,  0.13265534],\n",
              "       [ 1.12753845, -0.86188043,  1.0260142 ,  1.63672324],\n",
              "       [-1.44965578,  2.06748096,  1.41277608, -0.63862213]])"
            ]
          },
          "metadata": {
            "tags": []
          },
          "execution_count": 8
        }
      ]
    },
    {
      "cell_type": "code",
      "metadata": {
        "colab": {
          "base_uri": "https://localhost:8080/"
        },
        "id": "10lOinX_jTu_",
        "outputId": "033df871-f544-4517-a7b5-4c2967551575"
      },
      "source": [
        "# 여러 dtype이 존재하는 df2를 numpy로 변환 시 모든 것을 아우르는 dtype 선택\n",
        "  # DataFrame.to_numpy(): 인덱스와 컬럼명은 포함되지 않음\n",
        "df2.to_numpy()"
      ],
      "execution_count": null,
      "outputs": [
        {
          "output_type": "execute_result",
          "data": {
            "text/plain": [
              "array([[1.0, Timestamp('2013-01-02 00:00:00'), 1.0, 3, 'test', 'foo'],\n",
              "       [1.0, Timestamp('2013-01-02 00:00:00'), 1.0, 3, 'train', 'foo'],\n",
              "       [1.0, Timestamp('2013-01-02 00:00:00'), 1.0, 3, 'test', 'foo'],\n",
              "       [1.0, Timestamp('2013-01-02 00:00:00'), 1.0, 3, 'train', 'foo']],\n",
              "      dtype=object)"
            ]
          },
          "metadata": {
            "tags": []
          },
          "execution_count": 9
        }
      ]
    },
    {
      "cell_type": "code",
      "metadata": {
        "colab": {
          "base_uri": "https://localhost:8080/",
          "height": 297
        },
        "id": "M8RWS0UTjzeM",
        "outputId": "f59082d1-0d8a-4f67-c179-9a65f86a1e20"
      },
      "source": [
        "# df의 통계 요약\n",
        "df.describe()"
      ],
      "execution_count": null,
      "outputs": [
        {
          "output_type": "execute_result",
          "data": {
            "text/html": [
              "<div>\n",
              "<style scoped>\n",
              "    .dataframe tbody tr th:only-of-type {\n",
              "        vertical-align: middle;\n",
              "    }\n",
              "\n",
              "    .dataframe tbody tr th {\n",
              "        vertical-align: top;\n",
              "    }\n",
              "\n",
              "    .dataframe thead th {\n",
              "        text-align: right;\n",
              "    }\n",
              "</style>\n",
              "<table border=\"1\" class=\"dataframe\">\n",
              "  <thead>\n",
              "    <tr style=\"text-align: right;\">\n",
              "      <th></th>\n",
              "      <th>A</th>\n",
              "      <th>B</th>\n",
              "      <th>C</th>\n",
              "      <th>D</th>\n",
              "    </tr>\n",
              "  </thead>\n",
              "  <tbody>\n",
              "    <tr>\n",
              "      <th>count</th>\n",
              "      <td>6.000000</td>\n",
              "      <td>6.000000</td>\n",
              "      <td>6.000000</td>\n",
              "      <td>6.000000</td>\n",
              "    </tr>\n",
              "    <tr>\n",
              "      <th>mean</th>\n",
              "      <td>0.119848</td>\n",
              "      <td>0.240041</td>\n",
              "      <td>-0.331329</td>\n",
              "      <td>-0.019794</td>\n",
              "    </tr>\n",
              "    <tr>\n",
              "      <th>std</th>\n",
              "      <td>1.029774</td>\n",
              "      <td>1.429780</td>\n",
              "      <td>1.293109</td>\n",
              "      <td>0.979495</td>\n",
              "    </tr>\n",
              "    <tr>\n",
              "      <th>min</th>\n",
              "      <td>-1.449656</td>\n",
              "      <td>-1.274628</td>\n",
              "      <td>-1.671865</td>\n",
              "      <td>-0.974822</td>\n",
              "    </tr>\n",
              "    <tr>\n",
              "      <th>25%</th>\n",
              "      <td>-0.522837</td>\n",
              "      <td>-0.836940</td>\n",
              "      <td>-1.335398</td>\n",
              "      <td>-0.708619</td>\n",
              "    </tr>\n",
              "    <tr>\n",
              "      <th>50%</th>\n",
              "      <td>0.371158</td>\n",
              "      <td>-0.122373</td>\n",
              "      <td>-0.650033</td>\n",
              "      <td>-0.252983</td>\n",
              "    </tr>\n",
              "    <tr>\n",
              "      <th>75%</th>\n",
              "      <td>0.932583</td>\n",
              "      <td>1.444857</td>\n",
              "      <td>0.688765</td>\n",
              "      <td>0.376103</td>\n",
              "    </tr>\n",
              "    <tr>\n",
              "      <th>max</th>\n",
              "      <td>1.127538</td>\n",
              "      <td>2.067481</td>\n",
              "      <td>1.412776</td>\n",
              "      <td>1.636723</td>\n",
              "    </tr>\n",
              "  </tbody>\n",
              "</table>\n",
              "</div>"
            ],
            "text/plain": [
              "              A         B         C         D\n",
              "count  6.000000  6.000000  6.000000  6.000000\n",
              "mean   0.119848  0.240041 -0.331329 -0.019794\n",
              "std    1.029774  1.429780  1.293109  0.979495\n",
              "min   -1.449656 -1.274628 -1.671865 -0.974822\n",
              "25%   -0.522837 -0.836940 -1.335398 -0.708619\n",
              "50%    0.371158 -0.122373 -0.650033 -0.252983\n",
              "75%    0.932583  1.444857  0.688765  0.376103\n",
              "max    1.127538  2.067481  1.412776  1.636723"
            ]
          },
          "metadata": {
            "tags": []
          },
          "execution_count": 10
        }
      ]
    },
    {
      "cell_type": "code",
      "metadata": {
        "colab": {
          "base_uri": "https://localhost:8080/",
          "height": 173
        },
        "id": "SCMYZ3X5kIh_",
        "outputId": "0419bd19-70dc-484d-903a-cba7a30327c9"
      },
      "source": [
        "# df의 행과 열 바꾸기\n",
        "df.T"
      ],
      "execution_count": null,
      "outputs": [
        {
          "output_type": "execute_result",
          "data": {
            "text/html": [
              "<div>\n",
              "<style scoped>\n",
              "    .dataframe tbody tr th:only-of-type {\n",
              "        vertical-align: middle;\n",
              "    }\n",
              "\n",
              "    .dataframe tbody tr th {\n",
              "        vertical-align: top;\n",
              "    }\n",
              "\n",
              "    .dataframe thead th {\n",
              "        text-align: right;\n",
              "    }\n",
              "</style>\n",
              "<table border=\"1\" class=\"dataframe\">\n",
              "  <thead>\n",
              "    <tr style=\"text-align: right;\">\n",
              "      <th></th>\n",
              "      <th>2013-01-01</th>\n",
              "      <th>2013-01-02</th>\n",
              "      <th>2013-01-03</th>\n",
              "      <th>2013-01-04</th>\n",
              "      <th>2013-01-05</th>\n",
              "      <th>2013-01-06</th>\n",
              "    </tr>\n",
              "  </thead>\n",
              "  <tbody>\n",
              "    <tr>\n",
              "      <th>A</th>\n",
              "      <td>0.680374</td>\n",
              "      <td>1.016652</td>\n",
              "      <td>0.061942</td>\n",
              "      <td>-0.717764</td>\n",
              "      <td>1.127538</td>\n",
              "      <td>-1.449656</td>\n",
              "    </tr>\n",
              "    <tr>\n",
              "      <th>B</th>\n",
              "      <td>0.517372</td>\n",
              "      <td>-1.274628</td>\n",
              "      <td>-0.762119</td>\n",
              "      <td>1.754018</td>\n",
              "      <td>-0.861880</td>\n",
              "      <td>2.067481</td>\n",
              "    </tr>\n",
              "    <tr>\n",
              "      <th>C</th>\n",
              "      <td>-1.671865</td>\n",
              "      <td>-0.977082</td>\n",
              "      <td>-1.454836</td>\n",
              "      <td>-0.322983</td>\n",
              "      <td>1.026014</td>\n",
              "      <td>1.412776</td>\n",
              "    </tr>\n",
              "    <tr>\n",
              "      <th>D</th>\n",
              "      <td>-0.974822</td>\n",
              "      <td>-0.731951</td>\n",
              "      <td>0.457252</td>\n",
              "      <td>0.132655</td>\n",
              "      <td>1.636723</td>\n",
              "      <td>-0.638622</td>\n",
              "    </tr>\n",
              "  </tbody>\n",
              "</table>\n",
              "</div>"
            ],
            "text/plain": [
              "   2013-01-01  2013-01-02  2013-01-03  2013-01-04  2013-01-05  2013-01-06\n",
              "A    0.680374    1.016652    0.061942   -0.717764    1.127538   -1.449656\n",
              "B    0.517372   -1.274628   -0.762119    1.754018   -0.861880    2.067481\n",
              "C   -1.671865   -0.977082   -1.454836   -0.322983    1.026014    1.412776\n",
              "D   -0.974822   -0.731951    0.457252    0.132655    1.636723   -0.638622"
            ]
          },
          "metadata": {
            "tags": []
          },
          "execution_count": 11
        }
      ]
    },
    {
      "cell_type": "code",
      "metadata": {
        "colab": {
          "base_uri": "https://localhost:8080/",
          "height": 235
        },
        "id": "dh-l4EJIkNXG",
        "outputId": "ee77553d-80b7-4da8-cec4-5f56a0a77fe3"
      },
      "source": [
        "# 행 또는 열 값에 따라 나열하기\n",
        "df.sort_index(axis=1, ascending=False)"
      ],
      "execution_count": null,
      "outputs": [
        {
          "output_type": "execute_result",
          "data": {
            "text/html": [
              "<div>\n",
              "<style scoped>\n",
              "    .dataframe tbody tr th:only-of-type {\n",
              "        vertical-align: middle;\n",
              "    }\n",
              "\n",
              "    .dataframe tbody tr th {\n",
              "        vertical-align: top;\n",
              "    }\n",
              "\n",
              "    .dataframe thead th {\n",
              "        text-align: right;\n",
              "    }\n",
              "</style>\n",
              "<table border=\"1\" class=\"dataframe\">\n",
              "  <thead>\n",
              "    <tr style=\"text-align: right;\">\n",
              "      <th></th>\n",
              "      <th>D</th>\n",
              "      <th>C</th>\n",
              "      <th>B</th>\n",
              "      <th>A</th>\n",
              "    </tr>\n",
              "  </thead>\n",
              "  <tbody>\n",
              "    <tr>\n",
              "      <th>2013-01-01</th>\n",
              "      <td>-0.974822</td>\n",
              "      <td>-1.671865</td>\n",
              "      <td>0.517372</td>\n",
              "      <td>0.680374</td>\n",
              "    </tr>\n",
              "    <tr>\n",
              "      <th>2013-01-02</th>\n",
              "      <td>-0.731951</td>\n",
              "      <td>-0.977082</td>\n",
              "      <td>-1.274628</td>\n",
              "      <td>1.016652</td>\n",
              "    </tr>\n",
              "    <tr>\n",
              "      <th>2013-01-03</th>\n",
              "      <td>0.457252</td>\n",
              "      <td>-1.454836</td>\n",
              "      <td>-0.762119</td>\n",
              "      <td>0.061942</td>\n",
              "    </tr>\n",
              "    <tr>\n",
              "      <th>2013-01-04</th>\n",
              "      <td>0.132655</td>\n",
              "      <td>-0.322983</td>\n",
              "      <td>1.754018</td>\n",
              "      <td>-0.717764</td>\n",
              "    </tr>\n",
              "    <tr>\n",
              "      <th>2013-01-05</th>\n",
              "      <td>1.636723</td>\n",
              "      <td>1.026014</td>\n",
              "      <td>-0.861880</td>\n",
              "      <td>1.127538</td>\n",
              "    </tr>\n",
              "    <tr>\n",
              "      <th>2013-01-06</th>\n",
              "      <td>-0.638622</td>\n",
              "      <td>1.412776</td>\n",
              "      <td>2.067481</td>\n",
              "      <td>-1.449656</td>\n",
              "    </tr>\n",
              "  </tbody>\n",
              "</table>\n",
              "</div>"
            ],
            "text/plain": [
              "                   D         C         B         A\n",
              "2013-01-01 -0.974822 -1.671865  0.517372  0.680374\n",
              "2013-01-02 -0.731951 -0.977082 -1.274628  1.016652\n",
              "2013-01-03  0.457252 -1.454836 -0.762119  0.061942\n",
              "2013-01-04  0.132655 -0.322983  1.754018 -0.717764\n",
              "2013-01-05  1.636723  1.026014 -0.861880  1.127538\n",
              "2013-01-06 -0.638622  1.412776  2.067481 -1.449656"
            ]
          },
          "metadata": {
            "tags": []
          },
          "execution_count": 12
        }
      ]
    },
    {
      "cell_type": "code",
      "metadata": {
        "colab": {
          "base_uri": "https://localhost:8080/",
          "height": 235
        },
        "id": "YtHC4eIRkim7",
        "outputId": "090f3439-8d09-47c2-f934-fed8820e8f23"
      },
      "source": [
        "df.sort_index(ascending=False)"
      ],
      "execution_count": null,
      "outputs": [
        {
          "output_type": "execute_result",
          "data": {
            "text/html": [
              "<div>\n",
              "<style scoped>\n",
              "    .dataframe tbody tr th:only-of-type {\n",
              "        vertical-align: middle;\n",
              "    }\n",
              "\n",
              "    .dataframe tbody tr th {\n",
              "        vertical-align: top;\n",
              "    }\n",
              "\n",
              "    .dataframe thead th {\n",
              "        text-align: right;\n",
              "    }\n",
              "</style>\n",
              "<table border=\"1\" class=\"dataframe\">\n",
              "  <thead>\n",
              "    <tr style=\"text-align: right;\">\n",
              "      <th></th>\n",
              "      <th>A</th>\n",
              "      <th>B</th>\n",
              "      <th>C</th>\n",
              "      <th>D</th>\n",
              "    </tr>\n",
              "  </thead>\n",
              "  <tbody>\n",
              "    <tr>\n",
              "      <th>2013-01-06</th>\n",
              "      <td>-1.449656</td>\n",
              "      <td>2.067481</td>\n",
              "      <td>1.412776</td>\n",
              "      <td>-0.638622</td>\n",
              "    </tr>\n",
              "    <tr>\n",
              "      <th>2013-01-05</th>\n",
              "      <td>1.127538</td>\n",
              "      <td>-0.861880</td>\n",
              "      <td>1.026014</td>\n",
              "      <td>1.636723</td>\n",
              "    </tr>\n",
              "    <tr>\n",
              "      <th>2013-01-04</th>\n",
              "      <td>-0.717764</td>\n",
              "      <td>1.754018</td>\n",
              "      <td>-0.322983</td>\n",
              "      <td>0.132655</td>\n",
              "    </tr>\n",
              "    <tr>\n",
              "      <th>2013-01-03</th>\n",
              "      <td>0.061942</td>\n",
              "      <td>-0.762119</td>\n",
              "      <td>-1.454836</td>\n",
              "      <td>0.457252</td>\n",
              "    </tr>\n",
              "    <tr>\n",
              "      <th>2013-01-02</th>\n",
              "      <td>1.016652</td>\n",
              "      <td>-1.274628</td>\n",
              "      <td>-0.977082</td>\n",
              "      <td>-0.731951</td>\n",
              "    </tr>\n",
              "    <tr>\n",
              "      <th>2013-01-01</th>\n",
              "      <td>0.680374</td>\n",
              "      <td>0.517372</td>\n",
              "      <td>-1.671865</td>\n",
              "      <td>-0.974822</td>\n",
              "    </tr>\n",
              "  </tbody>\n",
              "</table>\n",
              "</div>"
            ],
            "text/plain": [
              "                   A         B         C         D\n",
              "2013-01-06 -1.449656  2.067481  1.412776 -0.638622\n",
              "2013-01-05  1.127538 -0.861880  1.026014  1.636723\n",
              "2013-01-04 -0.717764  1.754018 -0.322983  0.132655\n",
              "2013-01-03  0.061942 -0.762119 -1.454836  0.457252\n",
              "2013-01-02  1.016652 -1.274628 -0.977082 -0.731951\n",
              "2013-01-01  0.680374  0.517372 -1.671865 -0.974822"
            ]
          },
          "metadata": {
            "tags": []
          },
          "execution_count": 13
        }
      ]
    },
    {
      "cell_type": "code",
      "metadata": {
        "colab": {
          "base_uri": "https://localhost:8080/",
          "height": 235
        },
        "id": "uqEYF9A_kov_",
        "outputId": "1c2f6bbf-7b8e-4999-f0f8-f12d9a872835"
      },
      "source": [
        "# 값에 따라 나열하기\n",
        "df.sort_values(by=\"B\")"
      ],
      "execution_count": null,
      "outputs": [
        {
          "output_type": "execute_result",
          "data": {
            "text/html": [
              "<div>\n",
              "<style scoped>\n",
              "    .dataframe tbody tr th:only-of-type {\n",
              "        vertical-align: middle;\n",
              "    }\n",
              "\n",
              "    .dataframe tbody tr th {\n",
              "        vertical-align: top;\n",
              "    }\n",
              "\n",
              "    .dataframe thead th {\n",
              "        text-align: right;\n",
              "    }\n",
              "</style>\n",
              "<table border=\"1\" class=\"dataframe\">\n",
              "  <thead>\n",
              "    <tr style=\"text-align: right;\">\n",
              "      <th></th>\n",
              "      <th>A</th>\n",
              "      <th>B</th>\n",
              "      <th>C</th>\n",
              "      <th>D</th>\n",
              "    </tr>\n",
              "  </thead>\n",
              "  <tbody>\n",
              "    <tr>\n",
              "      <th>2013-01-02</th>\n",
              "      <td>1.016652</td>\n",
              "      <td>-1.274628</td>\n",
              "      <td>-0.977082</td>\n",
              "      <td>-0.731951</td>\n",
              "    </tr>\n",
              "    <tr>\n",
              "      <th>2013-01-05</th>\n",
              "      <td>1.127538</td>\n",
              "      <td>-0.861880</td>\n",
              "      <td>1.026014</td>\n",
              "      <td>1.636723</td>\n",
              "    </tr>\n",
              "    <tr>\n",
              "      <th>2013-01-03</th>\n",
              "      <td>0.061942</td>\n",
              "      <td>-0.762119</td>\n",
              "      <td>-1.454836</td>\n",
              "      <td>0.457252</td>\n",
              "    </tr>\n",
              "    <tr>\n",
              "      <th>2013-01-01</th>\n",
              "      <td>0.680374</td>\n",
              "      <td>0.517372</td>\n",
              "      <td>-1.671865</td>\n",
              "      <td>-0.974822</td>\n",
              "    </tr>\n",
              "    <tr>\n",
              "      <th>2013-01-04</th>\n",
              "      <td>-0.717764</td>\n",
              "      <td>1.754018</td>\n",
              "      <td>-0.322983</td>\n",
              "      <td>0.132655</td>\n",
              "    </tr>\n",
              "    <tr>\n",
              "      <th>2013-01-06</th>\n",
              "      <td>-1.449656</td>\n",
              "      <td>2.067481</td>\n",
              "      <td>1.412776</td>\n",
              "      <td>-0.638622</td>\n",
              "    </tr>\n",
              "  </tbody>\n",
              "</table>\n",
              "</div>"
            ],
            "text/plain": [
              "                   A         B         C         D\n",
              "2013-01-02  1.016652 -1.274628 -0.977082 -0.731951\n",
              "2013-01-05  1.127538 -0.861880  1.026014  1.636723\n",
              "2013-01-03  0.061942 -0.762119 -1.454836  0.457252\n",
              "2013-01-01  0.680374  0.517372 -1.671865 -0.974822\n",
              "2013-01-04 -0.717764  1.754018 -0.322983  0.132655\n",
              "2013-01-06 -1.449656  2.067481  1.412776 -0.638622"
            ]
          },
          "metadata": {
            "tags": []
          },
          "execution_count": 14
        }
      ]
    },
    {
      "cell_type": "code",
      "metadata": {
        "colab": {
          "base_uri": "https://localhost:8080/",
          "height": 235
        },
        "id": "4gY4nTRWk4ES",
        "outputId": "9596914a-f3d6-49b5-b52f-c8284650fae3"
      },
      "source": [
        "df.sort_values(by=\"B\", ascending=False)"
      ],
      "execution_count": null,
      "outputs": [
        {
          "output_type": "execute_result",
          "data": {
            "text/html": [
              "<div>\n",
              "<style scoped>\n",
              "    .dataframe tbody tr th:only-of-type {\n",
              "        vertical-align: middle;\n",
              "    }\n",
              "\n",
              "    .dataframe tbody tr th {\n",
              "        vertical-align: top;\n",
              "    }\n",
              "\n",
              "    .dataframe thead th {\n",
              "        text-align: right;\n",
              "    }\n",
              "</style>\n",
              "<table border=\"1\" class=\"dataframe\">\n",
              "  <thead>\n",
              "    <tr style=\"text-align: right;\">\n",
              "      <th></th>\n",
              "      <th>A</th>\n",
              "      <th>B</th>\n",
              "      <th>C</th>\n",
              "      <th>D</th>\n",
              "    </tr>\n",
              "  </thead>\n",
              "  <tbody>\n",
              "    <tr>\n",
              "      <th>2013-01-06</th>\n",
              "      <td>-1.449656</td>\n",
              "      <td>2.067481</td>\n",
              "      <td>1.412776</td>\n",
              "      <td>-0.638622</td>\n",
              "    </tr>\n",
              "    <tr>\n",
              "      <th>2013-01-04</th>\n",
              "      <td>-0.717764</td>\n",
              "      <td>1.754018</td>\n",
              "      <td>-0.322983</td>\n",
              "      <td>0.132655</td>\n",
              "    </tr>\n",
              "    <tr>\n",
              "      <th>2013-01-01</th>\n",
              "      <td>0.680374</td>\n",
              "      <td>0.517372</td>\n",
              "      <td>-1.671865</td>\n",
              "      <td>-0.974822</td>\n",
              "    </tr>\n",
              "    <tr>\n",
              "      <th>2013-01-03</th>\n",
              "      <td>0.061942</td>\n",
              "      <td>-0.762119</td>\n",
              "      <td>-1.454836</td>\n",
              "      <td>0.457252</td>\n",
              "    </tr>\n",
              "    <tr>\n",
              "      <th>2013-01-05</th>\n",
              "      <td>1.127538</td>\n",
              "      <td>-0.861880</td>\n",
              "      <td>1.026014</td>\n",
              "      <td>1.636723</td>\n",
              "    </tr>\n",
              "    <tr>\n",
              "      <th>2013-01-02</th>\n",
              "      <td>1.016652</td>\n",
              "      <td>-1.274628</td>\n",
              "      <td>-0.977082</td>\n",
              "      <td>-0.731951</td>\n",
              "    </tr>\n",
              "  </tbody>\n",
              "</table>\n",
              "</div>"
            ],
            "text/plain": [
              "                   A         B         C         D\n",
              "2013-01-06 -1.449656  2.067481  1.412776 -0.638622\n",
              "2013-01-04 -0.717764  1.754018 -0.322983  0.132655\n",
              "2013-01-01  0.680374  0.517372 -1.671865 -0.974822\n",
              "2013-01-03  0.061942 -0.762119 -1.454836  0.457252\n",
              "2013-01-05  1.127538 -0.861880  1.026014  1.636723\n",
              "2013-01-02  1.016652 -1.274628 -0.977082 -0.731951"
            ]
          },
          "metadata": {
            "tags": []
          },
          "execution_count": 15
        }
      ]
    },
    {
      "cell_type": "markdown",
      "metadata": {
        "id": "VCAu4qVolDXD"
      },
      "source": [
        "# 3. 데이터 선택 (Selection)\n",
        "- .at / .iat\n",
        "- .loc / .iloc\n",
        "- .isin"
      ]
    },
    {
      "cell_type": "code",
      "metadata": {
        "colab": {
          "base_uri": "https://localhost:8080/"
        },
        "id": "xWJpEt3GleU6",
        "outputId": "a704016d-922b-445f-9c7f-dcfad610d0ca"
      },
      "source": [
        "# 해당하는 열 가져오기\n",
        "df['A']  # df.A"
      ],
      "execution_count": null,
      "outputs": [
        {
          "output_type": "execute_result",
          "data": {
            "text/plain": [
              "2013-01-01    0.680374\n",
              "2013-01-02    1.016652\n",
              "2013-01-03    0.061942\n",
              "2013-01-04   -0.717764\n",
              "2013-01-05    1.127538\n",
              "2013-01-06   -1.449656\n",
              "Freq: D, Name: A, dtype: float64"
            ]
          },
          "metadata": {
            "tags": []
          },
          "execution_count": 16
        }
      ]
    },
    {
      "cell_type": "code",
      "metadata": {
        "colab": {
          "base_uri": "https://localhost:8080/",
          "height": 111
        },
        "id": "rncsvKEAlmnx",
        "outputId": "88166c46-1202-4a52-e507-56d32bb6dbbe"
      },
      "source": [
        "# 해당하는 행 가져오기\n",
        "df[2:4]  # df['20130103':'20130104']"
      ],
      "execution_count": null,
      "outputs": [
        {
          "output_type": "execute_result",
          "data": {
            "text/html": [
              "<div>\n",
              "<style scoped>\n",
              "    .dataframe tbody tr th:only-of-type {\n",
              "        vertical-align: middle;\n",
              "    }\n",
              "\n",
              "    .dataframe tbody tr th {\n",
              "        vertical-align: top;\n",
              "    }\n",
              "\n",
              "    .dataframe thead th {\n",
              "        text-align: right;\n",
              "    }\n",
              "</style>\n",
              "<table border=\"1\" class=\"dataframe\">\n",
              "  <thead>\n",
              "    <tr style=\"text-align: right;\">\n",
              "      <th></th>\n",
              "      <th>A</th>\n",
              "      <th>B</th>\n",
              "      <th>C</th>\n",
              "      <th>D</th>\n",
              "    </tr>\n",
              "  </thead>\n",
              "  <tbody>\n",
              "    <tr>\n",
              "      <th>2013-01-03</th>\n",
              "      <td>0.061942</td>\n",
              "      <td>-0.762119</td>\n",
              "      <td>-1.454836</td>\n",
              "      <td>0.457252</td>\n",
              "    </tr>\n",
              "    <tr>\n",
              "      <th>2013-01-04</th>\n",
              "      <td>-0.717764</td>\n",
              "      <td>1.754018</td>\n",
              "      <td>-0.322983</td>\n",
              "      <td>0.132655</td>\n",
              "    </tr>\n",
              "  </tbody>\n",
              "</table>\n",
              "</div>"
            ],
            "text/plain": [
              "                   A         B         C         D\n",
              "2013-01-03  0.061942 -0.762119 -1.454836  0.457252\n",
              "2013-01-04 -0.717764  1.754018 -0.322983  0.132655"
            ]
          },
          "metadata": {
            "tags": []
          },
          "execution_count": 17
        }
      ]
    },
    {
      "cell_type": "markdown",
      "metadata": {
        "id": "W_4F3cJOo0Mo"
      },
      "source": [
        "## 인덱스 또는 컬럼명으로 가져오기 (.loc)"
      ]
    },
    {
      "cell_type": "code",
      "metadata": {
        "colab": {
          "base_uri": "https://localhost:8080/"
        },
        "id": "8yEXYzXKlMMV",
        "outputId": "9376ee98-3e0f-4973-e7e1-028929f28a48"
      },
      "source": [
        "# 인덱스 값으로 가져오기\n",
        "df.loc['20130101']"
      ],
      "execution_count": null,
      "outputs": [
        {
          "output_type": "execute_result",
          "data": {
            "text/plain": [
              "A    0.680374\n",
              "B    0.517372\n",
              "C   -1.671865\n",
              "D   -0.974822\n",
              "Name: 2013-01-01 00:00:00, dtype: float64"
            ]
          },
          "metadata": {
            "tags": []
          },
          "execution_count": 18
        }
      ]
    },
    {
      "cell_type": "code",
      "metadata": {
        "colab": {
          "base_uri": "https://localhost:8080/",
          "height": 235
        },
        "id": "JuS3XnA9mYG8",
        "outputId": "147bf5d2-520c-4a74-8642-83dd49767ffc"
      },
      "source": [
        "# 지정한 행과 열에 해당하는 값 가져오기\n",
        "df.loc[:,['A','B']]"
      ],
      "execution_count": null,
      "outputs": [
        {
          "output_type": "execute_result",
          "data": {
            "text/html": [
              "<div>\n",
              "<style scoped>\n",
              "    .dataframe tbody tr th:only-of-type {\n",
              "        vertical-align: middle;\n",
              "    }\n",
              "\n",
              "    .dataframe tbody tr th {\n",
              "        vertical-align: top;\n",
              "    }\n",
              "\n",
              "    .dataframe thead th {\n",
              "        text-align: right;\n",
              "    }\n",
              "</style>\n",
              "<table border=\"1\" class=\"dataframe\">\n",
              "  <thead>\n",
              "    <tr style=\"text-align: right;\">\n",
              "      <th></th>\n",
              "      <th>A</th>\n",
              "      <th>B</th>\n",
              "    </tr>\n",
              "  </thead>\n",
              "  <tbody>\n",
              "    <tr>\n",
              "      <th>2013-01-01</th>\n",
              "      <td>0.680374</td>\n",
              "      <td>0.517372</td>\n",
              "    </tr>\n",
              "    <tr>\n",
              "      <th>2013-01-02</th>\n",
              "      <td>1.016652</td>\n",
              "      <td>-1.274628</td>\n",
              "    </tr>\n",
              "    <tr>\n",
              "      <th>2013-01-03</th>\n",
              "      <td>0.061942</td>\n",
              "      <td>-0.762119</td>\n",
              "    </tr>\n",
              "    <tr>\n",
              "      <th>2013-01-04</th>\n",
              "      <td>-0.717764</td>\n",
              "      <td>1.754018</td>\n",
              "    </tr>\n",
              "    <tr>\n",
              "      <th>2013-01-05</th>\n",
              "      <td>1.127538</td>\n",
              "      <td>-0.861880</td>\n",
              "    </tr>\n",
              "    <tr>\n",
              "      <th>2013-01-06</th>\n",
              "      <td>-1.449656</td>\n",
              "      <td>2.067481</td>\n",
              "    </tr>\n",
              "  </tbody>\n",
              "</table>\n",
              "</div>"
            ],
            "text/plain": [
              "                   A         B\n",
              "2013-01-01  0.680374  0.517372\n",
              "2013-01-02  1.016652 -1.274628\n",
              "2013-01-03  0.061942 -0.762119\n",
              "2013-01-04 -0.717764  1.754018\n",
              "2013-01-05  1.127538 -0.861880\n",
              "2013-01-06 -1.449656  2.067481"
            ]
          },
          "metadata": {
            "tags": []
          },
          "execution_count": 19
        }
      ]
    },
    {
      "cell_type": "code",
      "metadata": {
        "colab": {
          "base_uri": "https://localhost:8080/",
          "height": 142
        },
        "id": "lSGMEZ7_mpAj",
        "outputId": "b7392bf5-72c1-4ae1-d8fd-6c56612cd887"
      },
      "source": [
        "df.loc['20130102':'20130104', 'A':'C']"
      ],
      "execution_count": null,
      "outputs": [
        {
          "output_type": "execute_result",
          "data": {
            "text/html": [
              "<div>\n",
              "<style scoped>\n",
              "    .dataframe tbody tr th:only-of-type {\n",
              "        vertical-align: middle;\n",
              "    }\n",
              "\n",
              "    .dataframe tbody tr th {\n",
              "        vertical-align: top;\n",
              "    }\n",
              "\n",
              "    .dataframe thead th {\n",
              "        text-align: right;\n",
              "    }\n",
              "</style>\n",
              "<table border=\"1\" class=\"dataframe\">\n",
              "  <thead>\n",
              "    <tr style=\"text-align: right;\">\n",
              "      <th></th>\n",
              "      <th>A</th>\n",
              "      <th>B</th>\n",
              "      <th>C</th>\n",
              "    </tr>\n",
              "  </thead>\n",
              "  <tbody>\n",
              "    <tr>\n",
              "      <th>2013-01-02</th>\n",
              "      <td>1.016652</td>\n",
              "      <td>-1.274628</td>\n",
              "      <td>-0.977082</td>\n",
              "    </tr>\n",
              "    <tr>\n",
              "      <th>2013-01-03</th>\n",
              "      <td>0.061942</td>\n",
              "      <td>-0.762119</td>\n",
              "      <td>-1.454836</td>\n",
              "    </tr>\n",
              "    <tr>\n",
              "      <th>2013-01-04</th>\n",
              "      <td>-0.717764</td>\n",
              "      <td>1.754018</td>\n",
              "      <td>-0.322983</td>\n",
              "    </tr>\n",
              "  </tbody>\n",
              "</table>\n",
              "</div>"
            ],
            "text/plain": [
              "                   A         B         C\n",
              "2013-01-02  1.016652 -1.274628 -0.977082\n",
              "2013-01-03  0.061942 -0.762119 -1.454836\n",
              "2013-01-04 -0.717764  1.754018 -0.322983"
            ]
          },
          "metadata": {
            "tags": []
          },
          "execution_count": 20
        }
      ]
    },
    {
      "cell_type": "code",
      "metadata": {
        "colab": {
          "base_uri": "https://localhost:8080/",
          "height": 142
        },
        "id": "1jcvAR27m_Xk",
        "outputId": "f22fd81f-4fbe-41e5-c57e-600f90ea2433"
      },
      "source": [
        "df.loc['20130102':'20130104', ['A','C']]"
      ],
      "execution_count": null,
      "outputs": [
        {
          "output_type": "execute_result",
          "data": {
            "text/html": [
              "<div>\n",
              "<style scoped>\n",
              "    .dataframe tbody tr th:only-of-type {\n",
              "        vertical-align: middle;\n",
              "    }\n",
              "\n",
              "    .dataframe tbody tr th {\n",
              "        vertical-align: top;\n",
              "    }\n",
              "\n",
              "    .dataframe thead th {\n",
              "        text-align: right;\n",
              "    }\n",
              "</style>\n",
              "<table border=\"1\" class=\"dataframe\">\n",
              "  <thead>\n",
              "    <tr style=\"text-align: right;\">\n",
              "      <th></th>\n",
              "      <th>A</th>\n",
              "      <th>C</th>\n",
              "    </tr>\n",
              "  </thead>\n",
              "  <tbody>\n",
              "    <tr>\n",
              "      <th>2013-01-02</th>\n",
              "      <td>1.016652</td>\n",
              "      <td>-0.977082</td>\n",
              "    </tr>\n",
              "    <tr>\n",
              "      <th>2013-01-03</th>\n",
              "      <td>0.061942</td>\n",
              "      <td>-1.454836</td>\n",
              "    </tr>\n",
              "    <tr>\n",
              "      <th>2013-01-04</th>\n",
              "      <td>-0.717764</td>\n",
              "      <td>-0.322983</td>\n",
              "    </tr>\n",
              "  </tbody>\n",
              "</table>\n",
              "</div>"
            ],
            "text/plain": [
              "                   A         C\n",
              "2013-01-02  1.016652 -0.977082\n",
              "2013-01-03  0.061942 -1.454836\n",
              "2013-01-04 -0.717764 -0.322983"
            ]
          },
          "metadata": {
            "tags": []
          },
          "execution_count": 21
        }
      ]
    },
    {
      "cell_type": "code",
      "metadata": {
        "colab": {
          "base_uri": "https://localhost:8080/"
        },
        "id": "EH6k8lILnCrj",
        "outputId": "7d5576d3-ae0a-46f0-e855-e7285f8c9906"
      },
      "source": [
        "df.loc[dates[0],'A']"
      ],
      "execution_count": null,
      "outputs": [
        {
          "output_type": "execute_result",
          "data": {
            "text/plain": [
              "0.6803735791475444"
            ]
          },
          "metadata": {
            "tags": []
          },
          "execution_count": 22
        }
      ]
    },
    {
      "cell_type": "code",
      "metadata": {
        "colab": {
          "base_uri": "https://localhost:8080/"
        },
        "id": "FxL42QnVnS6B",
        "outputId": "4d8c58ec-333c-4dbf-9dd2-e53d87b0c0c7"
      },
      "source": [
        "# .at: scalar 가져올 때 .loc 보다 더 빠른 방법\n",
        "df.at[dates[0],'A']"
      ],
      "execution_count": null,
      "outputs": [
        {
          "output_type": "execute_result",
          "data": {
            "text/plain": [
              "0.6803735791475444"
            ]
          },
          "metadata": {
            "tags": []
          },
          "execution_count": 23
        }
      ]
    },
    {
      "cell_type": "markdown",
      "metadata": {
        "id": "heovh85Uo51r"
      },
      "source": [
        "## 좌표값으로 가져오기 (.iloc)"
      ]
    },
    {
      "cell_type": "code",
      "metadata": {
        "colab": {
          "base_uri": "https://localhost:8080/"
        },
        "id": "QDYKA1wTo9b1",
        "outputId": "0bcd96f0-d99b-4e69-cd69-0a27a3fd25a7"
      },
      "source": [
        "df.iloc[2]"
      ],
      "execution_count": null,
      "outputs": [
        {
          "output_type": "execute_result",
          "data": {
            "text/plain": [
              "A    0.061942\n",
              "B   -0.762119\n",
              "C   -1.454836\n",
              "D    0.457252\n",
              "Name: 2013-01-03 00:00:00, dtype: float64"
            ]
          },
          "metadata": {
            "tags": []
          },
          "execution_count": 24
        }
      ]
    },
    {
      "cell_type": "code",
      "metadata": {
        "colab": {
          "base_uri": "https://localhost:8080/",
          "height": 111
        },
        "id": "OR1344IypEOr",
        "outputId": "1f7e1e07-b041-4167-e161-d17a764b6fb4"
      },
      "source": [
        "df.iloc[3:5]  # df[3:5] / df['20130104':'20130105']"
      ],
      "execution_count": null,
      "outputs": [
        {
          "output_type": "execute_result",
          "data": {
            "text/html": [
              "<div>\n",
              "<style scoped>\n",
              "    .dataframe tbody tr th:only-of-type {\n",
              "        vertical-align: middle;\n",
              "    }\n",
              "\n",
              "    .dataframe tbody tr th {\n",
              "        vertical-align: top;\n",
              "    }\n",
              "\n",
              "    .dataframe thead th {\n",
              "        text-align: right;\n",
              "    }\n",
              "</style>\n",
              "<table border=\"1\" class=\"dataframe\">\n",
              "  <thead>\n",
              "    <tr style=\"text-align: right;\">\n",
              "      <th></th>\n",
              "      <th>A</th>\n",
              "      <th>B</th>\n",
              "      <th>C</th>\n",
              "      <th>D</th>\n",
              "    </tr>\n",
              "  </thead>\n",
              "  <tbody>\n",
              "    <tr>\n",
              "      <th>2013-01-04</th>\n",
              "      <td>-0.717764</td>\n",
              "      <td>1.754018</td>\n",
              "      <td>-0.322983</td>\n",
              "      <td>0.132655</td>\n",
              "    </tr>\n",
              "    <tr>\n",
              "      <th>2013-01-05</th>\n",
              "      <td>1.127538</td>\n",
              "      <td>-0.861880</td>\n",
              "      <td>1.026014</td>\n",
              "      <td>1.636723</td>\n",
              "    </tr>\n",
              "  </tbody>\n",
              "</table>\n",
              "</div>"
            ],
            "text/plain": [
              "                   A         B         C         D\n",
              "2013-01-04 -0.717764  1.754018 -0.322983  0.132655\n",
              "2013-01-05  1.127538 -0.861880  1.026014  1.636723"
            ]
          },
          "metadata": {
            "tags": []
          },
          "execution_count": 25
        }
      ]
    },
    {
      "cell_type": "code",
      "metadata": {
        "colab": {
          "base_uri": "https://localhost:8080/",
          "height": 111
        },
        "id": "e6G4W1JMpSuh",
        "outputId": "5dd33b89-2dd6-4cf8-cefe-2b9ced706582"
      },
      "source": [
        "df.iloc[3:5, 0:2]"
      ],
      "execution_count": null,
      "outputs": [
        {
          "output_type": "execute_result",
          "data": {
            "text/html": [
              "<div>\n",
              "<style scoped>\n",
              "    .dataframe tbody tr th:only-of-type {\n",
              "        vertical-align: middle;\n",
              "    }\n",
              "\n",
              "    .dataframe tbody tr th {\n",
              "        vertical-align: top;\n",
              "    }\n",
              "\n",
              "    .dataframe thead th {\n",
              "        text-align: right;\n",
              "    }\n",
              "</style>\n",
              "<table border=\"1\" class=\"dataframe\">\n",
              "  <thead>\n",
              "    <tr style=\"text-align: right;\">\n",
              "      <th></th>\n",
              "      <th>A</th>\n",
              "      <th>B</th>\n",
              "    </tr>\n",
              "  </thead>\n",
              "  <tbody>\n",
              "    <tr>\n",
              "      <th>2013-01-04</th>\n",
              "      <td>-0.717764</td>\n",
              "      <td>1.754018</td>\n",
              "    </tr>\n",
              "    <tr>\n",
              "      <th>2013-01-05</th>\n",
              "      <td>1.127538</td>\n",
              "      <td>-0.861880</td>\n",
              "    </tr>\n",
              "  </tbody>\n",
              "</table>\n",
              "</div>"
            ],
            "text/plain": [
              "                   A         B\n",
              "2013-01-04 -0.717764  1.754018\n",
              "2013-01-05  1.127538 -0.861880"
            ]
          },
          "metadata": {
            "tags": []
          },
          "execution_count": 26
        }
      ]
    },
    {
      "cell_type": "code",
      "metadata": {
        "colab": {
          "base_uri": "https://localhost:8080/",
          "height": 142
        },
        "id": "ObCwFOtzpYaX",
        "outputId": "61cd5527-cc39-4143-d462-45784c3c2b23"
      },
      "source": [
        "df.iloc[[1,2,4],[0,2]]"
      ],
      "execution_count": null,
      "outputs": [
        {
          "output_type": "execute_result",
          "data": {
            "text/html": [
              "<div>\n",
              "<style scoped>\n",
              "    .dataframe tbody tr th:only-of-type {\n",
              "        vertical-align: middle;\n",
              "    }\n",
              "\n",
              "    .dataframe tbody tr th {\n",
              "        vertical-align: top;\n",
              "    }\n",
              "\n",
              "    .dataframe thead th {\n",
              "        text-align: right;\n",
              "    }\n",
              "</style>\n",
              "<table border=\"1\" class=\"dataframe\">\n",
              "  <thead>\n",
              "    <tr style=\"text-align: right;\">\n",
              "      <th></th>\n",
              "      <th>A</th>\n",
              "      <th>C</th>\n",
              "    </tr>\n",
              "  </thead>\n",
              "  <tbody>\n",
              "    <tr>\n",
              "      <th>2013-01-02</th>\n",
              "      <td>1.016652</td>\n",
              "      <td>-0.977082</td>\n",
              "    </tr>\n",
              "    <tr>\n",
              "      <th>2013-01-03</th>\n",
              "      <td>0.061942</td>\n",
              "      <td>-1.454836</td>\n",
              "    </tr>\n",
              "    <tr>\n",
              "      <th>2013-01-05</th>\n",
              "      <td>1.127538</td>\n",
              "      <td>1.026014</td>\n",
              "    </tr>\n",
              "  </tbody>\n",
              "</table>\n",
              "</div>"
            ],
            "text/plain": [
              "                   A         C\n",
              "2013-01-02  1.016652 -0.977082\n",
              "2013-01-03  0.061942 -1.454836\n",
              "2013-01-05  1.127538  1.026014"
            ]
          },
          "metadata": {
            "tags": []
          },
          "execution_count": 27
        }
      ]
    },
    {
      "cell_type": "code",
      "metadata": {
        "colab": {
          "base_uri": "https://localhost:8080/",
          "height": 111
        },
        "id": "1z-Fwanjpu10",
        "outputId": "a72992ae-93c6-47d5-e4e9-5c61dc44c49e"
      },
      "source": [
        "df.iloc[1:3, :]"
      ],
      "execution_count": null,
      "outputs": [
        {
          "output_type": "execute_result",
          "data": {
            "text/html": [
              "<div>\n",
              "<style scoped>\n",
              "    .dataframe tbody tr th:only-of-type {\n",
              "        vertical-align: middle;\n",
              "    }\n",
              "\n",
              "    .dataframe tbody tr th {\n",
              "        vertical-align: top;\n",
              "    }\n",
              "\n",
              "    .dataframe thead th {\n",
              "        text-align: right;\n",
              "    }\n",
              "</style>\n",
              "<table border=\"1\" class=\"dataframe\">\n",
              "  <thead>\n",
              "    <tr style=\"text-align: right;\">\n",
              "      <th></th>\n",
              "      <th>A</th>\n",
              "      <th>B</th>\n",
              "      <th>C</th>\n",
              "      <th>D</th>\n",
              "    </tr>\n",
              "  </thead>\n",
              "  <tbody>\n",
              "    <tr>\n",
              "      <th>2013-01-02</th>\n",
              "      <td>1.016652</td>\n",
              "      <td>-1.274628</td>\n",
              "      <td>-0.977082</td>\n",
              "      <td>-0.731951</td>\n",
              "    </tr>\n",
              "    <tr>\n",
              "      <th>2013-01-03</th>\n",
              "      <td>0.061942</td>\n",
              "      <td>-0.762119</td>\n",
              "      <td>-1.454836</td>\n",
              "      <td>0.457252</td>\n",
              "    </tr>\n",
              "  </tbody>\n",
              "</table>\n",
              "</div>"
            ],
            "text/plain": [
              "                   A         B         C         D\n",
              "2013-01-02  1.016652 -1.274628 -0.977082 -0.731951\n",
              "2013-01-03  0.061942 -0.762119 -1.454836  0.457252"
            ]
          },
          "metadata": {
            "tags": []
          },
          "execution_count": 28
        }
      ]
    },
    {
      "cell_type": "code",
      "metadata": {
        "colab": {
          "base_uri": "https://localhost:8080/"
        },
        "id": "gKUPSVFUpy7D",
        "outputId": "fc321545-310c-4791-cde1-741d888b1ac0"
      },
      "source": [
        "df.iloc[1,1]"
      ],
      "execution_count": null,
      "outputs": [
        {
          "output_type": "execute_result",
          "data": {
            "text/plain": [
              "-1.2746275156187237"
            ]
          },
          "metadata": {
            "tags": []
          },
          "execution_count": 29
        }
      ]
    },
    {
      "cell_type": "code",
      "metadata": {
        "colab": {
          "base_uri": "https://localhost:8080/"
        },
        "id": "Vrddm268p8Ix",
        "outputId": "6af904d6-acf9-43a8-bd8e-bae5ef5cf2ad"
      },
      "source": [
        "# .iat: scalar 가져올 때 .iloc 보다 더 빠른 방법\n",
        "df.iat[1,1]"
      ],
      "execution_count": null,
      "outputs": [
        {
          "output_type": "execute_result",
          "data": {
            "text/plain": [
              "-1.2746275156187237"
            ]
          },
          "metadata": {
            "tags": []
          },
          "execution_count": 30
        }
      ]
    },
    {
      "cell_type": "markdown",
      "metadata": {
        "id": "E9vF6pSrqEqJ"
      },
      "source": [
        "## 조건에 해당하는 값 가져오기 (.isin)"
      ]
    },
    {
      "cell_type": "code",
      "metadata": {
        "id": "McOz5PqTqKCg",
        "colab": {
          "base_uri": "https://localhost:8080/",
          "height": 173
        },
        "outputId": "92c2940d-4f80-4283-8c79-9e0dab979104"
      },
      "source": [
        "df[df['A']>0]"
      ],
      "execution_count": null,
      "outputs": [
        {
          "output_type": "execute_result",
          "data": {
            "text/html": [
              "<div>\n",
              "<style scoped>\n",
              "    .dataframe tbody tr th:only-of-type {\n",
              "        vertical-align: middle;\n",
              "    }\n",
              "\n",
              "    .dataframe tbody tr th {\n",
              "        vertical-align: top;\n",
              "    }\n",
              "\n",
              "    .dataframe thead th {\n",
              "        text-align: right;\n",
              "    }\n",
              "</style>\n",
              "<table border=\"1\" class=\"dataframe\">\n",
              "  <thead>\n",
              "    <tr style=\"text-align: right;\">\n",
              "      <th></th>\n",
              "      <th>A</th>\n",
              "      <th>B</th>\n",
              "      <th>C</th>\n",
              "      <th>D</th>\n",
              "    </tr>\n",
              "  </thead>\n",
              "  <tbody>\n",
              "    <tr>\n",
              "      <th>2013-01-01</th>\n",
              "      <td>0.680374</td>\n",
              "      <td>0.517372</td>\n",
              "      <td>-1.671865</td>\n",
              "      <td>-0.974822</td>\n",
              "    </tr>\n",
              "    <tr>\n",
              "      <th>2013-01-02</th>\n",
              "      <td>1.016652</td>\n",
              "      <td>-1.274628</td>\n",
              "      <td>-0.977082</td>\n",
              "      <td>-0.731951</td>\n",
              "    </tr>\n",
              "    <tr>\n",
              "      <th>2013-01-03</th>\n",
              "      <td>0.061942</td>\n",
              "      <td>-0.762119</td>\n",
              "      <td>-1.454836</td>\n",
              "      <td>0.457252</td>\n",
              "    </tr>\n",
              "    <tr>\n",
              "      <th>2013-01-05</th>\n",
              "      <td>1.127538</td>\n",
              "      <td>-0.861880</td>\n",
              "      <td>1.026014</td>\n",
              "      <td>1.636723</td>\n",
              "    </tr>\n",
              "  </tbody>\n",
              "</table>\n",
              "</div>"
            ],
            "text/plain": [
              "                   A         B         C         D\n",
              "2013-01-01  0.680374  0.517372 -1.671865 -0.974822\n",
              "2013-01-02  1.016652 -1.274628 -0.977082 -0.731951\n",
              "2013-01-03  0.061942 -0.762119 -1.454836  0.457252\n",
              "2013-01-05  1.127538 -0.861880  1.026014  1.636723"
            ]
          },
          "metadata": {
            "tags": []
          },
          "execution_count": 31
        }
      ]
    },
    {
      "cell_type": "code",
      "metadata": {
        "colab": {
          "base_uri": "https://localhost:8080/",
          "height": 235
        },
        "id": "qHeW9_ScQ3pp",
        "outputId": "f3d18b7f-fd51-4504-f359-ca74980ff851"
      },
      "source": [
        "df[df>0]"
      ],
      "execution_count": null,
      "outputs": [
        {
          "output_type": "execute_result",
          "data": {
            "text/html": [
              "<div>\n",
              "<style scoped>\n",
              "    .dataframe tbody tr th:only-of-type {\n",
              "        vertical-align: middle;\n",
              "    }\n",
              "\n",
              "    .dataframe tbody tr th {\n",
              "        vertical-align: top;\n",
              "    }\n",
              "\n",
              "    .dataframe thead th {\n",
              "        text-align: right;\n",
              "    }\n",
              "</style>\n",
              "<table border=\"1\" class=\"dataframe\">\n",
              "  <thead>\n",
              "    <tr style=\"text-align: right;\">\n",
              "      <th></th>\n",
              "      <th>A</th>\n",
              "      <th>B</th>\n",
              "      <th>C</th>\n",
              "      <th>D</th>\n",
              "    </tr>\n",
              "  </thead>\n",
              "  <tbody>\n",
              "    <tr>\n",
              "      <th>2013-01-01</th>\n",
              "      <td>0.680374</td>\n",
              "      <td>0.517372</td>\n",
              "      <td>NaN</td>\n",
              "      <td>NaN</td>\n",
              "    </tr>\n",
              "    <tr>\n",
              "      <th>2013-01-02</th>\n",
              "      <td>1.016652</td>\n",
              "      <td>NaN</td>\n",
              "      <td>NaN</td>\n",
              "      <td>NaN</td>\n",
              "    </tr>\n",
              "    <tr>\n",
              "      <th>2013-01-03</th>\n",
              "      <td>0.061942</td>\n",
              "      <td>NaN</td>\n",
              "      <td>NaN</td>\n",
              "      <td>0.457252</td>\n",
              "    </tr>\n",
              "    <tr>\n",
              "      <th>2013-01-04</th>\n",
              "      <td>NaN</td>\n",
              "      <td>1.754018</td>\n",
              "      <td>NaN</td>\n",
              "      <td>0.132655</td>\n",
              "    </tr>\n",
              "    <tr>\n",
              "      <th>2013-01-05</th>\n",
              "      <td>1.127538</td>\n",
              "      <td>NaN</td>\n",
              "      <td>1.026014</td>\n",
              "      <td>1.636723</td>\n",
              "    </tr>\n",
              "    <tr>\n",
              "      <th>2013-01-06</th>\n",
              "      <td>NaN</td>\n",
              "      <td>2.067481</td>\n",
              "      <td>1.412776</td>\n",
              "      <td>NaN</td>\n",
              "    </tr>\n",
              "  </tbody>\n",
              "</table>\n",
              "</div>"
            ],
            "text/plain": [
              "                   A         B         C         D\n",
              "2013-01-01  0.680374  0.517372       NaN       NaN\n",
              "2013-01-02  1.016652       NaN       NaN       NaN\n",
              "2013-01-03  0.061942       NaN       NaN  0.457252\n",
              "2013-01-04       NaN  1.754018       NaN  0.132655\n",
              "2013-01-05  1.127538       NaN  1.026014  1.636723\n",
              "2013-01-06       NaN  2.067481  1.412776       NaN"
            ]
          },
          "metadata": {
            "tags": []
          },
          "execution_count": 32
        }
      ]
    },
    {
      "cell_type": "code",
      "metadata": {
        "colab": {
          "base_uri": "https://localhost:8080/",
          "height": 235
        },
        "id": "v3emKtXhQ-LS",
        "outputId": "90f0d03e-5287-46bd-85ad-56b2094696c8"
      },
      "source": [
        "df2 = df.copy()\n",
        "df2['E'] = ['one', 'one', 'two', 'three', 'four', 'three']\n",
        "df2"
      ],
      "execution_count": null,
      "outputs": [
        {
          "output_type": "execute_result",
          "data": {
            "text/html": [
              "<div>\n",
              "<style scoped>\n",
              "    .dataframe tbody tr th:only-of-type {\n",
              "        vertical-align: middle;\n",
              "    }\n",
              "\n",
              "    .dataframe tbody tr th {\n",
              "        vertical-align: top;\n",
              "    }\n",
              "\n",
              "    .dataframe thead th {\n",
              "        text-align: right;\n",
              "    }\n",
              "</style>\n",
              "<table border=\"1\" class=\"dataframe\">\n",
              "  <thead>\n",
              "    <tr style=\"text-align: right;\">\n",
              "      <th></th>\n",
              "      <th>A</th>\n",
              "      <th>B</th>\n",
              "      <th>C</th>\n",
              "      <th>D</th>\n",
              "      <th>E</th>\n",
              "    </tr>\n",
              "  </thead>\n",
              "  <tbody>\n",
              "    <tr>\n",
              "      <th>2013-01-01</th>\n",
              "      <td>0.680374</td>\n",
              "      <td>0.517372</td>\n",
              "      <td>-1.671865</td>\n",
              "      <td>-0.974822</td>\n",
              "      <td>one</td>\n",
              "    </tr>\n",
              "    <tr>\n",
              "      <th>2013-01-02</th>\n",
              "      <td>1.016652</td>\n",
              "      <td>-1.274628</td>\n",
              "      <td>-0.977082</td>\n",
              "      <td>-0.731951</td>\n",
              "      <td>one</td>\n",
              "    </tr>\n",
              "    <tr>\n",
              "      <th>2013-01-03</th>\n",
              "      <td>0.061942</td>\n",
              "      <td>-0.762119</td>\n",
              "      <td>-1.454836</td>\n",
              "      <td>0.457252</td>\n",
              "      <td>two</td>\n",
              "    </tr>\n",
              "    <tr>\n",
              "      <th>2013-01-04</th>\n",
              "      <td>-0.717764</td>\n",
              "      <td>1.754018</td>\n",
              "      <td>-0.322983</td>\n",
              "      <td>0.132655</td>\n",
              "      <td>three</td>\n",
              "    </tr>\n",
              "    <tr>\n",
              "      <th>2013-01-05</th>\n",
              "      <td>1.127538</td>\n",
              "      <td>-0.861880</td>\n",
              "      <td>1.026014</td>\n",
              "      <td>1.636723</td>\n",
              "      <td>four</td>\n",
              "    </tr>\n",
              "    <tr>\n",
              "      <th>2013-01-06</th>\n",
              "      <td>-1.449656</td>\n",
              "      <td>2.067481</td>\n",
              "      <td>1.412776</td>\n",
              "      <td>-0.638622</td>\n",
              "      <td>three</td>\n",
              "    </tr>\n",
              "  </tbody>\n",
              "</table>\n",
              "</div>"
            ],
            "text/plain": [
              "                   A         B         C         D      E\n",
              "2013-01-01  0.680374  0.517372 -1.671865 -0.974822    one\n",
              "2013-01-02  1.016652 -1.274628 -0.977082 -0.731951    one\n",
              "2013-01-03  0.061942 -0.762119 -1.454836  0.457252    two\n",
              "2013-01-04 -0.717764  1.754018 -0.322983  0.132655  three\n",
              "2013-01-05  1.127538 -0.861880  1.026014  1.636723   four\n",
              "2013-01-06 -1.449656  2.067481  1.412776 -0.638622  three"
            ]
          },
          "metadata": {
            "tags": []
          },
          "execution_count": 33
        }
      ]
    },
    {
      "cell_type": "code",
      "metadata": {
        "id": "qbXRmnC1qBFZ",
        "colab": {
          "base_uri": "https://localhost:8080/",
          "height": 111
        },
        "outputId": "7c0ad04a-2d65-483c-a2dd-fef4d354671f"
      },
      "source": [
        "df2[df2['E'].isin(['two','four'])]"
      ],
      "execution_count": null,
      "outputs": [
        {
          "output_type": "execute_result",
          "data": {
            "text/html": [
              "<div>\n",
              "<style scoped>\n",
              "    .dataframe tbody tr th:only-of-type {\n",
              "        vertical-align: middle;\n",
              "    }\n",
              "\n",
              "    .dataframe tbody tr th {\n",
              "        vertical-align: top;\n",
              "    }\n",
              "\n",
              "    .dataframe thead th {\n",
              "        text-align: right;\n",
              "    }\n",
              "</style>\n",
              "<table border=\"1\" class=\"dataframe\">\n",
              "  <thead>\n",
              "    <tr style=\"text-align: right;\">\n",
              "      <th></th>\n",
              "      <th>A</th>\n",
              "      <th>B</th>\n",
              "      <th>C</th>\n",
              "      <th>D</th>\n",
              "      <th>E</th>\n",
              "    </tr>\n",
              "  </thead>\n",
              "  <tbody>\n",
              "    <tr>\n",
              "      <th>2013-01-03</th>\n",
              "      <td>0.061942</td>\n",
              "      <td>-0.762119</td>\n",
              "      <td>-1.454836</td>\n",
              "      <td>0.457252</td>\n",
              "      <td>two</td>\n",
              "    </tr>\n",
              "    <tr>\n",
              "      <th>2013-01-05</th>\n",
              "      <td>1.127538</td>\n",
              "      <td>-0.861880</td>\n",
              "      <td>1.026014</td>\n",
              "      <td>1.636723</td>\n",
              "      <td>four</td>\n",
              "    </tr>\n",
              "  </tbody>\n",
              "</table>\n",
              "</div>"
            ],
            "text/plain": [
              "                   A         B         C         D     E\n",
              "2013-01-03  0.061942 -0.762119 -1.454836  0.457252   two\n",
              "2013-01-05  1.127538 -0.861880  1.026014  1.636723  four"
            ]
          },
          "metadata": {
            "tags": []
          },
          "execution_count": 34
        }
      ]
    },
    {
      "cell_type": "markdown",
      "metadata": {
        "id": "j7gP4FxfSEnu"
      },
      "source": [
        "## 값 설정하기"
      ]
    },
    {
      "cell_type": "code",
      "metadata": {
        "colab": {
          "base_uri": "https://localhost:8080/"
        },
        "id": "nNkYGKu7SEXe",
        "outputId": "9f0e64ec-1a54-4d2b-9719-fc54db6886ad"
      },
      "source": [
        "s1 = pd.Series([1, 2, 3, 4, 5, 6], index=pd.date_range('20130102', periods=6))\n",
        "s1"
      ],
      "execution_count": null,
      "outputs": [
        {
          "output_type": "execute_result",
          "data": {
            "text/plain": [
              "2013-01-02    1\n",
              "2013-01-03    2\n",
              "2013-01-04    3\n",
              "2013-01-05    4\n",
              "2013-01-06    5\n",
              "2013-01-07    6\n",
              "Freq: D, dtype: int64"
            ]
          },
          "metadata": {
            "tags": []
          },
          "execution_count": 35
        }
      ]
    },
    {
      "cell_type": "code",
      "metadata": {
        "colab": {
          "base_uri": "https://localhost:8080/",
          "height": 235
        },
        "id": "JP4wA3IQSRKa",
        "outputId": "e73fffd8-3492-4b35-9e0d-9aa44123a08c"
      },
      "source": [
        "df"
      ],
      "execution_count": null,
      "outputs": [
        {
          "output_type": "execute_result",
          "data": {
            "text/html": [
              "<div>\n",
              "<style scoped>\n",
              "    .dataframe tbody tr th:only-of-type {\n",
              "        vertical-align: middle;\n",
              "    }\n",
              "\n",
              "    .dataframe tbody tr th {\n",
              "        vertical-align: top;\n",
              "    }\n",
              "\n",
              "    .dataframe thead th {\n",
              "        text-align: right;\n",
              "    }\n",
              "</style>\n",
              "<table border=\"1\" class=\"dataframe\">\n",
              "  <thead>\n",
              "    <tr style=\"text-align: right;\">\n",
              "      <th></th>\n",
              "      <th>A</th>\n",
              "      <th>B</th>\n",
              "      <th>C</th>\n",
              "      <th>D</th>\n",
              "    </tr>\n",
              "  </thead>\n",
              "  <tbody>\n",
              "    <tr>\n",
              "      <th>2013-01-01</th>\n",
              "      <td>0.680374</td>\n",
              "      <td>0.517372</td>\n",
              "      <td>-1.671865</td>\n",
              "      <td>-0.974822</td>\n",
              "    </tr>\n",
              "    <tr>\n",
              "      <th>2013-01-02</th>\n",
              "      <td>1.016652</td>\n",
              "      <td>-1.274628</td>\n",
              "      <td>-0.977082</td>\n",
              "      <td>-0.731951</td>\n",
              "    </tr>\n",
              "    <tr>\n",
              "      <th>2013-01-03</th>\n",
              "      <td>0.061942</td>\n",
              "      <td>-0.762119</td>\n",
              "      <td>-1.454836</td>\n",
              "      <td>0.457252</td>\n",
              "    </tr>\n",
              "    <tr>\n",
              "      <th>2013-01-04</th>\n",
              "      <td>-0.717764</td>\n",
              "      <td>1.754018</td>\n",
              "      <td>-0.322983</td>\n",
              "      <td>0.132655</td>\n",
              "    </tr>\n",
              "    <tr>\n",
              "      <th>2013-01-05</th>\n",
              "      <td>1.127538</td>\n",
              "      <td>-0.861880</td>\n",
              "      <td>1.026014</td>\n",
              "      <td>1.636723</td>\n",
              "    </tr>\n",
              "    <tr>\n",
              "      <th>2013-01-06</th>\n",
              "      <td>-1.449656</td>\n",
              "      <td>2.067481</td>\n",
              "      <td>1.412776</td>\n",
              "      <td>-0.638622</td>\n",
              "    </tr>\n",
              "  </tbody>\n",
              "</table>\n",
              "</div>"
            ],
            "text/plain": [
              "                   A         B         C         D\n",
              "2013-01-01  0.680374  0.517372 -1.671865 -0.974822\n",
              "2013-01-02  1.016652 -1.274628 -0.977082 -0.731951\n",
              "2013-01-03  0.061942 -0.762119 -1.454836  0.457252\n",
              "2013-01-04 -0.717764  1.754018 -0.322983  0.132655\n",
              "2013-01-05  1.127538 -0.861880  1.026014  1.636723\n",
              "2013-01-06 -1.449656  2.067481  1.412776 -0.638622"
            ]
          },
          "metadata": {
            "tags": []
          },
          "execution_count": 36
        }
      ]
    },
    {
      "cell_type": "code",
      "metadata": {
        "colab": {
          "base_uri": "https://localhost:8080/",
          "height": 235
        },
        "id": "J2N60Zw0SSvA",
        "outputId": "abc0dcda-48e0-44eb-9a43-b9fad904b329"
      },
      "source": [
        "# 새로운 컬럼 추가(인덱스에 해당하는 값만 가져옴)\n",
        "df['F'] = s1\n",
        "df"
      ],
      "execution_count": null,
      "outputs": [
        {
          "output_type": "execute_result",
          "data": {
            "text/html": [
              "<div>\n",
              "<style scoped>\n",
              "    .dataframe tbody tr th:only-of-type {\n",
              "        vertical-align: middle;\n",
              "    }\n",
              "\n",
              "    .dataframe tbody tr th {\n",
              "        vertical-align: top;\n",
              "    }\n",
              "\n",
              "    .dataframe thead th {\n",
              "        text-align: right;\n",
              "    }\n",
              "</style>\n",
              "<table border=\"1\" class=\"dataframe\">\n",
              "  <thead>\n",
              "    <tr style=\"text-align: right;\">\n",
              "      <th></th>\n",
              "      <th>A</th>\n",
              "      <th>B</th>\n",
              "      <th>C</th>\n",
              "      <th>D</th>\n",
              "      <th>F</th>\n",
              "    </tr>\n",
              "  </thead>\n",
              "  <tbody>\n",
              "    <tr>\n",
              "      <th>2013-01-01</th>\n",
              "      <td>0.680374</td>\n",
              "      <td>0.517372</td>\n",
              "      <td>-1.671865</td>\n",
              "      <td>-0.974822</td>\n",
              "      <td>NaN</td>\n",
              "    </tr>\n",
              "    <tr>\n",
              "      <th>2013-01-02</th>\n",
              "      <td>1.016652</td>\n",
              "      <td>-1.274628</td>\n",
              "      <td>-0.977082</td>\n",
              "      <td>-0.731951</td>\n",
              "      <td>1.0</td>\n",
              "    </tr>\n",
              "    <tr>\n",
              "      <th>2013-01-03</th>\n",
              "      <td>0.061942</td>\n",
              "      <td>-0.762119</td>\n",
              "      <td>-1.454836</td>\n",
              "      <td>0.457252</td>\n",
              "      <td>2.0</td>\n",
              "    </tr>\n",
              "    <tr>\n",
              "      <th>2013-01-04</th>\n",
              "      <td>-0.717764</td>\n",
              "      <td>1.754018</td>\n",
              "      <td>-0.322983</td>\n",
              "      <td>0.132655</td>\n",
              "      <td>3.0</td>\n",
              "    </tr>\n",
              "    <tr>\n",
              "      <th>2013-01-05</th>\n",
              "      <td>1.127538</td>\n",
              "      <td>-0.861880</td>\n",
              "      <td>1.026014</td>\n",
              "      <td>1.636723</td>\n",
              "      <td>4.0</td>\n",
              "    </tr>\n",
              "    <tr>\n",
              "      <th>2013-01-06</th>\n",
              "      <td>-1.449656</td>\n",
              "      <td>2.067481</td>\n",
              "      <td>1.412776</td>\n",
              "      <td>-0.638622</td>\n",
              "      <td>5.0</td>\n",
              "    </tr>\n",
              "  </tbody>\n",
              "</table>\n",
              "</div>"
            ],
            "text/plain": [
              "                   A         B         C         D    F\n",
              "2013-01-01  0.680374  0.517372 -1.671865 -0.974822  NaN\n",
              "2013-01-02  1.016652 -1.274628 -0.977082 -0.731951  1.0\n",
              "2013-01-03  0.061942 -0.762119 -1.454836  0.457252  2.0\n",
              "2013-01-04 -0.717764  1.754018 -0.322983  0.132655  3.0\n",
              "2013-01-05  1.127538 -0.861880  1.026014  1.636723  4.0\n",
              "2013-01-06 -1.449656  2.067481  1.412776 -0.638622  5.0"
            ]
          },
          "metadata": {
            "tags": []
          },
          "execution_count": 38
        }
      ]
    },
    {
      "cell_type": "code",
      "metadata": {
        "colab": {
          "base_uri": "https://localhost:8080/",
          "height": 235
        },
        "id": "FP5WyB3ySYRc",
        "outputId": "21e960a6-2b0e-447f-a842-eb159734864f"
      },
      "source": [
        "# 새로운 값으로 바꾸기\n",
        "df.at[dates[0],'A'] = 0\n",
        "df.iat[0, 1] = 0\n",
        "df.loc[:, 'D'] = np.array([5] * len(df))\n",
        "df"
      ],
      "execution_count": null,
      "outputs": [
        {
          "output_type": "execute_result",
          "data": {
            "text/html": [
              "<div>\n",
              "<style scoped>\n",
              "    .dataframe tbody tr th:only-of-type {\n",
              "        vertical-align: middle;\n",
              "    }\n",
              "\n",
              "    .dataframe tbody tr th {\n",
              "        vertical-align: top;\n",
              "    }\n",
              "\n",
              "    .dataframe thead th {\n",
              "        text-align: right;\n",
              "    }\n",
              "</style>\n",
              "<table border=\"1\" class=\"dataframe\">\n",
              "  <thead>\n",
              "    <tr style=\"text-align: right;\">\n",
              "      <th></th>\n",
              "      <th>A</th>\n",
              "      <th>B</th>\n",
              "      <th>C</th>\n",
              "      <th>D</th>\n",
              "      <th>F</th>\n",
              "    </tr>\n",
              "  </thead>\n",
              "  <tbody>\n",
              "    <tr>\n",
              "      <th>2013-01-01</th>\n",
              "      <td>0.000000</td>\n",
              "      <td>0.000000</td>\n",
              "      <td>-1.671865</td>\n",
              "      <td>5</td>\n",
              "      <td>NaN</td>\n",
              "    </tr>\n",
              "    <tr>\n",
              "      <th>2013-01-02</th>\n",
              "      <td>1.016652</td>\n",
              "      <td>-1.274628</td>\n",
              "      <td>-0.977082</td>\n",
              "      <td>5</td>\n",
              "      <td>1.0</td>\n",
              "    </tr>\n",
              "    <tr>\n",
              "      <th>2013-01-03</th>\n",
              "      <td>0.061942</td>\n",
              "      <td>-0.762119</td>\n",
              "      <td>-1.454836</td>\n",
              "      <td>5</td>\n",
              "      <td>2.0</td>\n",
              "    </tr>\n",
              "    <tr>\n",
              "      <th>2013-01-04</th>\n",
              "      <td>-0.717764</td>\n",
              "      <td>1.754018</td>\n",
              "      <td>-0.322983</td>\n",
              "      <td>5</td>\n",
              "      <td>3.0</td>\n",
              "    </tr>\n",
              "    <tr>\n",
              "      <th>2013-01-05</th>\n",
              "      <td>1.127538</td>\n",
              "      <td>-0.861880</td>\n",
              "      <td>1.026014</td>\n",
              "      <td>5</td>\n",
              "      <td>4.0</td>\n",
              "    </tr>\n",
              "    <tr>\n",
              "      <th>2013-01-06</th>\n",
              "      <td>-1.449656</td>\n",
              "      <td>2.067481</td>\n",
              "      <td>1.412776</td>\n",
              "      <td>5</td>\n",
              "      <td>5.0</td>\n",
              "    </tr>\n",
              "  </tbody>\n",
              "</table>\n",
              "</div>"
            ],
            "text/plain": [
              "                   A         B         C  D    F\n",
              "2013-01-01  0.000000  0.000000 -1.671865  5  NaN\n",
              "2013-01-02  1.016652 -1.274628 -0.977082  5  1.0\n",
              "2013-01-03  0.061942 -0.762119 -1.454836  5  2.0\n",
              "2013-01-04 -0.717764  1.754018 -0.322983  5  3.0\n",
              "2013-01-05  1.127538 -0.861880  1.026014  5  4.0\n",
              "2013-01-06 -1.449656  2.067481  1.412776  5  5.0"
            ]
          },
          "metadata": {
            "tags": []
          },
          "execution_count": 41
        }
      ]
    },
    {
      "cell_type": "code",
      "metadata": {
        "colab": {
          "base_uri": "https://localhost:8080/",
          "height": 235
        },
        "id": "PP7vsiRgTOp-",
        "outputId": "7d3eb2f6-23a7-463a-a226-0814d30cde78"
      },
      "source": [
        "df2 = df.copy()\n",
        "df2[df2>0] = -df2\n",
        "df2"
      ],
      "execution_count": null,
      "outputs": [
        {
          "output_type": "execute_result",
          "data": {
            "text/html": [
              "<div>\n",
              "<style scoped>\n",
              "    .dataframe tbody tr th:only-of-type {\n",
              "        vertical-align: middle;\n",
              "    }\n",
              "\n",
              "    .dataframe tbody tr th {\n",
              "        vertical-align: top;\n",
              "    }\n",
              "\n",
              "    .dataframe thead th {\n",
              "        text-align: right;\n",
              "    }\n",
              "</style>\n",
              "<table border=\"1\" class=\"dataframe\">\n",
              "  <thead>\n",
              "    <tr style=\"text-align: right;\">\n",
              "      <th></th>\n",
              "      <th>A</th>\n",
              "      <th>B</th>\n",
              "      <th>C</th>\n",
              "      <th>D</th>\n",
              "      <th>F</th>\n",
              "    </tr>\n",
              "  </thead>\n",
              "  <tbody>\n",
              "    <tr>\n",
              "      <th>2013-01-01</th>\n",
              "      <td>0.000000</td>\n",
              "      <td>0.000000</td>\n",
              "      <td>-1.671865</td>\n",
              "      <td>-5</td>\n",
              "      <td>NaN</td>\n",
              "    </tr>\n",
              "    <tr>\n",
              "      <th>2013-01-02</th>\n",
              "      <td>-1.016652</td>\n",
              "      <td>-1.274628</td>\n",
              "      <td>-0.977082</td>\n",
              "      <td>-5</td>\n",
              "      <td>-1.0</td>\n",
              "    </tr>\n",
              "    <tr>\n",
              "      <th>2013-01-03</th>\n",
              "      <td>-0.061942</td>\n",
              "      <td>-0.762119</td>\n",
              "      <td>-1.454836</td>\n",
              "      <td>-5</td>\n",
              "      <td>-2.0</td>\n",
              "    </tr>\n",
              "    <tr>\n",
              "      <th>2013-01-04</th>\n",
              "      <td>-0.717764</td>\n",
              "      <td>-1.754018</td>\n",
              "      <td>-0.322983</td>\n",
              "      <td>-5</td>\n",
              "      <td>-3.0</td>\n",
              "    </tr>\n",
              "    <tr>\n",
              "      <th>2013-01-05</th>\n",
              "      <td>-1.127538</td>\n",
              "      <td>-0.861880</td>\n",
              "      <td>-1.026014</td>\n",
              "      <td>-5</td>\n",
              "      <td>-4.0</td>\n",
              "    </tr>\n",
              "    <tr>\n",
              "      <th>2013-01-06</th>\n",
              "      <td>-1.449656</td>\n",
              "      <td>-2.067481</td>\n",
              "      <td>-1.412776</td>\n",
              "      <td>-5</td>\n",
              "      <td>-5.0</td>\n",
              "    </tr>\n",
              "  </tbody>\n",
              "</table>\n",
              "</div>"
            ],
            "text/plain": [
              "                   A         B         C  D    F\n",
              "2013-01-01  0.000000  0.000000 -1.671865 -5  NaN\n",
              "2013-01-02 -1.016652 -1.274628 -0.977082 -5 -1.0\n",
              "2013-01-03 -0.061942 -0.762119 -1.454836 -5 -2.0\n",
              "2013-01-04 -0.717764 -1.754018 -0.322983 -5 -3.0\n",
              "2013-01-05 -1.127538 -0.861880 -1.026014 -5 -4.0\n",
              "2013-01-06 -1.449656 -2.067481 -1.412776 -5 -5.0"
            ]
          },
          "metadata": {
            "tags": []
          },
          "execution_count": 42
        }
      ]
    }
  ]
}