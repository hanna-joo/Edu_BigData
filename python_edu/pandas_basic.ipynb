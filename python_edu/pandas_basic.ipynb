{
  "nbformat": 4,
  "nbformat_minor": 0,
  "metadata": {
    "colab": {
      "name": "pandas_basic.ipynb",
      "provenance": [],
      "collapsed_sections": [],
      "authorship_tag": "ABX9TyMd+quzrE9rxZBF2WdOMihQ",
      "include_colab_link": true
    },
    "kernelspec": {
      "name": "python3",
      "display_name": "Python 3"
    }
  },
  "cells": [
    {
      "cell_type": "markdown",
      "metadata": {
        "id": "view-in-github",
        "colab_type": "text"
      },
      "source": [
        "<a href=\"https://colab.research.google.com/github/hanna-joo/bigdata_edu/blob/master/python_edu/pandas_basic.ipynb\" target=\"_parent\"><img src=\"https://colab.research.google.com/assets/colab-badge.svg\" alt=\"Open In Colab\"/></a>"
      ]
    },
    {
      "cell_type": "markdown",
      "metadata": {
        "id": "jlb5rd2Erl1M"
      },
      "source": [
        "[10 minutes to pandas](https://pandas.pydata.org/pandas-docs/stable/user_guide/10min.html)"
      ]
    },
    {
      "cell_type": "code",
      "metadata": {
        "id": "ZlJvfRkAd_D3"
      },
      "source": [
        "import numpy as np\n",
        "import pandas as pd"
      ],
      "execution_count": 1,
      "outputs": []
    },
    {
      "cell_type": "markdown",
      "metadata": {
        "id": "HG6t_hHxemml"
      },
      "source": [
        "# 1. 변수 생성 (Object creation)"
      ]
    },
    {
      "cell_type": "code",
      "metadata": {
        "colab": {
          "base_uri": "https://localhost:8080/"
        },
        "id": "KZEP0W0Hexf6",
        "outputId": "584bc89a-bd3e-4b93-9a16-5c28afdc6f99"
      },
      "source": [
        "# Series 생성\n",
        "s = pd.Series([1,3,5,np.nan,6,8])\n",
        "s"
      ],
      "execution_count": 2,
      "outputs": [
        {
          "output_type": "execute_result",
          "data": {
            "text/plain": [
              "0    1.0\n",
              "1    3.0\n",
              "2    5.0\n",
              "3    NaN\n",
              "4    6.0\n",
              "5    8.0\n",
              "dtype: float64"
            ]
          },
          "metadata": {
            "tags": []
          },
          "execution_count": 2
        }
      ]
    },
    {
      "cell_type": "code",
      "metadata": {
        "colab": {
          "base_uri": "https://localhost:8080/",
          "height": 286
        },
        "id": "_hOrPCNGe5j9",
        "outputId": "a5f152fe-afd7-446f-8fed-389fc7e7be8a"
      },
      "source": [
        "# DataFrame 생성: Numpy 행렬\n",
        "dates = pd.date_range('20130101',periods=6)\n",
        "print(dates)\n",
        "df = pd.DataFrame(np.random.randn(6,4),index=dates,columns=list('ABCD'))\n",
        "df"
      ],
      "execution_count": 3,
      "outputs": [
        {
          "output_type": "stream",
          "text": [
            "DatetimeIndex(['2013-01-01', '2013-01-02', '2013-01-03', '2013-01-04',\n",
            "               '2013-01-05', '2013-01-06'],\n",
            "              dtype='datetime64[ns]', freq='D')\n"
          ],
          "name": "stdout"
        },
        {
          "output_type": "execute_result",
          "data": {
            "text/html": [
              "<div>\n",
              "<style scoped>\n",
              "    .dataframe tbody tr th:only-of-type {\n",
              "        vertical-align: middle;\n",
              "    }\n",
              "\n",
              "    .dataframe tbody tr th {\n",
              "        vertical-align: top;\n",
              "    }\n",
              "\n",
              "    .dataframe thead th {\n",
              "        text-align: right;\n",
              "    }\n",
              "</style>\n",
              "<table border=\"1\" class=\"dataframe\">\n",
              "  <thead>\n",
              "    <tr style=\"text-align: right;\">\n",
              "      <th></th>\n",
              "      <th>A</th>\n",
              "      <th>B</th>\n",
              "      <th>C</th>\n",
              "      <th>D</th>\n",
              "    </tr>\n",
              "  </thead>\n",
              "  <tbody>\n",
              "    <tr>\n",
              "      <th>2013-01-01</th>\n",
              "      <td>1.253047</td>\n",
              "      <td>-0.479571</td>\n",
              "      <td>0.211165</td>\n",
              "      <td>0.114843</td>\n",
              "    </tr>\n",
              "    <tr>\n",
              "      <th>2013-01-02</th>\n",
              "      <td>-0.532468</td>\n",
              "      <td>-0.972869</td>\n",
              "      <td>0.613190</td>\n",
              "      <td>-0.700103</td>\n",
              "    </tr>\n",
              "    <tr>\n",
              "      <th>2013-01-03</th>\n",
              "      <td>0.636940</td>\n",
              "      <td>-0.703702</td>\n",
              "      <td>-0.512657</td>\n",
              "      <td>0.333350</td>\n",
              "    </tr>\n",
              "    <tr>\n",
              "      <th>2013-01-04</th>\n",
              "      <td>1.108272</td>\n",
              "      <td>-1.729209</td>\n",
              "      <td>-1.444019</td>\n",
              "      <td>0.022568</td>\n",
              "    </tr>\n",
              "    <tr>\n",
              "      <th>2013-01-05</th>\n",
              "      <td>0.110328</td>\n",
              "      <td>-1.978644</td>\n",
              "      <td>-0.539618</td>\n",
              "      <td>0.463889</td>\n",
              "    </tr>\n",
              "    <tr>\n",
              "      <th>2013-01-06</th>\n",
              "      <td>1.330928</td>\n",
              "      <td>0.215869</td>\n",
              "      <td>0.469587</td>\n",
              "      <td>0.242428</td>\n",
              "    </tr>\n",
              "  </tbody>\n",
              "</table>\n",
              "</div>"
            ],
            "text/plain": [
              "                   A         B         C         D\n",
              "2013-01-01  1.253047 -0.479571  0.211165  0.114843\n",
              "2013-01-02 -0.532468 -0.972869  0.613190 -0.700103\n",
              "2013-01-03  0.636940 -0.703702 -0.512657  0.333350\n",
              "2013-01-04  1.108272 -1.729209 -1.444019  0.022568\n",
              "2013-01-05  0.110328 -1.978644 -0.539618  0.463889\n",
              "2013-01-06  1.330928  0.215869  0.469587  0.242428"
            ]
          },
          "metadata": {
            "tags": []
          },
          "execution_count": 3
        }
      ]
    },
    {
      "cell_type": "code",
      "metadata": {
        "colab": {
          "base_uri": "https://localhost:8080/",
          "height": 292
        },
        "id": "jWFZWtv2e4Sw",
        "outputId": "3fd199d6-719f-48c0-eebe-f57992f6cefa"
      },
      "source": [
        "# DataFrame 생성: 딕셔너리\n",
        "df2 = pd.DataFrame({'A': 1.,\n",
        "                    'B': pd.Timestamp('20130102'),\n",
        "                    'C': pd.Series(1, index=list(range(4)), dtype='float32'),\n",
        "                    'D': np.array([3]*4, dtype='int32'),\n",
        "                    'E': pd.Categorical(['test','train','test','train']),\n",
        "                    'F': 'foo'})\n",
        "print(df2.dtypes)\n",
        "df2"
      ],
      "execution_count": 4,
      "outputs": [
        {
          "output_type": "stream",
          "text": [
            "A           float64\n",
            "B    datetime64[ns]\n",
            "C           float32\n",
            "D             int32\n",
            "E          category\n",
            "F            object\n",
            "dtype: object\n"
          ],
          "name": "stdout"
        },
        {
          "output_type": "execute_result",
          "data": {
            "text/html": [
              "<div>\n",
              "<style scoped>\n",
              "    .dataframe tbody tr th:only-of-type {\n",
              "        vertical-align: middle;\n",
              "    }\n",
              "\n",
              "    .dataframe tbody tr th {\n",
              "        vertical-align: top;\n",
              "    }\n",
              "\n",
              "    .dataframe thead th {\n",
              "        text-align: right;\n",
              "    }\n",
              "</style>\n",
              "<table border=\"1\" class=\"dataframe\">\n",
              "  <thead>\n",
              "    <tr style=\"text-align: right;\">\n",
              "      <th></th>\n",
              "      <th>A</th>\n",
              "      <th>B</th>\n",
              "      <th>C</th>\n",
              "      <th>D</th>\n",
              "      <th>E</th>\n",
              "      <th>F</th>\n",
              "    </tr>\n",
              "  </thead>\n",
              "  <tbody>\n",
              "    <tr>\n",
              "      <th>0</th>\n",
              "      <td>1.0</td>\n",
              "      <td>2013-01-02</td>\n",
              "      <td>1.0</td>\n",
              "      <td>3</td>\n",
              "      <td>test</td>\n",
              "      <td>foo</td>\n",
              "    </tr>\n",
              "    <tr>\n",
              "      <th>1</th>\n",
              "      <td>1.0</td>\n",
              "      <td>2013-01-02</td>\n",
              "      <td>1.0</td>\n",
              "      <td>3</td>\n",
              "      <td>train</td>\n",
              "      <td>foo</td>\n",
              "    </tr>\n",
              "    <tr>\n",
              "      <th>2</th>\n",
              "      <td>1.0</td>\n",
              "      <td>2013-01-02</td>\n",
              "      <td>1.0</td>\n",
              "      <td>3</td>\n",
              "      <td>test</td>\n",
              "      <td>foo</td>\n",
              "    </tr>\n",
              "    <tr>\n",
              "      <th>3</th>\n",
              "      <td>1.0</td>\n",
              "      <td>2013-01-02</td>\n",
              "      <td>1.0</td>\n",
              "      <td>3</td>\n",
              "      <td>train</td>\n",
              "      <td>foo</td>\n",
              "    </tr>\n",
              "  </tbody>\n",
              "</table>\n",
              "</div>"
            ],
            "text/plain": [
              "     A          B    C  D      E    F\n",
              "0  1.0 2013-01-02  1.0  3   test  foo\n",
              "1  1.0 2013-01-02  1.0  3  train  foo\n",
              "2  1.0 2013-01-02  1.0  3   test  foo\n",
              "3  1.0 2013-01-02  1.0  3  train  foo"
            ]
          },
          "metadata": {
            "tags": []
          },
          "execution_count": 4
        }
      ]
    },
    {
      "cell_type": "markdown",
      "metadata": {
        "id": "ofJgllM1h3tH"
      },
      "source": [
        "# 2. 데이터 확인 (Viewing data)\n"
      ]
    },
    {
      "cell_type": "code",
      "metadata": {
        "colab": {
          "base_uri": "https://localhost:8080/",
          "height": 111
        },
        "id": "6bX65Y5Oh_I5",
        "outputId": "015384be-bc9e-4e5a-ebc0-96430c580083"
      },
      "source": [
        "df.head(2)"
      ],
      "execution_count": 5,
      "outputs": [
        {
          "output_type": "execute_result",
          "data": {
            "text/html": [
              "<div>\n",
              "<style scoped>\n",
              "    .dataframe tbody tr th:only-of-type {\n",
              "        vertical-align: middle;\n",
              "    }\n",
              "\n",
              "    .dataframe tbody tr th {\n",
              "        vertical-align: top;\n",
              "    }\n",
              "\n",
              "    .dataframe thead th {\n",
              "        text-align: right;\n",
              "    }\n",
              "</style>\n",
              "<table border=\"1\" class=\"dataframe\">\n",
              "  <thead>\n",
              "    <tr style=\"text-align: right;\">\n",
              "      <th></th>\n",
              "      <th>A</th>\n",
              "      <th>B</th>\n",
              "      <th>C</th>\n",
              "      <th>D</th>\n",
              "    </tr>\n",
              "  </thead>\n",
              "  <tbody>\n",
              "    <tr>\n",
              "      <th>2013-01-01</th>\n",
              "      <td>1.253047</td>\n",
              "      <td>-0.479571</td>\n",
              "      <td>0.211165</td>\n",
              "      <td>0.114843</td>\n",
              "    </tr>\n",
              "    <tr>\n",
              "      <th>2013-01-02</th>\n",
              "      <td>-0.532468</td>\n",
              "      <td>-0.972869</td>\n",
              "      <td>0.613190</td>\n",
              "      <td>-0.700103</td>\n",
              "    </tr>\n",
              "  </tbody>\n",
              "</table>\n",
              "</div>"
            ],
            "text/plain": [
              "                   A         B         C         D\n",
              "2013-01-01  1.253047 -0.479571  0.211165  0.114843\n",
              "2013-01-02 -0.532468 -0.972869  0.613190 -0.700103"
            ]
          },
          "metadata": {
            "tags": []
          },
          "execution_count": 5
        }
      ]
    },
    {
      "cell_type": "code",
      "metadata": {
        "colab": {
          "base_uri": "https://localhost:8080/"
        },
        "id": "RhCTwYngiDMo",
        "outputId": "956ebad4-1c87-4d5e-c215-7c82fc7bf02e"
      },
      "source": [
        "df.index"
      ],
      "execution_count": 6,
      "outputs": [
        {
          "output_type": "execute_result",
          "data": {
            "text/plain": [
              "DatetimeIndex(['2013-01-01', '2013-01-02', '2013-01-03', '2013-01-04',\n",
              "               '2013-01-05', '2013-01-06'],\n",
              "              dtype='datetime64[ns]', freq='D')"
            ]
          },
          "metadata": {
            "tags": []
          },
          "execution_count": 6
        }
      ]
    },
    {
      "cell_type": "code",
      "metadata": {
        "colab": {
          "base_uri": "https://localhost:8080/"
        },
        "id": "UeJVWF6_iEtr",
        "outputId": "dcf0c063-9cbd-4ec4-cb9d-d22adcfd0d34"
      },
      "source": [
        "df.columns"
      ],
      "execution_count": 7,
      "outputs": [
        {
          "output_type": "execute_result",
          "data": {
            "text/plain": [
              "Index(['A', 'B', 'C', 'D'], dtype='object')"
            ]
          },
          "metadata": {
            "tags": []
          },
          "execution_count": 7
        }
      ]
    },
    {
      "cell_type": "code",
      "metadata": {
        "colab": {
          "base_uri": "https://localhost:8080/"
        },
        "id": "7nv61h3RiGUp",
        "outputId": "8e82c389-dc06-4b1e-86c3-a23066d40507"
      },
      "source": [
        "# Numpy 행렬에는 단 한가지의 dtype만 가능\n",
        "# Pandas 데이터 프레임에는 컬럼당 한가지의 dtype만 가능\n",
        "df.to_numpy()"
      ],
      "execution_count": 8,
      "outputs": [
        {
          "output_type": "execute_result",
          "data": {
            "text/plain": [
              "array([[ 1.25304659, -0.47957128,  0.21116508,  0.11484311],\n",
              "       [-0.53246754, -0.97286903,  0.61318998, -0.70010272],\n",
              "       [ 0.63694039, -0.70370211, -0.51265678,  0.33334992],\n",
              "       [ 1.10827239, -1.7292086 , -1.44401923,  0.0225675 ],\n",
              "       [ 0.11032805, -1.97864413, -0.53961775,  0.46388882],\n",
              "       [ 1.33092799,  0.21586877,  0.46958678,  0.24242845]])"
            ]
          },
          "metadata": {
            "tags": []
          },
          "execution_count": 8
        }
      ]
    },
    {
      "cell_type": "code",
      "metadata": {
        "colab": {
          "base_uri": "https://localhost:8080/"
        },
        "id": "10lOinX_jTu_",
        "outputId": "f4567da6-5bd4-4c0e-995a-37203d9d3e1c"
      },
      "source": [
        "# 여러 dtype이 존재하는 df2를 numpy로 변환 시 모든 것을 아우르는 dtype 선택\n",
        "  # DataFrame.to_numpy(): 인덱스와 컬럼명은 포함되지 않음\n",
        "df2.to_numpy()"
      ],
      "execution_count": 9,
      "outputs": [
        {
          "output_type": "execute_result",
          "data": {
            "text/plain": [
              "array([[1.0, Timestamp('2013-01-02 00:00:00'), 1.0, 3, 'test', 'foo'],\n",
              "       [1.0, Timestamp('2013-01-02 00:00:00'), 1.0, 3, 'train', 'foo'],\n",
              "       [1.0, Timestamp('2013-01-02 00:00:00'), 1.0, 3, 'test', 'foo'],\n",
              "       [1.0, Timestamp('2013-01-02 00:00:00'), 1.0, 3, 'train', 'foo']],\n",
              "      dtype=object)"
            ]
          },
          "metadata": {
            "tags": []
          },
          "execution_count": 9
        }
      ]
    },
    {
      "cell_type": "code",
      "metadata": {
        "colab": {
          "base_uri": "https://localhost:8080/",
          "height": 297
        },
        "id": "M8RWS0UTjzeM",
        "outputId": "6f07acc7-6465-4b77-ea66-96c48f6260d4"
      },
      "source": [
        "# df의 통계 요약\n",
        "df.describe()"
      ],
      "execution_count": 10,
      "outputs": [
        {
          "output_type": "execute_result",
          "data": {
            "text/html": [
              "<div>\n",
              "<style scoped>\n",
              "    .dataframe tbody tr th:only-of-type {\n",
              "        vertical-align: middle;\n",
              "    }\n",
              "\n",
              "    .dataframe tbody tr th {\n",
              "        vertical-align: top;\n",
              "    }\n",
              "\n",
              "    .dataframe thead th {\n",
              "        text-align: right;\n",
              "    }\n",
              "</style>\n",
              "<table border=\"1\" class=\"dataframe\">\n",
              "  <thead>\n",
              "    <tr style=\"text-align: right;\">\n",
              "      <th></th>\n",
              "      <th>A</th>\n",
              "      <th>B</th>\n",
              "      <th>C</th>\n",
              "      <th>D</th>\n",
              "    </tr>\n",
              "  </thead>\n",
              "  <tbody>\n",
              "    <tr>\n",
              "      <th>count</th>\n",
              "      <td>6.000000</td>\n",
              "      <td>6.000000</td>\n",
              "      <td>6.000000</td>\n",
              "      <td>6.000000</td>\n",
              "    </tr>\n",
              "    <tr>\n",
              "      <th>mean</th>\n",
              "      <td>0.651175</td>\n",
              "      <td>-0.941354</td>\n",
              "      <td>-0.200392</td>\n",
              "      <td>0.079496</td>\n",
              "    </tr>\n",
              "    <tr>\n",
              "      <th>std</th>\n",
              "      <td>0.738509</td>\n",
              "      <td>0.813212</td>\n",
              "      <td>0.779661</td>\n",
              "      <td>0.412556</td>\n",
              "    </tr>\n",
              "    <tr>\n",
              "      <th>min</th>\n",
              "      <td>-0.532468</td>\n",
              "      <td>-1.978644</td>\n",
              "      <td>-1.444019</td>\n",
              "      <td>-0.700103</td>\n",
              "    </tr>\n",
              "    <tr>\n",
              "      <th>25%</th>\n",
              "      <td>0.241981</td>\n",
              "      <td>-1.540124</td>\n",
              "      <td>-0.532878</td>\n",
              "      <td>0.045636</td>\n",
              "    </tr>\n",
              "    <tr>\n",
              "      <th>50%</th>\n",
              "      <td>0.872606</td>\n",
              "      <td>-0.838286</td>\n",
              "      <td>-0.150746</td>\n",
              "      <td>0.178636</td>\n",
              "    </tr>\n",
              "    <tr>\n",
              "      <th>75%</th>\n",
              "      <td>1.216853</td>\n",
              "      <td>-0.535604</td>\n",
              "      <td>0.404981</td>\n",
              "      <td>0.310620</td>\n",
              "    </tr>\n",
              "    <tr>\n",
              "      <th>max</th>\n",
              "      <td>1.330928</td>\n",
              "      <td>0.215869</td>\n",
              "      <td>0.613190</td>\n",
              "      <td>0.463889</td>\n",
              "    </tr>\n",
              "  </tbody>\n",
              "</table>\n",
              "</div>"
            ],
            "text/plain": [
              "              A         B         C         D\n",
              "count  6.000000  6.000000  6.000000  6.000000\n",
              "mean   0.651175 -0.941354 -0.200392  0.079496\n",
              "std    0.738509  0.813212  0.779661  0.412556\n",
              "min   -0.532468 -1.978644 -1.444019 -0.700103\n",
              "25%    0.241981 -1.540124 -0.532878  0.045636\n",
              "50%    0.872606 -0.838286 -0.150746  0.178636\n",
              "75%    1.216853 -0.535604  0.404981  0.310620\n",
              "max    1.330928  0.215869  0.613190  0.463889"
            ]
          },
          "metadata": {
            "tags": []
          },
          "execution_count": 10
        }
      ]
    },
    {
      "cell_type": "code",
      "metadata": {
        "colab": {
          "base_uri": "https://localhost:8080/",
          "height": 173
        },
        "id": "SCMYZ3X5kIh_",
        "outputId": "dcf39b8e-417d-417f-96ea-e4b4a5329a60"
      },
      "source": [
        "# df의 행과 열 바꾸기\n",
        "df.T"
      ],
      "execution_count": 11,
      "outputs": [
        {
          "output_type": "execute_result",
          "data": {
            "text/html": [
              "<div>\n",
              "<style scoped>\n",
              "    .dataframe tbody tr th:only-of-type {\n",
              "        vertical-align: middle;\n",
              "    }\n",
              "\n",
              "    .dataframe tbody tr th {\n",
              "        vertical-align: top;\n",
              "    }\n",
              "\n",
              "    .dataframe thead th {\n",
              "        text-align: right;\n",
              "    }\n",
              "</style>\n",
              "<table border=\"1\" class=\"dataframe\">\n",
              "  <thead>\n",
              "    <tr style=\"text-align: right;\">\n",
              "      <th></th>\n",
              "      <th>2013-01-01</th>\n",
              "      <th>2013-01-02</th>\n",
              "      <th>2013-01-03</th>\n",
              "      <th>2013-01-04</th>\n",
              "      <th>2013-01-05</th>\n",
              "      <th>2013-01-06</th>\n",
              "    </tr>\n",
              "  </thead>\n",
              "  <tbody>\n",
              "    <tr>\n",
              "      <th>A</th>\n",
              "      <td>1.253047</td>\n",
              "      <td>-0.532468</td>\n",
              "      <td>0.636940</td>\n",
              "      <td>1.108272</td>\n",
              "      <td>0.110328</td>\n",
              "      <td>1.330928</td>\n",
              "    </tr>\n",
              "    <tr>\n",
              "      <th>B</th>\n",
              "      <td>-0.479571</td>\n",
              "      <td>-0.972869</td>\n",
              "      <td>-0.703702</td>\n",
              "      <td>-1.729209</td>\n",
              "      <td>-1.978644</td>\n",
              "      <td>0.215869</td>\n",
              "    </tr>\n",
              "    <tr>\n",
              "      <th>C</th>\n",
              "      <td>0.211165</td>\n",
              "      <td>0.613190</td>\n",
              "      <td>-0.512657</td>\n",
              "      <td>-1.444019</td>\n",
              "      <td>-0.539618</td>\n",
              "      <td>0.469587</td>\n",
              "    </tr>\n",
              "    <tr>\n",
              "      <th>D</th>\n",
              "      <td>0.114843</td>\n",
              "      <td>-0.700103</td>\n",
              "      <td>0.333350</td>\n",
              "      <td>0.022568</td>\n",
              "      <td>0.463889</td>\n",
              "      <td>0.242428</td>\n",
              "    </tr>\n",
              "  </tbody>\n",
              "</table>\n",
              "</div>"
            ],
            "text/plain": [
              "   2013-01-01  2013-01-02  2013-01-03  2013-01-04  2013-01-05  2013-01-06\n",
              "A    1.253047   -0.532468    0.636940    1.108272    0.110328    1.330928\n",
              "B   -0.479571   -0.972869   -0.703702   -1.729209   -1.978644    0.215869\n",
              "C    0.211165    0.613190   -0.512657   -1.444019   -0.539618    0.469587\n",
              "D    0.114843   -0.700103    0.333350    0.022568    0.463889    0.242428"
            ]
          },
          "metadata": {
            "tags": []
          },
          "execution_count": 11
        }
      ]
    },
    {
      "cell_type": "code",
      "metadata": {
        "colab": {
          "base_uri": "https://localhost:8080/",
          "height": 235
        },
        "id": "dh-l4EJIkNXG",
        "outputId": "55ec0373-a7a7-4935-ec67-0b408366ac43"
      },
      "source": [
        "# 행 또는 열 값에 따라 나열하기\n",
        "df.sort_index(axis=1, ascending=False)"
      ],
      "execution_count": 12,
      "outputs": [
        {
          "output_type": "execute_result",
          "data": {
            "text/html": [
              "<div>\n",
              "<style scoped>\n",
              "    .dataframe tbody tr th:only-of-type {\n",
              "        vertical-align: middle;\n",
              "    }\n",
              "\n",
              "    .dataframe tbody tr th {\n",
              "        vertical-align: top;\n",
              "    }\n",
              "\n",
              "    .dataframe thead th {\n",
              "        text-align: right;\n",
              "    }\n",
              "</style>\n",
              "<table border=\"1\" class=\"dataframe\">\n",
              "  <thead>\n",
              "    <tr style=\"text-align: right;\">\n",
              "      <th></th>\n",
              "      <th>D</th>\n",
              "      <th>C</th>\n",
              "      <th>B</th>\n",
              "      <th>A</th>\n",
              "    </tr>\n",
              "  </thead>\n",
              "  <tbody>\n",
              "    <tr>\n",
              "      <th>2013-01-01</th>\n",
              "      <td>0.114843</td>\n",
              "      <td>0.211165</td>\n",
              "      <td>-0.479571</td>\n",
              "      <td>1.253047</td>\n",
              "    </tr>\n",
              "    <tr>\n",
              "      <th>2013-01-02</th>\n",
              "      <td>-0.700103</td>\n",
              "      <td>0.613190</td>\n",
              "      <td>-0.972869</td>\n",
              "      <td>-0.532468</td>\n",
              "    </tr>\n",
              "    <tr>\n",
              "      <th>2013-01-03</th>\n",
              "      <td>0.333350</td>\n",
              "      <td>-0.512657</td>\n",
              "      <td>-0.703702</td>\n",
              "      <td>0.636940</td>\n",
              "    </tr>\n",
              "    <tr>\n",
              "      <th>2013-01-04</th>\n",
              "      <td>0.022568</td>\n",
              "      <td>-1.444019</td>\n",
              "      <td>-1.729209</td>\n",
              "      <td>1.108272</td>\n",
              "    </tr>\n",
              "    <tr>\n",
              "      <th>2013-01-05</th>\n",
              "      <td>0.463889</td>\n",
              "      <td>-0.539618</td>\n",
              "      <td>-1.978644</td>\n",
              "      <td>0.110328</td>\n",
              "    </tr>\n",
              "    <tr>\n",
              "      <th>2013-01-06</th>\n",
              "      <td>0.242428</td>\n",
              "      <td>0.469587</td>\n",
              "      <td>0.215869</td>\n",
              "      <td>1.330928</td>\n",
              "    </tr>\n",
              "  </tbody>\n",
              "</table>\n",
              "</div>"
            ],
            "text/plain": [
              "                   D         C         B         A\n",
              "2013-01-01  0.114843  0.211165 -0.479571  1.253047\n",
              "2013-01-02 -0.700103  0.613190 -0.972869 -0.532468\n",
              "2013-01-03  0.333350 -0.512657 -0.703702  0.636940\n",
              "2013-01-04  0.022568 -1.444019 -1.729209  1.108272\n",
              "2013-01-05  0.463889 -0.539618 -1.978644  0.110328\n",
              "2013-01-06  0.242428  0.469587  0.215869  1.330928"
            ]
          },
          "metadata": {
            "tags": []
          },
          "execution_count": 12
        }
      ]
    },
    {
      "cell_type": "code",
      "metadata": {
        "colab": {
          "base_uri": "https://localhost:8080/",
          "height": 235
        },
        "id": "YtHC4eIRkim7",
        "outputId": "a3b4a406-d6af-4d9c-c842-3a5e4e2ac9fa"
      },
      "source": [
        "df.sort_index(ascending=False)"
      ],
      "execution_count": 13,
      "outputs": [
        {
          "output_type": "execute_result",
          "data": {
            "text/html": [
              "<div>\n",
              "<style scoped>\n",
              "    .dataframe tbody tr th:only-of-type {\n",
              "        vertical-align: middle;\n",
              "    }\n",
              "\n",
              "    .dataframe tbody tr th {\n",
              "        vertical-align: top;\n",
              "    }\n",
              "\n",
              "    .dataframe thead th {\n",
              "        text-align: right;\n",
              "    }\n",
              "</style>\n",
              "<table border=\"1\" class=\"dataframe\">\n",
              "  <thead>\n",
              "    <tr style=\"text-align: right;\">\n",
              "      <th></th>\n",
              "      <th>A</th>\n",
              "      <th>B</th>\n",
              "      <th>C</th>\n",
              "      <th>D</th>\n",
              "    </tr>\n",
              "  </thead>\n",
              "  <tbody>\n",
              "    <tr>\n",
              "      <th>2013-01-06</th>\n",
              "      <td>1.330928</td>\n",
              "      <td>0.215869</td>\n",
              "      <td>0.469587</td>\n",
              "      <td>0.242428</td>\n",
              "    </tr>\n",
              "    <tr>\n",
              "      <th>2013-01-05</th>\n",
              "      <td>0.110328</td>\n",
              "      <td>-1.978644</td>\n",
              "      <td>-0.539618</td>\n",
              "      <td>0.463889</td>\n",
              "    </tr>\n",
              "    <tr>\n",
              "      <th>2013-01-04</th>\n",
              "      <td>1.108272</td>\n",
              "      <td>-1.729209</td>\n",
              "      <td>-1.444019</td>\n",
              "      <td>0.022568</td>\n",
              "    </tr>\n",
              "    <tr>\n",
              "      <th>2013-01-03</th>\n",
              "      <td>0.636940</td>\n",
              "      <td>-0.703702</td>\n",
              "      <td>-0.512657</td>\n",
              "      <td>0.333350</td>\n",
              "    </tr>\n",
              "    <tr>\n",
              "      <th>2013-01-02</th>\n",
              "      <td>-0.532468</td>\n",
              "      <td>-0.972869</td>\n",
              "      <td>0.613190</td>\n",
              "      <td>-0.700103</td>\n",
              "    </tr>\n",
              "    <tr>\n",
              "      <th>2013-01-01</th>\n",
              "      <td>1.253047</td>\n",
              "      <td>-0.479571</td>\n",
              "      <td>0.211165</td>\n",
              "      <td>0.114843</td>\n",
              "    </tr>\n",
              "  </tbody>\n",
              "</table>\n",
              "</div>"
            ],
            "text/plain": [
              "                   A         B         C         D\n",
              "2013-01-06  1.330928  0.215869  0.469587  0.242428\n",
              "2013-01-05  0.110328 -1.978644 -0.539618  0.463889\n",
              "2013-01-04  1.108272 -1.729209 -1.444019  0.022568\n",
              "2013-01-03  0.636940 -0.703702 -0.512657  0.333350\n",
              "2013-01-02 -0.532468 -0.972869  0.613190 -0.700103\n",
              "2013-01-01  1.253047 -0.479571  0.211165  0.114843"
            ]
          },
          "metadata": {
            "tags": []
          },
          "execution_count": 13
        }
      ]
    },
    {
      "cell_type": "code",
      "metadata": {
        "colab": {
          "base_uri": "https://localhost:8080/",
          "height": 235
        },
        "id": "uqEYF9A_kov_",
        "outputId": "e2e6a1f6-64f7-45b2-ce6b-aa3f14d20e93"
      },
      "source": [
        "# 값에 따라 나열하기\n",
        "df.sort_values(by=\"B\")"
      ],
      "execution_count": 14,
      "outputs": [
        {
          "output_type": "execute_result",
          "data": {
            "text/html": [
              "<div>\n",
              "<style scoped>\n",
              "    .dataframe tbody tr th:only-of-type {\n",
              "        vertical-align: middle;\n",
              "    }\n",
              "\n",
              "    .dataframe tbody tr th {\n",
              "        vertical-align: top;\n",
              "    }\n",
              "\n",
              "    .dataframe thead th {\n",
              "        text-align: right;\n",
              "    }\n",
              "</style>\n",
              "<table border=\"1\" class=\"dataframe\">\n",
              "  <thead>\n",
              "    <tr style=\"text-align: right;\">\n",
              "      <th></th>\n",
              "      <th>A</th>\n",
              "      <th>B</th>\n",
              "      <th>C</th>\n",
              "      <th>D</th>\n",
              "    </tr>\n",
              "  </thead>\n",
              "  <tbody>\n",
              "    <tr>\n",
              "      <th>2013-01-05</th>\n",
              "      <td>0.110328</td>\n",
              "      <td>-1.978644</td>\n",
              "      <td>-0.539618</td>\n",
              "      <td>0.463889</td>\n",
              "    </tr>\n",
              "    <tr>\n",
              "      <th>2013-01-04</th>\n",
              "      <td>1.108272</td>\n",
              "      <td>-1.729209</td>\n",
              "      <td>-1.444019</td>\n",
              "      <td>0.022568</td>\n",
              "    </tr>\n",
              "    <tr>\n",
              "      <th>2013-01-02</th>\n",
              "      <td>-0.532468</td>\n",
              "      <td>-0.972869</td>\n",
              "      <td>0.613190</td>\n",
              "      <td>-0.700103</td>\n",
              "    </tr>\n",
              "    <tr>\n",
              "      <th>2013-01-03</th>\n",
              "      <td>0.636940</td>\n",
              "      <td>-0.703702</td>\n",
              "      <td>-0.512657</td>\n",
              "      <td>0.333350</td>\n",
              "    </tr>\n",
              "    <tr>\n",
              "      <th>2013-01-01</th>\n",
              "      <td>1.253047</td>\n",
              "      <td>-0.479571</td>\n",
              "      <td>0.211165</td>\n",
              "      <td>0.114843</td>\n",
              "    </tr>\n",
              "    <tr>\n",
              "      <th>2013-01-06</th>\n",
              "      <td>1.330928</td>\n",
              "      <td>0.215869</td>\n",
              "      <td>0.469587</td>\n",
              "      <td>0.242428</td>\n",
              "    </tr>\n",
              "  </tbody>\n",
              "</table>\n",
              "</div>"
            ],
            "text/plain": [
              "                   A         B         C         D\n",
              "2013-01-05  0.110328 -1.978644 -0.539618  0.463889\n",
              "2013-01-04  1.108272 -1.729209 -1.444019  0.022568\n",
              "2013-01-02 -0.532468 -0.972869  0.613190 -0.700103\n",
              "2013-01-03  0.636940 -0.703702 -0.512657  0.333350\n",
              "2013-01-01  1.253047 -0.479571  0.211165  0.114843\n",
              "2013-01-06  1.330928  0.215869  0.469587  0.242428"
            ]
          },
          "metadata": {
            "tags": []
          },
          "execution_count": 14
        }
      ]
    },
    {
      "cell_type": "code",
      "metadata": {
        "colab": {
          "base_uri": "https://localhost:8080/",
          "height": 235
        },
        "id": "4gY4nTRWk4ES",
        "outputId": "ae247f14-3856-4704-c85b-0dbabda1e359"
      },
      "source": [
        "df.sort_values(by=\"B\", ascending=False)"
      ],
      "execution_count": 15,
      "outputs": [
        {
          "output_type": "execute_result",
          "data": {
            "text/html": [
              "<div>\n",
              "<style scoped>\n",
              "    .dataframe tbody tr th:only-of-type {\n",
              "        vertical-align: middle;\n",
              "    }\n",
              "\n",
              "    .dataframe tbody tr th {\n",
              "        vertical-align: top;\n",
              "    }\n",
              "\n",
              "    .dataframe thead th {\n",
              "        text-align: right;\n",
              "    }\n",
              "</style>\n",
              "<table border=\"1\" class=\"dataframe\">\n",
              "  <thead>\n",
              "    <tr style=\"text-align: right;\">\n",
              "      <th></th>\n",
              "      <th>A</th>\n",
              "      <th>B</th>\n",
              "      <th>C</th>\n",
              "      <th>D</th>\n",
              "    </tr>\n",
              "  </thead>\n",
              "  <tbody>\n",
              "    <tr>\n",
              "      <th>2013-01-06</th>\n",
              "      <td>1.330928</td>\n",
              "      <td>0.215869</td>\n",
              "      <td>0.469587</td>\n",
              "      <td>0.242428</td>\n",
              "    </tr>\n",
              "    <tr>\n",
              "      <th>2013-01-01</th>\n",
              "      <td>1.253047</td>\n",
              "      <td>-0.479571</td>\n",
              "      <td>0.211165</td>\n",
              "      <td>0.114843</td>\n",
              "    </tr>\n",
              "    <tr>\n",
              "      <th>2013-01-03</th>\n",
              "      <td>0.636940</td>\n",
              "      <td>-0.703702</td>\n",
              "      <td>-0.512657</td>\n",
              "      <td>0.333350</td>\n",
              "    </tr>\n",
              "    <tr>\n",
              "      <th>2013-01-02</th>\n",
              "      <td>-0.532468</td>\n",
              "      <td>-0.972869</td>\n",
              "      <td>0.613190</td>\n",
              "      <td>-0.700103</td>\n",
              "    </tr>\n",
              "    <tr>\n",
              "      <th>2013-01-04</th>\n",
              "      <td>1.108272</td>\n",
              "      <td>-1.729209</td>\n",
              "      <td>-1.444019</td>\n",
              "      <td>0.022568</td>\n",
              "    </tr>\n",
              "    <tr>\n",
              "      <th>2013-01-05</th>\n",
              "      <td>0.110328</td>\n",
              "      <td>-1.978644</td>\n",
              "      <td>-0.539618</td>\n",
              "      <td>0.463889</td>\n",
              "    </tr>\n",
              "  </tbody>\n",
              "</table>\n",
              "</div>"
            ],
            "text/plain": [
              "                   A         B         C         D\n",
              "2013-01-06  1.330928  0.215869  0.469587  0.242428\n",
              "2013-01-01  1.253047 -0.479571  0.211165  0.114843\n",
              "2013-01-03  0.636940 -0.703702 -0.512657  0.333350\n",
              "2013-01-02 -0.532468 -0.972869  0.613190 -0.700103\n",
              "2013-01-04  1.108272 -1.729209 -1.444019  0.022568\n",
              "2013-01-05  0.110328 -1.978644 -0.539618  0.463889"
            ]
          },
          "metadata": {
            "tags": []
          },
          "execution_count": 15
        }
      ]
    },
    {
      "cell_type": "markdown",
      "metadata": {
        "id": "VCAu4qVolDXD"
      },
      "source": [
        "# 3. 데이터 선택 (Selection)\n",
        "- .at / .iat\n",
        "- .loc / .iloc\n",
        "- .isin"
      ]
    },
    {
      "cell_type": "code",
      "metadata": {
        "colab": {
          "base_uri": "https://localhost:8080/"
        },
        "id": "xWJpEt3GleU6",
        "outputId": "c783e192-e877-4546-ec0f-0a3cb658a37e"
      },
      "source": [
        "# 해당하는 열 가져오기\n",
        "df['A']  # df.A"
      ],
      "execution_count": 16,
      "outputs": [
        {
          "output_type": "execute_result",
          "data": {
            "text/plain": [
              "2013-01-01    1.253047\n",
              "2013-01-02   -0.532468\n",
              "2013-01-03    0.636940\n",
              "2013-01-04    1.108272\n",
              "2013-01-05    0.110328\n",
              "2013-01-06    1.330928\n",
              "Freq: D, Name: A, dtype: float64"
            ]
          },
          "metadata": {
            "tags": []
          },
          "execution_count": 16
        }
      ]
    },
    {
      "cell_type": "code",
      "metadata": {
        "colab": {
          "base_uri": "https://localhost:8080/",
          "height": 111
        },
        "id": "rncsvKEAlmnx",
        "outputId": "9b1fdc9e-dbd1-4659-f935-084b81988882"
      },
      "source": [
        "# 해당하는 행 가져오기\n",
        "df[2:4]  # df['20130103':'20130104']"
      ],
      "execution_count": 17,
      "outputs": [
        {
          "output_type": "execute_result",
          "data": {
            "text/html": [
              "<div>\n",
              "<style scoped>\n",
              "    .dataframe tbody tr th:only-of-type {\n",
              "        vertical-align: middle;\n",
              "    }\n",
              "\n",
              "    .dataframe tbody tr th {\n",
              "        vertical-align: top;\n",
              "    }\n",
              "\n",
              "    .dataframe thead th {\n",
              "        text-align: right;\n",
              "    }\n",
              "</style>\n",
              "<table border=\"1\" class=\"dataframe\">\n",
              "  <thead>\n",
              "    <tr style=\"text-align: right;\">\n",
              "      <th></th>\n",
              "      <th>A</th>\n",
              "      <th>B</th>\n",
              "      <th>C</th>\n",
              "      <th>D</th>\n",
              "    </tr>\n",
              "  </thead>\n",
              "  <tbody>\n",
              "    <tr>\n",
              "      <th>2013-01-03</th>\n",
              "      <td>0.636940</td>\n",
              "      <td>-0.703702</td>\n",
              "      <td>-0.512657</td>\n",
              "      <td>0.333350</td>\n",
              "    </tr>\n",
              "    <tr>\n",
              "      <th>2013-01-04</th>\n",
              "      <td>1.108272</td>\n",
              "      <td>-1.729209</td>\n",
              "      <td>-1.444019</td>\n",
              "      <td>0.022568</td>\n",
              "    </tr>\n",
              "  </tbody>\n",
              "</table>\n",
              "</div>"
            ],
            "text/plain": [
              "                   A         B         C         D\n",
              "2013-01-03  0.636940 -0.703702 -0.512657  0.333350\n",
              "2013-01-04  1.108272 -1.729209 -1.444019  0.022568"
            ]
          },
          "metadata": {
            "tags": []
          },
          "execution_count": 17
        }
      ]
    },
    {
      "cell_type": "markdown",
      "metadata": {
        "id": "W_4F3cJOo0Mo"
      },
      "source": [
        "## 인덱스 또는 컬럼명으로 가져오기 (.loc)"
      ]
    },
    {
      "cell_type": "code",
      "metadata": {
        "colab": {
          "base_uri": "https://localhost:8080/"
        },
        "id": "8yEXYzXKlMMV",
        "outputId": "d5bbaa56-e8f3-49b3-923d-7e79b6f72af6"
      },
      "source": [
        "# 인덱스 값으로 가져오기\n",
        "df.loc['20130101']"
      ],
      "execution_count": 18,
      "outputs": [
        {
          "output_type": "execute_result",
          "data": {
            "text/plain": [
              "A    1.253047\n",
              "B   -0.479571\n",
              "C    0.211165\n",
              "D    0.114843\n",
              "Name: 2013-01-01 00:00:00, dtype: float64"
            ]
          },
          "metadata": {
            "tags": []
          },
          "execution_count": 18
        }
      ]
    },
    {
      "cell_type": "code",
      "metadata": {
        "colab": {
          "base_uri": "https://localhost:8080/",
          "height": 235
        },
        "id": "JuS3XnA9mYG8",
        "outputId": "b8137aae-b5b3-4607-b3e3-e5d88430a130"
      },
      "source": [
        "# 지정한 행과 열에 해당하는 값 가져오기\n",
        "df.loc[:,['A','B']]"
      ],
      "execution_count": 19,
      "outputs": [
        {
          "output_type": "execute_result",
          "data": {
            "text/html": [
              "<div>\n",
              "<style scoped>\n",
              "    .dataframe tbody tr th:only-of-type {\n",
              "        vertical-align: middle;\n",
              "    }\n",
              "\n",
              "    .dataframe tbody tr th {\n",
              "        vertical-align: top;\n",
              "    }\n",
              "\n",
              "    .dataframe thead th {\n",
              "        text-align: right;\n",
              "    }\n",
              "</style>\n",
              "<table border=\"1\" class=\"dataframe\">\n",
              "  <thead>\n",
              "    <tr style=\"text-align: right;\">\n",
              "      <th></th>\n",
              "      <th>A</th>\n",
              "      <th>B</th>\n",
              "    </tr>\n",
              "  </thead>\n",
              "  <tbody>\n",
              "    <tr>\n",
              "      <th>2013-01-01</th>\n",
              "      <td>1.253047</td>\n",
              "      <td>-0.479571</td>\n",
              "    </tr>\n",
              "    <tr>\n",
              "      <th>2013-01-02</th>\n",
              "      <td>-0.532468</td>\n",
              "      <td>-0.972869</td>\n",
              "    </tr>\n",
              "    <tr>\n",
              "      <th>2013-01-03</th>\n",
              "      <td>0.636940</td>\n",
              "      <td>-0.703702</td>\n",
              "    </tr>\n",
              "    <tr>\n",
              "      <th>2013-01-04</th>\n",
              "      <td>1.108272</td>\n",
              "      <td>-1.729209</td>\n",
              "    </tr>\n",
              "    <tr>\n",
              "      <th>2013-01-05</th>\n",
              "      <td>0.110328</td>\n",
              "      <td>-1.978644</td>\n",
              "    </tr>\n",
              "    <tr>\n",
              "      <th>2013-01-06</th>\n",
              "      <td>1.330928</td>\n",
              "      <td>0.215869</td>\n",
              "    </tr>\n",
              "  </tbody>\n",
              "</table>\n",
              "</div>"
            ],
            "text/plain": [
              "                   A         B\n",
              "2013-01-01  1.253047 -0.479571\n",
              "2013-01-02 -0.532468 -0.972869\n",
              "2013-01-03  0.636940 -0.703702\n",
              "2013-01-04  1.108272 -1.729209\n",
              "2013-01-05  0.110328 -1.978644\n",
              "2013-01-06  1.330928  0.215869"
            ]
          },
          "metadata": {
            "tags": []
          },
          "execution_count": 19
        }
      ]
    },
    {
      "cell_type": "code",
      "metadata": {
        "colab": {
          "base_uri": "https://localhost:8080/",
          "height": 142
        },
        "id": "lSGMEZ7_mpAj",
        "outputId": "74bd5003-8e71-4e1f-d9c2-9720aa756f14"
      },
      "source": [
        "df.loc['20130102':'20130104', 'A':'C']"
      ],
      "execution_count": 20,
      "outputs": [
        {
          "output_type": "execute_result",
          "data": {
            "text/html": [
              "<div>\n",
              "<style scoped>\n",
              "    .dataframe tbody tr th:only-of-type {\n",
              "        vertical-align: middle;\n",
              "    }\n",
              "\n",
              "    .dataframe tbody tr th {\n",
              "        vertical-align: top;\n",
              "    }\n",
              "\n",
              "    .dataframe thead th {\n",
              "        text-align: right;\n",
              "    }\n",
              "</style>\n",
              "<table border=\"1\" class=\"dataframe\">\n",
              "  <thead>\n",
              "    <tr style=\"text-align: right;\">\n",
              "      <th></th>\n",
              "      <th>A</th>\n",
              "      <th>B</th>\n",
              "      <th>C</th>\n",
              "    </tr>\n",
              "  </thead>\n",
              "  <tbody>\n",
              "    <tr>\n",
              "      <th>2013-01-02</th>\n",
              "      <td>-0.532468</td>\n",
              "      <td>-0.972869</td>\n",
              "      <td>0.613190</td>\n",
              "    </tr>\n",
              "    <tr>\n",
              "      <th>2013-01-03</th>\n",
              "      <td>0.636940</td>\n",
              "      <td>-0.703702</td>\n",
              "      <td>-0.512657</td>\n",
              "    </tr>\n",
              "    <tr>\n",
              "      <th>2013-01-04</th>\n",
              "      <td>1.108272</td>\n",
              "      <td>-1.729209</td>\n",
              "      <td>-1.444019</td>\n",
              "    </tr>\n",
              "  </tbody>\n",
              "</table>\n",
              "</div>"
            ],
            "text/plain": [
              "                   A         B         C\n",
              "2013-01-02 -0.532468 -0.972869  0.613190\n",
              "2013-01-03  0.636940 -0.703702 -0.512657\n",
              "2013-01-04  1.108272 -1.729209 -1.444019"
            ]
          },
          "metadata": {
            "tags": []
          },
          "execution_count": 20
        }
      ]
    },
    {
      "cell_type": "code",
      "metadata": {
        "colab": {
          "base_uri": "https://localhost:8080/",
          "height": 142
        },
        "id": "1jcvAR27m_Xk",
        "outputId": "00c17ce3-4d69-4b74-d2a0-8c2a1fd02fd0"
      },
      "source": [
        "df.loc['20130102':'20130104', ['A','C']]"
      ],
      "execution_count": 21,
      "outputs": [
        {
          "output_type": "execute_result",
          "data": {
            "text/html": [
              "<div>\n",
              "<style scoped>\n",
              "    .dataframe tbody tr th:only-of-type {\n",
              "        vertical-align: middle;\n",
              "    }\n",
              "\n",
              "    .dataframe tbody tr th {\n",
              "        vertical-align: top;\n",
              "    }\n",
              "\n",
              "    .dataframe thead th {\n",
              "        text-align: right;\n",
              "    }\n",
              "</style>\n",
              "<table border=\"1\" class=\"dataframe\">\n",
              "  <thead>\n",
              "    <tr style=\"text-align: right;\">\n",
              "      <th></th>\n",
              "      <th>A</th>\n",
              "      <th>C</th>\n",
              "    </tr>\n",
              "  </thead>\n",
              "  <tbody>\n",
              "    <tr>\n",
              "      <th>2013-01-02</th>\n",
              "      <td>-0.532468</td>\n",
              "      <td>0.613190</td>\n",
              "    </tr>\n",
              "    <tr>\n",
              "      <th>2013-01-03</th>\n",
              "      <td>0.636940</td>\n",
              "      <td>-0.512657</td>\n",
              "    </tr>\n",
              "    <tr>\n",
              "      <th>2013-01-04</th>\n",
              "      <td>1.108272</td>\n",
              "      <td>-1.444019</td>\n",
              "    </tr>\n",
              "  </tbody>\n",
              "</table>\n",
              "</div>"
            ],
            "text/plain": [
              "                   A         C\n",
              "2013-01-02 -0.532468  0.613190\n",
              "2013-01-03  0.636940 -0.512657\n",
              "2013-01-04  1.108272 -1.444019"
            ]
          },
          "metadata": {
            "tags": []
          },
          "execution_count": 21
        }
      ]
    },
    {
      "cell_type": "code",
      "metadata": {
        "colab": {
          "base_uri": "https://localhost:8080/"
        },
        "id": "EH6k8lILnCrj",
        "outputId": "e279de1e-ece0-411d-8ae8-fc3cd2356d47"
      },
      "source": [
        "df.loc[dates[0],'A']"
      ],
      "execution_count": 22,
      "outputs": [
        {
          "output_type": "execute_result",
          "data": {
            "text/plain": [
              "1.2530465933588295"
            ]
          },
          "metadata": {
            "tags": []
          },
          "execution_count": 22
        }
      ]
    },
    {
      "cell_type": "code",
      "metadata": {
        "colab": {
          "base_uri": "https://localhost:8080/"
        },
        "id": "FxL42QnVnS6B",
        "outputId": "377706b2-1e6d-4408-8067-43e0e87ce302"
      },
      "source": [
        "# .at: scalar 가져올 때 .loc 보다 더 빠른 방법\n",
        "df.at[dates[0],'A']"
      ],
      "execution_count": 23,
      "outputs": [
        {
          "output_type": "execute_result",
          "data": {
            "text/plain": [
              "1.2530465933588295"
            ]
          },
          "metadata": {
            "tags": []
          },
          "execution_count": 23
        }
      ]
    },
    {
      "cell_type": "markdown",
      "metadata": {
        "id": "heovh85Uo51r"
      },
      "source": [
        "## 좌표값으로 가져오기 (.iloc)"
      ]
    },
    {
      "cell_type": "code",
      "metadata": {
        "colab": {
          "base_uri": "https://localhost:8080/"
        },
        "id": "QDYKA1wTo9b1",
        "outputId": "a9ec3839-56cf-4512-dbba-13a32355f226"
      },
      "source": [
        "df.iloc[2]"
      ],
      "execution_count": 24,
      "outputs": [
        {
          "output_type": "execute_result",
          "data": {
            "text/plain": [
              "A    0.636940\n",
              "B   -0.703702\n",
              "C   -0.512657\n",
              "D    0.333350\n",
              "Name: 2013-01-03 00:00:00, dtype: float64"
            ]
          },
          "metadata": {
            "tags": []
          },
          "execution_count": 24
        }
      ]
    },
    {
      "cell_type": "code",
      "metadata": {
        "colab": {
          "base_uri": "https://localhost:8080/",
          "height": 111
        },
        "id": "OR1344IypEOr",
        "outputId": "2b5a4004-ec75-4fc9-cb43-dc21591fb7c4"
      },
      "source": [
        "df.iloc[3:5]  # df[3:5] / df['20130104':'20130105']"
      ],
      "execution_count": 25,
      "outputs": [
        {
          "output_type": "execute_result",
          "data": {
            "text/html": [
              "<div>\n",
              "<style scoped>\n",
              "    .dataframe tbody tr th:only-of-type {\n",
              "        vertical-align: middle;\n",
              "    }\n",
              "\n",
              "    .dataframe tbody tr th {\n",
              "        vertical-align: top;\n",
              "    }\n",
              "\n",
              "    .dataframe thead th {\n",
              "        text-align: right;\n",
              "    }\n",
              "</style>\n",
              "<table border=\"1\" class=\"dataframe\">\n",
              "  <thead>\n",
              "    <tr style=\"text-align: right;\">\n",
              "      <th></th>\n",
              "      <th>A</th>\n",
              "      <th>B</th>\n",
              "      <th>C</th>\n",
              "      <th>D</th>\n",
              "    </tr>\n",
              "  </thead>\n",
              "  <tbody>\n",
              "    <tr>\n",
              "      <th>2013-01-04</th>\n",
              "      <td>1.108272</td>\n",
              "      <td>-1.729209</td>\n",
              "      <td>-1.444019</td>\n",
              "      <td>0.022568</td>\n",
              "    </tr>\n",
              "    <tr>\n",
              "      <th>2013-01-05</th>\n",
              "      <td>0.110328</td>\n",
              "      <td>-1.978644</td>\n",
              "      <td>-0.539618</td>\n",
              "      <td>0.463889</td>\n",
              "    </tr>\n",
              "  </tbody>\n",
              "</table>\n",
              "</div>"
            ],
            "text/plain": [
              "                   A         B         C         D\n",
              "2013-01-04  1.108272 -1.729209 -1.444019  0.022568\n",
              "2013-01-05  0.110328 -1.978644 -0.539618  0.463889"
            ]
          },
          "metadata": {
            "tags": []
          },
          "execution_count": 25
        }
      ]
    },
    {
      "cell_type": "code",
      "metadata": {
        "colab": {
          "base_uri": "https://localhost:8080/",
          "height": 111
        },
        "id": "e6G4W1JMpSuh",
        "outputId": "4c12bea8-124a-4e53-a22f-042cb9279889"
      },
      "source": [
        "df.iloc[3:5, 0:2]"
      ],
      "execution_count": 26,
      "outputs": [
        {
          "output_type": "execute_result",
          "data": {
            "text/html": [
              "<div>\n",
              "<style scoped>\n",
              "    .dataframe tbody tr th:only-of-type {\n",
              "        vertical-align: middle;\n",
              "    }\n",
              "\n",
              "    .dataframe tbody tr th {\n",
              "        vertical-align: top;\n",
              "    }\n",
              "\n",
              "    .dataframe thead th {\n",
              "        text-align: right;\n",
              "    }\n",
              "</style>\n",
              "<table border=\"1\" class=\"dataframe\">\n",
              "  <thead>\n",
              "    <tr style=\"text-align: right;\">\n",
              "      <th></th>\n",
              "      <th>A</th>\n",
              "      <th>B</th>\n",
              "    </tr>\n",
              "  </thead>\n",
              "  <tbody>\n",
              "    <tr>\n",
              "      <th>2013-01-04</th>\n",
              "      <td>1.108272</td>\n",
              "      <td>-1.729209</td>\n",
              "    </tr>\n",
              "    <tr>\n",
              "      <th>2013-01-05</th>\n",
              "      <td>0.110328</td>\n",
              "      <td>-1.978644</td>\n",
              "    </tr>\n",
              "  </tbody>\n",
              "</table>\n",
              "</div>"
            ],
            "text/plain": [
              "                   A         B\n",
              "2013-01-04  1.108272 -1.729209\n",
              "2013-01-05  0.110328 -1.978644"
            ]
          },
          "metadata": {
            "tags": []
          },
          "execution_count": 26
        }
      ]
    },
    {
      "cell_type": "code",
      "metadata": {
        "colab": {
          "base_uri": "https://localhost:8080/",
          "height": 142
        },
        "id": "ObCwFOtzpYaX",
        "outputId": "a4218364-d761-4b47-cb2f-2287f982694c"
      },
      "source": [
        "df.iloc[[1,2,4],[0,2]]"
      ],
      "execution_count": 27,
      "outputs": [
        {
          "output_type": "execute_result",
          "data": {
            "text/html": [
              "<div>\n",
              "<style scoped>\n",
              "    .dataframe tbody tr th:only-of-type {\n",
              "        vertical-align: middle;\n",
              "    }\n",
              "\n",
              "    .dataframe tbody tr th {\n",
              "        vertical-align: top;\n",
              "    }\n",
              "\n",
              "    .dataframe thead th {\n",
              "        text-align: right;\n",
              "    }\n",
              "</style>\n",
              "<table border=\"1\" class=\"dataframe\">\n",
              "  <thead>\n",
              "    <tr style=\"text-align: right;\">\n",
              "      <th></th>\n",
              "      <th>A</th>\n",
              "      <th>C</th>\n",
              "    </tr>\n",
              "  </thead>\n",
              "  <tbody>\n",
              "    <tr>\n",
              "      <th>2013-01-02</th>\n",
              "      <td>-0.532468</td>\n",
              "      <td>0.613190</td>\n",
              "    </tr>\n",
              "    <tr>\n",
              "      <th>2013-01-03</th>\n",
              "      <td>0.636940</td>\n",
              "      <td>-0.512657</td>\n",
              "    </tr>\n",
              "    <tr>\n",
              "      <th>2013-01-05</th>\n",
              "      <td>0.110328</td>\n",
              "      <td>-0.539618</td>\n",
              "    </tr>\n",
              "  </tbody>\n",
              "</table>\n",
              "</div>"
            ],
            "text/plain": [
              "                   A         C\n",
              "2013-01-02 -0.532468  0.613190\n",
              "2013-01-03  0.636940 -0.512657\n",
              "2013-01-05  0.110328 -0.539618"
            ]
          },
          "metadata": {
            "tags": []
          },
          "execution_count": 27
        }
      ]
    },
    {
      "cell_type": "code",
      "metadata": {
        "colab": {
          "base_uri": "https://localhost:8080/",
          "height": 111
        },
        "id": "1z-Fwanjpu10",
        "outputId": "1d250f6c-19ae-49a5-c2cc-708367a595f7"
      },
      "source": [
        "df.iloc[1:3, :]"
      ],
      "execution_count": 28,
      "outputs": [
        {
          "output_type": "execute_result",
          "data": {
            "text/html": [
              "<div>\n",
              "<style scoped>\n",
              "    .dataframe tbody tr th:only-of-type {\n",
              "        vertical-align: middle;\n",
              "    }\n",
              "\n",
              "    .dataframe tbody tr th {\n",
              "        vertical-align: top;\n",
              "    }\n",
              "\n",
              "    .dataframe thead th {\n",
              "        text-align: right;\n",
              "    }\n",
              "</style>\n",
              "<table border=\"1\" class=\"dataframe\">\n",
              "  <thead>\n",
              "    <tr style=\"text-align: right;\">\n",
              "      <th></th>\n",
              "      <th>A</th>\n",
              "      <th>B</th>\n",
              "      <th>C</th>\n",
              "      <th>D</th>\n",
              "    </tr>\n",
              "  </thead>\n",
              "  <tbody>\n",
              "    <tr>\n",
              "      <th>2013-01-02</th>\n",
              "      <td>-0.532468</td>\n",
              "      <td>-0.972869</td>\n",
              "      <td>0.613190</td>\n",
              "      <td>-0.700103</td>\n",
              "    </tr>\n",
              "    <tr>\n",
              "      <th>2013-01-03</th>\n",
              "      <td>0.636940</td>\n",
              "      <td>-0.703702</td>\n",
              "      <td>-0.512657</td>\n",
              "      <td>0.333350</td>\n",
              "    </tr>\n",
              "  </tbody>\n",
              "</table>\n",
              "</div>"
            ],
            "text/plain": [
              "                   A         B         C         D\n",
              "2013-01-02 -0.532468 -0.972869  0.613190 -0.700103\n",
              "2013-01-03  0.636940 -0.703702 -0.512657  0.333350"
            ]
          },
          "metadata": {
            "tags": []
          },
          "execution_count": 28
        }
      ]
    },
    {
      "cell_type": "code",
      "metadata": {
        "colab": {
          "base_uri": "https://localhost:8080/"
        },
        "id": "gKUPSVFUpy7D",
        "outputId": "8a039507-67d9-4daa-8070-49889795a033"
      },
      "source": [
        "df.iloc[1,1]"
      ],
      "execution_count": 29,
      "outputs": [
        {
          "output_type": "execute_result",
          "data": {
            "text/plain": [
              "-0.9728690327119722"
            ]
          },
          "metadata": {
            "tags": []
          },
          "execution_count": 29
        }
      ]
    },
    {
      "cell_type": "code",
      "metadata": {
        "colab": {
          "base_uri": "https://localhost:8080/"
        },
        "id": "Vrddm268p8Ix",
        "outputId": "88613db8-0089-4575-efdd-83133b7194c3"
      },
      "source": [
        "# .iat: scalar 가져올 때 .iloc 보다 더 빠른 방법\n",
        "df.iat[1,1]"
      ],
      "execution_count": 30,
      "outputs": [
        {
          "output_type": "execute_result",
          "data": {
            "text/plain": [
              "-0.9728690327119722"
            ]
          },
          "metadata": {
            "tags": []
          },
          "execution_count": 30
        }
      ]
    },
    {
      "cell_type": "markdown",
      "metadata": {
        "id": "E9vF6pSrqEqJ"
      },
      "source": [
        "## 조건에 해당하는 값 가져오기 (.isin)"
      ]
    },
    {
      "cell_type": "code",
      "metadata": {
        "id": "McOz5PqTqKCg",
        "colab": {
          "base_uri": "https://localhost:8080/",
          "height": 204
        },
        "outputId": "98babcda-ce91-463b-9d8b-6e4295860301"
      },
      "source": [
        "df[df['A']>0]"
      ],
      "execution_count": 31,
      "outputs": [
        {
          "output_type": "execute_result",
          "data": {
            "text/html": [
              "<div>\n",
              "<style scoped>\n",
              "    .dataframe tbody tr th:only-of-type {\n",
              "        vertical-align: middle;\n",
              "    }\n",
              "\n",
              "    .dataframe tbody tr th {\n",
              "        vertical-align: top;\n",
              "    }\n",
              "\n",
              "    .dataframe thead th {\n",
              "        text-align: right;\n",
              "    }\n",
              "</style>\n",
              "<table border=\"1\" class=\"dataframe\">\n",
              "  <thead>\n",
              "    <tr style=\"text-align: right;\">\n",
              "      <th></th>\n",
              "      <th>A</th>\n",
              "      <th>B</th>\n",
              "      <th>C</th>\n",
              "      <th>D</th>\n",
              "    </tr>\n",
              "  </thead>\n",
              "  <tbody>\n",
              "    <tr>\n",
              "      <th>2013-01-01</th>\n",
              "      <td>1.253047</td>\n",
              "      <td>-0.479571</td>\n",
              "      <td>0.211165</td>\n",
              "      <td>0.114843</td>\n",
              "    </tr>\n",
              "    <tr>\n",
              "      <th>2013-01-03</th>\n",
              "      <td>0.636940</td>\n",
              "      <td>-0.703702</td>\n",
              "      <td>-0.512657</td>\n",
              "      <td>0.333350</td>\n",
              "    </tr>\n",
              "    <tr>\n",
              "      <th>2013-01-04</th>\n",
              "      <td>1.108272</td>\n",
              "      <td>-1.729209</td>\n",
              "      <td>-1.444019</td>\n",
              "      <td>0.022568</td>\n",
              "    </tr>\n",
              "    <tr>\n",
              "      <th>2013-01-05</th>\n",
              "      <td>0.110328</td>\n",
              "      <td>-1.978644</td>\n",
              "      <td>-0.539618</td>\n",
              "      <td>0.463889</td>\n",
              "    </tr>\n",
              "    <tr>\n",
              "      <th>2013-01-06</th>\n",
              "      <td>1.330928</td>\n",
              "      <td>0.215869</td>\n",
              "      <td>0.469587</td>\n",
              "      <td>0.242428</td>\n",
              "    </tr>\n",
              "  </tbody>\n",
              "</table>\n",
              "</div>"
            ],
            "text/plain": [
              "                   A         B         C         D\n",
              "2013-01-01  1.253047 -0.479571  0.211165  0.114843\n",
              "2013-01-03  0.636940 -0.703702 -0.512657  0.333350\n",
              "2013-01-04  1.108272 -1.729209 -1.444019  0.022568\n",
              "2013-01-05  0.110328 -1.978644 -0.539618  0.463889\n",
              "2013-01-06  1.330928  0.215869  0.469587  0.242428"
            ]
          },
          "metadata": {
            "tags": []
          },
          "execution_count": 31
        }
      ]
    },
    {
      "cell_type": "code",
      "metadata": {
        "colab": {
          "base_uri": "https://localhost:8080/",
          "height": 235
        },
        "id": "qHeW9_ScQ3pp",
        "outputId": "3bc72cba-6e41-4260-829a-b3cc258c0ad7"
      },
      "source": [
        "df[df>0]"
      ],
      "execution_count": 32,
      "outputs": [
        {
          "output_type": "execute_result",
          "data": {
            "text/html": [
              "<div>\n",
              "<style scoped>\n",
              "    .dataframe tbody tr th:only-of-type {\n",
              "        vertical-align: middle;\n",
              "    }\n",
              "\n",
              "    .dataframe tbody tr th {\n",
              "        vertical-align: top;\n",
              "    }\n",
              "\n",
              "    .dataframe thead th {\n",
              "        text-align: right;\n",
              "    }\n",
              "</style>\n",
              "<table border=\"1\" class=\"dataframe\">\n",
              "  <thead>\n",
              "    <tr style=\"text-align: right;\">\n",
              "      <th></th>\n",
              "      <th>A</th>\n",
              "      <th>B</th>\n",
              "      <th>C</th>\n",
              "      <th>D</th>\n",
              "    </tr>\n",
              "  </thead>\n",
              "  <tbody>\n",
              "    <tr>\n",
              "      <th>2013-01-01</th>\n",
              "      <td>1.253047</td>\n",
              "      <td>NaN</td>\n",
              "      <td>0.211165</td>\n",
              "      <td>0.114843</td>\n",
              "    </tr>\n",
              "    <tr>\n",
              "      <th>2013-01-02</th>\n",
              "      <td>NaN</td>\n",
              "      <td>NaN</td>\n",
              "      <td>0.613190</td>\n",
              "      <td>NaN</td>\n",
              "    </tr>\n",
              "    <tr>\n",
              "      <th>2013-01-03</th>\n",
              "      <td>0.636940</td>\n",
              "      <td>NaN</td>\n",
              "      <td>NaN</td>\n",
              "      <td>0.333350</td>\n",
              "    </tr>\n",
              "    <tr>\n",
              "      <th>2013-01-04</th>\n",
              "      <td>1.108272</td>\n",
              "      <td>NaN</td>\n",
              "      <td>NaN</td>\n",
              "      <td>0.022568</td>\n",
              "    </tr>\n",
              "    <tr>\n",
              "      <th>2013-01-05</th>\n",
              "      <td>0.110328</td>\n",
              "      <td>NaN</td>\n",
              "      <td>NaN</td>\n",
              "      <td>0.463889</td>\n",
              "    </tr>\n",
              "    <tr>\n",
              "      <th>2013-01-06</th>\n",
              "      <td>1.330928</td>\n",
              "      <td>0.215869</td>\n",
              "      <td>0.469587</td>\n",
              "      <td>0.242428</td>\n",
              "    </tr>\n",
              "  </tbody>\n",
              "</table>\n",
              "</div>"
            ],
            "text/plain": [
              "                   A         B         C         D\n",
              "2013-01-01  1.253047       NaN  0.211165  0.114843\n",
              "2013-01-02       NaN       NaN  0.613190       NaN\n",
              "2013-01-03  0.636940       NaN       NaN  0.333350\n",
              "2013-01-04  1.108272       NaN       NaN  0.022568\n",
              "2013-01-05  0.110328       NaN       NaN  0.463889\n",
              "2013-01-06  1.330928  0.215869  0.469587  0.242428"
            ]
          },
          "metadata": {
            "tags": []
          },
          "execution_count": 32
        }
      ]
    },
    {
      "cell_type": "code",
      "metadata": {
        "colab": {
          "base_uri": "https://localhost:8080/",
          "height": 235
        },
        "id": "v3emKtXhQ-LS",
        "outputId": "c7c0b53d-03fb-49f9-a9fe-3947c8829650"
      },
      "source": [
        "df2 = df.copy()\n",
        "df2['E'] = ['one', 'one', 'two', 'three', 'four', 'three']\n",
        "df2"
      ],
      "execution_count": 33,
      "outputs": [
        {
          "output_type": "execute_result",
          "data": {
            "text/html": [
              "<div>\n",
              "<style scoped>\n",
              "    .dataframe tbody tr th:only-of-type {\n",
              "        vertical-align: middle;\n",
              "    }\n",
              "\n",
              "    .dataframe tbody tr th {\n",
              "        vertical-align: top;\n",
              "    }\n",
              "\n",
              "    .dataframe thead th {\n",
              "        text-align: right;\n",
              "    }\n",
              "</style>\n",
              "<table border=\"1\" class=\"dataframe\">\n",
              "  <thead>\n",
              "    <tr style=\"text-align: right;\">\n",
              "      <th></th>\n",
              "      <th>A</th>\n",
              "      <th>B</th>\n",
              "      <th>C</th>\n",
              "      <th>D</th>\n",
              "      <th>E</th>\n",
              "    </tr>\n",
              "  </thead>\n",
              "  <tbody>\n",
              "    <tr>\n",
              "      <th>2013-01-01</th>\n",
              "      <td>1.253047</td>\n",
              "      <td>-0.479571</td>\n",
              "      <td>0.211165</td>\n",
              "      <td>0.114843</td>\n",
              "      <td>one</td>\n",
              "    </tr>\n",
              "    <tr>\n",
              "      <th>2013-01-02</th>\n",
              "      <td>-0.532468</td>\n",
              "      <td>-0.972869</td>\n",
              "      <td>0.613190</td>\n",
              "      <td>-0.700103</td>\n",
              "      <td>one</td>\n",
              "    </tr>\n",
              "    <tr>\n",
              "      <th>2013-01-03</th>\n",
              "      <td>0.636940</td>\n",
              "      <td>-0.703702</td>\n",
              "      <td>-0.512657</td>\n",
              "      <td>0.333350</td>\n",
              "      <td>two</td>\n",
              "    </tr>\n",
              "    <tr>\n",
              "      <th>2013-01-04</th>\n",
              "      <td>1.108272</td>\n",
              "      <td>-1.729209</td>\n",
              "      <td>-1.444019</td>\n",
              "      <td>0.022568</td>\n",
              "      <td>three</td>\n",
              "    </tr>\n",
              "    <tr>\n",
              "      <th>2013-01-05</th>\n",
              "      <td>0.110328</td>\n",
              "      <td>-1.978644</td>\n",
              "      <td>-0.539618</td>\n",
              "      <td>0.463889</td>\n",
              "      <td>four</td>\n",
              "    </tr>\n",
              "    <tr>\n",
              "      <th>2013-01-06</th>\n",
              "      <td>1.330928</td>\n",
              "      <td>0.215869</td>\n",
              "      <td>0.469587</td>\n",
              "      <td>0.242428</td>\n",
              "      <td>three</td>\n",
              "    </tr>\n",
              "  </tbody>\n",
              "</table>\n",
              "</div>"
            ],
            "text/plain": [
              "                   A         B         C         D      E\n",
              "2013-01-01  1.253047 -0.479571  0.211165  0.114843    one\n",
              "2013-01-02 -0.532468 -0.972869  0.613190 -0.700103    one\n",
              "2013-01-03  0.636940 -0.703702 -0.512657  0.333350    two\n",
              "2013-01-04  1.108272 -1.729209 -1.444019  0.022568  three\n",
              "2013-01-05  0.110328 -1.978644 -0.539618  0.463889   four\n",
              "2013-01-06  1.330928  0.215869  0.469587  0.242428  three"
            ]
          },
          "metadata": {
            "tags": []
          },
          "execution_count": 33
        }
      ]
    },
    {
      "cell_type": "code",
      "metadata": {
        "id": "qbXRmnC1qBFZ",
        "colab": {
          "base_uri": "https://localhost:8080/",
          "height": 111
        },
        "outputId": "0c811b11-7299-4d95-e980-53b262c26b9a"
      },
      "source": [
        "df2[df2['E'].isin(['two','four'])]"
      ],
      "execution_count": 34,
      "outputs": [
        {
          "output_type": "execute_result",
          "data": {
            "text/html": [
              "<div>\n",
              "<style scoped>\n",
              "    .dataframe tbody tr th:only-of-type {\n",
              "        vertical-align: middle;\n",
              "    }\n",
              "\n",
              "    .dataframe tbody tr th {\n",
              "        vertical-align: top;\n",
              "    }\n",
              "\n",
              "    .dataframe thead th {\n",
              "        text-align: right;\n",
              "    }\n",
              "</style>\n",
              "<table border=\"1\" class=\"dataframe\">\n",
              "  <thead>\n",
              "    <tr style=\"text-align: right;\">\n",
              "      <th></th>\n",
              "      <th>A</th>\n",
              "      <th>B</th>\n",
              "      <th>C</th>\n",
              "      <th>D</th>\n",
              "      <th>E</th>\n",
              "    </tr>\n",
              "  </thead>\n",
              "  <tbody>\n",
              "    <tr>\n",
              "      <th>2013-01-03</th>\n",
              "      <td>0.636940</td>\n",
              "      <td>-0.703702</td>\n",
              "      <td>-0.512657</td>\n",
              "      <td>0.333350</td>\n",
              "      <td>two</td>\n",
              "    </tr>\n",
              "    <tr>\n",
              "      <th>2013-01-05</th>\n",
              "      <td>0.110328</td>\n",
              "      <td>-1.978644</td>\n",
              "      <td>-0.539618</td>\n",
              "      <td>0.463889</td>\n",
              "      <td>four</td>\n",
              "    </tr>\n",
              "  </tbody>\n",
              "</table>\n",
              "</div>"
            ],
            "text/plain": [
              "                   A         B         C         D     E\n",
              "2013-01-03  0.636940 -0.703702 -0.512657  0.333350   two\n",
              "2013-01-05  0.110328 -1.978644 -0.539618  0.463889  four"
            ]
          },
          "metadata": {
            "tags": []
          },
          "execution_count": 34
        }
      ]
    },
    {
      "cell_type": "markdown",
      "metadata": {
        "id": "j7gP4FxfSEnu"
      },
      "source": [
        "## 값 설정하기"
      ]
    },
    {
      "cell_type": "code",
      "metadata": {
        "colab": {
          "base_uri": "https://localhost:8080/"
        },
        "id": "nNkYGKu7SEXe",
        "outputId": "868a4d43-5bfe-4a55-c065-4d01e7de18c2"
      },
      "source": [
        "s1 = pd.Series([1, 2, 3, 4, 5, 6], index=pd.date_range('20130102', periods=6))\n",
        "s1"
      ],
      "execution_count": 35,
      "outputs": [
        {
          "output_type": "execute_result",
          "data": {
            "text/plain": [
              "2013-01-02    1\n",
              "2013-01-03    2\n",
              "2013-01-04    3\n",
              "2013-01-05    4\n",
              "2013-01-06    5\n",
              "2013-01-07    6\n",
              "Freq: D, dtype: int64"
            ]
          },
          "metadata": {
            "tags": []
          },
          "execution_count": 35
        }
      ]
    },
    {
      "cell_type": "code",
      "metadata": {
        "colab": {
          "base_uri": "https://localhost:8080/",
          "height": 235
        },
        "id": "JP4wA3IQSRKa",
        "outputId": "bf41c6ae-9aca-46fa-bd55-cd83ec3eae2d"
      },
      "source": [
        "df"
      ],
      "execution_count": 36,
      "outputs": [
        {
          "output_type": "execute_result",
          "data": {
            "text/html": [
              "<div>\n",
              "<style scoped>\n",
              "    .dataframe tbody tr th:only-of-type {\n",
              "        vertical-align: middle;\n",
              "    }\n",
              "\n",
              "    .dataframe tbody tr th {\n",
              "        vertical-align: top;\n",
              "    }\n",
              "\n",
              "    .dataframe thead th {\n",
              "        text-align: right;\n",
              "    }\n",
              "</style>\n",
              "<table border=\"1\" class=\"dataframe\">\n",
              "  <thead>\n",
              "    <tr style=\"text-align: right;\">\n",
              "      <th></th>\n",
              "      <th>A</th>\n",
              "      <th>B</th>\n",
              "      <th>C</th>\n",
              "      <th>D</th>\n",
              "    </tr>\n",
              "  </thead>\n",
              "  <tbody>\n",
              "    <tr>\n",
              "      <th>2013-01-01</th>\n",
              "      <td>1.253047</td>\n",
              "      <td>-0.479571</td>\n",
              "      <td>0.211165</td>\n",
              "      <td>0.114843</td>\n",
              "    </tr>\n",
              "    <tr>\n",
              "      <th>2013-01-02</th>\n",
              "      <td>-0.532468</td>\n",
              "      <td>-0.972869</td>\n",
              "      <td>0.613190</td>\n",
              "      <td>-0.700103</td>\n",
              "    </tr>\n",
              "    <tr>\n",
              "      <th>2013-01-03</th>\n",
              "      <td>0.636940</td>\n",
              "      <td>-0.703702</td>\n",
              "      <td>-0.512657</td>\n",
              "      <td>0.333350</td>\n",
              "    </tr>\n",
              "    <tr>\n",
              "      <th>2013-01-04</th>\n",
              "      <td>1.108272</td>\n",
              "      <td>-1.729209</td>\n",
              "      <td>-1.444019</td>\n",
              "      <td>0.022568</td>\n",
              "    </tr>\n",
              "    <tr>\n",
              "      <th>2013-01-05</th>\n",
              "      <td>0.110328</td>\n",
              "      <td>-1.978644</td>\n",
              "      <td>-0.539618</td>\n",
              "      <td>0.463889</td>\n",
              "    </tr>\n",
              "    <tr>\n",
              "      <th>2013-01-06</th>\n",
              "      <td>1.330928</td>\n",
              "      <td>0.215869</td>\n",
              "      <td>0.469587</td>\n",
              "      <td>0.242428</td>\n",
              "    </tr>\n",
              "  </tbody>\n",
              "</table>\n",
              "</div>"
            ],
            "text/plain": [
              "                   A         B         C         D\n",
              "2013-01-01  1.253047 -0.479571  0.211165  0.114843\n",
              "2013-01-02 -0.532468 -0.972869  0.613190 -0.700103\n",
              "2013-01-03  0.636940 -0.703702 -0.512657  0.333350\n",
              "2013-01-04  1.108272 -1.729209 -1.444019  0.022568\n",
              "2013-01-05  0.110328 -1.978644 -0.539618  0.463889\n",
              "2013-01-06  1.330928  0.215869  0.469587  0.242428"
            ]
          },
          "metadata": {
            "tags": []
          },
          "execution_count": 36
        }
      ]
    },
    {
      "cell_type": "code",
      "metadata": {
        "colab": {
          "base_uri": "https://localhost:8080/",
          "height": 235
        },
        "id": "J2N60Zw0SSvA",
        "outputId": "5c59e9d6-a551-4899-8903-afa49251865d"
      },
      "source": [
        "# 새로운 컬럼 추가(인덱스에 해당하는 값만 가져옴)\n",
        "df['F'] = s1\n",
        "df"
      ],
      "execution_count": 37,
      "outputs": [
        {
          "output_type": "execute_result",
          "data": {
            "text/html": [
              "<div>\n",
              "<style scoped>\n",
              "    .dataframe tbody tr th:only-of-type {\n",
              "        vertical-align: middle;\n",
              "    }\n",
              "\n",
              "    .dataframe tbody tr th {\n",
              "        vertical-align: top;\n",
              "    }\n",
              "\n",
              "    .dataframe thead th {\n",
              "        text-align: right;\n",
              "    }\n",
              "</style>\n",
              "<table border=\"1\" class=\"dataframe\">\n",
              "  <thead>\n",
              "    <tr style=\"text-align: right;\">\n",
              "      <th></th>\n",
              "      <th>A</th>\n",
              "      <th>B</th>\n",
              "      <th>C</th>\n",
              "      <th>D</th>\n",
              "      <th>F</th>\n",
              "    </tr>\n",
              "  </thead>\n",
              "  <tbody>\n",
              "    <tr>\n",
              "      <th>2013-01-01</th>\n",
              "      <td>1.253047</td>\n",
              "      <td>-0.479571</td>\n",
              "      <td>0.211165</td>\n",
              "      <td>0.114843</td>\n",
              "      <td>NaN</td>\n",
              "    </tr>\n",
              "    <tr>\n",
              "      <th>2013-01-02</th>\n",
              "      <td>-0.532468</td>\n",
              "      <td>-0.972869</td>\n",
              "      <td>0.613190</td>\n",
              "      <td>-0.700103</td>\n",
              "      <td>1.0</td>\n",
              "    </tr>\n",
              "    <tr>\n",
              "      <th>2013-01-03</th>\n",
              "      <td>0.636940</td>\n",
              "      <td>-0.703702</td>\n",
              "      <td>-0.512657</td>\n",
              "      <td>0.333350</td>\n",
              "      <td>2.0</td>\n",
              "    </tr>\n",
              "    <tr>\n",
              "      <th>2013-01-04</th>\n",
              "      <td>1.108272</td>\n",
              "      <td>-1.729209</td>\n",
              "      <td>-1.444019</td>\n",
              "      <td>0.022568</td>\n",
              "      <td>3.0</td>\n",
              "    </tr>\n",
              "    <tr>\n",
              "      <th>2013-01-05</th>\n",
              "      <td>0.110328</td>\n",
              "      <td>-1.978644</td>\n",
              "      <td>-0.539618</td>\n",
              "      <td>0.463889</td>\n",
              "      <td>4.0</td>\n",
              "    </tr>\n",
              "    <tr>\n",
              "      <th>2013-01-06</th>\n",
              "      <td>1.330928</td>\n",
              "      <td>0.215869</td>\n",
              "      <td>0.469587</td>\n",
              "      <td>0.242428</td>\n",
              "      <td>5.0</td>\n",
              "    </tr>\n",
              "  </tbody>\n",
              "</table>\n",
              "</div>"
            ],
            "text/plain": [
              "                   A         B         C         D    F\n",
              "2013-01-01  1.253047 -0.479571  0.211165  0.114843  NaN\n",
              "2013-01-02 -0.532468 -0.972869  0.613190 -0.700103  1.0\n",
              "2013-01-03  0.636940 -0.703702 -0.512657  0.333350  2.0\n",
              "2013-01-04  1.108272 -1.729209 -1.444019  0.022568  3.0\n",
              "2013-01-05  0.110328 -1.978644 -0.539618  0.463889  4.0\n",
              "2013-01-06  1.330928  0.215869  0.469587  0.242428  5.0"
            ]
          },
          "metadata": {
            "tags": []
          },
          "execution_count": 37
        }
      ]
    },
    {
      "cell_type": "code",
      "metadata": {
        "colab": {
          "base_uri": "https://localhost:8080/",
          "height": 235
        },
        "id": "FP5WyB3ySYRc",
        "outputId": "7bf86c6a-0836-462b-e394-d84ddbe2ec40"
      },
      "source": [
        "# 새로운 값으로 바꾸기\n",
        "df.at[dates[0],'A'] = 0\n",
        "df.iat[0, 1] = 0\n",
        "df.loc[:, 'D'] = np.array([5] * len(df))\n",
        "df"
      ],
      "execution_count": 38,
      "outputs": [
        {
          "output_type": "execute_result",
          "data": {
            "text/html": [
              "<div>\n",
              "<style scoped>\n",
              "    .dataframe tbody tr th:only-of-type {\n",
              "        vertical-align: middle;\n",
              "    }\n",
              "\n",
              "    .dataframe tbody tr th {\n",
              "        vertical-align: top;\n",
              "    }\n",
              "\n",
              "    .dataframe thead th {\n",
              "        text-align: right;\n",
              "    }\n",
              "</style>\n",
              "<table border=\"1\" class=\"dataframe\">\n",
              "  <thead>\n",
              "    <tr style=\"text-align: right;\">\n",
              "      <th></th>\n",
              "      <th>A</th>\n",
              "      <th>B</th>\n",
              "      <th>C</th>\n",
              "      <th>D</th>\n",
              "      <th>F</th>\n",
              "    </tr>\n",
              "  </thead>\n",
              "  <tbody>\n",
              "    <tr>\n",
              "      <th>2013-01-01</th>\n",
              "      <td>0.000000</td>\n",
              "      <td>0.000000</td>\n",
              "      <td>0.211165</td>\n",
              "      <td>5</td>\n",
              "      <td>NaN</td>\n",
              "    </tr>\n",
              "    <tr>\n",
              "      <th>2013-01-02</th>\n",
              "      <td>-0.532468</td>\n",
              "      <td>-0.972869</td>\n",
              "      <td>0.613190</td>\n",
              "      <td>5</td>\n",
              "      <td>1.0</td>\n",
              "    </tr>\n",
              "    <tr>\n",
              "      <th>2013-01-03</th>\n",
              "      <td>0.636940</td>\n",
              "      <td>-0.703702</td>\n",
              "      <td>-0.512657</td>\n",
              "      <td>5</td>\n",
              "      <td>2.0</td>\n",
              "    </tr>\n",
              "    <tr>\n",
              "      <th>2013-01-04</th>\n",
              "      <td>1.108272</td>\n",
              "      <td>-1.729209</td>\n",
              "      <td>-1.444019</td>\n",
              "      <td>5</td>\n",
              "      <td>3.0</td>\n",
              "    </tr>\n",
              "    <tr>\n",
              "      <th>2013-01-05</th>\n",
              "      <td>0.110328</td>\n",
              "      <td>-1.978644</td>\n",
              "      <td>-0.539618</td>\n",
              "      <td>5</td>\n",
              "      <td>4.0</td>\n",
              "    </tr>\n",
              "    <tr>\n",
              "      <th>2013-01-06</th>\n",
              "      <td>1.330928</td>\n",
              "      <td>0.215869</td>\n",
              "      <td>0.469587</td>\n",
              "      <td>5</td>\n",
              "      <td>5.0</td>\n",
              "    </tr>\n",
              "  </tbody>\n",
              "</table>\n",
              "</div>"
            ],
            "text/plain": [
              "                   A         B         C  D    F\n",
              "2013-01-01  0.000000  0.000000  0.211165  5  NaN\n",
              "2013-01-02 -0.532468 -0.972869  0.613190  5  1.0\n",
              "2013-01-03  0.636940 -0.703702 -0.512657  5  2.0\n",
              "2013-01-04  1.108272 -1.729209 -1.444019  5  3.0\n",
              "2013-01-05  0.110328 -1.978644 -0.539618  5  4.0\n",
              "2013-01-06  1.330928  0.215869  0.469587  5  5.0"
            ]
          },
          "metadata": {
            "tags": []
          },
          "execution_count": 38
        }
      ]
    },
    {
      "cell_type": "code",
      "metadata": {
        "colab": {
          "base_uri": "https://localhost:8080/",
          "height": 235
        },
        "id": "PP7vsiRgTOp-",
        "outputId": "f26aded4-2848-4ff6-ce53-0b5317a2d1ff"
      },
      "source": [
        "df2 = df.copy()\n",
        "df2[df2>0] = -df2\n",
        "df2"
      ],
      "execution_count": 39,
      "outputs": [
        {
          "output_type": "execute_result",
          "data": {
            "text/html": [
              "<div>\n",
              "<style scoped>\n",
              "    .dataframe tbody tr th:only-of-type {\n",
              "        vertical-align: middle;\n",
              "    }\n",
              "\n",
              "    .dataframe tbody tr th {\n",
              "        vertical-align: top;\n",
              "    }\n",
              "\n",
              "    .dataframe thead th {\n",
              "        text-align: right;\n",
              "    }\n",
              "</style>\n",
              "<table border=\"1\" class=\"dataframe\">\n",
              "  <thead>\n",
              "    <tr style=\"text-align: right;\">\n",
              "      <th></th>\n",
              "      <th>A</th>\n",
              "      <th>B</th>\n",
              "      <th>C</th>\n",
              "      <th>D</th>\n",
              "      <th>F</th>\n",
              "    </tr>\n",
              "  </thead>\n",
              "  <tbody>\n",
              "    <tr>\n",
              "      <th>2013-01-01</th>\n",
              "      <td>0.000000</td>\n",
              "      <td>0.000000</td>\n",
              "      <td>-0.211165</td>\n",
              "      <td>-5</td>\n",
              "      <td>NaN</td>\n",
              "    </tr>\n",
              "    <tr>\n",
              "      <th>2013-01-02</th>\n",
              "      <td>-0.532468</td>\n",
              "      <td>-0.972869</td>\n",
              "      <td>-0.613190</td>\n",
              "      <td>-5</td>\n",
              "      <td>-1.0</td>\n",
              "    </tr>\n",
              "    <tr>\n",
              "      <th>2013-01-03</th>\n",
              "      <td>-0.636940</td>\n",
              "      <td>-0.703702</td>\n",
              "      <td>-0.512657</td>\n",
              "      <td>-5</td>\n",
              "      <td>-2.0</td>\n",
              "    </tr>\n",
              "    <tr>\n",
              "      <th>2013-01-04</th>\n",
              "      <td>-1.108272</td>\n",
              "      <td>-1.729209</td>\n",
              "      <td>-1.444019</td>\n",
              "      <td>-5</td>\n",
              "      <td>-3.0</td>\n",
              "    </tr>\n",
              "    <tr>\n",
              "      <th>2013-01-05</th>\n",
              "      <td>-0.110328</td>\n",
              "      <td>-1.978644</td>\n",
              "      <td>-0.539618</td>\n",
              "      <td>-5</td>\n",
              "      <td>-4.0</td>\n",
              "    </tr>\n",
              "    <tr>\n",
              "      <th>2013-01-06</th>\n",
              "      <td>-1.330928</td>\n",
              "      <td>-0.215869</td>\n",
              "      <td>-0.469587</td>\n",
              "      <td>-5</td>\n",
              "      <td>-5.0</td>\n",
              "    </tr>\n",
              "  </tbody>\n",
              "</table>\n",
              "</div>"
            ],
            "text/plain": [
              "                   A         B         C  D    F\n",
              "2013-01-01  0.000000  0.000000 -0.211165 -5  NaN\n",
              "2013-01-02 -0.532468 -0.972869 -0.613190 -5 -1.0\n",
              "2013-01-03 -0.636940 -0.703702 -0.512657 -5 -2.0\n",
              "2013-01-04 -1.108272 -1.729209 -1.444019 -5 -3.0\n",
              "2013-01-05 -0.110328 -1.978644 -0.539618 -5 -4.0\n",
              "2013-01-06 -1.330928 -0.215869 -0.469587 -5 -5.0"
            ]
          },
          "metadata": {
            "tags": []
          },
          "execution_count": 39
        }
      ]
    },
    {
      "cell_type": "markdown",
      "metadata": {
        "id": "eOF3ktnqjav2"
      },
      "source": [
        "# 4. 결측치 처리 (Missing data)"
      ]
    },
    {
      "cell_type": "code",
      "metadata": {
        "colab": {
          "base_uri": "https://localhost:8080/",
          "height": 173
        },
        "id": "2lcwnZ0Ljh9h",
        "outputId": "4ff526f9-2cbc-43f0-e3b8-65aa6d3c74c9"
      },
      "source": [
        "# 인덱스 변경/추가/삭제: reindex\n",
        "df1 = df.reindex(index=dates[0:4], columns=list(df.columns)+['E'])\n",
        "df1.loc[dates[0]:dates[1],'E'] = 1\n",
        "df1"
      ],
      "execution_count": 40,
      "outputs": [
        {
          "output_type": "execute_result",
          "data": {
            "text/html": [
              "<div>\n",
              "<style scoped>\n",
              "    .dataframe tbody tr th:only-of-type {\n",
              "        vertical-align: middle;\n",
              "    }\n",
              "\n",
              "    .dataframe tbody tr th {\n",
              "        vertical-align: top;\n",
              "    }\n",
              "\n",
              "    .dataframe thead th {\n",
              "        text-align: right;\n",
              "    }\n",
              "</style>\n",
              "<table border=\"1\" class=\"dataframe\">\n",
              "  <thead>\n",
              "    <tr style=\"text-align: right;\">\n",
              "      <th></th>\n",
              "      <th>A</th>\n",
              "      <th>B</th>\n",
              "      <th>C</th>\n",
              "      <th>D</th>\n",
              "      <th>F</th>\n",
              "      <th>E</th>\n",
              "    </tr>\n",
              "  </thead>\n",
              "  <tbody>\n",
              "    <tr>\n",
              "      <th>2013-01-01</th>\n",
              "      <td>0.000000</td>\n",
              "      <td>0.000000</td>\n",
              "      <td>0.211165</td>\n",
              "      <td>5</td>\n",
              "      <td>NaN</td>\n",
              "      <td>1.0</td>\n",
              "    </tr>\n",
              "    <tr>\n",
              "      <th>2013-01-02</th>\n",
              "      <td>-0.532468</td>\n",
              "      <td>-0.972869</td>\n",
              "      <td>0.613190</td>\n",
              "      <td>5</td>\n",
              "      <td>1.0</td>\n",
              "      <td>1.0</td>\n",
              "    </tr>\n",
              "    <tr>\n",
              "      <th>2013-01-03</th>\n",
              "      <td>0.636940</td>\n",
              "      <td>-0.703702</td>\n",
              "      <td>-0.512657</td>\n",
              "      <td>5</td>\n",
              "      <td>2.0</td>\n",
              "      <td>NaN</td>\n",
              "    </tr>\n",
              "    <tr>\n",
              "      <th>2013-01-04</th>\n",
              "      <td>1.108272</td>\n",
              "      <td>-1.729209</td>\n",
              "      <td>-1.444019</td>\n",
              "      <td>5</td>\n",
              "      <td>3.0</td>\n",
              "      <td>NaN</td>\n",
              "    </tr>\n",
              "  </tbody>\n",
              "</table>\n",
              "</div>"
            ],
            "text/plain": [
              "                   A         B         C  D    F    E\n",
              "2013-01-01  0.000000  0.000000  0.211165  5  NaN  1.0\n",
              "2013-01-02 -0.532468 -0.972869  0.613190  5  1.0  1.0\n",
              "2013-01-03  0.636940 -0.703702 -0.512657  5  2.0  NaN\n",
              "2013-01-04  1.108272 -1.729209 -1.444019  5  3.0  NaN"
            ]
          },
          "metadata": {
            "tags": []
          },
          "execution_count": 40
        }
      ]
    },
    {
      "cell_type": "code",
      "metadata": {
        "colab": {
          "base_uri": "https://localhost:8080/",
          "height": 80
        },
        "id": "uC9nlfl0kOUx",
        "outputId": "b393aadb-00c3-4b09-e05b-c5089db2e04c"
      },
      "source": [
        "# 결측치 있는 행 모두 삭제\n",
        "df1.dropna(how='any')"
      ],
      "execution_count": 41,
      "outputs": [
        {
          "output_type": "execute_result",
          "data": {
            "text/html": [
              "<div>\n",
              "<style scoped>\n",
              "    .dataframe tbody tr th:only-of-type {\n",
              "        vertical-align: middle;\n",
              "    }\n",
              "\n",
              "    .dataframe tbody tr th {\n",
              "        vertical-align: top;\n",
              "    }\n",
              "\n",
              "    .dataframe thead th {\n",
              "        text-align: right;\n",
              "    }\n",
              "</style>\n",
              "<table border=\"1\" class=\"dataframe\">\n",
              "  <thead>\n",
              "    <tr style=\"text-align: right;\">\n",
              "      <th></th>\n",
              "      <th>A</th>\n",
              "      <th>B</th>\n",
              "      <th>C</th>\n",
              "      <th>D</th>\n",
              "      <th>F</th>\n",
              "      <th>E</th>\n",
              "    </tr>\n",
              "  </thead>\n",
              "  <tbody>\n",
              "    <tr>\n",
              "      <th>2013-01-02</th>\n",
              "      <td>-0.532468</td>\n",
              "      <td>-0.972869</td>\n",
              "      <td>0.61319</td>\n",
              "      <td>5</td>\n",
              "      <td>1.0</td>\n",
              "      <td>1.0</td>\n",
              "    </tr>\n",
              "  </tbody>\n",
              "</table>\n",
              "</div>"
            ],
            "text/plain": [
              "                   A         B        C  D    F    E\n",
              "2013-01-02 -0.532468 -0.972869  0.61319  5  1.0  1.0"
            ]
          },
          "metadata": {
            "tags": []
          },
          "execution_count": 41
        }
      ]
    },
    {
      "cell_type": "code",
      "metadata": {
        "colab": {
          "base_uri": "https://localhost:8080/",
          "height": 173
        },
        "id": "RvyfrSBxkUvb",
        "outputId": "6145279e-d1bd-4912-a71f-896147f4b4ca"
      },
      "source": [
        "# 모든 결측치 값에 5 넣기\n",
        "df1.fillna(value=5)"
      ],
      "execution_count": 42,
      "outputs": [
        {
          "output_type": "execute_result",
          "data": {
            "text/html": [
              "<div>\n",
              "<style scoped>\n",
              "    .dataframe tbody tr th:only-of-type {\n",
              "        vertical-align: middle;\n",
              "    }\n",
              "\n",
              "    .dataframe tbody tr th {\n",
              "        vertical-align: top;\n",
              "    }\n",
              "\n",
              "    .dataframe thead th {\n",
              "        text-align: right;\n",
              "    }\n",
              "</style>\n",
              "<table border=\"1\" class=\"dataframe\">\n",
              "  <thead>\n",
              "    <tr style=\"text-align: right;\">\n",
              "      <th></th>\n",
              "      <th>A</th>\n",
              "      <th>B</th>\n",
              "      <th>C</th>\n",
              "      <th>D</th>\n",
              "      <th>F</th>\n",
              "      <th>E</th>\n",
              "    </tr>\n",
              "  </thead>\n",
              "  <tbody>\n",
              "    <tr>\n",
              "      <th>2013-01-01</th>\n",
              "      <td>0.000000</td>\n",
              "      <td>0.000000</td>\n",
              "      <td>0.211165</td>\n",
              "      <td>5</td>\n",
              "      <td>5.0</td>\n",
              "      <td>1.0</td>\n",
              "    </tr>\n",
              "    <tr>\n",
              "      <th>2013-01-02</th>\n",
              "      <td>-0.532468</td>\n",
              "      <td>-0.972869</td>\n",
              "      <td>0.613190</td>\n",
              "      <td>5</td>\n",
              "      <td>1.0</td>\n",
              "      <td>1.0</td>\n",
              "    </tr>\n",
              "    <tr>\n",
              "      <th>2013-01-03</th>\n",
              "      <td>0.636940</td>\n",
              "      <td>-0.703702</td>\n",
              "      <td>-0.512657</td>\n",
              "      <td>5</td>\n",
              "      <td>2.0</td>\n",
              "      <td>5.0</td>\n",
              "    </tr>\n",
              "    <tr>\n",
              "      <th>2013-01-04</th>\n",
              "      <td>1.108272</td>\n",
              "      <td>-1.729209</td>\n",
              "      <td>-1.444019</td>\n",
              "      <td>5</td>\n",
              "      <td>3.0</td>\n",
              "      <td>5.0</td>\n",
              "    </tr>\n",
              "  </tbody>\n",
              "</table>\n",
              "</div>"
            ],
            "text/plain": [
              "                   A         B         C  D    F    E\n",
              "2013-01-01  0.000000  0.000000  0.211165  5  5.0  1.0\n",
              "2013-01-02 -0.532468 -0.972869  0.613190  5  1.0  1.0\n",
              "2013-01-03  0.636940 -0.703702 -0.512657  5  2.0  5.0\n",
              "2013-01-04  1.108272 -1.729209 -1.444019  5  3.0  5.0"
            ]
          },
          "metadata": {
            "tags": []
          },
          "execution_count": 42
        }
      ]
    },
    {
      "cell_type": "code",
      "metadata": {
        "colab": {
          "base_uri": "https://localhost:8080/"
        },
        "id": "pv4IihZXkjsc",
        "outputId": "85725b2d-6410-43c0-8016-21dad3a20742"
      },
      "source": [
        "# 특정 컬럼의 결측치 값에 5 넣기\n",
        "df1.F.fillna(value=5)"
      ],
      "execution_count": 43,
      "outputs": [
        {
          "output_type": "execute_result",
          "data": {
            "text/plain": [
              "2013-01-01    5.0\n",
              "2013-01-02    1.0\n",
              "2013-01-03    2.0\n",
              "2013-01-04    3.0\n",
              "Freq: D, Name: F, dtype: float64"
            ]
          },
          "metadata": {
            "tags": []
          },
          "execution_count": 43
        }
      ]
    },
    {
      "cell_type": "code",
      "metadata": {
        "colab": {
          "base_uri": "https://localhost:8080/",
          "height": 173
        },
        "id": "8yvLeX-lkuhv",
        "outputId": "bf80b1a7-7072-4635-d4d8-e38a437755f9"
      },
      "source": [
        "# 결측치 있는지 없는지 위치 확인하기\n",
        "pd.isna(df1)"
      ],
      "execution_count": 44,
      "outputs": [
        {
          "output_type": "execute_result",
          "data": {
            "text/html": [
              "<div>\n",
              "<style scoped>\n",
              "    .dataframe tbody tr th:only-of-type {\n",
              "        vertical-align: middle;\n",
              "    }\n",
              "\n",
              "    .dataframe tbody tr th {\n",
              "        vertical-align: top;\n",
              "    }\n",
              "\n",
              "    .dataframe thead th {\n",
              "        text-align: right;\n",
              "    }\n",
              "</style>\n",
              "<table border=\"1\" class=\"dataframe\">\n",
              "  <thead>\n",
              "    <tr style=\"text-align: right;\">\n",
              "      <th></th>\n",
              "      <th>A</th>\n",
              "      <th>B</th>\n",
              "      <th>C</th>\n",
              "      <th>D</th>\n",
              "      <th>F</th>\n",
              "      <th>E</th>\n",
              "    </tr>\n",
              "  </thead>\n",
              "  <tbody>\n",
              "    <tr>\n",
              "      <th>2013-01-01</th>\n",
              "      <td>False</td>\n",
              "      <td>False</td>\n",
              "      <td>False</td>\n",
              "      <td>False</td>\n",
              "      <td>True</td>\n",
              "      <td>False</td>\n",
              "    </tr>\n",
              "    <tr>\n",
              "      <th>2013-01-02</th>\n",
              "      <td>False</td>\n",
              "      <td>False</td>\n",
              "      <td>False</td>\n",
              "      <td>False</td>\n",
              "      <td>False</td>\n",
              "      <td>False</td>\n",
              "    </tr>\n",
              "    <tr>\n",
              "      <th>2013-01-03</th>\n",
              "      <td>False</td>\n",
              "      <td>False</td>\n",
              "      <td>False</td>\n",
              "      <td>False</td>\n",
              "      <td>False</td>\n",
              "      <td>True</td>\n",
              "    </tr>\n",
              "    <tr>\n",
              "      <th>2013-01-04</th>\n",
              "      <td>False</td>\n",
              "      <td>False</td>\n",
              "      <td>False</td>\n",
              "      <td>False</td>\n",
              "      <td>False</td>\n",
              "      <td>True</td>\n",
              "    </tr>\n",
              "  </tbody>\n",
              "</table>\n",
              "</div>"
            ],
            "text/plain": [
              "                A      B      C      D      F      E\n",
              "2013-01-01  False  False  False  False   True  False\n",
              "2013-01-02  False  False  False  False  False  False\n",
              "2013-01-03  False  False  False  False  False   True\n",
              "2013-01-04  False  False  False  False  False   True"
            ]
          },
          "metadata": {
            "tags": []
          },
          "execution_count": 44
        }
      ]
    },
    {
      "cell_type": "markdown",
      "metadata": {
        "id": "xj8iCsQonzNh"
      },
      "source": [
        "# 5. 조작 (Operations)"
      ]
    },
    {
      "cell_type": "markdown",
      "metadata": {
        "id": "2Bm3gs4Ln3N8"
      },
      "source": [
        "## 데이터 프레임의 기본 통계 구하기"
      ]
    },
    {
      "cell_type": "code",
      "metadata": {
        "colab": {
          "base_uri": "https://localhost:8080/"
        },
        "id": "YaRHsUiSn2EV",
        "outputId": "d0170773-1d4a-4c32-c109-63f30eec3b13"
      },
      "source": [
        "print(df.mean())  # 컬럼별 평균\n",
        "print(df.mean(1)) # 행별 평균"
      ],
      "execution_count": 45,
      "outputs": [
        {
          "output_type": "stream",
          "text": [
            "A    0.442334\n",
            "B   -0.861426\n",
            "C   -0.200392\n",
            "D    5.000000\n",
            "F    3.000000\n",
            "dtype: float64\n",
            "2013-01-01    1.302791\n",
            "2013-01-02    1.021571\n",
            "2013-01-03    1.284116\n",
            "2013-01-04    1.187009\n",
            "2013-01-05    1.318413\n",
            "2013-01-06    2.403277\n",
            "Freq: D, dtype: float64\n"
          ],
          "name": "stdout"
        }
      ]
    },
    {
      "cell_type": "code",
      "metadata": {
        "colab": {
          "base_uri": "https://localhost:8080/"
        },
        "id": "uM0Dzut9oBIu",
        "outputId": "07f63672-3815-49f3-a3fe-120125794921"
      },
      "source": [
        "s = pd.Series([1,3,5,np.nan,6,8], index=dates).shift(2)\n",
        "s"
      ],
      "execution_count": 46,
      "outputs": [
        {
          "output_type": "execute_result",
          "data": {
            "text/plain": [
              "2013-01-01    NaN\n",
              "2013-01-02    NaN\n",
              "2013-01-03    1.0\n",
              "2013-01-04    3.0\n",
              "2013-01-05    5.0\n",
              "2013-01-06    NaN\n",
              "Freq: D, dtype: float64"
            ]
          },
          "metadata": {
            "tags": []
          },
          "execution_count": 46
        }
      ]
    },
    {
      "cell_type": "code",
      "metadata": {
        "colab": {
          "base_uri": "https://localhost:8080/",
          "height": 354
        },
        "id": "Nb9L6HLAk20T",
        "outputId": "ae1a22f8-b942-455d-cc7e-caea3d440e52"
      },
      "source": [
        "print(df)\n",
        "df.sub(s, axis='index')"
      ],
      "execution_count": 47,
      "outputs": [
        {
          "output_type": "stream",
          "text": [
            "                   A         B         C  D    F\n",
            "2013-01-01  0.000000  0.000000  0.211165  5  NaN\n",
            "2013-01-02 -0.532468 -0.972869  0.613190  5  1.0\n",
            "2013-01-03  0.636940 -0.703702 -0.512657  5  2.0\n",
            "2013-01-04  1.108272 -1.729209 -1.444019  5  3.0\n",
            "2013-01-05  0.110328 -1.978644 -0.539618  5  4.0\n",
            "2013-01-06  1.330928  0.215869  0.469587  5  5.0\n"
          ],
          "name": "stdout"
        },
        {
          "output_type": "execute_result",
          "data": {
            "text/html": [
              "<div>\n",
              "<style scoped>\n",
              "    .dataframe tbody tr th:only-of-type {\n",
              "        vertical-align: middle;\n",
              "    }\n",
              "\n",
              "    .dataframe tbody tr th {\n",
              "        vertical-align: top;\n",
              "    }\n",
              "\n",
              "    .dataframe thead th {\n",
              "        text-align: right;\n",
              "    }\n",
              "</style>\n",
              "<table border=\"1\" class=\"dataframe\">\n",
              "  <thead>\n",
              "    <tr style=\"text-align: right;\">\n",
              "      <th></th>\n",
              "      <th>A</th>\n",
              "      <th>B</th>\n",
              "      <th>C</th>\n",
              "      <th>D</th>\n",
              "      <th>F</th>\n",
              "    </tr>\n",
              "  </thead>\n",
              "  <tbody>\n",
              "    <tr>\n",
              "      <th>2013-01-01</th>\n",
              "      <td>NaN</td>\n",
              "      <td>NaN</td>\n",
              "      <td>NaN</td>\n",
              "      <td>NaN</td>\n",
              "      <td>NaN</td>\n",
              "    </tr>\n",
              "    <tr>\n",
              "      <th>2013-01-02</th>\n",
              "      <td>NaN</td>\n",
              "      <td>NaN</td>\n",
              "      <td>NaN</td>\n",
              "      <td>NaN</td>\n",
              "      <td>NaN</td>\n",
              "    </tr>\n",
              "    <tr>\n",
              "      <th>2013-01-03</th>\n",
              "      <td>-0.363060</td>\n",
              "      <td>-1.703702</td>\n",
              "      <td>-1.512657</td>\n",
              "      <td>4.0</td>\n",
              "      <td>1.0</td>\n",
              "    </tr>\n",
              "    <tr>\n",
              "      <th>2013-01-04</th>\n",
              "      <td>-1.891728</td>\n",
              "      <td>-4.729209</td>\n",
              "      <td>-4.444019</td>\n",
              "      <td>2.0</td>\n",
              "      <td>0.0</td>\n",
              "    </tr>\n",
              "    <tr>\n",
              "      <th>2013-01-05</th>\n",
              "      <td>-4.889672</td>\n",
              "      <td>-6.978644</td>\n",
              "      <td>-5.539618</td>\n",
              "      <td>0.0</td>\n",
              "      <td>-1.0</td>\n",
              "    </tr>\n",
              "    <tr>\n",
              "      <th>2013-01-06</th>\n",
              "      <td>NaN</td>\n",
              "      <td>NaN</td>\n",
              "      <td>NaN</td>\n",
              "      <td>NaN</td>\n",
              "      <td>NaN</td>\n",
              "    </tr>\n",
              "  </tbody>\n",
              "</table>\n",
              "</div>"
            ],
            "text/plain": [
              "                   A         B         C    D    F\n",
              "2013-01-01       NaN       NaN       NaN  NaN  NaN\n",
              "2013-01-02       NaN       NaN       NaN  NaN  NaN\n",
              "2013-01-03 -0.363060 -1.703702 -1.512657  4.0  1.0\n",
              "2013-01-04 -1.891728 -4.729209 -4.444019  2.0  0.0\n",
              "2013-01-05 -4.889672 -6.978644 -5.539618  0.0 -1.0\n",
              "2013-01-06       NaN       NaN       NaN  NaN  NaN"
            ]
          },
          "metadata": {
            "tags": []
          },
          "execution_count": 47
        }
      ]
    },
    {
      "cell_type": "markdown",
      "metadata": {
        "id": "Y3idFf9_o3w9"
      },
      "source": [
        "## 데이터 프레임에 함수 적용하기: df.apply()"
      ]
    },
    {
      "cell_type": "code",
      "metadata": {
        "colab": {
          "base_uri": "https://localhost:8080/",
          "height": 235
        },
        "id": "FWXWoq-fpP3L",
        "outputId": "dc195a28-6122-4ea7-9b6a-aac25109fe60"
      },
      "source": [
        "df"
      ],
      "execution_count": 48,
      "outputs": [
        {
          "output_type": "execute_result",
          "data": {
            "text/html": [
              "<div>\n",
              "<style scoped>\n",
              "    .dataframe tbody tr th:only-of-type {\n",
              "        vertical-align: middle;\n",
              "    }\n",
              "\n",
              "    .dataframe tbody tr th {\n",
              "        vertical-align: top;\n",
              "    }\n",
              "\n",
              "    .dataframe thead th {\n",
              "        text-align: right;\n",
              "    }\n",
              "</style>\n",
              "<table border=\"1\" class=\"dataframe\">\n",
              "  <thead>\n",
              "    <tr style=\"text-align: right;\">\n",
              "      <th></th>\n",
              "      <th>A</th>\n",
              "      <th>B</th>\n",
              "      <th>C</th>\n",
              "      <th>D</th>\n",
              "      <th>F</th>\n",
              "    </tr>\n",
              "  </thead>\n",
              "  <tbody>\n",
              "    <tr>\n",
              "      <th>2013-01-01</th>\n",
              "      <td>0.000000</td>\n",
              "      <td>0.000000</td>\n",
              "      <td>0.211165</td>\n",
              "      <td>5</td>\n",
              "      <td>NaN</td>\n",
              "    </tr>\n",
              "    <tr>\n",
              "      <th>2013-01-02</th>\n",
              "      <td>-0.532468</td>\n",
              "      <td>-0.972869</td>\n",
              "      <td>0.613190</td>\n",
              "      <td>5</td>\n",
              "      <td>1.0</td>\n",
              "    </tr>\n",
              "    <tr>\n",
              "      <th>2013-01-03</th>\n",
              "      <td>0.636940</td>\n",
              "      <td>-0.703702</td>\n",
              "      <td>-0.512657</td>\n",
              "      <td>5</td>\n",
              "      <td>2.0</td>\n",
              "    </tr>\n",
              "    <tr>\n",
              "      <th>2013-01-04</th>\n",
              "      <td>1.108272</td>\n",
              "      <td>-1.729209</td>\n",
              "      <td>-1.444019</td>\n",
              "      <td>5</td>\n",
              "      <td>3.0</td>\n",
              "    </tr>\n",
              "    <tr>\n",
              "      <th>2013-01-05</th>\n",
              "      <td>0.110328</td>\n",
              "      <td>-1.978644</td>\n",
              "      <td>-0.539618</td>\n",
              "      <td>5</td>\n",
              "      <td>4.0</td>\n",
              "    </tr>\n",
              "    <tr>\n",
              "      <th>2013-01-06</th>\n",
              "      <td>1.330928</td>\n",
              "      <td>0.215869</td>\n",
              "      <td>0.469587</td>\n",
              "      <td>5</td>\n",
              "      <td>5.0</td>\n",
              "    </tr>\n",
              "  </tbody>\n",
              "</table>\n",
              "</div>"
            ],
            "text/plain": [
              "                   A         B         C  D    F\n",
              "2013-01-01  0.000000  0.000000  0.211165  5  NaN\n",
              "2013-01-02 -0.532468 -0.972869  0.613190  5  1.0\n",
              "2013-01-03  0.636940 -0.703702 -0.512657  5  2.0\n",
              "2013-01-04  1.108272 -1.729209 -1.444019  5  3.0\n",
              "2013-01-05  0.110328 -1.978644 -0.539618  5  4.0\n",
              "2013-01-06  1.330928  0.215869  0.469587  5  5.0"
            ]
          },
          "metadata": {
            "tags": []
          },
          "execution_count": 48
        }
      ]
    },
    {
      "cell_type": "code",
      "metadata": {
        "colab": {
          "base_uri": "https://localhost:8080/",
          "height": 235
        },
        "id": "Z7rBL_izot-9",
        "outputId": "27818a2e-25e2-4105-deb4-1d7c3991fb70"
      },
      "source": [
        "# df의 컬럼별로 누적합 구하기\n",
        "df.apply(np.cumsum)"
      ],
      "execution_count": 49,
      "outputs": [
        {
          "output_type": "execute_result",
          "data": {
            "text/html": [
              "<div>\n",
              "<style scoped>\n",
              "    .dataframe tbody tr th:only-of-type {\n",
              "        vertical-align: middle;\n",
              "    }\n",
              "\n",
              "    .dataframe tbody tr th {\n",
              "        vertical-align: top;\n",
              "    }\n",
              "\n",
              "    .dataframe thead th {\n",
              "        text-align: right;\n",
              "    }\n",
              "</style>\n",
              "<table border=\"1\" class=\"dataframe\">\n",
              "  <thead>\n",
              "    <tr style=\"text-align: right;\">\n",
              "      <th></th>\n",
              "      <th>A</th>\n",
              "      <th>B</th>\n",
              "      <th>C</th>\n",
              "      <th>D</th>\n",
              "      <th>F</th>\n",
              "    </tr>\n",
              "  </thead>\n",
              "  <tbody>\n",
              "    <tr>\n",
              "      <th>2013-01-01</th>\n",
              "      <td>0.000000</td>\n",
              "      <td>0.000000</td>\n",
              "      <td>0.211165</td>\n",
              "      <td>5</td>\n",
              "      <td>NaN</td>\n",
              "    </tr>\n",
              "    <tr>\n",
              "      <th>2013-01-02</th>\n",
              "      <td>-0.532468</td>\n",
              "      <td>-0.972869</td>\n",
              "      <td>0.824355</td>\n",
              "      <td>10</td>\n",
              "      <td>1.0</td>\n",
              "    </tr>\n",
              "    <tr>\n",
              "      <th>2013-01-03</th>\n",
              "      <td>0.104473</td>\n",
              "      <td>-1.676571</td>\n",
              "      <td>0.311698</td>\n",
              "      <td>15</td>\n",
              "      <td>3.0</td>\n",
              "    </tr>\n",
              "    <tr>\n",
              "      <th>2013-01-04</th>\n",
              "      <td>1.212745</td>\n",
              "      <td>-3.405780</td>\n",
              "      <td>-1.132321</td>\n",
              "      <td>20</td>\n",
              "      <td>6.0</td>\n",
              "    </tr>\n",
              "    <tr>\n",
              "      <th>2013-01-05</th>\n",
              "      <td>1.323073</td>\n",
              "      <td>-5.384424</td>\n",
              "      <td>-1.671939</td>\n",
              "      <td>25</td>\n",
              "      <td>10.0</td>\n",
              "    </tr>\n",
              "    <tr>\n",
              "      <th>2013-01-06</th>\n",
              "      <td>2.654001</td>\n",
              "      <td>-5.168555</td>\n",
              "      <td>-1.202352</td>\n",
              "      <td>30</td>\n",
              "      <td>15.0</td>\n",
              "    </tr>\n",
              "  </tbody>\n",
              "</table>\n",
              "</div>"
            ],
            "text/plain": [
              "                   A         B         C   D     F\n",
              "2013-01-01  0.000000  0.000000  0.211165   5   NaN\n",
              "2013-01-02 -0.532468 -0.972869  0.824355  10   1.0\n",
              "2013-01-03  0.104473 -1.676571  0.311698  15   3.0\n",
              "2013-01-04  1.212745 -3.405780 -1.132321  20   6.0\n",
              "2013-01-05  1.323073 -5.384424 -1.671939  25  10.0\n",
              "2013-01-06  2.654001 -5.168555 -1.202352  30  15.0"
            ]
          },
          "metadata": {
            "tags": []
          },
          "execution_count": 49
        }
      ]
    },
    {
      "cell_type": "code",
      "metadata": {
        "colab": {
          "base_uri": "https://localhost:8080/"
        },
        "id": "2UD0aDrupmb9",
        "outputId": "434192c1-4de8-4071-d19f-f62c6bd06f77"
      },
      "source": [
        "# df의 컬럼별로 lambda함수 적용하기\n",
        "df.apply(lambda x:x.max()-x.min())"
      ],
      "execution_count": 50,
      "outputs": [
        {
          "output_type": "execute_result",
          "data": {
            "text/plain": [
              "A    1.863396\n",
              "B    2.194513\n",
              "C    2.057209\n",
              "D    0.000000\n",
              "F    4.000000\n",
              "dtype: float64"
            ]
          },
          "metadata": {
            "tags": []
          },
          "execution_count": 50
        }
      ]
    },
    {
      "cell_type": "markdown",
      "metadata": {
        "id": "y_uxwJHeqU89"
      },
      "source": [
        "## 열의 value 개수 세기: s.value_counts()"
      ]
    },
    {
      "cell_type": "code",
      "metadata": {
        "colab": {
          "base_uri": "https://localhost:8080/"
        },
        "id": "Rcuczhnjp3G9",
        "outputId": "f3a896f9-3e93-495f-e8b9-a60971167adc"
      },
      "source": [
        "s = pd.Series(np.random.randint(0,7,size=10))\n",
        "s"
      ],
      "execution_count": 51,
      "outputs": [
        {
          "output_type": "execute_result",
          "data": {
            "text/plain": [
              "0    1\n",
              "1    2\n",
              "2    1\n",
              "3    2\n",
              "4    4\n",
              "5    6\n",
              "6    5\n",
              "7    4\n",
              "8    0\n",
              "9    3\n",
              "dtype: int64"
            ]
          },
          "metadata": {
            "tags": []
          },
          "execution_count": 51
        }
      ]
    },
    {
      "cell_type": "code",
      "metadata": {
        "colab": {
          "base_uri": "https://localhost:8080/"
        },
        "id": "ONZsP_-pqgHw",
        "outputId": "9dba7973-9fa6-42b2-b980-4163b16d41c1"
      },
      "source": [
        "s.value_counts()"
      ],
      "execution_count": 52,
      "outputs": [
        {
          "output_type": "execute_result",
          "data": {
            "text/plain": [
              "4    2\n",
              "2    2\n",
              "1    2\n",
              "6    1\n",
              "5    1\n",
              "3    1\n",
              "0    1\n",
              "dtype: int64"
            ]
          },
          "metadata": {
            "tags": []
          },
          "execution_count": 52
        }
      ]
    },
    {
      "cell_type": "markdown",
      "metadata": {
        "id": "qYdayhB6rBmX"
      },
      "source": [
        "## 문자열 조작하기"
      ]
    },
    {
      "cell_type": "code",
      "metadata": {
        "colab": {
          "base_uri": "https://localhost:8080/"
        },
        "id": "TNdrDMphqh_O",
        "outputId": "096700d6-5b51-4c0a-90f7-a9310df68c2b"
      },
      "source": [
        "s = pd.Series(['A', 'B', 'C', 'Aaba', 'Baca', np.nan, 'CABA', 'dog', 'cat'])\n",
        "s"
      ],
      "execution_count": 53,
      "outputs": [
        {
          "output_type": "execute_result",
          "data": {
            "text/plain": [
              "0       A\n",
              "1       B\n",
              "2       C\n",
              "3    Aaba\n",
              "4    Baca\n",
              "5     NaN\n",
              "6    CABA\n",
              "7     dog\n",
              "8     cat\n",
              "dtype: object"
            ]
          },
          "metadata": {
            "tags": []
          },
          "execution_count": 53
        }
      ]
    },
    {
      "cell_type": "code",
      "metadata": {
        "colab": {
          "base_uri": "https://localhost:8080/"
        },
        "id": "PuUAuRJrrMU8",
        "outputId": "ff1ee172-935f-45ea-8730-f74f7ae24918"
      },
      "source": [
        "# 대문자 > 소문자로 만들기\n",
        "s.str.lower()"
      ],
      "execution_count": 54,
      "outputs": [
        {
          "output_type": "execute_result",
          "data": {
            "text/plain": [
              "0       a\n",
              "1       b\n",
              "2       c\n",
              "3    aaba\n",
              "4    baca\n",
              "5     NaN\n",
              "6    caba\n",
              "7     dog\n",
              "8     cat\n",
              "dtype: object"
            ]
          },
          "metadata": {
            "tags": []
          },
          "execution_count": 54
        }
      ]
    },
    {
      "cell_type": "markdown",
      "metadata": {
        "id": "vQofGsNjr7Ko"
      },
      "source": [
        "# 6. 합치기 (Merge)\n",
        "- pd.concat()\n",
        "- pd.merge()"
      ]
    },
    {
      "cell_type": "code",
      "metadata": {
        "colab": {
          "base_uri": "https://localhost:8080/",
          "height": 546
        },
        "id": "fRZDyQVUsI5v",
        "outputId": "6d3862a9-1bdc-445a-a976-97622ff33dac"
      },
      "source": [
        "df = pd.DataFrame(np.random.randn(10, 4))\n",
        "print(df)\n",
        "# 데이터 프레임 여러 조각으로 쪼개기\n",
        "pieces = [df[:3],df[3:7],df[7:]]\n",
        "pd.concat(pieces)"
      ],
      "execution_count": 55,
      "outputs": [
        {
          "output_type": "stream",
          "text": [
            "          0         1         2         3\n",
            "0  0.356017 -0.075286 -0.663907 -0.001398\n",
            "1  0.728654 -0.020000  0.732012  0.831441\n",
            "2  0.889750 -0.216586  0.038212 -1.671312\n",
            "3  1.963342  0.925283 -1.623007  0.627622\n",
            "4 -1.774434 -0.213286  1.079440 -0.730634\n",
            "5  0.481552 -0.237820 -0.919514 -1.988382\n",
            "6 -0.693658  1.211927 -0.078029  0.415056\n",
            "7 -1.194455 -1.444781  1.134752 -0.463116\n",
            "8 -1.131898 -0.592422 -0.646861 -0.513575\n",
            "9  0.370331 -0.297225  0.622273  1.136625\n"
          ],
          "name": "stdout"
        },
        {
          "output_type": "execute_result",
          "data": {
            "text/html": [
              "<div>\n",
              "<style scoped>\n",
              "    .dataframe tbody tr th:only-of-type {\n",
              "        vertical-align: middle;\n",
              "    }\n",
              "\n",
              "    .dataframe tbody tr th {\n",
              "        vertical-align: top;\n",
              "    }\n",
              "\n",
              "    .dataframe thead th {\n",
              "        text-align: right;\n",
              "    }\n",
              "</style>\n",
              "<table border=\"1\" class=\"dataframe\">\n",
              "  <thead>\n",
              "    <tr style=\"text-align: right;\">\n",
              "      <th></th>\n",
              "      <th>0</th>\n",
              "      <th>1</th>\n",
              "      <th>2</th>\n",
              "      <th>3</th>\n",
              "    </tr>\n",
              "  </thead>\n",
              "  <tbody>\n",
              "    <tr>\n",
              "      <th>0</th>\n",
              "      <td>0.356017</td>\n",
              "      <td>-0.075286</td>\n",
              "      <td>-0.663907</td>\n",
              "      <td>-0.001398</td>\n",
              "    </tr>\n",
              "    <tr>\n",
              "      <th>1</th>\n",
              "      <td>0.728654</td>\n",
              "      <td>-0.020000</td>\n",
              "      <td>0.732012</td>\n",
              "      <td>0.831441</td>\n",
              "    </tr>\n",
              "    <tr>\n",
              "      <th>2</th>\n",
              "      <td>0.889750</td>\n",
              "      <td>-0.216586</td>\n",
              "      <td>0.038212</td>\n",
              "      <td>-1.671312</td>\n",
              "    </tr>\n",
              "    <tr>\n",
              "      <th>3</th>\n",
              "      <td>1.963342</td>\n",
              "      <td>0.925283</td>\n",
              "      <td>-1.623007</td>\n",
              "      <td>0.627622</td>\n",
              "    </tr>\n",
              "    <tr>\n",
              "      <th>4</th>\n",
              "      <td>-1.774434</td>\n",
              "      <td>-0.213286</td>\n",
              "      <td>1.079440</td>\n",
              "      <td>-0.730634</td>\n",
              "    </tr>\n",
              "    <tr>\n",
              "      <th>5</th>\n",
              "      <td>0.481552</td>\n",
              "      <td>-0.237820</td>\n",
              "      <td>-0.919514</td>\n",
              "      <td>-1.988382</td>\n",
              "    </tr>\n",
              "    <tr>\n",
              "      <th>6</th>\n",
              "      <td>-0.693658</td>\n",
              "      <td>1.211927</td>\n",
              "      <td>-0.078029</td>\n",
              "      <td>0.415056</td>\n",
              "    </tr>\n",
              "    <tr>\n",
              "      <th>7</th>\n",
              "      <td>-1.194455</td>\n",
              "      <td>-1.444781</td>\n",
              "      <td>1.134752</td>\n",
              "      <td>-0.463116</td>\n",
              "    </tr>\n",
              "    <tr>\n",
              "      <th>8</th>\n",
              "      <td>-1.131898</td>\n",
              "      <td>-0.592422</td>\n",
              "      <td>-0.646861</td>\n",
              "      <td>-0.513575</td>\n",
              "    </tr>\n",
              "    <tr>\n",
              "      <th>9</th>\n",
              "      <td>0.370331</td>\n",
              "      <td>-0.297225</td>\n",
              "      <td>0.622273</td>\n",
              "      <td>1.136625</td>\n",
              "    </tr>\n",
              "  </tbody>\n",
              "</table>\n",
              "</div>"
            ],
            "text/plain": [
              "          0         1         2         3\n",
              "0  0.356017 -0.075286 -0.663907 -0.001398\n",
              "1  0.728654 -0.020000  0.732012  0.831441\n",
              "2  0.889750 -0.216586  0.038212 -1.671312\n",
              "3  1.963342  0.925283 -1.623007  0.627622\n",
              "4 -1.774434 -0.213286  1.079440 -0.730634\n",
              "5  0.481552 -0.237820 -0.919514 -1.988382\n",
              "6 -0.693658  1.211927 -0.078029  0.415056\n",
              "7 -1.194455 -1.444781  1.134752 -0.463116\n",
              "8 -1.131898 -0.592422 -0.646861 -0.513575\n",
              "9  0.370331 -0.297225  0.622273  1.136625"
            ]
          },
          "metadata": {
            "tags": []
          },
          "execution_count": 55
        }
      ]
    },
    {
      "cell_type": "code",
      "metadata": {
        "colab": {
          "base_uri": "https://localhost:8080/",
          "height": 309
        },
        "id": "XhANmAqFsqXb",
        "outputId": "b1672cdf-6e37-4157-d8fa-4099a078f3b3"
      },
      "source": [
        "left = pd.DataFrame({'key': ['foo', 'foo'], 'lval': [1, 2]})\n",
        "right = pd.DataFrame({'key':['foo','foo'],'rval':[4,5]})\n",
        "print(left,'\\n')\n",
        "print(right,'\\n')\n",
        "pd.merge(left, right, on='key')"
      ],
      "execution_count": 56,
      "outputs": [
        {
          "output_type": "stream",
          "text": [
            "   key  lval\n",
            "0  foo     1\n",
            "1  foo     2 \n",
            "\n",
            "   key  rval\n",
            "0  foo     4\n",
            "1  foo     5 \n",
            "\n"
          ],
          "name": "stdout"
        },
        {
          "output_type": "execute_result",
          "data": {
            "text/html": [
              "<div>\n",
              "<style scoped>\n",
              "    .dataframe tbody tr th:only-of-type {\n",
              "        vertical-align: middle;\n",
              "    }\n",
              "\n",
              "    .dataframe tbody tr th {\n",
              "        vertical-align: top;\n",
              "    }\n",
              "\n",
              "    .dataframe thead th {\n",
              "        text-align: right;\n",
              "    }\n",
              "</style>\n",
              "<table border=\"1\" class=\"dataframe\">\n",
              "  <thead>\n",
              "    <tr style=\"text-align: right;\">\n",
              "      <th></th>\n",
              "      <th>key</th>\n",
              "      <th>lval</th>\n",
              "      <th>rval</th>\n",
              "    </tr>\n",
              "  </thead>\n",
              "  <tbody>\n",
              "    <tr>\n",
              "      <th>0</th>\n",
              "      <td>foo</td>\n",
              "      <td>1</td>\n",
              "      <td>4</td>\n",
              "    </tr>\n",
              "    <tr>\n",
              "      <th>1</th>\n",
              "      <td>foo</td>\n",
              "      <td>1</td>\n",
              "      <td>5</td>\n",
              "    </tr>\n",
              "    <tr>\n",
              "      <th>2</th>\n",
              "      <td>foo</td>\n",
              "      <td>2</td>\n",
              "      <td>4</td>\n",
              "    </tr>\n",
              "    <tr>\n",
              "      <th>3</th>\n",
              "      <td>foo</td>\n",
              "      <td>2</td>\n",
              "      <td>5</td>\n",
              "    </tr>\n",
              "  </tbody>\n",
              "</table>\n",
              "</div>"
            ],
            "text/plain": [
              "   key  lval  rval\n",
              "0  foo     1     4\n",
              "1  foo     1     5\n",
              "2  foo     2     4\n",
              "3  foo     2     5"
            ]
          },
          "metadata": {
            "tags": []
          },
          "execution_count": 56
        }
      ]
    },
    {
      "cell_type": "code",
      "metadata": {
        "colab": {
          "base_uri": "https://localhost:8080/",
          "height": 247
        },
        "id": "VL3yRNzDtoO9",
        "outputId": "3228a6a0-4508-4713-8431-6e9641c4c3f2"
      },
      "source": [
        "left = pd.DataFrame({'key': ['foo', 'bar'], 'lval': [1, 2]})\n",
        "right = pd.DataFrame({'key':['foo','bar'],'rval':[4,5]})\n",
        "print(left,'\\n')\n",
        "print(right,'\\n')\n",
        "pd.merge(left, right, on='key')"
      ],
      "execution_count": 57,
      "outputs": [
        {
          "output_type": "stream",
          "text": [
            "   key  lval\n",
            "0  foo     1\n",
            "1  bar     2 \n",
            "\n",
            "   key  rval\n",
            "0  foo     4\n",
            "1  bar     5 \n",
            "\n"
          ],
          "name": "stdout"
        },
        {
          "output_type": "execute_result",
          "data": {
            "text/html": [
              "<div>\n",
              "<style scoped>\n",
              "    .dataframe tbody tr th:only-of-type {\n",
              "        vertical-align: middle;\n",
              "    }\n",
              "\n",
              "    .dataframe tbody tr th {\n",
              "        vertical-align: top;\n",
              "    }\n",
              "\n",
              "    .dataframe thead th {\n",
              "        text-align: right;\n",
              "    }\n",
              "</style>\n",
              "<table border=\"1\" class=\"dataframe\">\n",
              "  <thead>\n",
              "    <tr style=\"text-align: right;\">\n",
              "      <th></th>\n",
              "      <th>key</th>\n",
              "      <th>lval</th>\n",
              "      <th>rval</th>\n",
              "    </tr>\n",
              "  </thead>\n",
              "  <tbody>\n",
              "    <tr>\n",
              "      <th>0</th>\n",
              "      <td>foo</td>\n",
              "      <td>1</td>\n",
              "      <td>4</td>\n",
              "    </tr>\n",
              "    <tr>\n",
              "      <th>1</th>\n",
              "      <td>bar</td>\n",
              "      <td>2</td>\n",
              "      <td>5</td>\n",
              "    </tr>\n",
              "  </tbody>\n",
              "</table>\n",
              "</div>"
            ],
            "text/plain": [
              "   key  lval  rval\n",
              "0  foo     1     4\n",
              "1  bar     2     5"
            ]
          },
          "metadata": {
            "tags": []
          },
          "execution_count": 57
        }
      ]
    },
    {
      "cell_type": "markdown",
      "metadata": {
        "id": "dWir0W4LuBbB"
      },
      "source": [
        "# 7. 그룹화하기 (Grouping)\n",
        "- step1: 데이터 쪼개기\n",
        "- step2: 각 그룹별로 함수 적용하기\n",
        "- step3: 결과 결합하기"
      ]
    },
    {
      "cell_type": "code",
      "metadata": {
        "colab": {
          "base_uri": "https://localhost:8080/",
          "height": 297
        },
        "id": "xpoJQfkot8QZ",
        "outputId": "55b88f85-cdf2-4d32-9bcb-f55545b06099"
      },
      "source": [
        "df = pd.DataFrame({'A': ['foo', 'bar', 'foo', 'bar',\n",
        "                        'foo', 'bar', 'foo', 'foo'],\n",
        "                  'B': ['one', 'one', 'two', 'three',\n",
        "                        'two', 'two', 'one', 'three'],\n",
        "                  'C': np.random.randn(8),\n",
        "                  'D': np.random.randn(8)})\n",
        "df"
      ],
      "execution_count": 58,
      "outputs": [
        {
          "output_type": "execute_result",
          "data": {
            "text/html": [
              "<div>\n",
              "<style scoped>\n",
              "    .dataframe tbody tr th:only-of-type {\n",
              "        vertical-align: middle;\n",
              "    }\n",
              "\n",
              "    .dataframe tbody tr th {\n",
              "        vertical-align: top;\n",
              "    }\n",
              "\n",
              "    .dataframe thead th {\n",
              "        text-align: right;\n",
              "    }\n",
              "</style>\n",
              "<table border=\"1\" class=\"dataframe\">\n",
              "  <thead>\n",
              "    <tr style=\"text-align: right;\">\n",
              "      <th></th>\n",
              "      <th>A</th>\n",
              "      <th>B</th>\n",
              "      <th>C</th>\n",
              "      <th>D</th>\n",
              "    </tr>\n",
              "  </thead>\n",
              "  <tbody>\n",
              "    <tr>\n",
              "      <th>0</th>\n",
              "      <td>foo</td>\n",
              "      <td>one</td>\n",
              "      <td>1.671758</td>\n",
              "      <td>-0.094676</td>\n",
              "    </tr>\n",
              "    <tr>\n",
              "      <th>1</th>\n",
              "      <td>bar</td>\n",
              "      <td>one</td>\n",
              "      <td>0.318379</td>\n",
              "      <td>-1.262779</td>\n",
              "    </tr>\n",
              "    <tr>\n",
              "      <th>2</th>\n",
              "      <td>foo</td>\n",
              "      <td>two</td>\n",
              "      <td>-3.040889</td>\n",
              "      <td>-0.311384</td>\n",
              "    </tr>\n",
              "    <tr>\n",
              "      <th>3</th>\n",
              "      <td>bar</td>\n",
              "      <td>three</td>\n",
              "      <td>0.459314</td>\n",
              "      <td>-0.003056</td>\n",
              "    </tr>\n",
              "    <tr>\n",
              "      <th>4</th>\n",
              "      <td>foo</td>\n",
              "      <td>two</td>\n",
              "      <td>-0.022407</td>\n",
              "      <td>-0.628637</td>\n",
              "    </tr>\n",
              "    <tr>\n",
              "      <th>5</th>\n",
              "      <td>bar</td>\n",
              "      <td>two</td>\n",
              "      <td>-2.226172</td>\n",
              "      <td>-0.883716</td>\n",
              "    </tr>\n",
              "    <tr>\n",
              "      <th>6</th>\n",
              "      <td>foo</td>\n",
              "      <td>one</td>\n",
              "      <td>1.276158</td>\n",
              "      <td>-1.128245</td>\n",
              "    </tr>\n",
              "    <tr>\n",
              "      <th>7</th>\n",
              "      <td>foo</td>\n",
              "      <td>three</td>\n",
              "      <td>0.829766</td>\n",
              "      <td>1.558866</td>\n",
              "    </tr>\n",
              "  </tbody>\n",
              "</table>\n",
              "</div>"
            ],
            "text/plain": [
              "     A      B         C         D\n",
              "0  foo    one  1.671758 -0.094676\n",
              "1  bar    one  0.318379 -1.262779\n",
              "2  foo    two -3.040889 -0.311384\n",
              "3  bar  three  0.459314 -0.003056\n",
              "4  foo    two -0.022407 -0.628637\n",
              "5  bar    two -2.226172 -0.883716\n",
              "6  foo    one  1.276158 -1.128245\n",
              "7  foo  three  0.829766  1.558866"
            ]
          },
          "metadata": {
            "tags": []
          },
          "execution_count": 58
        }
      ]
    },
    {
      "cell_type": "code",
      "metadata": {
        "colab": {
          "base_uri": "https://localhost:8080/",
          "height": 142
        },
        "id": "j6ClYhHruYwt",
        "outputId": "e838aa73-7b89-4ad7-c475-f635621f8e3f"
      },
      "source": [
        "df.groupby('A').sum()"
      ],
      "execution_count": 59,
      "outputs": [
        {
          "output_type": "execute_result",
          "data": {
            "text/html": [
              "<div>\n",
              "<style scoped>\n",
              "    .dataframe tbody tr th:only-of-type {\n",
              "        vertical-align: middle;\n",
              "    }\n",
              "\n",
              "    .dataframe tbody tr th {\n",
              "        vertical-align: top;\n",
              "    }\n",
              "\n",
              "    .dataframe thead th {\n",
              "        text-align: right;\n",
              "    }\n",
              "</style>\n",
              "<table border=\"1\" class=\"dataframe\">\n",
              "  <thead>\n",
              "    <tr style=\"text-align: right;\">\n",
              "      <th></th>\n",
              "      <th>C</th>\n",
              "      <th>D</th>\n",
              "    </tr>\n",
              "    <tr>\n",
              "      <th>A</th>\n",
              "      <th></th>\n",
              "      <th></th>\n",
              "    </tr>\n",
              "  </thead>\n",
              "  <tbody>\n",
              "    <tr>\n",
              "      <th>bar</th>\n",
              "      <td>-1.448479</td>\n",
              "      <td>-2.149550</td>\n",
              "    </tr>\n",
              "    <tr>\n",
              "      <th>foo</th>\n",
              "      <td>0.714385</td>\n",
              "      <td>-0.604076</td>\n",
              "    </tr>\n",
              "  </tbody>\n",
              "</table>\n",
              "</div>"
            ],
            "text/plain": [
              "            C         D\n",
              "A                      \n",
              "bar -1.448479 -2.149550\n",
              "foo  0.714385 -0.604076"
            ]
          },
          "metadata": {
            "tags": []
          },
          "execution_count": 59
        }
      ]
    },
    {
      "cell_type": "code",
      "metadata": {
        "colab": {
          "base_uri": "https://localhost:8080/",
          "height": 266
        },
        "id": "wAEmDZhguzI1",
        "outputId": "0d2c541b-7358-404a-9674-8cb352889394"
      },
      "source": [
        "df.groupby(['A','B']).sum()"
      ],
      "execution_count": 60,
      "outputs": [
        {
          "output_type": "execute_result",
          "data": {
            "text/html": [
              "<div>\n",
              "<style scoped>\n",
              "    .dataframe tbody tr th:only-of-type {\n",
              "        vertical-align: middle;\n",
              "    }\n",
              "\n",
              "    .dataframe tbody tr th {\n",
              "        vertical-align: top;\n",
              "    }\n",
              "\n",
              "    .dataframe thead th {\n",
              "        text-align: right;\n",
              "    }\n",
              "</style>\n",
              "<table border=\"1\" class=\"dataframe\">\n",
              "  <thead>\n",
              "    <tr style=\"text-align: right;\">\n",
              "      <th></th>\n",
              "      <th></th>\n",
              "      <th>C</th>\n",
              "      <th>D</th>\n",
              "    </tr>\n",
              "    <tr>\n",
              "      <th>A</th>\n",
              "      <th>B</th>\n",
              "      <th></th>\n",
              "      <th></th>\n",
              "    </tr>\n",
              "  </thead>\n",
              "  <tbody>\n",
              "    <tr>\n",
              "      <th rowspan=\"3\" valign=\"top\">bar</th>\n",
              "      <th>one</th>\n",
              "      <td>0.318379</td>\n",
              "      <td>-1.262779</td>\n",
              "    </tr>\n",
              "    <tr>\n",
              "      <th>three</th>\n",
              "      <td>0.459314</td>\n",
              "      <td>-0.003056</td>\n",
              "    </tr>\n",
              "    <tr>\n",
              "      <th>two</th>\n",
              "      <td>-2.226172</td>\n",
              "      <td>-0.883716</td>\n",
              "    </tr>\n",
              "    <tr>\n",
              "      <th rowspan=\"3\" valign=\"top\">foo</th>\n",
              "      <th>one</th>\n",
              "      <td>2.947916</td>\n",
              "      <td>-1.222922</td>\n",
              "    </tr>\n",
              "    <tr>\n",
              "      <th>three</th>\n",
              "      <td>0.829766</td>\n",
              "      <td>1.558866</td>\n",
              "    </tr>\n",
              "    <tr>\n",
              "      <th>two</th>\n",
              "      <td>-3.063296</td>\n",
              "      <td>-0.940020</td>\n",
              "    </tr>\n",
              "  </tbody>\n",
              "</table>\n",
              "</div>"
            ],
            "text/plain": [
              "                  C         D\n",
              "A   B                        \n",
              "bar one    0.318379 -1.262779\n",
              "    three  0.459314 -0.003056\n",
              "    two   -2.226172 -0.883716\n",
              "foo one    2.947916 -1.222922\n",
              "    three  0.829766  1.558866\n",
              "    two   -3.063296 -0.940020"
            ]
          },
          "metadata": {
            "tags": []
          },
          "execution_count": 60
        }
      ]
    },
    {
      "cell_type": "markdown",
      "metadata": {
        "id": "qbPObtjvx0HM"
      },
      "source": [
        "# 8. 재구조화하기 (Reshaping)"
      ]
    },
    {
      "cell_type": "markdown",
      "metadata": {
        "id": "XyrlIrUj0riI"
      },
      "source": [
        "## df.stack()"
      ]
    },
    {
      "cell_type": "code",
      "metadata": {
        "id": "lyOaEfSpu5Py",
        "colab": {
          "base_uri": "https://localhost:8080/"
        },
        "outputId": "e870a8fa-f689-4b6b-8bb4-4eee8c6fc8de"
      },
      "source": [
        "# 인덱스 생성하기\n",
        "tuples = list(zip(*[['bar','bar','baz','baz',\n",
        "                     'foo','foo','qux','qux'],\n",
        "                    ['one','two','one','two',\n",
        "                     'one','two','one','two']]))\n",
        "index = pd.MultiIndex.from_tuples(tuples, names=['first','second'])\n",
        "index"
      ],
      "execution_count": 67,
      "outputs": [
        {
          "output_type": "execute_result",
          "data": {
            "text/plain": [
              "MultiIndex([('bar', 'one'),\n",
              "            ('bar', 'two'),\n",
              "            ('baz', 'one'),\n",
              "            ('baz', 'two'),\n",
              "            ('foo', 'one'),\n",
              "            ('foo', 'two'),\n",
              "            ('qux', 'one'),\n",
              "            ('qux', 'two')],\n",
              "           names=['first', 'second'])"
            ]
          },
          "metadata": {
            "tags": []
          },
          "execution_count": 67
        }
      ]
    },
    {
      "cell_type": "code",
      "metadata": {
        "colab": {
          "base_uri": "https://localhost:8080/",
          "height": 204
        },
        "id": "u2GuI-IDyeVO",
        "outputId": "15bc6fd6-f7a0-4903-ac1e-beda4fa9823b"
      },
      "source": [
        "df = pd.DataFrame(np.random.randn(8,2), index=index, columns=['A','B'])\n",
        "df2 = df[:4]\n",
        "df2"
      ],
      "execution_count": 66,
      "outputs": [
        {
          "output_type": "execute_result",
          "data": {
            "text/html": [
              "<div>\n",
              "<style scoped>\n",
              "    .dataframe tbody tr th:only-of-type {\n",
              "        vertical-align: middle;\n",
              "    }\n",
              "\n",
              "    .dataframe tbody tr th {\n",
              "        vertical-align: top;\n",
              "    }\n",
              "\n",
              "    .dataframe thead th {\n",
              "        text-align: right;\n",
              "    }\n",
              "</style>\n",
              "<table border=\"1\" class=\"dataframe\">\n",
              "  <thead>\n",
              "    <tr style=\"text-align: right;\">\n",
              "      <th></th>\n",
              "      <th></th>\n",
              "      <th>A</th>\n",
              "      <th>B</th>\n",
              "    </tr>\n",
              "    <tr>\n",
              "      <th>first</th>\n",
              "      <th>second</th>\n",
              "      <th></th>\n",
              "      <th></th>\n",
              "    </tr>\n",
              "  </thead>\n",
              "  <tbody>\n",
              "    <tr>\n",
              "      <th rowspan=\"2\" valign=\"top\">bar</th>\n",
              "      <th>one</th>\n",
              "      <td>-0.014607</td>\n",
              "      <td>0.814861</td>\n",
              "    </tr>\n",
              "    <tr>\n",
              "      <th>two</th>\n",
              "      <td>0.881272</td>\n",
              "      <td>0.630600</td>\n",
              "    </tr>\n",
              "    <tr>\n",
              "      <th rowspan=\"2\" valign=\"top\">baz</th>\n",
              "      <th>one</th>\n",
              "      <td>-0.085705</td>\n",
              "      <td>0.525107</td>\n",
              "    </tr>\n",
              "    <tr>\n",
              "      <th>two</th>\n",
              "      <td>0.142650</td>\n",
              "      <td>0.462959</td>\n",
              "    </tr>\n",
              "  </tbody>\n",
              "</table>\n",
              "</div>"
            ],
            "text/plain": [
              "                     A         B\n",
              "first second                    \n",
              "bar   one    -0.014607  0.814861\n",
              "      two     0.881272  0.630600\n",
              "baz   one    -0.085705  0.525107\n",
              "      two     0.142650  0.462959"
            ]
          },
          "metadata": {
            "tags": []
          },
          "execution_count": 66
        }
      ]
    },
    {
      "cell_type": "code",
      "metadata": {
        "colab": {
          "base_uri": "https://localhost:8080/"
        },
        "id": "x6Rrt-mXy70h",
        "outputId": "82e78d88-22bb-496d-c7fd-3f905401f3d4"
      },
      "source": [
        "# 데이터프레임 시리즈로 압축하기\n",
        "stacked = df2.stack()\n",
        "stacked  # MultiIndex 가지고 있음"
      ],
      "execution_count": 70,
      "outputs": [
        {
          "output_type": "execute_result",
          "data": {
            "text/plain": [
              "first  second   \n",
              "bar    one     A   -0.014607\n",
              "               B    0.814861\n",
              "       two     A    0.881272\n",
              "               B    0.630600\n",
              "baz    one     A   -0.085705\n",
              "               B    0.525107\n",
              "       two     A    0.142650\n",
              "               B    0.462959\n",
              "dtype: float64"
            ]
          },
          "metadata": {
            "tags": []
          },
          "execution_count": 70
        }
      ]
    },
    {
      "cell_type": "code",
      "metadata": {
        "colab": {
          "base_uri": "https://localhost:8080/",
          "height": 204
        },
        "id": "mKVwgUXQyysk",
        "outputId": "3a0a34b8-0f45-401d-a1fe-b182de7267c5"
      },
      "source": [
        "# 압축 풀기\n",
        "stacked.unstack()  # default는 마지막 수준을 unstack하기"
      ],
      "execution_count": 71,
      "outputs": [
        {
          "output_type": "execute_result",
          "data": {
            "text/html": [
              "<div>\n",
              "<style scoped>\n",
              "    .dataframe tbody tr th:only-of-type {\n",
              "        vertical-align: middle;\n",
              "    }\n",
              "\n",
              "    .dataframe tbody tr th {\n",
              "        vertical-align: top;\n",
              "    }\n",
              "\n",
              "    .dataframe thead th {\n",
              "        text-align: right;\n",
              "    }\n",
              "</style>\n",
              "<table border=\"1\" class=\"dataframe\">\n",
              "  <thead>\n",
              "    <tr style=\"text-align: right;\">\n",
              "      <th></th>\n",
              "      <th></th>\n",
              "      <th>A</th>\n",
              "      <th>B</th>\n",
              "    </tr>\n",
              "    <tr>\n",
              "      <th>first</th>\n",
              "      <th>second</th>\n",
              "      <th></th>\n",
              "      <th></th>\n",
              "    </tr>\n",
              "  </thead>\n",
              "  <tbody>\n",
              "    <tr>\n",
              "      <th rowspan=\"2\" valign=\"top\">bar</th>\n",
              "      <th>one</th>\n",
              "      <td>-0.014607</td>\n",
              "      <td>0.814861</td>\n",
              "    </tr>\n",
              "    <tr>\n",
              "      <th>two</th>\n",
              "      <td>0.881272</td>\n",
              "      <td>0.630600</td>\n",
              "    </tr>\n",
              "    <tr>\n",
              "      <th rowspan=\"2\" valign=\"top\">baz</th>\n",
              "      <th>one</th>\n",
              "      <td>-0.085705</td>\n",
              "      <td>0.525107</td>\n",
              "    </tr>\n",
              "    <tr>\n",
              "      <th>two</th>\n",
              "      <td>0.142650</td>\n",
              "      <td>0.462959</td>\n",
              "    </tr>\n",
              "  </tbody>\n",
              "</table>\n",
              "</div>"
            ],
            "text/plain": [
              "                     A         B\n",
              "first second                    \n",
              "bar   one    -0.014607  0.814861\n",
              "      two     0.881272  0.630600\n",
              "baz   one    -0.085705  0.525107\n",
              "      two     0.142650  0.462959"
            ]
          },
          "metadata": {
            "tags": []
          },
          "execution_count": 71
        }
      ]
    },
    {
      "cell_type": "code",
      "metadata": {
        "colab": {
          "base_uri": "https://localhost:8080/",
          "height": 204
        },
        "id": "vAL8x-8VyugU",
        "outputId": "5891ba88-8618-4251-bd37-7d7444901262"
      },
      "source": [
        "stacked.unstack(1)"
      ],
      "execution_count": 72,
      "outputs": [
        {
          "output_type": "execute_result",
          "data": {
            "text/html": [
              "<div>\n",
              "<style scoped>\n",
              "    .dataframe tbody tr th:only-of-type {\n",
              "        vertical-align: middle;\n",
              "    }\n",
              "\n",
              "    .dataframe tbody tr th {\n",
              "        vertical-align: top;\n",
              "    }\n",
              "\n",
              "    .dataframe thead th {\n",
              "        text-align: right;\n",
              "    }\n",
              "</style>\n",
              "<table border=\"1\" class=\"dataframe\">\n",
              "  <thead>\n",
              "    <tr style=\"text-align: right;\">\n",
              "      <th></th>\n",
              "      <th>second</th>\n",
              "      <th>one</th>\n",
              "      <th>two</th>\n",
              "    </tr>\n",
              "    <tr>\n",
              "      <th>first</th>\n",
              "      <th></th>\n",
              "      <th></th>\n",
              "      <th></th>\n",
              "    </tr>\n",
              "  </thead>\n",
              "  <tbody>\n",
              "    <tr>\n",
              "      <th rowspan=\"2\" valign=\"top\">bar</th>\n",
              "      <th>A</th>\n",
              "      <td>-0.014607</td>\n",
              "      <td>0.881272</td>\n",
              "    </tr>\n",
              "    <tr>\n",
              "      <th>B</th>\n",
              "      <td>0.814861</td>\n",
              "      <td>0.630600</td>\n",
              "    </tr>\n",
              "    <tr>\n",
              "      <th rowspan=\"2\" valign=\"top\">baz</th>\n",
              "      <th>A</th>\n",
              "      <td>-0.085705</td>\n",
              "      <td>0.142650</td>\n",
              "    </tr>\n",
              "    <tr>\n",
              "      <th>B</th>\n",
              "      <td>0.525107</td>\n",
              "      <td>0.462959</td>\n",
              "    </tr>\n",
              "  </tbody>\n",
              "</table>\n",
              "</div>"
            ],
            "text/plain": [
              "second        one       two\n",
              "first                      \n",
              "bar   A -0.014607  0.881272\n",
              "      B  0.814861  0.630600\n",
              "baz   A -0.085705  0.142650\n",
              "      B  0.525107  0.462959"
            ]
          },
          "metadata": {
            "tags": []
          },
          "execution_count": 72
        }
      ]
    },
    {
      "cell_type": "code",
      "metadata": {
        "colab": {
          "base_uri": "https://localhost:8080/",
          "height": 204
        },
        "id": "HIH7wkffzwEH",
        "outputId": "9269131f-c954-4054-afef-5e24f8c37519"
      },
      "source": [
        "stacked.unstack(0)"
      ],
      "execution_count": 73,
      "outputs": [
        {
          "output_type": "execute_result",
          "data": {
            "text/html": [
              "<div>\n",
              "<style scoped>\n",
              "    .dataframe tbody tr th:only-of-type {\n",
              "        vertical-align: middle;\n",
              "    }\n",
              "\n",
              "    .dataframe tbody tr th {\n",
              "        vertical-align: top;\n",
              "    }\n",
              "\n",
              "    .dataframe thead th {\n",
              "        text-align: right;\n",
              "    }\n",
              "</style>\n",
              "<table border=\"1\" class=\"dataframe\">\n",
              "  <thead>\n",
              "    <tr style=\"text-align: right;\">\n",
              "      <th></th>\n",
              "      <th>first</th>\n",
              "      <th>bar</th>\n",
              "      <th>baz</th>\n",
              "    </tr>\n",
              "    <tr>\n",
              "      <th>second</th>\n",
              "      <th></th>\n",
              "      <th></th>\n",
              "      <th></th>\n",
              "    </tr>\n",
              "  </thead>\n",
              "  <tbody>\n",
              "    <tr>\n",
              "      <th rowspan=\"2\" valign=\"top\">one</th>\n",
              "      <th>A</th>\n",
              "      <td>-0.014607</td>\n",
              "      <td>-0.085705</td>\n",
              "    </tr>\n",
              "    <tr>\n",
              "      <th>B</th>\n",
              "      <td>0.814861</td>\n",
              "      <td>0.525107</td>\n",
              "    </tr>\n",
              "    <tr>\n",
              "      <th rowspan=\"2\" valign=\"top\">two</th>\n",
              "      <th>A</th>\n",
              "      <td>0.881272</td>\n",
              "      <td>0.142650</td>\n",
              "    </tr>\n",
              "    <tr>\n",
              "      <th>B</th>\n",
              "      <td>0.630600</td>\n",
              "      <td>0.462959</td>\n",
              "    </tr>\n",
              "  </tbody>\n",
              "</table>\n",
              "</div>"
            ],
            "text/plain": [
              "first          bar       baz\n",
              "second                      \n",
              "one    A -0.014607 -0.085705\n",
              "       B  0.814861  0.525107\n",
              "two    A  0.881272  0.142650\n",
              "       B  0.630600  0.462959"
            ]
          },
          "metadata": {
            "tags": []
          },
          "execution_count": 73
        }
      ]
    },
    {
      "cell_type": "markdown",
      "metadata": {
        "id": "omzyk7Sq0xRm"
      },
      "source": [
        "## pd.pivot_table()"
      ]
    },
    {
      "cell_type": "code",
      "metadata": {
        "colab": {
          "base_uri": "https://localhost:8080/",
          "height": 421
        },
        "id": "WWY2feTZz6LJ",
        "outputId": "21e63b5c-a8b8-43a6-ed42-b774c8e0a2b6"
      },
      "source": [
        "df = pd.DataFrame({'A':['one','one','two','three']*3,\n",
        "                   'B':['A','B','C']*4,\n",
        "                   'C':['foo','foo','foo','bar','bar','bar']*2,\n",
        "                   'D': np.random.randn(12),\n",
        "                   'E': np.random.randn(12)})\n",
        "df"
      ],
      "execution_count": 74,
      "outputs": [
        {
          "output_type": "execute_result",
          "data": {
            "text/html": [
              "<div>\n",
              "<style scoped>\n",
              "    .dataframe tbody tr th:only-of-type {\n",
              "        vertical-align: middle;\n",
              "    }\n",
              "\n",
              "    .dataframe tbody tr th {\n",
              "        vertical-align: top;\n",
              "    }\n",
              "\n",
              "    .dataframe thead th {\n",
              "        text-align: right;\n",
              "    }\n",
              "</style>\n",
              "<table border=\"1\" class=\"dataframe\">\n",
              "  <thead>\n",
              "    <tr style=\"text-align: right;\">\n",
              "      <th></th>\n",
              "      <th>A</th>\n",
              "      <th>B</th>\n",
              "      <th>C</th>\n",
              "      <th>D</th>\n",
              "      <th>E</th>\n",
              "    </tr>\n",
              "  </thead>\n",
              "  <tbody>\n",
              "    <tr>\n",
              "      <th>0</th>\n",
              "      <td>one</td>\n",
              "      <td>A</td>\n",
              "      <td>foo</td>\n",
              "      <td>1.541496</td>\n",
              "      <td>2.465006</td>\n",
              "    </tr>\n",
              "    <tr>\n",
              "      <th>1</th>\n",
              "      <td>one</td>\n",
              "      <td>B</td>\n",
              "      <td>foo</td>\n",
              "      <td>1.924193</td>\n",
              "      <td>-1.623384</td>\n",
              "    </tr>\n",
              "    <tr>\n",
              "      <th>2</th>\n",
              "      <td>two</td>\n",
              "      <td>C</td>\n",
              "      <td>foo</td>\n",
              "      <td>1.236278</td>\n",
              "      <td>-1.364102</td>\n",
              "    </tr>\n",
              "    <tr>\n",
              "      <th>3</th>\n",
              "      <td>three</td>\n",
              "      <td>A</td>\n",
              "      <td>bar</td>\n",
              "      <td>0.330156</td>\n",
              "      <td>-0.085709</td>\n",
              "    </tr>\n",
              "    <tr>\n",
              "      <th>4</th>\n",
              "      <td>one</td>\n",
              "      <td>B</td>\n",
              "      <td>bar</td>\n",
              "      <td>-2.017819</td>\n",
              "      <td>-0.701222</td>\n",
              "    </tr>\n",
              "    <tr>\n",
              "      <th>5</th>\n",
              "      <td>one</td>\n",
              "      <td>C</td>\n",
              "      <td>bar</td>\n",
              "      <td>0.098026</td>\n",
              "      <td>0.743434</td>\n",
              "    </tr>\n",
              "    <tr>\n",
              "      <th>6</th>\n",
              "      <td>two</td>\n",
              "      <td>A</td>\n",
              "      <td>foo</td>\n",
              "      <td>1.200625</td>\n",
              "      <td>0.291445</td>\n",
              "    </tr>\n",
              "    <tr>\n",
              "      <th>7</th>\n",
              "      <td>three</td>\n",
              "      <td>B</td>\n",
              "      <td>foo</td>\n",
              "      <td>1.706227</td>\n",
              "      <td>-1.839364</td>\n",
              "    </tr>\n",
              "    <tr>\n",
              "      <th>8</th>\n",
              "      <td>one</td>\n",
              "      <td>C</td>\n",
              "      <td>foo</td>\n",
              "      <td>0.005816</td>\n",
              "      <td>1.775501</td>\n",
              "    </tr>\n",
              "    <tr>\n",
              "      <th>9</th>\n",
              "      <td>one</td>\n",
              "      <td>A</td>\n",
              "      <td>bar</td>\n",
              "      <td>-0.847646</td>\n",
              "      <td>0.899179</td>\n",
              "    </tr>\n",
              "    <tr>\n",
              "      <th>10</th>\n",
              "      <td>two</td>\n",
              "      <td>B</td>\n",
              "      <td>bar</td>\n",
              "      <td>-0.000388</td>\n",
              "      <td>-1.303970</td>\n",
              "    </tr>\n",
              "    <tr>\n",
              "      <th>11</th>\n",
              "      <td>three</td>\n",
              "      <td>C</td>\n",
              "      <td>bar</td>\n",
              "      <td>-0.834763</td>\n",
              "      <td>0.541184</td>\n",
              "    </tr>\n",
              "  </tbody>\n",
              "</table>\n",
              "</div>"
            ],
            "text/plain": [
              "        A  B    C         D         E\n",
              "0     one  A  foo  1.541496  2.465006\n",
              "1     one  B  foo  1.924193 -1.623384\n",
              "2     two  C  foo  1.236278 -1.364102\n",
              "3   three  A  bar  0.330156 -0.085709\n",
              "4     one  B  bar -2.017819 -0.701222\n",
              "5     one  C  bar  0.098026  0.743434\n",
              "6     two  A  foo  1.200625  0.291445\n",
              "7   three  B  foo  1.706227 -1.839364\n",
              "8     one  C  foo  0.005816  1.775501\n",
              "9     one  A  bar -0.847646  0.899179\n",
              "10    two  B  bar -0.000388 -1.303970\n",
              "11  three  C  bar -0.834763  0.541184"
            ]
          },
          "metadata": {
            "tags": []
          },
          "execution_count": 74
        }
      ]
    },
    {
      "cell_type": "code",
      "metadata": {
        "colab": {
          "base_uri": "https://localhost:8080/",
          "height": 359
        },
        "id": "LyRr8gbi1TYR",
        "outputId": "7d772285-6e66-43e6-ded3-a46e03142bfe"
      },
      "source": [
        "pd.pivot_table(df, values='D', index=['A','B'], columns=['C'])"
      ],
      "execution_count": 75,
      "outputs": [
        {
          "output_type": "execute_result",
          "data": {
            "text/html": [
              "<div>\n",
              "<style scoped>\n",
              "    .dataframe tbody tr th:only-of-type {\n",
              "        vertical-align: middle;\n",
              "    }\n",
              "\n",
              "    .dataframe tbody tr th {\n",
              "        vertical-align: top;\n",
              "    }\n",
              "\n",
              "    .dataframe thead th {\n",
              "        text-align: right;\n",
              "    }\n",
              "</style>\n",
              "<table border=\"1\" class=\"dataframe\">\n",
              "  <thead>\n",
              "    <tr style=\"text-align: right;\">\n",
              "      <th></th>\n",
              "      <th>C</th>\n",
              "      <th>bar</th>\n",
              "      <th>foo</th>\n",
              "    </tr>\n",
              "    <tr>\n",
              "      <th>A</th>\n",
              "      <th>B</th>\n",
              "      <th></th>\n",
              "      <th></th>\n",
              "    </tr>\n",
              "  </thead>\n",
              "  <tbody>\n",
              "    <tr>\n",
              "      <th rowspan=\"3\" valign=\"top\">one</th>\n",
              "      <th>A</th>\n",
              "      <td>-0.847646</td>\n",
              "      <td>1.541496</td>\n",
              "    </tr>\n",
              "    <tr>\n",
              "      <th>B</th>\n",
              "      <td>-2.017819</td>\n",
              "      <td>1.924193</td>\n",
              "    </tr>\n",
              "    <tr>\n",
              "      <th>C</th>\n",
              "      <td>0.098026</td>\n",
              "      <td>0.005816</td>\n",
              "    </tr>\n",
              "    <tr>\n",
              "      <th rowspan=\"3\" valign=\"top\">three</th>\n",
              "      <th>A</th>\n",
              "      <td>0.330156</td>\n",
              "      <td>NaN</td>\n",
              "    </tr>\n",
              "    <tr>\n",
              "      <th>B</th>\n",
              "      <td>NaN</td>\n",
              "      <td>1.706227</td>\n",
              "    </tr>\n",
              "    <tr>\n",
              "      <th>C</th>\n",
              "      <td>-0.834763</td>\n",
              "      <td>NaN</td>\n",
              "    </tr>\n",
              "    <tr>\n",
              "      <th rowspan=\"3\" valign=\"top\">two</th>\n",
              "      <th>A</th>\n",
              "      <td>NaN</td>\n",
              "      <td>1.200625</td>\n",
              "    </tr>\n",
              "    <tr>\n",
              "      <th>B</th>\n",
              "      <td>-0.000388</td>\n",
              "      <td>NaN</td>\n",
              "    </tr>\n",
              "    <tr>\n",
              "      <th>C</th>\n",
              "      <td>NaN</td>\n",
              "      <td>1.236278</td>\n",
              "    </tr>\n",
              "  </tbody>\n",
              "</table>\n",
              "</div>"
            ],
            "text/plain": [
              "C             bar       foo\n",
              "A     B                    \n",
              "one   A -0.847646  1.541496\n",
              "      B -2.017819  1.924193\n",
              "      C  0.098026  0.005816\n",
              "three A  0.330156       NaN\n",
              "      B       NaN  1.706227\n",
              "      C -0.834763       NaN\n",
              "two   A       NaN  1.200625\n",
              "      B -0.000388       NaN\n",
              "      C       NaN  1.236278"
            ]
          },
          "metadata": {
            "tags": []
          },
          "execution_count": 75
        }
      ]
    }
  ]
}