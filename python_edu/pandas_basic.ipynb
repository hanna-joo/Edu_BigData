{
  "nbformat": 4,
  "nbformat_minor": 0,
  "metadata": {
    "colab": {
      "name": "pandas_basic.ipynb",
      "provenance": [],
      "authorship_tag": "ABX9TyMDOEpAN0cNA/C7mkJn0w1c",
      "include_colab_link": true
    },
    "kernelspec": {
      "name": "python3",
      "display_name": "Python 3"
    }
  },
  "cells": [
    {
      "cell_type": "markdown",
      "metadata": {
        "id": "view-in-github",
        "colab_type": "text"
      },
      "source": [
        "<a href=\"https://colab.research.google.com/github/hanna-joo/bigdata_edu/blob/master/python_edu/pandas_basic.ipynb\" target=\"_parent\"><img src=\"https://colab.research.google.com/assets/colab-badge.svg\" alt=\"Open In Colab\"/></a>"
      ]
    },
    {
      "cell_type": "code",
      "metadata": {
        "id": "ZlJvfRkAd_D3"
      },
      "source": [
        "import numpy as np\n",
        "import pandas as pd"
      ],
      "execution_count": 1,
      "outputs": []
    },
    {
      "cell_type": "markdown",
      "metadata": {
        "id": "HG6t_hHxemml"
      },
      "source": [
        "# 1. 변수 생성 (Object creation)"
      ]
    },
    {
      "cell_type": "code",
      "metadata": {
        "colab": {
          "base_uri": "https://localhost:8080/"
        },
        "id": "KZEP0W0Hexf6",
        "outputId": "2da59e85-f70f-49aa-8015-572bcf354180"
      },
      "source": [
        "# Series 생성\n",
        "s = pd.Series([1,3,5,np.nan,6,8])\n",
        "s"
      ],
      "execution_count": 5,
      "outputs": [
        {
          "output_type": "execute_result",
          "data": {
            "text/plain": [
              "0    1.0\n",
              "1    3.0\n",
              "2    5.0\n",
              "3    NaN\n",
              "4    6.0\n",
              "5    8.0\n",
              "dtype: float64"
            ]
          },
          "metadata": {
            "tags": []
          },
          "execution_count": 5
        }
      ]
    },
    {
      "cell_type": "code",
      "metadata": {
        "colab": {
          "base_uri": "https://localhost:8080/",
          "height": 286
        },
        "id": "_hOrPCNGe5j9",
        "outputId": "7086b997-9f14-4ddc-8a0c-101fca05d4d2"
      },
      "source": [
        "# DataFrame 생성: Numpy 행렬\n",
        "dates = pd.date_range('20130101',periods=6)\n",
        "print(dates)\n",
        "df = pd.DataFrame(np.random.randn(6,4),index=dates,columns=list('ABCD'))\n",
        "df"
      ],
      "execution_count": 7,
      "outputs": [
        {
          "output_type": "stream",
          "text": [
            "DatetimeIndex(['2013-01-01', '2013-01-02', '2013-01-03', '2013-01-04',\n",
            "               '2013-01-05', '2013-01-06'],\n",
            "              dtype='datetime64[ns]', freq='D')\n"
          ],
          "name": "stdout"
        },
        {
          "output_type": "execute_result",
          "data": {
            "text/html": [
              "<div>\n",
              "<style scoped>\n",
              "    .dataframe tbody tr th:only-of-type {\n",
              "        vertical-align: middle;\n",
              "    }\n",
              "\n",
              "    .dataframe tbody tr th {\n",
              "        vertical-align: top;\n",
              "    }\n",
              "\n",
              "    .dataframe thead th {\n",
              "        text-align: right;\n",
              "    }\n",
              "</style>\n",
              "<table border=\"1\" class=\"dataframe\">\n",
              "  <thead>\n",
              "    <tr style=\"text-align: right;\">\n",
              "      <th></th>\n",
              "      <th>A</th>\n",
              "      <th>B</th>\n",
              "      <th>C</th>\n",
              "      <th>D</th>\n",
              "    </tr>\n",
              "  </thead>\n",
              "  <tbody>\n",
              "    <tr>\n",
              "      <th>2013-01-01</th>\n",
              "      <td>1.358469</td>\n",
              "      <td>0.216869</td>\n",
              "      <td>0.278032</td>\n",
              "      <td>-0.318681</td>\n",
              "    </tr>\n",
              "    <tr>\n",
              "      <th>2013-01-02</th>\n",
              "      <td>-2.764424</td>\n",
              "      <td>1.719490</td>\n",
              "      <td>0.216518</td>\n",
              "      <td>-0.373867</td>\n",
              "    </tr>\n",
              "    <tr>\n",
              "      <th>2013-01-03</th>\n",
              "      <td>0.978068</td>\n",
              "      <td>0.620083</td>\n",
              "      <td>1.750997</td>\n",
              "      <td>-1.770599</td>\n",
              "    </tr>\n",
              "    <tr>\n",
              "      <th>2013-01-04</th>\n",
              "      <td>-0.216042</td>\n",
              "      <td>-0.495686</td>\n",
              "      <td>2.036863</td>\n",
              "      <td>0.189982</td>\n",
              "    </tr>\n",
              "    <tr>\n",
              "      <th>2013-01-05</th>\n",
              "      <td>0.021969</td>\n",
              "      <td>0.153268</td>\n",
              "      <td>0.160588</td>\n",
              "      <td>1.686423</td>\n",
              "    </tr>\n",
              "    <tr>\n",
              "      <th>2013-01-06</th>\n",
              "      <td>-0.003046</td>\n",
              "      <td>-0.469175</td>\n",
              "      <td>-1.170794</td>\n",
              "      <td>0.523317</td>\n",
              "    </tr>\n",
              "  </tbody>\n",
              "</table>\n",
              "</div>"
            ],
            "text/plain": [
              "                   A         B         C         D\n",
              "2013-01-01  1.358469  0.216869  0.278032 -0.318681\n",
              "2013-01-02 -2.764424  1.719490  0.216518 -0.373867\n",
              "2013-01-03  0.978068  0.620083  1.750997 -1.770599\n",
              "2013-01-04 -0.216042 -0.495686  2.036863  0.189982\n",
              "2013-01-05  0.021969  0.153268  0.160588  1.686423\n",
              "2013-01-06 -0.003046 -0.469175 -1.170794  0.523317"
            ]
          },
          "metadata": {
            "tags": []
          },
          "execution_count": 7
        }
      ]
    },
    {
      "cell_type": "code",
      "metadata": {
        "colab": {
          "base_uri": "https://localhost:8080/",
          "height": 292
        },
        "id": "jWFZWtv2e4Sw",
        "outputId": "83bf193d-c07c-4426-a7bf-82cfa15d7322"
      },
      "source": [
        "# DataFrame 생성: 딕셔너리\n",
        "df2 = pd.DataFrame({'A': 1.,\n",
        "                    'B': pd.Timestamp('20130102'),\n",
        "                    'C': pd.Series(1, index=list(range(4)), dtype='float32'),\n",
        "                    'D': np.array([3]*4, dtype='int32'),\n",
        "                    'E': pd.Categorical(['test','train','test','train']),\n",
        "                    'F': 'foo'})\n",
        "print(df2.dtypes)\n",
        "df2"
      ],
      "execution_count": 11,
      "outputs": [
        {
          "output_type": "stream",
          "text": [
            "A           float64\n",
            "B    datetime64[ns]\n",
            "C           float32\n",
            "D             int32\n",
            "E          category\n",
            "F            object\n",
            "dtype: object\n"
          ],
          "name": "stdout"
        },
        {
          "output_type": "execute_result",
          "data": {
            "text/html": [
              "<div>\n",
              "<style scoped>\n",
              "    .dataframe tbody tr th:only-of-type {\n",
              "        vertical-align: middle;\n",
              "    }\n",
              "\n",
              "    .dataframe tbody tr th {\n",
              "        vertical-align: top;\n",
              "    }\n",
              "\n",
              "    .dataframe thead th {\n",
              "        text-align: right;\n",
              "    }\n",
              "</style>\n",
              "<table border=\"1\" class=\"dataframe\">\n",
              "  <thead>\n",
              "    <tr style=\"text-align: right;\">\n",
              "      <th></th>\n",
              "      <th>A</th>\n",
              "      <th>B</th>\n",
              "      <th>C</th>\n",
              "      <th>D</th>\n",
              "      <th>E</th>\n",
              "      <th>F</th>\n",
              "    </tr>\n",
              "  </thead>\n",
              "  <tbody>\n",
              "    <tr>\n",
              "      <th>0</th>\n",
              "      <td>1.0</td>\n",
              "      <td>2013-01-02</td>\n",
              "      <td>1.0</td>\n",
              "      <td>3</td>\n",
              "      <td>test</td>\n",
              "      <td>foo</td>\n",
              "    </tr>\n",
              "    <tr>\n",
              "      <th>1</th>\n",
              "      <td>1.0</td>\n",
              "      <td>2013-01-02</td>\n",
              "      <td>1.0</td>\n",
              "      <td>3</td>\n",
              "      <td>train</td>\n",
              "      <td>foo</td>\n",
              "    </tr>\n",
              "    <tr>\n",
              "      <th>2</th>\n",
              "      <td>1.0</td>\n",
              "      <td>2013-01-02</td>\n",
              "      <td>1.0</td>\n",
              "      <td>3</td>\n",
              "      <td>test</td>\n",
              "      <td>foo</td>\n",
              "    </tr>\n",
              "    <tr>\n",
              "      <th>3</th>\n",
              "      <td>1.0</td>\n",
              "      <td>2013-01-02</td>\n",
              "      <td>1.0</td>\n",
              "      <td>3</td>\n",
              "      <td>train</td>\n",
              "      <td>foo</td>\n",
              "    </tr>\n",
              "  </tbody>\n",
              "</table>\n",
              "</div>"
            ],
            "text/plain": [
              "     A          B    C  D      E    F\n",
              "0  1.0 2013-01-02  1.0  3   test  foo\n",
              "1  1.0 2013-01-02  1.0  3  train  foo\n",
              "2  1.0 2013-01-02  1.0  3   test  foo\n",
              "3  1.0 2013-01-02  1.0  3  train  foo"
            ]
          },
          "metadata": {
            "tags": []
          },
          "execution_count": 11
        }
      ]
    },
    {
      "cell_type": "markdown",
      "metadata": {
        "id": "ofJgllM1h3tH"
      },
      "source": [
        "# 2. 데이터 확인 (Viewing data)\n"
      ]
    },
    {
      "cell_type": "code",
      "metadata": {
        "colab": {
          "base_uri": "https://localhost:8080/",
          "height": 111
        },
        "id": "6bX65Y5Oh_I5",
        "outputId": "f7633218-a2cb-4983-a61a-9cd26f2da64e"
      },
      "source": [
        "df.head(2)"
      ],
      "execution_count": 13,
      "outputs": [
        {
          "output_type": "execute_result",
          "data": {
            "text/html": [
              "<div>\n",
              "<style scoped>\n",
              "    .dataframe tbody tr th:only-of-type {\n",
              "        vertical-align: middle;\n",
              "    }\n",
              "\n",
              "    .dataframe tbody tr th {\n",
              "        vertical-align: top;\n",
              "    }\n",
              "\n",
              "    .dataframe thead th {\n",
              "        text-align: right;\n",
              "    }\n",
              "</style>\n",
              "<table border=\"1\" class=\"dataframe\">\n",
              "  <thead>\n",
              "    <tr style=\"text-align: right;\">\n",
              "      <th></th>\n",
              "      <th>A</th>\n",
              "      <th>B</th>\n",
              "      <th>C</th>\n",
              "      <th>D</th>\n",
              "    </tr>\n",
              "  </thead>\n",
              "  <tbody>\n",
              "    <tr>\n",
              "      <th>2013-01-01</th>\n",
              "      <td>1.358469</td>\n",
              "      <td>0.216869</td>\n",
              "      <td>0.278032</td>\n",
              "      <td>-0.318681</td>\n",
              "    </tr>\n",
              "    <tr>\n",
              "      <th>2013-01-02</th>\n",
              "      <td>-2.764424</td>\n",
              "      <td>1.719490</td>\n",
              "      <td>0.216518</td>\n",
              "      <td>-0.373867</td>\n",
              "    </tr>\n",
              "  </tbody>\n",
              "</table>\n",
              "</div>"
            ],
            "text/plain": [
              "                   A         B         C         D\n",
              "2013-01-01  1.358469  0.216869  0.278032 -0.318681\n",
              "2013-01-02 -2.764424  1.719490  0.216518 -0.373867"
            ]
          },
          "metadata": {
            "tags": []
          },
          "execution_count": 13
        }
      ]
    },
    {
      "cell_type": "code",
      "metadata": {
        "colab": {
          "base_uri": "https://localhost:8080/"
        },
        "id": "RhCTwYngiDMo",
        "outputId": "9129243b-aeba-4615-b06a-2b52bbd02fd9"
      },
      "source": [
        "df.index"
      ],
      "execution_count": 14,
      "outputs": [
        {
          "output_type": "execute_result",
          "data": {
            "text/plain": [
              "DatetimeIndex(['2013-01-01', '2013-01-02', '2013-01-03', '2013-01-04',\n",
              "               '2013-01-05', '2013-01-06'],\n",
              "              dtype='datetime64[ns]', freq='D')"
            ]
          },
          "metadata": {
            "tags": []
          },
          "execution_count": 14
        }
      ]
    },
    {
      "cell_type": "code",
      "metadata": {
        "colab": {
          "base_uri": "https://localhost:8080/"
        },
        "id": "UeJVWF6_iEtr",
        "outputId": "b24faf62-84da-4f3f-dc2d-1a599bdacf02"
      },
      "source": [
        "df.columns"
      ],
      "execution_count": 15,
      "outputs": [
        {
          "output_type": "execute_result",
          "data": {
            "text/plain": [
              "Index(['A', 'B', 'C', 'D'], dtype='object')"
            ]
          },
          "metadata": {
            "tags": []
          },
          "execution_count": 15
        }
      ]
    },
    {
      "cell_type": "code",
      "metadata": {
        "colab": {
          "base_uri": "https://localhost:8080/"
        },
        "id": "7nv61h3RiGUp",
        "outputId": "a2a60357-a908-4243-c93c-34d8045054dd"
      },
      "source": [
        "# Numpy 행렬에는 단 한가지의 dtype만 가능\n",
        "# Pandas 데이터 프레임에는 컬럼당 한가지의 dtype만 가능\n",
        "df.to_numpy()"
      ],
      "execution_count": 17,
      "outputs": [
        {
          "output_type": "execute_result",
          "data": {
            "text/plain": [
              "array([[ 1.35846864,  0.21686859,  0.27803227, -0.31868095],\n",
              "       [-2.76442368,  1.71949047,  0.21651831, -0.37386673],\n",
              "       [ 0.97806835,  0.62008295,  1.75099665, -1.77059919],\n",
              "       [-0.21604154, -0.49568584,  2.03686259,  0.18998239],\n",
              "       [ 0.02196877,  0.15326825,  0.16058841,  1.68642326],\n",
              "       [-0.00304588, -0.46917508, -1.17079435,  0.52331701]])"
            ]
          },
          "metadata": {
            "tags": []
          },
          "execution_count": 17
        }
      ]
    },
    {
      "cell_type": "code",
      "metadata": {
        "colab": {
          "base_uri": "https://localhost:8080/"
        },
        "id": "10lOinX_jTu_",
        "outputId": "6b9bbdaf-ed23-4e15-82f0-b2588d52db2b"
      },
      "source": [
        "# 여러 dtype이 존재하는 df2를 numpy로 변환 시 모든 것을 아우르는 dtype 선택\n",
        "  # DataFrame.to_numpy(): 인덱스와 컬럼명은 포함되지 않음\n",
        "df2.to_numpy()"
      ],
      "execution_count": 18,
      "outputs": [
        {
          "output_type": "execute_result",
          "data": {
            "text/plain": [
              "array([[1.0, Timestamp('2013-01-02 00:00:00'), 1.0, 3, 'test', 'foo'],\n",
              "       [1.0, Timestamp('2013-01-02 00:00:00'), 1.0, 3, 'train', 'foo'],\n",
              "       [1.0, Timestamp('2013-01-02 00:00:00'), 1.0, 3, 'test', 'foo'],\n",
              "       [1.0, Timestamp('2013-01-02 00:00:00'), 1.0, 3, 'train', 'foo']],\n",
              "      dtype=object)"
            ]
          },
          "metadata": {
            "tags": []
          },
          "execution_count": 18
        }
      ]
    },
    {
      "cell_type": "code",
      "metadata": {
        "colab": {
          "base_uri": "https://localhost:8080/",
          "height": 297
        },
        "id": "M8RWS0UTjzeM",
        "outputId": "3b7c0188-9b5e-497e-9d34-cd15b9bf9c59"
      },
      "source": [
        "# df의 통계 요약\n",
        "df.describe()"
      ],
      "execution_count": 20,
      "outputs": [
        {
          "output_type": "execute_result",
          "data": {
            "text/html": [
              "<div>\n",
              "<style scoped>\n",
              "    .dataframe tbody tr th:only-of-type {\n",
              "        vertical-align: middle;\n",
              "    }\n",
              "\n",
              "    .dataframe tbody tr th {\n",
              "        vertical-align: top;\n",
              "    }\n",
              "\n",
              "    .dataframe thead th {\n",
              "        text-align: right;\n",
              "    }\n",
              "</style>\n",
              "<table border=\"1\" class=\"dataframe\">\n",
              "  <thead>\n",
              "    <tr style=\"text-align: right;\">\n",
              "      <th></th>\n",
              "      <th>A</th>\n",
              "      <th>B</th>\n",
              "      <th>C</th>\n",
              "      <th>D</th>\n",
              "    </tr>\n",
              "  </thead>\n",
              "  <tbody>\n",
              "    <tr>\n",
              "      <th>count</th>\n",
              "      <td>6.000000</td>\n",
              "      <td>6.000000</td>\n",
              "      <td>6.000000</td>\n",
              "      <td>6.000000</td>\n",
              "    </tr>\n",
              "    <tr>\n",
              "      <th>mean</th>\n",
              "      <td>-0.104168</td>\n",
              "      <td>0.290808</td>\n",
              "      <td>0.545367</td>\n",
              "      <td>-0.010571</td>\n",
              "    </tr>\n",
              "    <tr>\n",
              "      <th>std</th>\n",
              "      <td>1.444033</td>\n",
              "      <td>0.820986</td>\n",
              "      <td>1.179065</td>\n",
              "      <td>1.142774</td>\n",
              "    </tr>\n",
              "    <tr>\n",
              "      <th>min</th>\n",
              "      <td>-2.764424</td>\n",
              "      <td>-0.495686</td>\n",
              "      <td>-1.170794</td>\n",
              "      <td>-1.770599</td>\n",
              "    </tr>\n",
              "    <tr>\n",
              "      <th>25%</th>\n",
              "      <td>-0.162793</td>\n",
              "      <td>-0.313564</td>\n",
              "      <td>0.174571</td>\n",
              "      <td>-0.360070</td>\n",
              "    </tr>\n",
              "    <tr>\n",
              "      <th>50%</th>\n",
              "      <td>0.009461</td>\n",
              "      <td>0.185068</td>\n",
              "      <td>0.247275</td>\n",
              "      <td>-0.064349</td>\n",
              "    </tr>\n",
              "    <tr>\n",
              "      <th>75%</th>\n",
              "      <td>0.739043</td>\n",
              "      <td>0.519279</td>\n",
              "      <td>1.382756</td>\n",
              "      <td>0.439983</td>\n",
              "    </tr>\n",
              "    <tr>\n",
              "      <th>max</th>\n",
              "      <td>1.358469</td>\n",
              "      <td>1.719490</td>\n",
              "      <td>2.036863</td>\n",
              "      <td>1.686423</td>\n",
              "    </tr>\n",
              "  </tbody>\n",
              "</table>\n",
              "</div>"
            ],
            "text/plain": [
              "              A         B         C         D\n",
              "count  6.000000  6.000000  6.000000  6.000000\n",
              "mean  -0.104168  0.290808  0.545367 -0.010571\n",
              "std    1.444033  0.820986  1.179065  1.142774\n",
              "min   -2.764424 -0.495686 -1.170794 -1.770599\n",
              "25%   -0.162793 -0.313564  0.174571 -0.360070\n",
              "50%    0.009461  0.185068  0.247275 -0.064349\n",
              "75%    0.739043  0.519279  1.382756  0.439983\n",
              "max    1.358469  1.719490  2.036863  1.686423"
            ]
          },
          "metadata": {
            "tags": []
          },
          "execution_count": 20
        }
      ]
    },
    {
      "cell_type": "code",
      "metadata": {
        "colab": {
          "base_uri": "https://localhost:8080/",
          "height": 173
        },
        "id": "SCMYZ3X5kIh_",
        "outputId": "69c0f82a-5d72-4b1a-8e1e-a09c917fc6fc"
      },
      "source": [
        "# df의 행과 열 바꾸기\n",
        "df.T"
      ],
      "execution_count": 21,
      "outputs": [
        {
          "output_type": "execute_result",
          "data": {
            "text/html": [
              "<div>\n",
              "<style scoped>\n",
              "    .dataframe tbody tr th:only-of-type {\n",
              "        vertical-align: middle;\n",
              "    }\n",
              "\n",
              "    .dataframe tbody tr th {\n",
              "        vertical-align: top;\n",
              "    }\n",
              "\n",
              "    .dataframe thead th {\n",
              "        text-align: right;\n",
              "    }\n",
              "</style>\n",
              "<table border=\"1\" class=\"dataframe\">\n",
              "  <thead>\n",
              "    <tr style=\"text-align: right;\">\n",
              "      <th></th>\n",
              "      <th>2013-01-01</th>\n",
              "      <th>2013-01-02</th>\n",
              "      <th>2013-01-03</th>\n",
              "      <th>2013-01-04</th>\n",
              "      <th>2013-01-05</th>\n",
              "      <th>2013-01-06</th>\n",
              "    </tr>\n",
              "  </thead>\n",
              "  <tbody>\n",
              "    <tr>\n",
              "      <th>A</th>\n",
              "      <td>1.358469</td>\n",
              "      <td>-2.764424</td>\n",
              "      <td>0.978068</td>\n",
              "      <td>-0.216042</td>\n",
              "      <td>0.021969</td>\n",
              "      <td>-0.003046</td>\n",
              "    </tr>\n",
              "    <tr>\n",
              "      <th>B</th>\n",
              "      <td>0.216869</td>\n",
              "      <td>1.719490</td>\n",
              "      <td>0.620083</td>\n",
              "      <td>-0.495686</td>\n",
              "      <td>0.153268</td>\n",
              "      <td>-0.469175</td>\n",
              "    </tr>\n",
              "    <tr>\n",
              "      <th>C</th>\n",
              "      <td>0.278032</td>\n",
              "      <td>0.216518</td>\n",
              "      <td>1.750997</td>\n",
              "      <td>2.036863</td>\n",
              "      <td>0.160588</td>\n",
              "      <td>-1.170794</td>\n",
              "    </tr>\n",
              "    <tr>\n",
              "      <th>D</th>\n",
              "      <td>-0.318681</td>\n",
              "      <td>-0.373867</td>\n",
              "      <td>-1.770599</td>\n",
              "      <td>0.189982</td>\n",
              "      <td>1.686423</td>\n",
              "      <td>0.523317</td>\n",
              "    </tr>\n",
              "  </tbody>\n",
              "</table>\n",
              "</div>"
            ],
            "text/plain": [
              "   2013-01-01  2013-01-02  2013-01-03  2013-01-04  2013-01-05  2013-01-06\n",
              "A    1.358469   -2.764424    0.978068   -0.216042    0.021969   -0.003046\n",
              "B    0.216869    1.719490    0.620083   -0.495686    0.153268   -0.469175\n",
              "C    0.278032    0.216518    1.750997    2.036863    0.160588   -1.170794\n",
              "D   -0.318681   -0.373867   -1.770599    0.189982    1.686423    0.523317"
            ]
          },
          "metadata": {
            "tags": []
          },
          "execution_count": 21
        }
      ]
    },
    {
      "cell_type": "code",
      "metadata": {
        "colab": {
          "base_uri": "https://localhost:8080/",
          "height": 235
        },
        "id": "dh-l4EJIkNXG",
        "outputId": "fb8cc157-f289-4886-ff0c-a5727ab9a261"
      },
      "source": [
        "# 행 또는 열 값에 따라 나열하기\n",
        "df.sort_index(axis=1, ascending=False)"
      ],
      "execution_count": 22,
      "outputs": [
        {
          "output_type": "execute_result",
          "data": {
            "text/html": [
              "<div>\n",
              "<style scoped>\n",
              "    .dataframe tbody tr th:only-of-type {\n",
              "        vertical-align: middle;\n",
              "    }\n",
              "\n",
              "    .dataframe tbody tr th {\n",
              "        vertical-align: top;\n",
              "    }\n",
              "\n",
              "    .dataframe thead th {\n",
              "        text-align: right;\n",
              "    }\n",
              "</style>\n",
              "<table border=\"1\" class=\"dataframe\">\n",
              "  <thead>\n",
              "    <tr style=\"text-align: right;\">\n",
              "      <th></th>\n",
              "      <th>D</th>\n",
              "      <th>C</th>\n",
              "      <th>B</th>\n",
              "      <th>A</th>\n",
              "    </tr>\n",
              "  </thead>\n",
              "  <tbody>\n",
              "    <tr>\n",
              "      <th>2013-01-01</th>\n",
              "      <td>-0.318681</td>\n",
              "      <td>0.278032</td>\n",
              "      <td>0.216869</td>\n",
              "      <td>1.358469</td>\n",
              "    </tr>\n",
              "    <tr>\n",
              "      <th>2013-01-02</th>\n",
              "      <td>-0.373867</td>\n",
              "      <td>0.216518</td>\n",
              "      <td>1.719490</td>\n",
              "      <td>-2.764424</td>\n",
              "    </tr>\n",
              "    <tr>\n",
              "      <th>2013-01-03</th>\n",
              "      <td>-1.770599</td>\n",
              "      <td>1.750997</td>\n",
              "      <td>0.620083</td>\n",
              "      <td>0.978068</td>\n",
              "    </tr>\n",
              "    <tr>\n",
              "      <th>2013-01-04</th>\n",
              "      <td>0.189982</td>\n",
              "      <td>2.036863</td>\n",
              "      <td>-0.495686</td>\n",
              "      <td>-0.216042</td>\n",
              "    </tr>\n",
              "    <tr>\n",
              "      <th>2013-01-05</th>\n",
              "      <td>1.686423</td>\n",
              "      <td>0.160588</td>\n",
              "      <td>0.153268</td>\n",
              "      <td>0.021969</td>\n",
              "    </tr>\n",
              "    <tr>\n",
              "      <th>2013-01-06</th>\n",
              "      <td>0.523317</td>\n",
              "      <td>-1.170794</td>\n",
              "      <td>-0.469175</td>\n",
              "      <td>-0.003046</td>\n",
              "    </tr>\n",
              "  </tbody>\n",
              "</table>\n",
              "</div>"
            ],
            "text/plain": [
              "                   D         C         B         A\n",
              "2013-01-01 -0.318681  0.278032  0.216869  1.358469\n",
              "2013-01-02 -0.373867  0.216518  1.719490 -2.764424\n",
              "2013-01-03 -1.770599  1.750997  0.620083  0.978068\n",
              "2013-01-04  0.189982  2.036863 -0.495686 -0.216042\n",
              "2013-01-05  1.686423  0.160588  0.153268  0.021969\n",
              "2013-01-06  0.523317 -1.170794 -0.469175 -0.003046"
            ]
          },
          "metadata": {
            "tags": []
          },
          "execution_count": 22
        }
      ]
    },
    {
      "cell_type": "code",
      "metadata": {
        "colab": {
          "base_uri": "https://localhost:8080/",
          "height": 235
        },
        "id": "YtHC4eIRkim7",
        "outputId": "9779fba5-87ef-4690-9a7a-509288b1e2cf"
      },
      "source": [
        "df.sort_index(ascending=False)"
      ],
      "execution_count": 25,
      "outputs": [
        {
          "output_type": "execute_result",
          "data": {
            "text/html": [
              "<div>\n",
              "<style scoped>\n",
              "    .dataframe tbody tr th:only-of-type {\n",
              "        vertical-align: middle;\n",
              "    }\n",
              "\n",
              "    .dataframe tbody tr th {\n",
              "        vertical-align: top;\n",
              "    }\n",
              "\n",
              "    .dataframe thead th {\n",
              "        text-align: right;\n",
              "    }\n",
              "</style>\n",
              "<table border=\"1\" class=\"dataframe\">\n",
              "  <thead>\n",
              "    <tr style=\"text-align: right;\">\n",
              "      <th></th>\n",
              "      <th>A</th>\n",
              "      <th>B</th>\n",
              "      <th>C</th>\n",
              "      <th>D</th>\n",
              "    </tr>\n",
              "  </thead>\n",
              "  <tbody>\n",
              "    <tr>\n",
              "      <th>2013-01-06</th>\n",
              "      <td>-0.003046</td>\n",
              "      <td>-0.469175</td>\n",
              "      <td>-1.170794</td>\n",
              "      <td>0.523317</td>\n",
              "    </tr>\n",
              "    <tr>\n",
              "      <th>2013-01-05</th>\n",
              "      <td>0.021969</td>\n",
              "      <td>0.153268</td>\n",
              "      <td>0.160588</td>\n",
              "      <td>1.686423</td>\n",
              "    </tr>\n",
              "    <tr>\n",
              "      <th>2013-01-04</th>\n",
              "      <td>-0.216042</td>\n",
              "      <td>-0.495686</td>\n",
              "      <td>2.036863</td>\n",
              "      <td>0.189982</td>\n",
              "    </tr>\n",
              "    <tr>\n",
              "      <th>2013-01-03</th>\n",
              "      <td>0.978068</td>\n",
              "      <td>0.620083</td>\n",
              "      <td>1.750997</td>\n",
              "      <td>-1.770599</td>\n",
              "    </tr>\n",
              "    <tr>\n",
              "      <th>2013-01-02</th>\n",
              "      <td>-2.764424</td>\n",
              "      <td>1.719490</td>\n",
              "      <td>0.216518</td>\n",
              "      <td>-0.373867</td>\n",
              "    </tr>\n",
              "    <tr>\n",
              "      <th>2013-01-01</th>\n",
              "      <td>1.358469</td>\n",
              "      <td>0.216869</td>\n",
              "      <td>0.278032</td>\n",
              "      <td>-0.318681</td>\n",
              "    </tr>\n",
              "  </tbody>\n",
              "</table>\n",
              "</div>"
            ],
            "text/plain": [
              "                   A         B         C         D\n",
              "2013-01-06 -0.003046 -0.469175 -1.170794  0.523317\n",
              "2013-01-05  0.021969  0.153268  0.160588  1.686423\n",
              "2013-01-04 -0.216042 -0.495686  2.036863  0.189982\n",
              "2013-01-03  0.978068  0.620083  1.750997 -1.770599\n",
              "2013-01-02 -2.764424  1.719490  0.216518 -0.373867\n",
              "2013-01-01  1.358469  0.216869  0.278032 -0.318681"
            ]
          },
          "metadata": {
            "tags": []
          },
          "execution_count": 25
        }
      ]
    },
    {
      "cell_type": "code",
      "metadata": {
        "colab": {
          "base_uri": "https://localhost:8080/",
          "height": 235
        },
        "id": "uqEYF9A_kov_",
        "outputId": "72861747-190e-4313-ac38-52df93bf5a2d"
      },
      "source": [
        "# 값에 따라 나열하기\n",
        "df.sort_values(by=\"B\")"
      ],
      "execution_count": 27,
      "outputs": [
        {
          "output_type": "execute_result",
          "data": {
            "text/html": [
              "<div>\n",
              "<style scoped>\n",
              "    .dataframe tbody tr th:only-of-type {\n",
              "        vertical-align: middle;\n",
              "    }\n",
              "\n",
              "    .dataframe tbody tr th {\n",
              "        vertical-align: top;\n",
              "    }\n",
              "\n",
              "    .dataframe thead th {\n",
              "        text-align: right;\n",
              "    }\n",
              "</style>\n",
              "<table border=\"1\" class=\"dataframe\">\n",
              "  <thead>\n",
              "    <tr style=\"text-align: right;\">\n",
              "      <th></th>\n",
              "      <th>A</th>\n",
              "      <th>B</th>\n",
              "      <th>C</th>\n",
              "      <th>D</th>\n",
              "    </tr>\n",
              "  </thead>\n",
              "  <tbody>\n",
              "    <tr>\n",
              "      <th>2013-01-04</th>\n",
              "      <td>-0.216042</td>\n",
              "      <td>-0.495686</td>\n",
              "      <td>2.036863</td>\n",
              "      <td>0.189982</td>\n",
              "    </tr>\n",
              "    <tr>\n",
              "      <th>2013-01-06</th>\n",
              "      <td>-0.003046</td>\n",
              "      <td>-0.469175</td>\n",
              "      <td>-1.170794</td>\n",
              "      <td>0.523317</td>\n",
              "    </tr>\n",
              "    <tr>\n",
              "      <th>2013-01-05</th>\n",
              "      <td>0.021969</td>\n",
              "      <td>0.153268</td>\n",
              "      <td>0.160588</td>\n",
              "      <td>1.686423</td>\n",
              "    </tr>\n",
              "    <tr>\n",
              "      <th>2013-01-01</th>\n",
              "      <td>1.358469</td>\n",
              "      <td>0.216869</td>\n",
              "      <td>0.278032</td>\n",
              "      <td>-0.318681</td>\n",
              "    </tr>\n",
              "    <tr>\n",
              "      <th>2013-01-03</th>\n",
              "      <td>0.978068</td>\n",
              "      <td>0.620083</td>\n",
              "      <td>1.750997</td>\n",
              "      <td>-1.770599</td>\n",
              "    </tr>\n",
              "    <tr>\n",
              "      <th>2013-01-02</th>\n",
              "      <td>-2.764424</td>\n",
              "      <td>1.719490</td>\n",
              "      <td>0.216518</td>\n",
              "      <td>-0.373867</td>\n",
              "    </tr>\n",
              "  </tbody>\n",
              "</table>\n",
              "</div>"
            ],
            "text/plain": [
              "                   A         B         C         D\n",
              "2013-01-04 -0.216042 -0.495686  2.036863  0.189982\n",
              "2013-01-06 -0.003046 -0.469175 -1.170794  0.523317\n",
              "2013-01-05  0.021969  0.153268  0.160588  1.686423\n",
              "2013-01-01  1.358469  0.216869  0.278032 -0.318681\n",
              "2013-01-03  0.978068  0.620083  1.750997 -1.770599\n",
              "2013-01-02 -2.764424  1.719490  0.216518 -0.373867"
            ]
          },
          "metadata": {
            "tags": []
          },
          "execution_count": 27
        }
      ]
    },
    {
      "cell_type": "code",
      "metadata": {
        "colab": {
          "base_uri": "https://localhost:8080/",
          "height": 235
        },
        "id": "4gY4nTRWk4ES",
        "outputId": "12f2b87c-9ff4-4584-a7e4-b691c2f572fb"
      },
      "source": [
        "df.sort_values(by=\"B\", ascending=False)"
      ],
      "execution_count": 28,
      "outputs": [
        {
          "output_type": "execute_result",
          "data": {
            "text/html": [
              "<div>\n",
              "<style scoped>\n",
              "    .dataframe tbody tr th:only-of-type {\n",
              "        vertical-align: middle;\n",
              "    }\n",
              "\n",
              "    .dataframe tbody tr th {\n",
              "        vertical-align: top;\n",
              "    }\n",
              "\n",
              "    .dataframe thead th {\n",
              "        text-align: right;\n",
              "    }\n",
              "</style>\n",
              "<table border=\"1\" class=\"dataframe\">\n",
              "  <thead>\n",
              "    <tr style=\"text-align: right;\">\n",
              "      <th></th>\n",
              "      <th>A</th>\n",
              "      <th>B</th>\n",
              "      <th>C</th>\n",
              "      <th>D</th>\n",
              "    </tr>\n",
              "  </thead>\n",
              "  <tbody>\n",
              "    <tr>\n",
              "      <th>2013-01-02</th>\n",
              "      <td>-2.764424</td>\n",
              "      <td>1.719490</td>\n",
              "      <td>0.216518</td>\n",
              "      <td>-0.373867</td>\n",
              "    </tr>\n",
              "    <tr>\n",
              "      <th>2013-01-03</th>\n",
              "      <td>0.978068</td>\n",
              "      <td>0.620083</td>\n",
              "      <td>1.750997</td>\n",
              "      <td>-1.770599</td>\n",
              "    </tr>\n",
              "    <tr>\n",
              "      <th>2013-01-01</th>\n",
              "      <td>1.358469</td>\n",
              "      <td>0.216869</td>\n",
              "      <td>0.278032</td>\n",
              "      <td>-0.318681</td>\n",
              "    </tr>\n",
              "    <tr>\n",
              "      <th>2013-01-05</th>\n",
              "      <td>0.021969</td>\n",
              "      <td>0.153268</td>\n",
              "      <td>0.160588</td>\n",
              "      <td>1.686423</td>\n",
              "    </tr>\n",
              "    <tr>\n",
              "      <th>2013-01-06</th>\n",
              "      <td>-0.003046</td>\n",
              "      <td>-0.469175</td>\n",
              "      <td>-1.170794</td>\n",
              "      <td>0.523317</td>\n",
              "    </tr>\n",
              "    <tr>\n",
              "      <th>2013-01-04</th>\n",
              "      <td>-0.216042</td>\n",
              "      <td>-0.495686</td>\n",
              "      <td>2.036863</td>\n",
              "      <td>0.189982</td>\n",
              "    </tr>\n",
              "  </tbody>\n",
              "</table>\n",
              "</div>"
            ],
            "text/plain": [
              "                   A         B         C         D\n",
              "2013-01-02 -2.764424  1.719490  0.216518 -0.373867\n",
              "2013-01-03  0.978068  0.620083  1.750997 -1.770599\n",
              "2013-01-01  1.358469  0.216869  0.278032 -0.318681\n",
              "2013-01-05  0.021969  0.153268  0.160588  1.686423\n",
              "2013-01-06 -0.003046 -0.469175 -1.170794  0.523317\n",
              "2013-01-04 -0.216042 -0.495686  2.036863  0.189982"
            ]
          },
          "metadata": {
            "tags": []
          },
          "execution_count": 28
        }
      ]
    },
    {
      "cell_type": "markdown",
      "metadata": {
        "id": "VCAu4qVolDXD"
      },
      "source": [
        "# 3. 데이터 선택 (Selection)\n",
        "- .at / .iat\n",
        "- .loc / .iloc\n",
        "- .isin"
      ]
    },
    {
      "cell_type": "code",
      "metadata": {
        "colab": {
          "base_uri": "https://localhost:8080/"
        },
        "id": "xWJpEt3GleU6",
        "outputId": "246b2c5b-e658-412a-82ae-8f151dcf0837"
      },
      "source": [
        "# 해당하는 열 가져오기\n",
        "df['A']  # df.A"
      ],
      "execution_count": 29,
      "outputs": [
        {
          "output_type": "execute_result",
          "data": {
            "text/plain": [
              "2013-01-01    1.358469\n",
              "2013-01-02   -2.764424\n",
              "2013-01-03    0.978068\n",
              "2013-01-04   -0.216042\n",
              "2013-01-05    0.021969\n",
              "2013-01-06   -0.003046\n",
              "Freq: D, Name: A, dtype: float64"
            ]
          },
          "metadata": {
            "tags": []
          },
          "execution_count": 29
        }
      ]
    },
    {
      "cell_type": "code",
      "metadata": {
        "colab": {
          "base_uri": "https://localhost:8080/",
          "height": 111
        },
        "id": "rncsvKEAlmnx",
        "outputId": "a4890861-1b80-4f39-e091-f7c6e44bf66d"
      },
      "source": [
        "# 해당하는 행 가져오기\n",
        "df[2:4]  # df['20130103':'20130104']"
      ],
      "execution_count": 31,
      "outputs": [
        {
          "output_type": "execute_result",
          "data": {
            "text/html": [
              "<div>\n",
              "<style scoped>\n",
              "    .dataframe tbody tr th:only-of-type {\n",
              "        vertical-align: middle;\n",
              "    }\n",
              "\n",
              "    .dataframe tbody tr th {\n",
              "        vertical-align: top;\n",
              "    }\n",
              "\n",
              "    .dataframe thead th {\n",
              "        text-align: right;\n",
              "    }\n",
              "</style>\n",
              "<table border=\"1\" class=\"dataframe\">\n",
              "  <thead>\n",
              "    <tr style=\"text-align: right;\">\n",
              "      <th></th>\n",
              "      <th>A</th>\n",
              "      <th>B</th>\n",
              "      <th>C</th>\n",
              "      <th>D</th>\n",
              "    </tr>\n",
              "  </thead>\n",
              "  <tbody>\n",
              "    <tr>\n",
              "      <th>2013-01-03</th>\n",
              "      <td>0.978068</td>\n",
              "      <td>0.620083</td>\n",
              "      <td>1.750997</td>\n",
              "      <td>-1.770599</td>\n",
              "    </tr>\n",
              "    <tr>\n",
              "      <th>2013-01-04</th>\n",
              "      <td>-0.216042</td>\n",
              "      <td>-0.495686</td>\n",
              "      <td>2.036863</td>\n",
              "      <td>0.189982</td>\n",
              "    </tr>\n",
              "  </tbody>\n",
              "</table>\n",
              "</div>"
            ],
            "text/plain": [
              "                   A         B         C         D\n",
              "2013-01-03  0.978068  0.620083  1.750997 -1.770599\n",
              "2013-01-04 -0.216042 -0.495686  2.036863  0.189982"
            ]
          },
          "metadata": {
            "tags": []
          },
          "execution_count": 31
        }
      ]
    },
    {
      "cell_type": "markdown",
      "metadata": {
        "id": "W_4F3cJOo0Mo"
      },
      "source": [
        "## 인덱스 또는 컬럼명으로 가져오기"
      ]
    },
    {
      "cell_type": "code",
      "metadata": {
        "colab": {
          "base_uri": "https://localhost:8080/"
        },
        "id": "8yEXYzXKlMMV",
        "outputId": "5c943c5b-3c92-415a-bc3e-8616e851ea31"
      },
      "source": [
        "# 인덱스 값으로 가져오기\n",
        "df.loc['20130101']"
      ],
      "execution_count": 33,
      "outputs": [
        {
          "output_type": "execute_result",
          "data": {
            "text/plain": [
              "A    1.358469\n",
              "B    0.216869\n",
              "C    0.278032\n",
              "D   -0.318681\n",
              "Name: 2013-01-01 00:00:00, dtype: float64"
            ]
          },
          "metadata": {
            "tags": []
          },
          "execution_count": 33
        }
      ]
    },
    {
      "cell_type": "code",
      "metadata": {
        "colab": {
          "base_uri": "https://localhost:8080/",
          "height": 235
        },
        "id": "JuS3XnA9mYG8",
        "outputId": "740346c1-daf6-41d2-9f55-915a6e508376"
      },
      "source": [
        "# 지정한 행과 열에 해당하는 값 가져오기\n",
        "df.loc[:,['A','B']]"
      ],
      "execution_count": 35,
      "outputs": [
        {
          "output_type": "execute_result",
          "data": {
            "text/html": [
              "<div>\n",
              "<style scoped>\n",
              "    .dataframe tbody tr th:only-of-type {\n",
              "        vertical-align: middle;\n",
              "    }\n",
              "\n",
              "    .dataframe tbody tr th {\n",
              "        vertical-align: top;\n",
              "    }\n",
              "\n",
              "    .dataframe thead th {\n",
              "        text-align: right;\n",
              "    }\n",
              "</style>\n",
              "<table border=\"1\" class=\"dataframe\">\n",
              "  <thead>\n",
              "    <tr style=\"text-align: right;\">\n",
              "      <th></th>\n",
              "      <th>A</th>\n",
              "      <th>B</th>\n",
              "    </tr>\n",
              "  </thead>\n",
              "  <tbody>\n",
              "    <tr>\n",
              "      <th>2013-01-01</th>\n",
              "      <td>1.358469</td>\n",
              "      <td>0.216869</td>\n",
              "    </tr>\n",
              "    <tr>\n",
              "      <th>2013-01-02</th>\n",
              "      <td>-2.764424</td>\n",
              "      <td>1.719490</td>\n",
              "    </tr>\n",
              "    <tr>\n",
              "      <th>2013-01-03</th>\n",
              "      <td>0.978068</td>\n",
              "      <td>0.620083</td>\n",
              "    </tr>\n",
              "    <tr>\n",
              "      <th>2013-01-04</th>\n",
              "      <td>-0.216042</td>\n",
              "      <td>-0.495686</td>\n",
              "    </tr>\n",
              "    <tr>\n",
              "      <th>2013-01-05</th>\n",
              "      <td>0.021969</td>\n",
              "      <td>0.153268</td>\n",
              "    </tr>\n",
              "    <tr>\n",
              "      <th>2013-01-06</th>\n",
              "      <td>-0.003046</td>\n",
              "      <td>-0.469175</td>\n",
              "    </tr>\n",
              "  </tbody>\n",
              "</table>\n",
              "</div>"
            ],
            "text/plain": [
              "                   A         B\n",
              "2013-01-01  1.358469  0.216869\n",
              "2013-01-02 -2.764424  1.719490\n",
              "2013-01-03  0.978068  0.620083\n",
              "2013-01-04 -0.216042 -0.495686\n",
              "2013-01-05  0.021969  0.153268\n",
              "2013-01-06 -0.003046 -0.469175"
            ]
          },
          "metadata": {
            "tags": []
          },
          "execution_count": 35
        }
      ]
    },
    {
      "cell_type": "code",
      "metadata": {
        "colab": {
          "base_uri": "https://localhost:8080/",
          "height": 142
        },
        "id": "lSGMEZ7_mpAj",
        "outputId": "8780e415-71db-453f-b031-5bdeedb33677"
      },
      "source": [
        "df.loc['20130102':'20130104', 'A':'C']"
      ],
      "execution_count": 40,
      "outputs": [
        {
          "output_type": "execute_result",
          "data": {
            "text/html": [
              "<div>\n",
              "<style scoped>\n",
              "    .dataframe tbody tr th:only-of-type {\n",
              "        vertical-align: middle;\n",
              "    }\n",
              "\n",
              "    .dataframe tbody tr th {\n",
              "        vertical-align: top;\n",
              "    }\n",
              "\n",
              "    .dataframe thead th {\n",
              "        text-align: right;\n",
              "    }\n",
              "</style>\n",
              "<table border=\"1\" class=\"dataframe\">\n",
              "  <thead>\n",
              "    <tr style=\"text-align: right;\">\n",
              "      <th></th>\n",
              "      <th>A</th>\n",
              "      <th>B</th>\n",
              "      <th>C</th>\n",
              "    </tr>\n",
              "  </thead>\n",
              "  <tbody>\n",
              "    <tr>\n",
              "      <th>2013-01-02</th>\n",
              "      <td>-2.764424</td>\n",
              "      <td>1.719490</td>\n",
              "      <td>0.216518</td>\n",
              "    </tr>\n",
              "    <tr>\n",
              "      <th>2013-01-03</th>\n",
              "      <td>0.978068</td>\n",
              "      <td>0.620083</td>\n",
              "      <td>1.750997</td>\n",
              "    </tr>\n",
              "    <tr>\n",
              "      <th>2013-01-04</th>\n",
              "      <td>-0.216042</td>\n",
              "      <td>-0.495686</td>\n",
              "      <td>2.036863</td>\n",
              "    </tr>\n",
              "  </tbody>\n",
              "</table>\n",
              "</div>"
            ],
            "text/plain": [
              "                   A         B         C\n",
              "2013-01-02 -2.764424  1.719490  0.216518\n",
              "2013-01-03  0.978068  0.620083  1.750997\n",
              "2013-01-04 -0.216042 -0.495686  2.036863"
            ]
          },
          "metadata": {
            "tags": []
          },
          "execution_count": 40
        }
      ]
    },
    {
      "cell_type": "code",
      "metadata": {
        "colab": {
          "base_uri": "https://localhost:8080/",
          "height": 142
        },
        "id": "1jcvAR27m_Xk",
        "outputId": "ce483a2d-818a-4843-a670-e06d996043e8"
      },
      "source": [
        "df.loc['20130102':'20130104', ['A','C']]"
      ],
      "execution_count": 41,
      "outputs": [
        {
          "output_type": "execute_result",
          "data": {
            "text/html": [
              "<div>\n",
              "<style scoped>\n",
              "    .dataframe tbody tr th:only-of-type {\n",
              "        vertical-align: middle;\n",
              "    }\n",
              "\n",
              "    .dataframe tbody tr th {\n",
              "        vertical-align: top;\n",
              "    }\n",
              "\n",
              "    .dataframe thead th {\n",
              "        text-align: right;\n",
              "    }\n",
              "</style>\n",
              "<table border=\"1\" class=\"dataframe\">\n",
              "  <thead>\n",
              "    <tr style=\"text-align: right;\">\n",
              "      <th></th>\n",
              "      <th>A</th>\n",
              "      <th>C</th>\n",
              "    </tr>\n",
              "  </thead>\n",
              "  <tbody>\n",
              "    <tr>\n",
              "      <th>2013-01-02</th>\n",
              "      <td>-2.764424</td>\n",
              "      <td>0.216518</td>\n",
              "    </tr>\n",
              "    <tr>\n",
              "      <th>2013-01-03</th>\n",
              "      <td>0.978068</td>\n",
              "      <td>1.750997</td>\n",
              "    </tr>\n",
              "    <tr>\n",
              "      <th>2013-01-04</th>\n",
              "      <td>-0.216042</td>\n",
              "      <td>2.036863</td>\n",
              "    </tr>\n",
              "  </tbody>\n",
              "</table>\n",
              "</div>"
            ],
            "text/plain": [
              "                   A         C\n",
              "2013-01-02 -2.764424  0.216518\n",
              "2013-01-03  0.978068  1.750997\n",
              "2013-01-04 -0.216042  2.036863"
            ]
          },
          "metadata": {
            "tags": []
          },
          "execution_count": 41
        }
      ]
    },
    {
      "cell_type": "code",
      "metadata": {
        "colab": {
          "base_uri": "https://localhost:8080/"
        },
        "id": "EH6k8lILnCrj",
        "outputId": "2fa5997e-6e1a-4231-e574-f1090d46af20"
      },
      "source": [
        "df.loc[dates[0],'A']"
      ],
      "execution_count": 46,
      "outputs": [
        {
          "output_type": "execute_result",
          "data": {
            "text/plain": [
              "1.3584686410474351"
            ]
          },
          "metadata": {
            "tags": []
          },
          "execution_count": 46
        }
      ]
    },
    {
      "cell_type": "code",
      "metadata": {
        "colab": {
          "base_uri": "https://localhost:8080/"
        },
        "id": "FxL42QnVnS6B",
        "outputId": "cc6ca11c-4e0e-43ad-df18-f2e6b040520f"
      },
      "source": [
        "# .at: scalar 가져올 때 .loc 보다 더 빠른 방법\n",
        "df.at[dates[0],'A']"
      ],
      "execution_count": 47,
      "outputs": [
        {
          "output_type": "execute_result",
          "data": {
            "text/plain": [
              "1.3584686410474351"
            ]
          },
          "metadata": {
            "tags": []
          },
          "execution_count": 47
        }
      ]
    },
    {
      "cell_type": "markdown",
      "metadata": {
        "id": "heovh85Uo51r"
      },
      "source": [
        "## 좌표값으로 가져오기"
      ]
    },
    {
      "cell_type": "code",
      "metadata": {
        "colab": {
          "base_uri": "https://localhost:8080/"
        },
        "id": "QDYKA1wTo9b1",
        "outputId": "341afd73-6da2-4bfb-824a-094a71876cd8"
      },
      "source": [
        "df.iloc[2]"
      ],
      "execution_count": 50,
      "outputs": [
        {
          "output_type": "execute_result",
          "data": {
            "text/plain": [
              "A    0.978068\n",
              "B    0.620083\n",
              "C    1.750997\n",
              "D   -1.770599\n",
              "Name: 2013-01-03 00:00:00, dtype: float64"
            ]
          },
          "metadata": {
            "tags": []
          },
          "execution_count": 50
        }
      ]
    },
    {
      "cell_type": "code",
      "metadata": {
        "colab": {
          "base_uri": "https://localhost:8080/",
          "height": 111
        },
        "id": "OR1344IypEOr",
        "outputId": "03e015c4-c3f4-4167-f29a-2455c6ba2c5b"
      },
      "source": [
        "df.iloc[3:5]  # df[3:5] / df['20130104':'20130105']"
      ],
      "execution_count": 51,
      "outputs": [
        {
          "output_type": "execute_result",
          "data": {
            "text/html": [
              "<div>\n",
              "<style scoped>\n",
              "    .dataframe tbody tr th:only-of-type {\n",
              "        vertical-align: middle;\n",
              "    }\n",
              "\n",
              "    .dataframe tbody tr th {\n",
              "        vertical-align: top;\n",
              "    }\n",
              "\n",
              "    .dataframe thead th {\n",
              "        text-align: right;\n",
              "    }\n",
              "</style>\n",
              "<table border=\"1\" class=\"dataframe\">\n",
              "  <thead>\n",
              "    <tr style=\"text-align: right;\">\n",
              "      <th></th>\n",
              "      <th>A</th>\n",
              "      <th>B</th>\n",
              "      <th>C</th>\n",
              "      <th>D</th>\n",
              "    </tr>\n",
              "  </thead>\n",
              "  <tbody>\n",
              "    <tr>\n",
              "      <th>2013-01-04</th>\n",
              "      <td>-0.216042</td>\n",
              "      <td>-0.495686</td>\n",
              "      <td>2.036863</td>\n",
              "      <td>0.189982</td>\n",
              "    </tr>\n",
              "    <tr>\n",
              "      <th>2013-01-05</th>\n",
              "      <td>0.021969</td>\n",
              "      <td>0.153268</td>\n",
              "      <td>0.160588</td>\n",
              "      <td>1.686423</td>\n",
              "    </tr>\n",
              "  </tbody>\n",
              "</table>\n",
              "</div>"
            ],
            "text/plain": [
              "                   A         B         C         D\n",
              "2013-01-04 -0.216042 -0.495686  2.036863  0.189982\n",
              "2013-01-05  0.021969  0.153268  0.160588  1.686423"
            ]
          },
          "metadata": {
            "tags": []
          },
          "execution_count": 51
        }
      ]
    },
    {
      "cell_type": "code",
      "metadata": {
        "colab": {
          "base_uri": "https://localhost:8080/",
          "height": 111
        },
        "id": "e6G4W1JMpSuh",
        "outputId": "84a79d97-3589-4aa9-9b64-37ca039396c4"
      },
      "source": [
        "df.iloc[3:5, 0:2]"
      ],
      "execution_count": 54,
      "outputs": [
        {
          "output_type": "execute_result",
          "data": {
            "text/html": [
              "<div>\n",
              "<style scoped>\n",
              "    .dataframe tbody tr th:only-of-type {\n",
              "        vertical-align: middle;\n",
              "    }\n",
              "\n",
              "    .dataframe tbody tr th {\n",
              "        vertical-align: top;\n",
              "    }\n",
              "\n",
              "    .dataframe thead th {\n",
              "        text-align: right;\n",
              "    }\n",
              "</style>\n",
              "<table border=\"1\" class=\"dataframe\">\n",
              "  <thead>\n",
              "    <tr style=\"text-align: right;\">\n",
              "      <th></th>\n",
              "      <th>A</th>\n",
              "      <th>B</th>\n",
              "    </tr>\n",
              "  </thead>\n",
              "  <tbody>\n",
              "    <tr>\n",
              "      <th>2013-01-04</th>\n",
              "      <td>-0.216042</td>\n",
              "      <td>-0.495686</td>\n",
              "    </tr>\n",
              "    <tr>\n",
              "      <th>2013-01-05</th>\n",
              "      <td>0.021969</td>\n",
              "      <td>0.153268</td>\n",
              "    </tr>\n",
              "  </tbody>\n",
              "</table>\n",
              "</div>"
            ],
            "text/plain": [
              "                   A         B\n",
              "2013-01-04 -0.216042 -0.495686\n",
              "2013-01-05  0.021969  0.153268"
            ]
          },
          "metadata": {
            "tags": []
          },
          "execution_count": 54
        }
      ]
    },
    {
      "cell_type": "code",
      "metadata": {
        "colab": {
          "base_uri": "https://localhost:8080/",
          "height": 142
        },
        "id": "ObCwFOtzpYaX",
        "outputId": "66799597-a160-4455-c278-1a9defc28656"
      },
      "source": [
        "df.iloc[[1,2,4],[0,2]]"
      ],
      "execution_count": 55,
      "outputs": [
        {
          "output_type": "execute_result",
          "data": {
            "text/html": [
              "<div>\n",
              "<style scoped>\n",
              "    .dataframe tbody tr th:only-of-type {\n",
              "        vertical-align: middle;\n",
              "    }\n",
              "\n",
              "    .dataframe tbody tr th {\n",
              "        vertical-align: top;\n",
              "    }\n",
              "\n",
              "    .dataframe thead th {\n",
              "        text-align: right;\n",
              "    }\n",
              "</style>\n",
              "<table border=\"1\" class=\"dataframe\">\n",
              "  <thead>\n",
              "    <tr style=\"text-align: right;\">\n",
              "      <th></th>\n",
              "      <th>A</th>\n",
              "      <th>C</th>\n",
              "    </tr>\n",
              "  </thead>\n",
              "  <tbody>\n",
              "    <tr>\n",
              "      <th>2013-01-02</th>\n",
              "      <td>-2.764424</td>\n",
              "      <td>0.216518</td>\n",
              "    </tr>\n",
              "    <tr>\n",
              "      <th>2013-01-03</th>\n",
              "      <td>0.978068</td>\n",
              "      <td>1.750997</td>\n",
              "    </tr>\n",
              "    <tr>\n",
              "      <th>2013-01-05</th>\n",
              "      <td>0.021969</td>\n",
              "      <td>0.160588</td>\n",
              "    </tr>\n",
              "  </tbody>\n",
              "</table>\n",
              "</div>"
            ],
            "text/plain": [
              "                   A         C\n",
              "2013-01-02 -2.764424  0.216518\n",
              "2013-01-03  0.978068  1.750997\n",
              "2013-01-05  0.021969  0.160588"
            ]
          },
          "metadata": {
            "tags": []
          },
          "execution_count": 55
        }
      ]
    },
    {
      "cell_type": "code",
      "metadata": {
        "colab": {
          "base_uri": "https://localhost:8080/",
          "height": 111
        },
        "id": "1z-Fwanjpu10",
        "outputId": "23003848-82b9-4b81-b357-ca2e8a24d723"
      },
      "source": [
        "df.iloc[1:3, :]"
      ],
      "execution_count": 56,
      "outputs": [
        {
          "output_type": "execute_result",
          "data": {
            "text/html": [
              "<div>\n",
              "<style scoped>\n",
              "    .dataframe tbody tr th:only-of-type {\n",
              "        vertical-align: middle;\n",
              "    }\n",
              "\n",
              "    .dataframe tbody tr th {\n",
              "        vertical-align: top;\n",
              "    }\n",
              "\n",
              "    .dataframe thead th {\n",
              "        text-align: right;\n",
              "    }\n",
              "</style>\n",
              "<table border=\"1\" class=\"dataframe\">\n",
              "  <thead>\n",
              "    <tr style=\"text-align: right;\">\n",
              "      <th></th>\n",
              "      <th>A</th>\n",
              "      <th>B</th>\n",
              "      <th>C</th>\n",
              "      <th>D</th>\n",
              "    </tr>\n",
              "  </thead>\n",
              "  <tbody>\n",
              "    <tr>\n",
              "      <th>2013-01-02</th>\n",
              "      <td>-2.764424</td>\n",
              "      <td>1.719490</td>\n",
              "      <td>0.216518</td>\n",
              "      <td>-0.373867</td>\n",
              "    </tr>\n",
              "    <tr>\n",
              "      <th>2013-01-03</th>\n",
              "      <td>0.978068</td>\n",
              "      <td>0.620083</td>\n",
              "      <td>1.750997</td>\n",
              "      <td>-1.770599</td>\n",
              "    </tr>\n",
              "  </tbody>\n",
              "</table>\n",
              "</div>"
            ],
            "text/plain": [
              "                   A         B         C         D\n",
              "2013-01-02 -2.764424  1.719490  0.216518 -0.373867\n",
              "2013-01-03  0.978068  0.620083  1.750997 -1.770599"
            ]
          },
          "metadata": {
            "tags": []
          },
          "execution_count": 56
        }
      ]
    },
    {
      "cell_type": "code",
      "metadata": {
        "colab": {
          "base_uri": "https://localhost:8080/"
        },
        "id": "gKUPSVFUpy7D",
        "outputId": "c7f09391-f554-4b9a-b092-0396b2c6374e"
      },
      "source": [
        "df.iloc[1,1]"
      ],
      "execution_count": 57,
      "outputs": [
        {
          "output_type": "execute_result",
          "data": {
            "text/plain": [
              "1.7194904672215248"
            ]
          },
          "metadata": {
            "tags": []
          },
          "execution_count": 57
        }
      ]
    },
    {
      "cell_type": "code",
      "metadata": {
        "colab": {
          "base_uri": "https://localhost:8080/"
        },
        "id": "Vrddm268p8Ix",
        "outputId": "74d8cc08-ab45-4d2c-a147-37fe870385ea"
      },
      "source": [
        "# .iat: scalar 가져올 때 .iloc 보다 더 빠른 방법\n",
        "df.iat[1,1]"
      ],
      "execution_count": 58,
      "outputs": [
        {
          "output_type": "execute_result",
          "data": {
            "text/plain": [
              "1.7194904672215248"
            ]
          },
          "metadata": {
            "tags": []
          },
          "execution_count": 58
        }
      ]
    },
    {
      "cell_type": "markdown",
      "metadata": {
        "id": "E9vF6pSrqEqJ"
      },
      "source": [
        "## 조건에 해당하는 값 가져오기"
      ]
    },
    {
      "cell_type": "code",
      "metadata": {
        "id": "McOz5PqTqKCg"
      },
      "source": [
        ""
      ],
      "execution_count": null,
      "outputs": []
    },
    {
      "cell_type": "code",
      "metadata": {
        "id": "qbXRmnC1qBFZ"
      },
      "source": [
        ""
      ],
      "execution_count": null,
      "outputs": []
    }
  ]
}