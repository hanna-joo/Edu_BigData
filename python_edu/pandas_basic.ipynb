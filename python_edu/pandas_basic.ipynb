{
  "nbformat": 4,
  "nbformat_minor": 0,
  "metadata": {
    "colab": {
      "name": "pandas_basic.ipynb",
      "provenance": [],
      "collapsed_sections": [],
      "authorship_tag": "ABX9TyPz2LH9lA0KOZsmN521Kpx1",
      "include_colab_link": true
    },
    "kernelspec": {
      "name": "python3",
      "display_name": "Python 3"
    }
  },
  "cells": [
    {
      "cell_type": "markdown",
      "metadata": {
        "id": "view-in-github",
        "colab_type": "text"
      },
      "source": [
        "<a href=\"https://colab.research.google.com/github/hanna-joo/bigdata_edu/blob/master/python_edu/pandas_basic.ipynb\" target=\"_parent\"><img src=\"https://colab.research.google.com/assets/colab-badge.svg\" alt=\"Open In Colab\"/></a>"
      ]
    },
    {
      "cell_type": "code",
      "metadata": {
        "id": "ZlJvfRkAd_D3"
      },
      "source": [
        "import numpy as np\n",
        "import pandas as pd"
      ],
      "execution_count": 1,
      "outputs": []
    },
    {
      "cell_type": "markdown",
      "metadata": {
        "id": "HG6t_hHxemml"
      },
      "source": [
        "# 1. 변수 생성 (Object creation)"
      ]
    },
    {
      "cell_type": "code",
      "metadata": {
        "colab": {
          "base_uri": "https://localhost:8080/"
        },
        "id": "KZEP0W0Hexf6",
        "outputId": "bb928118-dc4f-4af5-c515-77fd5e9ef80b"
      },
      "source": [
        "# Series 생성\n",
        "s = pd.Series([1,3,5,np.nan,6,8])\n",
        "s"
      ],
      "execution_count": 2,
      "outputs": [
        {
          "output_type": "execute_result",
          "data": {
            "text/plain": [
              "0    1.0\n",
              "1    3.0\n",
              "2    5.0\n",
              "3    NaN\n",
              "4    6.0\n",
              "5    8.0\n",
              "dtype: float64"
            ]
          },
          "metadata": {
            "tags": []
          },
          "execution_count": 2
        }
      ]
    },
    {
      "cell_type": "code",
      "metadata": {
        "colab": {
          "base_uri": "https://localhost:8080/",
          "height": 286
        },
        "id": "_hOrPCNGe5j9",
        "outputId": "231008f0-2d6a-4daf-c22c-f7cd6afa19f0"
      },
      "source": [
        "# DataFrame 생성: Numpy 행렬\n",
        "dates = pd.date_range('20130101',periods=6)\n",
        "print(dates)\n",
        "df = pd.DataFrame(np.random.randn(6,4),index=dates,columns=list('ABCD'))\n",
        "df"
      ],
      "execution_count": 3,
      "outputs": [
        {
          "output_type": "stream",
          "text": [
            "DatetimeIndex(['2013-01-01', '2013-01-02', '2013-01-03', '2013-01-04',\n",
            "               '2013-01-05', '2013-01-06'],\n",
            "              dtype='datetime64[ns]', freq='D')\n"
          ],
          "name": "stdout"
        },
        {
          "output_type": "execute_result",
          "data": {
            "text/html": [
              "<div>\n",
              "<style scoped>\n",
              "    .dataframe tbody tr th:only-of-type {\n",
              "        vertical-align: middle;\n",
              "    }\n",
              "\n",
              "    .dataframe tbody tr th {\n",
              "        vertical-align: top;\n",
              "    }\n",
              "\n",
              "    .dataframe thead th {\n",
              "        text-align: right;\n",
              "    }\n",
              "</style>\n",
              "<table border=\"1\" class=\"dataframe\">\n",
              "  <thead>\n",
              "    <tr style=\"text-align: right;\">\n",
              "      <th></th>\n",
              "      <th>A</th>\n",
              "      <th>B</th>\n",
              "      <th>C</th>\n",
              "      <th>D</th>\n",
              "    </tr>\n",
              "  </thead>\n",
              "  <tbody>\n",
              "    <tr>\n",
              "      <th>2013-01-01</th>\n",
              "      <td>-1.471857</td>\n",
              "      <td>-0.480625</td>\n",
              "      <td>1.198916</td>\n",
              "      <td>0.021897</td>\n",
              "    </tr>\n",
              "    <tr>\n",
              "      <th>2013-01-02</th>\n",
              "      <td>0.360208</td>\n",
              "      <td>0.552296</td>\n",
              "      <td>0.612337</td>\n",
              "      <td>0.029651</td>\n",
              "    </tr>\n",
              "    <tr>\n",
              "      <th>2013-01-03</th>\n",
              "      <td>2.432118</td>\n",
              "      <td>0.019141</td>\n",
              "      <td>0.489980</td>\n",
              "      <td>-0.931976</td>\n",
              "    </tr>\n",
              "    <tr>\n",
              "      <th>2013-01-04</th>\n",
              "      <td>1.232998</td>\n",
              "      <td>0.751265</td>\n",
              "      <td>1.879437</td>\n",
              "      <td>-1.262870</td>\n",
              "    </tr>\n",
              "    <tr>\n",
              "      <th>2013-01-05</th>\n",
              "      <td>-1.459957</td>\n",
              "      <td>1.417531</td>\n",
              "      <td>0.487158</td>\n",
              "      <td>-2.013769</td>\n",
              "    </tr>\n",
              "    <tr>\n",
              "      <th>2013-01-06</th>\n",
              "      <td>-0.047570</td>\n",
              "      <td>0.808607</td>\n",
              "      <td>1.607757</td>\n",
              "      <td>0.960547</td>\n",
              "    </tr>\n",
              "  </tbody>\n",
              "</table>\n",
              "</div>"
            ],
            "text/plain": [
              "                   A         B         C         D\n",
              "2013-01-01 -1.471857 -0.480625  1.198916  0.021897\n",
              "2013-01-02  0.360208  0.552296  0.612337  0.029651\n",
              "2013-01-03  2.432118  0.019141  0.489980 -0.931976\n",
              "2013-01-04  1.232998  0.751265  1.879437 -1.262870\n",
              "2013-01-05 -1.459957  1.417531  0.487158 -2.013769\n",
              "2013-01-06 -0.047570  0.808607  1.607757  0.960547"
            ]
          },
          "metadata": {
            "tags": []
          },
          "execution_count": 3
        }
      ]
    },
    {
      "cell_type": "code",
      "metadata": {
        "colab": {
          "base_uri": "https://localhost:8080/",
          "height": 292
        },
        "id": "jWFZWtv2e4Sw",
        "outputId": "5ebde30b-e84e-4ebd-9653-10c945d366fb"
      },
      "source": [
        "# DataFrame 생성: 딕셔너리\n",
        "df2 = pd.DataFrame({'A': 1.,\n",
        "                    'B': pd.Timestamp('20130102'),\n",
        "                    'C': pd.Series(1, index=list(range(4)), dtype='float32'),\n",
        "                    'D': np.array([3]*4, dtype='int32'),\n",
        "                    'E': pd.Categorical(['test','train','test','train']),\n",
        "                    'F': 'foo'})\n",
        "print(df2.dtypes)\n",
        "df2"
      ],
      "execution_count": 4,
      "outputs": [
        {
          "output_type": "stream",
          "text": [
            "A           float64\n",
            "B    datetime64[ns]\n",
            "C           float32\n",
            "D             int32\n",
            "E          category\n",
            "F            object\n",
            "dtype: object\n"
          ],
          "name": "stdout"
        },
        {
          "output_type": "execute_result",
          "data": {
            "text/html": [
              "<div>\n",
              "<style scoped>\n",
              "    .dataframe tbody tr th:only-of-type {\n",
              "        vertical-align: middle;\n",
              "    }\n",
              "\n",
              "    .dataframe tbody tr th {\n",
              "        vertical-align: top;\n",
              "    }\n",
              "\n",
              "    .dataframe thead th {\n",
              "        text-align: right;\n",
              "    }\n",
              "</style>\n",
              "<table border=\"1\" class=\"dataframe\">\n",
              "  <thead>\n",
              "    <tr style=\"text-align: right;\">\n",
              "      <th></th>\n",
              "      <th>A</th>\n",
              "      <th>B</th>\n",
              "      <th>C</th>\n",
              "      <th>D</th>\n",
              "      <th>E</th>\n",
              "      <th>F</th>\n",
              "    </tr>\n",
              "  </thead>\n",
              "  <tbody>\n",
              "    <tr>\n",
              "      <th>0</th>\n",
              "      <td>1.0</td>\n",
              "      <td>2013-01-02</td>\n",
              "      <td>1.0</td>\n",
              "      <td>3</td>\n",
              "      <td>test</td>\n",
              "      <td>foo</td>\n",
              "    </tr>\n",
              "    <tr>\n",
              "      <th>1</th>\n",
              "      <td>1.0</td>\n",
              "      <td>2013-01-02</td>\n",
              "      <td>1.0</td>\n",
              "      <td>3</td>\n",
              "      <td>train</td>\n",
              "      <td>foo</td>\n",
              "    </tr>\n",
              "    <tr>\n",
              "      <th>2</th>\n",
              "      <td>1.0</td>\n",
              "      <td>2013-01-02</td>\n",
              "      <td>1.0</td>\n",
              "      <td>3</td>\n",
              "      <td>test</td>\n",
              "      <td>foo</td>\n",
              "    </tr>\n",
              "    <tr>\n",
              "      <th>3</th>\n",
              "      <td>1.0</td>\n",
              "      <td>2013-01-02</td>\n",
              "      <td>1.0</td>\n",
              "      <td>3</td>\n",
              "      <td>train</td>\n",
              "      <td>foo</td>\n",
              "    </tr>\n",
              "  </tbody>\n",
              "</table>\n",
              "</div>"
            ],
            "text/plain": [
              "     A          B    C  D      E    F\n",
              "0  1.0 2013-01-02  1.0  3   test  foo\n",
              "1  1.0 2013-01-02  1.0  3  train  foo\n",
              "2  1.0 2013-01-02  1.0  3   test  foo\n",
              "3  1.0 2013-01-02  1.0  3  train  foo"
            ]
          },
          "metadata": {
            "tags": []
          },
          "execution_count": 4
        }
      ]
    },
    {
      "cell_type": "markdown",
      "metadata": {
        "id": "ofJgllM1h3tH"
      },
      "source": [
        "# 2. 데이터 확인 (Viewing data)\n"
      ]
    },
    {
      "cell_type": "code",
      "metadata": {
        "colab": {
          "base_uri": "https://localhost:8080/",
          "height": 111
        },
        "id": "6bX65Y5Oh_I5",
        "outputId": "d413dba9-b659-421b-d94e-d5f46df02248"
      },
      "source": [
        "df.head(2)"
      ],
      "execution_count": 5,
      "outputs": [
        {
          "output_type": "execute_result",
          "data": {
            "text/html": [
              "<div>\n",
              "<style scoped>\n",
              "    .dataframe tbody tr th:only-of-type {\n",
              "        vertical-align: middle;\n",
              "    }\n",
              "\n",
              "    .dataframe tbody tr th {\n",
              "        vertical-align: top;\n",
              "    }\n",
              "\n",
              "    .dataframe thead th {\n",
              "        text-align: right;\n",
              "    }\n",
              "</style>\n",
              "<table border=\"1\" class=\"dataframe\">\n",
              "  <thead>\n",
              "    <tr style=\"text-align: right;\">\n",
              "      <th></th>\n",
              "      <th>A</th>\n",
              "      <th>B</th>\n",
              "      <th>C</th>\n",
              "      <th>D</th>\n",
              "    </tr>\n",
              "  </thead>\n",
              "  <tbody>\n",
              "    <tr>\n",
              "      <th>2013-01-01</th>\n",
              "      <td>-1.471857</td>\n",
              "      <td>-0.480625</td>\n",
              "      <td>1.198916</td>\n",
              "      <td>0.021897</td>\n",
              "    </tr>\n",
              "    <tr>\n",
              "      <th>2013-01-02</th>\n",
              "      <td>0.360208</td>\n",
              "      <td>0.552296</td>\n",
              "      <td>0.612337</td>\n",
              "      <td>0.029651</td>\n",
              "    </tr>\n",
              "  </tbody>\n",
              "</table>\n",
              "</div>"
            ],
            "text/plain": [
              "                   A         B         C         D\n",
              "2013-01-01 -1.471857 -0.480625  1.198916  0.021897\n",
              "2013-01-02  0.360208  0.552296  0.612337  0.029651"
            ]
          },
          "metadata": {
            "tags": []
          },
          "execution_count": 5
        }
      ]
    },
    {
      "cell_type": "code",
      "metadata": {
        "colab": {
          "base_uri": "https://localhost:8080/"
        },
        "id": "RhCTwYngiDMo",
        "outputId": "69cada95-c5d2-402f-931a-0dd3ed8b1f95"
      },
      "source": [
        "df.index"
      ],
      "execution_count": 6,
      "outputs": [
        {
          "output_type": "execute_result",
          "data": {
            "text/plain": [
              "DatetimeIndex(['2013-01-01', '2013-01-02', '2013-01-03', '2013-01-04',\n",
              "               '2013-01-05', '2013-01-06'],\n",
              "              dtype='datetime64[ns]', freq='D')"
            ]
          },
          "metadata": {
            "tags": []
          },
          "execution_count": 6
        }
      ]
    },
    {
      "cell_type": "code",
      "metadata": {
        "colab": {
          "base_uri": "https://localhost:8080/"
        },
        "id": "UeJVWF6_iEtr",
        "outputId": "b9a6d341-27a3-41cb-d246-898370ec6f49"
      },
      "source": [
        "df.columns"
      ],
      "execution_count": 7,
      "outputs": [
        {
          "output_type": "execute_result",
          "data": {
            "text/plain": [
              "Index(['A', 'B', 'C', 'D'], dtype='object')"
            ]
          },
          "metadata": {
            "tags": []
          },
          "execution_count": 7
        }
      ]
    },
    {
      "cell_type": "code",
      "metadata": {
        "colab": {
          "base_uri": "https://localhost:8080/"
        },
        "id": "7nv61h3RiGUp",
        "outputId": "d3806ac1-0b52-41d7-9096-17d3a4ae2c3f"
      },
      "source": [
        "# Numpy 행렬에는 단 한가지의 dtype만 가능\n",
        "# Pandas 데이터 프레임에는 컬럼당 한가지의 dtype만 가능\n",
        "df.to_numpy()"
      ],
      "execution_count": 8,
      "outputs": [
        {
          "output_type": "execute_result",
          "data": {
            "text/plain": [
              "array([[-1.47185675, -0.48062529,  1.19891619,  0.02189731],\n",
              "       [ 0.36020827,  0.55229581,  0.61233686,  0.02965101],\n",
              "       [ 2.43211837,  0.01914117,  0.48997989, -0.93197553],\n",
              "       [ 1.23299807,  0.75126483,  1.87943654, -1.26287007],\n",
              "       [-1.459957  ,  1.4175306 ,  0.48715814, -2.01376946],\n",
              "       [-0.04756987,  0.80860734,  1.60775725,  0.96054732]])"
            ]
          },
          "metadata": {
            "tags": []
          },
          "execution_count": 8
        }
      ]
    },
    {
      "cell_type": "code",
      "metadata": {
        "colab": {
          "base_uri": "https://localhost:8080/"
        },
        "id": "10lOinX_jTu_",
        "outputId": "2d0c27e6-8070-4d31-8e99-68574ab47525"
      },
      "source": [
        "# 여러 dtype이 존재하는 df2를 numpy로 변환 시 모든 것을 아우르는 dtype 선택\n",
        "  # DataFrame.to_numpy(): 인덱스와 컬럼명은 포함되지 않음\n",
        "df2.to_numpy()"
      ],
      "execution_count": 9,
      "outputs": [
        {
          "output_type": "execute_result",
          "data": {
            "text/plain": [
              "array([[1.0, Timestamp('2013-01-02 00:00:00'), 1.0, 3, 'test', 'foo'],\n",
              "       [1.0, Timestamp('2013-01-02 00:00:00'), 1.0, 3, 'train', 'foo'],\n",
              "       [1.0, Timestamp('2013-01-02 00:00:00'), 1.0, 3, 'test', 'foo'],\n",
              "       [1.0, Timestamp('2013-01-02 00:00:00'), 1.0, 3, 'train', 'foo']],\n",
              "      dtype=object)"
            ]
          },
          "metadata": {
            "tags": []
          },
          "execution_count": 9
        }
      ]
    },
    {
      "cell_type": "code",
      "metadata": {
        "colab": {
          "base_uri": "https://localhost:8080/",
          "height": 297
        },
        "id": "M8RWS0UTjzeM",
        "outputId": "ddea0963-4ffb-440e-8036-36052ffd6749"
      },
      "source": [
        "# df의 통계 요약\n",
        "df.describe()"
      ],
      "execution_count": 10,
      "outputs": [
        {
          "output_type": "execute_result",
          "data": {
            "text/html": [
              "<div>\n",
              "<style scoped>\n",
              "    .dataframe tbody tr th:only-of-type {\n",
              "        vertical-align: middle;\n",
              "    }\n",
              "\n",
              "    .dataframe tbody tr th {\n",
              "        vertical-align: top;\n",
              "    }\n",
              "\n",
              "    .dataframe thead th {\n",
              "        text-align: right;\n",
              "    }\n",
              "</style>\n",
              "<table border=\"1\" class=\"dataframe\">\n",
              "  <thead>\n",
              "    <tr style=\"text-align: right;\">\n",
              "      <th></th>\n",
              "      <th>A</th>\n",
              "      <th>B</th>\n",
              "      <th>C</th>\n",
              "      <th>D</th>\n",
              "    </tr>\n",
              "  </thead>\n",
              "  <tbody>\n",
              "    <tr>\n",
              "      <th>count</th>\n",
              "      <td>6.000000</td>\n",
              "      <td>6.000000</td>\n",
              "      <td>6.000000</td>\n",
              "      <td>6.000000</td>\n",
              "    </tr>\n",
              "    <tr>\n",
              "      <th>mean</th>\n",
              "      <td>0.174324</td>\n",
              "      <td>0.511369</td>\n",
              "      <td>1.045931</td>\n",
              "      <td>-0.532753</td>\n",
              "    </tr>\n",
              "    <tr>\n",
              "      <th>std</th>\n",
              "      <td>1.528594</td>\n",
              "      <td>0.662578</td>\n",
              "      <td>0.607140</td>\n",
              "      <td>1.071423</td>\n",
              "    </tr>\n",
              "    <tr>\n",
              "      <th>min</th>\n",
              "      <td>-1.471857</td>\n",
              "      <td>-0.480625</td>\n",
              "      <td>0.487158</td>\n",
              "      <td>-2.013769</td>\n",
              "    </tr>\n",
              "    <tr>\n",
              "      <th>25%</th>\n",
              "      <td>-1.106860</td>\n",
              "      <td>0.152430</td>\n",
              "      <td>0.520569</td>\n",
              "      <td>-1.180146</td>\n",
              "    </tr>\n",
              "    <tr>\n",
              "      <th>50%</th>\n",
              "      <td>0.156319</td>\n",
              "      <td>0.651780</td>\n",
              "      <td>0.905627</td>\n",
              "      <td>-0.455039</td>\n",
              "    </tr>\n",
              "    <tr>\n",
              "      <th>75%</th>\n",
              "      <td>1.014801</td>\n",
              "      <td>0.794272</td>\n",
              "      <td>1.505547</td>\n",
              "      <td>0.027713</td>\n",
              "    </tr>\n",
              "    <tr>\n",
              "      <th>max</th>\n",
              "      <td>2.432118</td>\n",
              "      <td>1.417531</td>\n",
              "      <td>1.879437</td>\n",
              "      <td>0.960547</td>\n",
              "    </tr>\n",
              "  </tbody>\n",
              "</table>\n",
              "</div>"
            ],
            "text/plain": [
              "              A         B         C         D\n",
              "count  6.000000  6.000000  6.000000  6.000000\n",
              "mean   0.174324  0.511369  1.045931 -0.532753\n",
              "std    1.528594  0.662578  0.607140  1.071423\n",
              "min   -1.471857 -0.480625  0.487158 -2.013769\n",
              "25%   -1.106860  0.152430  0.520569 -1.180146\n",
              "50%    0.156319  0.651780  0.905627 -0.455039\n",
              "75%    1.014801  0.794272  1.505547  0.027713\n",
              "max    2.432118  1.417531  1.879437  0.960547"
            ]
          },
          "metadata": {
            "tags": []
          },
          "execution_count": 10
        }
      ]
    },
    {
      "cell_type": "code",
      "metadata": {
        "colab": {
          "base_uri": "https://localhost:8080/",
          "height": 173
        },
        "id": "SCMYZ3X5kIh_",
        "outputId": "eac0ac89-ac56-4c25-e622-a3e75d3563ab"
      },
      "source": [
        "# df의 행과 열 바꾸기\n",
        "df.T"
      ],
      "execution_count": 11,
      "outputs": [
        {
          "output_type": "execute_result",
          "data": {
            "text/html": [
              "<div>\n",
              "<style scoped>\n",
              "    .dataframe tbody tr th:only-of-type {\n",
              "        vertical-align: middle;\n",
              "    }\n",
              "\n",
              "    .dataframe tbody tr th {\n",
              "        vertical-align: top;\n",
              "    }\n",
              "\n",
              "    .dataframe thead th {\n",
              "        text-align: right;\n",
              "    }\n",
              "</style>\n",
              "<table border=\"1\" class=\"dataframe\">\n",
              "  <thead>\n",
              "    <tr style=\"text-align: right;\">\n",
              "      <th></th>\n",
              "      <th>2013-01-01</th>\n",
              "      <th>2013-01-02</th>\n",
              "      <th>2013-01-03</th>\n",
              "      <th>2013-01-04</th>\n",
              "      <th>2013-01-05</th>\n",
              "      <th>2013-01-06</th>\n",
              "    </tr>\n",
              "  </thead>\n",
              "  <tbody>\n",
              "    <tr>\n",
              "      <th>A</th>\n",
              "      <td>-1.471857</td>\n",
              "      <td>0.360208</td>\n",
              "      <td>2.432118</td>\n",
              "      <td>1.232998</td>\n",
              "      <td>-1.459957</td>\n",
              "      <td>-0.047570</td>\n",
              "    </tr>\n",
              "    <tr>\n",
              "      <th>B</th>\n",
              "      <td>-0.480625</td>\n",
              "      <td>0.552296</td>\n",
              "      <td>0.019141</td>\n",
              "      <td>0.751265</td>\n",
              "      <td>1.417531</td>\n",
              "      <td>0.808607</td>\n",
              "    </tr>\n",
              "    <tr>\n",
              "      <th>C</th>\n",
              "      <td>1.198916</td>\n",
              "      <td>0.612337</td>\n",
              "      <td>0.489980</td>\n",
              "      <td>1.879437</td>\n",
              "      <td>0.487158</td>\n",
              "      <td>1.607757</td>\n",
              "    </tr>\n",
              "    <tr>\n",
              "      <th>D</th>\n",
              "      <td>0.021897</td>\n",
              "      <td>0.029651</td>\n",
              "      <td>-0.931976</td>\n",
              "      <td>-1.262870</td>\n",
              "      <td>-2.013769</td>\n",
              "      <td>0.960547</td>\n",
              "    </tr>\n",
              "  </tbody>\n",
              "</table>\n",
              "</div>"
            ],
            "text/plain": [
              "   2013-01-01  2013-01-02  2013-01-03  2013-01-04  2013-01-05  2013-01-06\n",
              "A   -1.471857    0.360208    2.432118    1.232998   -1.459957   -0.047570\n",
              "B   -0.480625    0.552296    0.019141    0.751265    1.417531    0.808607\n",
              "C    1.198916    0.612337    0.489980    1.879437    0.487158    1.607757\n",
              "D    0.021897    0.029651   -0.931976   -1.262870   -2.013769    0.960547"
            ]
          },
          "metadata": {
            "tags": []
          },
          "execution_count": 11
        }
      ]
    },
    {
      "cell_type": "code",
      "metadata": {
        "colab": {
          "base_uri": "https://localhost:8080/",
          "height": 235
        },
        "id": "dh-l4EJIkNXG",
        "outputId": "7b194e06-ce9d-4ccd-df97-fe76dcaf52d4"
      },
      "source": [
        "# 행 또는 열 값에 따라 나열하기\n",
        "df.sort_index(axis=1, ascending=False)"
      ],
      "execution_count": 12,
      "outputs": [
        {
          "output_type": "execute_result",
          "data": {
            "text/html": [
              "<div>\n",
              "<style scoped>\n",
              "    .dataframe tbody tr th:only-of-type {\n",
              "        vertical-align: middle;\n",
              "    }\n",
              "\n",
              "    .dataframe tbody tr th {\n",
              "        vertical-align: top;\n",
              "    }\n",
              "\n",
              "    .dataframe thead th {\n",
              "        text-align: right;\n",
              "    }\n",
              "</style>\n",
              "<table border=\"1\" class=\"dataframe\">\n",
              "  <thead>\n",
              "    <tr style=\"text-align: right;\">\n",
              "      <th></th>\n",
              "      <th>D</th>\n",
              "      <th>C</th>\n",
              "      <th>B</th>\n",
              "      <th>A</th>\n",
              "    </tr>\n",
              "  </thead>\n",
              "  <tbody>\n",
              "    <tr>\n",
              "      <th>2013-01-01</th>\n",
              "      <td>0.021897</td>\n",
              "      <td>1.198916</td>\n",
              "      <td>-0.480625</td>\n",
              "      <td>-1.471857</td>\n",
              "    </tr>\n",
              "    <tr>\n",
              "      <th>2013-01-02</th>\n",
              "      <td>0.029651</td>\n",
              "      <td>0.612337</td>\n",
              "      <td>0.552296</td>\n",
              "      <td>0.360208</td>\n",
              "    </tr>\n",
              "    <tr>\n",
              "      <th>2013-01-03</th>\n",
              "      <td>-0.931976</td>\n",
              "      <td>0.489980</td>\n",
              "      <td>0.019141</td>\n",
              "      <td>2.432118</td>\n",
              "    </tr>\n",
              "    <tr>\n",
              "      <th>2013-01-04</th>\n",
              "      <td>-1.262870</td>\n",
              "      <td>1.879437</td>\n",
              "      <td>0.751265</td>\n",
              "      <td>1.232998</td>\n",
              "    </tr>\n",
              "    <tr>\n",
              "      <th>2013-01-05</th>\n",
              "      <td>-2.013769</td>\n",
              "      <td>0.487158</td>\n",
              "      <td>1.417531</td>\n",
              "      <td>-1.459957</td>\n",
              "    </tr>\n",
              "    <tr>\n",
              "      <th>2013-01-06</th>\n",
              "      <td>0.960547</td>\n",
              "      <td>1.607757</td>\n",
              "      <td>0.808607</td>\n",
              "      <td>-0.047570</td>\n",
              "    </tr>\n",
              "  </tbody>\n",
              "</table>\n",
              "</div>"
            ],
            "text/plain": [
              "                   D         C         B         A\n",
              "2013-01-01  0.021897  1.198916 -0.480625 -1.471857\n",
              "2013-01-02  0.029651  0.612337  0.552296  0.360208\n",
              "2013-01-03 -0.931976  0.489980  0.019141  2.432118\n",
              "2013-01-04 -1.262870  1.879437  0.751265  1.232998\n",
              "2013-01-05 -2.013769  0.487158  1.417531 -1.459957\n",
              "2013-01-06  0.960547  1.607757  0.808607 -0.047570"
            ]
          },
          "metadata": {
            "tags": []
          },
          "execution_count": 12
        }
      ]
    },
    {
      "cell_type": "code",
      "metadata": {
        "colab": {
          "base_uri": "https://localhost:8080/",
          "height": 235
        },
        "id": "YtHC4eIRkim7",
        "outputId": "bc034db5-fe35-4b2b-cec6-b5739a0e9bcd"
      },
      "source": [
        "df.sort_index(ascending=False)"
      ],
      "execution_count": 13,
      "outputs": [
        {
          "output_type": "execute_result",
          "data": {
            "text/html": [
              "<div>\n",
              "<style scoped>\n",
              "    .dataframe tbody tr th:only-of-type {\n",
              "        vertical-align: middle;\n",
              "    }\n",
              "\n",
              "    .dataframe tbody tr th {\n",
              "        vertical-align: top;\n",
              "    }\n",
              "\n",
              "    .dataframe thead th {\n",
              "        text-align: right;\n",
              "    }\n",
              "</style>\n",
              "<table border=\"1\" class=\"dataframe\">\n",
              "  <thead>\n",
              "    <tr style=\"text-align: right;\">\n",
              "      <th></th>\n",
              "      <th>A</th>\n",
              "      <th>B</th>\n",
              "      <th>C</th>\n",
              "      <th>D</th>\n",
              "    </tr>\n",
              "  </thead>\n",
              "  <tbody>\n",
              "    <tr>\n",
              "      <th>2013-01-06</th>\n",
              "      <td>-0.047570</td>\n",
              "      <td>0.808607</td>\n",
              "      <td>1.607757</td>\n",
              "      <td>0.960547</td>\n",
              "    </tr>\n",
              "    <tr>\n",
              "      <th>2013-01-05</th>\n",
              "      <td>-1.459957</td>\n",
              "      <td>1.417531</td>\n",
              "      <td>0.487158</td>\n",
              "      <td>-2.013769</td>\n",
              "    </tr>\n",
              "    <tr>\n",
              "      <th>2013-01-04</th>\n",
              "      <td>1.232998</td>\n",
              "      <td>0.751265</td>\n",
              "      <td>1.879437</td>\n",
              "      <td>-1.262870</td>\n",
              "    </tr>\n",
              "    <tr>\n",
              "      <th>2013-01-03</th>\n",
              "      <td>2.432118</td>\n",
              "      <td>0.019141</td>\n",
              "      <td>0.489980</td>\n",
              "      <td>-0.931976</td>\n",
              "    </tr>\n",
              "    <tr>\n",
              "      <th>2013-01-02</th>\n",
              "      <td>0.360208</td>\n",
              "      <td>0.552296</td>\n",
              "      <td>0.612337</td>\n",
              "      <td>0.029651</td>\n",
              "    </tr>\n",
              "    <tr>\n",
              "      <th>2013-01-01</th>\n",
              "      <td>-1.471857</td>\n",
              "      <td>-0.480625</td>\n",
              "      <td>1.198916</td>\n",
              "      <td>0.021897</td>\n",
              "    </tr>\n",
              "  </tbody>\n",
              "</table>\n",
              "</div>"
            ],
            "text/plain": [
              "                   A         B         C         D\n",
              "2013-01-06 -0.047570  0.808607  1.607757  0.960547\n",
              "2013-01-05 -1.459957  1.417531  0.487158 -2.013769\n",
              "2013-01-04  1.232998  0.751265  1.879437 -1.262870\n",
              "2013-01-03  2.432118  0.019141  0.489980 -0.931976\n",
              "2013-01-02  0.360208  0.552296  0.612337  0.029651\n",
              "2013-01-01 -1.471857 -0.480625  1.198916  0.021897"
            ]
          },
          "metadata": {
            "tags": []
          },
          "execution_count": 13
        }
      ]
    },
    {
      "cell_type": "code",
      "metadata": {
        "colab": {
          "base_uri": "https://localhost:8080/",
          "height": 235
        },
        "id": "uqEYF9A_kov_",
        "outputId": "6eae0ee5-2a6b-47b4-fa3c-c75cf15edd94"
      },
      "source": [
        "# 값에 따라 나열하기\n",
        "df.sort_values(by=\"B\")"
      ],
      "execution_count": 14,
      "outputs": [
        {
          "output_type": "execute_result",
          "data": {
            "text/html": [
              "<div>\n",
              "<style scoped>\n",
              "    .dataframe tbody tr th:only-of-type {\n",
              "        vertical-align: middle;\n",
              "    }\n",
              "\n",
              "    .dataframe tbody tr th {\n",
              "        vertical-align: top;\n",
              "    }\n",
              "\n",
              "    .dataframe thead th {\n",
              "        text-align: right;\n",
              "    }\n",
              "</style>\n",
              "<table border=\"1\" class=\"dataframe\">\n",
              "  <thead>\n",
              "    <tr style=\"text-align: right;\">\n",
              "      <th></th>\n",
              "      <th>A</th>\n",
              "      <th>B</th>\n",
              "      <th>C</th>\n",
              "      <th>D</th>\n",
              "    </tr>\n",
              "  </thead>\n",
              "  <tbody>\n",
              "    <tr>\n",
              "      <th>2013-01-01</th>\n",
              "      <td>-1.471857</td>\n",
              "      <td>-0.480625</td>\n",
              "      <td>1.198916</td>\n",
              "      <td>0.021897</td>\n",
              "    </tr>\n",
              "    <tr>\n",
              "      <th>2013-01-03</th>\n",
              "      <td>2.432118</td>\n",
              "      <td>0.019141</td>\n",
              "      <td>0.489980</td>\n",
              "      <td>-0.931976</td>\n",
              "    </tr>\n",
              "    <tr>\n",
              "      <th>2013-01-02</th>\n",
              "      <td>0.360208</td>\n",
              "      <td>0.552296</td>\n",
              "      <td>0.612337</td>\n",
              "      <td>0.029651</td>\n",
              "    </tr>\n",
              "    <tr>\n",
              "      <th>2013-01-04</th>\n",
              "      <td>1.232998</td>\n",
              "      <td>0.751265</td>\n",
              "      <td>1.879437</td>\n",
              "      <td>-1.262870</td>\n",
              "    </tr>\n",
              "    <tr>\n",
              "      <th>2013-01-06</th>\n",
              "      <td>-0.047570</td>\n",
              "      <td>0.808607</td>\n",
              "      <td>1.607757</td>\n",
              "      <td>0.960547</td>\n",
              "    </tr>\n",
              "    <tr>\n",
              "      <th>2013-01-05</th>\n",
              "      <td>-1.459957</td>\n",
              "      <td>1.417531</td>\n",
              "      <td>0.487158</td>\n",
              "      <td>-2.013769</td>\n",
              "    </tr>\n",
              "  </tbody>\n",
              "</table>\n",
              "</div>"
            ],
            "text/plain": [
              "                   A         B         C         D\n",
              "2013-01-01 -1.471857 -0.480625  1.198916  0.021897\n",
              "2013-01-03  2.432118  0.019141  0.489980 -0.931976\n",
              "2013-01-02  0.360208  0.552296  0.612337  0.029651\n",
              "2013-01-04  1.232998  0.751265  1.879437 -1.262870\n",
              "2013-01-06 -0.047570  0.808607  1.607757  0.960547\n",
              "2013-01-05 -1.459957  1.417531  0.487158 -2.013769"
            ]
          },
          "metadata": {
            "tags": []
          },
          "execution_count": 14
        }
      ]
    },
    {
      "cell_type": "code",
      "metadata": {
        "colab": {
          "base_uri": "https://localhost:8080/",
          "height": 235
        },
        "id": "4gY4nTRWk4ES",
        "outputId": "908d5349-c0da-4e1e-f9c2-265f39e235a5"
      },
      "source": [
        "df.sort_values(by=\"B\", ascending=False)"
      ],
      "execution_count": 15,
      "outputs": [
        {
          "output_type": "execute_result",
          "data": {
            "text/html": [
              "<div>\n",
              "<style scoped>\n",
              "    .dataframe tbody tr th:only-of-type {\n",
              "        vertical-align: middle;\n",
              "    }\n",
              "\n",
              "    .dataframe tbody tr th {\n",
              "        vertical-align: top;\n",
              "    }\n",
              "\n",
              "    .dataframe thead th {\n",
              "        text-align: right;\n",
              "    }\n",
              "</style>\n",
              "<table border=\"1\" class=\"dataframe\">\n",
              "  <thead>\n",
              "    <tr style=\"text-align: right;\">\n",
              "      <th></th>\n",
              "      <th>A</th>\n",
              "      <th>B</th>\n",
              "      <th>C</th>\n",
              "      <th>D</th>\n",
              "    </tr>\n",
              "  </thead>\n",
              "  <tbody>\n",
              "    <tr>\n",
              "      <th>2013-01-05</th>\n",
              "      <td>-1.459957</td>\n",
              "      <td>1.417531</td>\n",
              "      <td>0.487158</td>\n",
              "      <td>-2.013769</td>\n",
              "    </tr>\n",
              "    <tr>\n",
              "      <th>2013-01-06</th>\n",
              "      <td>-0.047570</td>\n",
              "      <td>0.808607</td>\n",
              "      <td>1.607757</td>\n",
              "      <td>0.960547</td>\n",
              "    </tr>\n",
              "    <tr>\n",
              "      <th>2013-01-04</th>\n",
              "      <td>1.232998</td>\n",
              "      <td>0.751265</td>\n",
              "      <td>1.879437</td>\n",
              "      <td>-1.262870</td>\n",
              "    </tr>\n",
              "    <tr>\n",
              "      <th>2013-01-02</th>\n",
              "      <td>0.360208</td>\n",
              "      <td>0.552296</td>\n",
              "      <td>0.612337</td>\n",
              "      <td>0.029651</td>\n",
              "    </tr>\n",
              "    <tr>\n",
              "      <th>2013-01-03</th>\n",
              "      <td>2.432118</td>\n",
              "      <td>0.019141</td>\n",
              "      <td>0.489980</td>\n",
              "      <td>-0.931976</td>\n",
              "    </tr>\n",
              "    <tr>\n",
              "      <th>2013-01-01</th>\n",
              "      <td>-1.471857</td>\n",
              "      <td>-0.480625</td>\n",
              "      <td>1.198916</td>\n",
              "      <td>0.021897</td>\n",
              "    </tr>\n",
              "  </tbody>\n",
              "</table>\n",
              "</div>"
            ],
            "text/plain": [
              "                   A         B         C         D\n",
              "2013-01-05 -1.459957  1.417531  0.487158 -2.013769\n",
              "2013-01-06 -0.047570  0.808607  1.607757  0.960547\n",
              "2013-01-04  1.232998  0.751265  1.879437 -1.262870\n",
              "2013-01-02  0.360208  0.552296  0.612337  0.029651\n",
              "2013-01-03  2.432118  0.019141  0.489980 -0.931976\n",
              "2013-01-01 -1.471857 -0.480625  1.198916  0.021897"
            ]
          },
          "metadata": {
            "tags": []
          },
          "execution_count": 15
        }
      ]
    },
    {
      "cell_type": "markdown",
      "metadata": {
        "id": "VCAu4qVolDXD"
      },
      "source": [
        "# 3. 데이터 선택 (Selection)\n",
        "- .at / .iat\n",
        "- .loc / .iloc\n",
        "- .isin"
      ]
    },
    {
      "cell_type": "code",
      "metadata": {
        "colab": {
          "base_uri": "https://localhost:8080/"
        },
        "id": "xWJpEt3GleU6",
        "outputId": "43139152-911a-4ba7-b1df-9c5a356b3c90"
      },
      "source": [
        "# 해당하는 열 가져오기\n",
        "df['A']  # df.A"
      ],
      "execution_count": 16,
      "outputs": [
        {
          "output_type": "execute_result",
          "data": {
            "text/plain": [
              "2013-01-01   -1.471857\n",
              "2013-01-02    0.360208\n",
              "2013-01-03    2.432118\n",
              "2013-01-04    1.232998\n",
              "2013-01-05   -1.459957\n",
              "2013-01-06   -0.047570\n",
              "Freq: D, Name: A, dtype: float64"
            ]
          },
          "metadata": {
            "tags": []
          },
          "execution_count": 16
        }
      ]
    },
    {
      "cell_type": "code",
      "metadata": {
        "colab": {
          "base_uri": "https://localhost:8080/",
          "height": 111
        },
        "id": "rncsvKEAlmnx",
        "outputId": "f22c4ba7-204a-479e-a60c-349423f3142f"
      },
      "source": [
        "# 해당하는 행 가져오기\n",
        "df[2:4]  # df['20130103':'20130104']"
      ],
      "execution_count": 17,
      "outputs": [
        {
          "output_type": "execute_result",
          "data": {
            "text/html": [
              "<div>\n",
              "<style scoped>\n",
              "    .dataframe tbody tr th:only-of-type {\n",
              "        vertical-align: middle;\n",
              "    }\n",
              "\n",
              "    .dataframe tbody tr th {\n",
              "        vertical-align: top;\n",
              "    }\n",
              "\n",
              "    .dataframe thead th {\n",
              "        text-align: right;\n",
              "    }\n",
              "</style>\n",
              "<table border=\"1\" class=\"dataframe\">\n",
              "  <thead>\n",
              "    <tr style=\"text-align: right;\">\n",
              "      <th></th>\n",
              "      <th>A</th>\n",
              "      <th>B</th>\n",
              "      <th>C</th>\n",
              "      <th>D</th>\n",
              "    </tr>\n",
              "  </thead>\n",
              "  <tbody>\n",
              "    <tr>\n",
              "      <th>2013-01-03</th>\n",
              "      <td>2.432118</td>\n",
              "      <td>0.019141</td>\n",
              "      <td>0.489980</td>\n",
              "      <td>-0.931976</td>\n",
              "    </tr>\n",
              "    <tr>\n",
              "      <th>2013-01-04</th>\n",
              "      <td>1.232998</td>\n",
              "      <td>0.751265</td>\n",
              "      <td>1.879437</td>\n",
              "      <td>-1.262870</td>\n",
              "    </tr>\n",
              "  </tbody>\n",
              "</table>\n",
              "</div>"
            ],
            "text/plain": [
              "                   A         B         C         D\n",
              "2013-01-03  2.432118  0.019141  0.489980 -0.931976\n",
              "2013-01-04  1.232998  0.751265  1.879437 -1.262870"
            ]
          },
          "metadata": {
            "tags": []
          },
          "execution_count": 17
        }
      ]
    },
    {
      "cell_type": "markdown",
      "metadata": {
        "id": "W_4F3cJOo0Mo"
      },
      "source": [
        "## 인덱스 또는 컬럼명으로 가져오기 (.loc)"
      ]
    },
    {
      "cell_type": "code",
      "metadata": {
        "colab": {
          "base_uri": "https://localhost:8080/"
        },
        "id": "8yEXYzXKlMMV",
        "outputId": "5fa1d34c-145c-4416-8619-60b745c51715"
      },
      "source": [
        "# 인덱스 값으로 가져오기\n",
        "df.loc['20130101']"
      ],
      "execution_count": 18,
      "outputs": [
        {
          "output_type": "execute_result",
          "data": {
            "text/plain": [
              "A   -1.471857\n",
              "B   -0.480625\n",
              "C    1.198916\n",
              "D    0.021897\n",
              "Name: 2013-01-01 00:00:00, dtype: float64"
            ]
          },
          "metadata": {
            "tags": []
          },
          "execution_count": 18
        }
      ]
    },
    {
      "cell_type": "code",
      "metadata": {
        "colab": {
          "base_uri": "https://localhost:8080/",
          "height": 235
        },
        "id": "JuS3XnA9mYG8",
        "outputId": "6fb90ab3-2fc8-47a0-9a64-f0f9adeb649a"
      },
      "source": [
        "# 지정한 행과 열에 해당하는 값 가져오기\n",
        "df.loc[:,['A','B']]"
      ],
      "execution_count": 19,
      "outputs": [
        {
          "output_type": "execute_result",
          "data": {
            "text/html": [
              "<div>\n",
              "<style scoped>\n",
              "    .dataframe tbody tr th:only-of-type {\n",
              "        vertical-align: middle;\n",
              "    }\n",
              "\n",
              "    .dataframe tbody tr th {\n",
              "        vertical-align: top;\n",
              "    }\n",
              "\n",
              "    .dataframe thead th {\n",
              "        text-align: right;\n",
              "    }\n",
              "</style>\n",
              "<table border=\"1\" class=\"dataframe\">\n",
              "  <thead>\n",
              "    <tr style=\"text-align: right;\">\n",
              "      <th></th>\n",
              "      <th>A</th>\n",
              "      <th>B</th>\n",
              "    </tr>\n",
              "  </thead>\n",
              "  <tbody>\n",
              "    <tr>\n",
              "      <th>2013-01-01</th>\n",
              "      <td>-1.471857</td>\n",
              "      <td>-0.480625</td>\n",
              "    </tr>\n",
              "    <tr>\n",
              "      <th>2013-01-02</th>\n",
              "      <td>0.360208</td>\n",
              "      <td>0.552296</td>\n",
              "    </tr>\n",
              "    <tr>\n",
              "      <th>2013-01-03</th>\n",
              "      <td>2.432118</td>\n",
              "      <td>0.019141</td>\n",
              "    </tr>\n",
              "    <tr>\n",
              "      <th>2013-01-04</th>\n",
              "      <td>1.232998</td>\n",
              "      <td>0.751265</td>\n",
              "    </tr>\n",
              "    <tr>\n",
              "      <th>2013-01-05</th>\n",
              "      <td>-1.459957</td>\n",
              "      <td>1.417531</td>\n",
              "    </tr>\n",
              "    <tr>\n",
              "      <th>2013-01-06</th>\n",
              "      <td>-0.047570</td>\n",
              "      <td>0.808607</td>\n",
              "    </tr>\n",
              "  </tbody>\n",
              "</table>\n",
              "</div>"
            ],
            "text/plain": [
              "                   A         B\n",
              "2013-01-01 -1.471857 -0.480625\n",
              "2013-01-02  0.360208  0.552296\n",
              "2013-01-03  2.432118  0.019141\n",
              "2013-01-04  1.232998  0.751265\n",
              "2013-01-05 -1.459957  1.417531\n",
              "2013-01-06 -0.047570  0.808607"
            ]
          },
          "metadata": {
            "tags": []
          },
          "execution_count": 19
        }
      ]
    },
    {
      "cell_type": "code",
      "metadata": {
        "colab": {
          "base_uri": "https://localhost:8080/",
          "height": 142
        },
        "id": "lSGMEZ7_mpAj",
        "outputId": "c938eec6-8405-419a-83ad-f78afa74b50a"
      },
      "source": [
        "df.loc['20130102':'20130104', 'A':'C']"
      ],
      "execution_count": 20,
      "outputs": [
        {
          "output_type": "execute_result",
          "data": {
            "text/html": [
              "<div>\n",
              "<style scoped>\n",
              "    .dataframe tbody tr th:only-of-type {\n",
              "        vertical-align: middle;\n",
              "    }\n",
              "\n",
              "    .dataframe tbody tr th {\n",
              "        vertical-align: top;\n",
              "    }\n",
              "\n",
              "    .dataframe thead th {\n",
              "        text-align: right;\n",
              "    }\n",
              "</style>\n",
              "<table border=\"1\" class=\"dataframe\">\n",
              "  <thead>\n",
              "    <tr style=\"text-align: right;\">\n",
              "      <th></th>\n",
              "      <th>A</th>\n",
              "      <th>B</th>\n",
              "      <th>C</th>\n",
              "    </tr>\n",
              "  </thead>\n",
              "  <tbody>\n",
              "    <tr>\n",
              "      <th>2013-01-02</th>\n",
              "      <td>0.360208</td>\n",
              "      <td>0.552296</td>\n",
              "      <td>0.612337</td>\n",
              "    </tr>\n",
              "    <tr>\n",
              "      <th>2013-01-03</th>\n",
              "      <td>2.432118</td>\n",
              "      <td>0.019141</td>\n",
              "      <td>0.489980</td>\n",
              "    </tr>\n",
              "    <tr>\n",
              "      <th>2013-01-04</th>\n",
              "      <td>1.232998</td>\n",
              "      <td>0.751265</td>\n",
              "      <td>1.879437</td>\n",
              "    </tr>\n",
              "  </tbody>\n",
              "</table>\n",
              "</div>"
            ],
            "text/plain": [
              "                   A         B         C\n",
              "2013-01-02  0.360208  0.552296  0.612337\n",
              "2013-01-03  2.432118  0.019141  0.489980\n",
              "2013-01-04  1.232998  0.751265  1.879437"
            ]
          },
          "metadata": {
            "tags": []
          },
          "execution_count": 20
        }
      ]
    },
    {
      "cell_type": "code",
      "metadata": {
        "colab": {
          "base_uri": "https://localhost:8080/",
          "height": 142
        },
        "id": "1jcvAR27m_Xk",
        "outputId": "8d974287-5364-4456-d2f6-cbb92f274524"
      },
      "source": [
        "df.loc['20130102':'20130104', ['A','C']]"
      ],
      "execution_count": 21,
      "outputs": [
        {
          "output_type": "execute_result",
          "data": {
            "text/html": [
              "<div>\n",
              "<style scoped>\n",
              "    .dataframe tbody tr th:only-of-type {\n",
              "        vertical-align: middle;\n",
              "    }\n",
              "\n",
              "    .dataframe tbody tr th {\n",
              "        vertical-align: top;\n",
              "    }\n",
              "\n",
              "    .dataframe thead th {\n",
              "        text-align: right;\n",
              "    }\n",
              "</style>\n",
              "<table border=\"1\" class=\"dataframe\">\n",
              "  <thead>\n",
              "    <tr style=\"text-align: right;\">\n",
              "      <th></th>\n",
              "      <th>A</th>\n",
              "      <th>C</th>\n",
              "    </tr>\n",
              "  </thead>\n",
              "  <tbody>\n",
              "    <tr>\n",
              "      <th>2013-01-02</th>\n",
              "      <td>0.360208</td>\n",
              "      <td>0.612337</td>\n",
              "    </tr>\n",
              "    <tr>\n",
              "      <th>2013-01-03</th>\n",
              "      <td>2.432118</td>\n",
              "      <td>0.489980</td>\n",
              "    </tr>\n",
              "    <tr>\n",
              "      <th>2013-01-04</th>\n",
              "      <td>1.232998</td>\n",
              "      <td>1.879437</td>\n",
              "    </tr>\n",
              "  </tbody>\n",
              "</table>\n",
              "</div>"
            ],
            "text/plain": [
              "                   A         C\n",
              "2013-01-02  0.360208  0.612337\n",
              "2013-01-03  2.432118  0.489980\n",
              "2013-01-04  1.232998  1.879437"
            ]
          },
          "metadata": {
            "tags": []
          },
          "execution_count": 21
        }
      ]
    },
    {
      "cell_type": "code",
      "metadata": {
        "colab": {
          "base_uri": "https://localhost:8080/"
        },
        "id": "EH6k8lILnCrj",
        "outputId": "167514d3-d7c9-4205-f2db-93643ab3f8b3"
      },
      "source": [
        "df.loc[dates[0],'A']"
      ],
      "execution_count": 22,
      "outputs": [
        {
          "output_type": "execute_result",
          "data": {
            "text/plain": [
              "-1.4718567497391846"
            ]
          },
          "metadata": {
            "tags": []
          },
          "execution_count": 22
        }
      ]
    },
    {
      "cell_type": "code",
      "metadata": {
        "colab": {
          "base_uri": "https://localhost:8080/"
        },
        "id": "FxL42QnVnS6B",
        "outputId": "40785d26-35af-4f60-b530-eba91278913b"
      },
      "source": [
        "# .at: scalar 가져올 때 .loc 보다 더 빠른 방법\n",
        "df.at[dates[0],'A']"
      ],
      "execution_count": 23,
      "outputs": [
        {
          "output_type": "execute_result",
          "data": {
            "text/plain": [
              "-1.4718567497391846"
            ]
          },
          "metadata": {
            "tags": []
          },
          "execution_count": 23
        }
      ]
    },
    {
      "cell_type": "markdown",
      "metadata": {
        "id": "heovh85Uo51r"
      },
      "source": [
        "## 좌표값으로 가져오기 (.iloc)"
      ]
    },
    {
      "cell_type": "code",
      "metadata": {
        "colab": {
          "base_uri": "https://localhost:8080/"
        },
        "id": "QDYKA1wTo9b1",
        "outputId": "d47b5117-6a54-4333-cfd6-848235ea4d7e"
      },
      "source": [
        "df.iloc[2]"
      ],
      "execution_count": 24,
      "outputs": [
        {
          "output_type": "execute_result",
          "data": {
            "text/plain": [
              "A    2.432118\n",
              "B    0.019141\n",
              "C    0.489980\n",
              "D   -0.931976\n",
              "Name: 2013-01-03 00:00:00, dtype: float64"
            ]
          },
          "metadata": {
            "tags": []
          },
          "execution_count": 24
        }
      ]
    },
    {
      "cell_type": "code",
      "metadata": {
        "colab": {
          "base_uri": "https://localhost:8080/",
          "height": 111
        },
        "id": "OR1344IypEOr",
        "outputId": "e8973cd4-f82a-4334-ff55-2a2743ff4cae"
      },
      "source": [
        "df.iloc[3:5]  # df[3:5] / df['20130104':'20130105']"
      ],
      "execution_count": 25,
      "outputs": [
        {
          "output_type": "execute_result",
          "data": {
            "text/html": [
              "<div>\n",
              "<style scoped>\n",
              "    .dataframe tbody tr th:only-of-type {\n",
              "        vertical-align: middle;\n",
              "    }\n",
              "\n",
              "    .dataframe tbody tr th {\n",
              "        vertical-align: top;\n",
              "    }\n",
              "\n",
              "    .dataframe thead th {\n",
              "        text-align: right;\n",
              "    }\n",
              "</style>\n",
              "<table border=\"1\" class=\"dataframe\">\n",
              "  <thead>\n",
              "    <tr style=\"text-align: right;\">\n",
              "      <th></th>\n",
              "      <th>A</th>\n",
              "      <th>B</th>\n",
              "      <th>C</th>\n",
              "      <th>D</th>\n",
              "    </tr>\n",
              "  </thead>\n",
              "  <tbody>\n",
              "    <tr>\n",
              "      <th>2013-01-04</th>\n",
              "      <td>1.232998</td>\n",
              "      <td>0.751265</td>\n",
              "      <td>1.879437</td>\n",
              "      <td>-1.262870</td>\n",
              "    </tr>\n",
              "    <tr>\n",
              "      <th>2013-01-05</th>\n",
              "      <td>-1.459957</td>\n",
              "      <td>1.417531</td>\n",
              "      <td>0.487158</td>\n",
              "      <td>-2.013769</td>\n",
              "    </tr>\n",
              "  </tbody>\n",
              "</table>\n",
              "</div>"
            ],
            "text/plain": [
              "                   A         B         C         D\n",
              "2013-01-04  1.232998  0.751265  1.879437 -1.262870\n",
              "2013-01-05 -1.459957  1.417531  0.487158 -2.013769"
            ]
          },
          "metadata": {
            "tags": []
          },
          "execution_count": 25
        }
      ]
    },
    {
      "cell_type": "code",
      "metadata": {
        "colab": {
          "base_uri": "https://localhost:8080/",
          "height": 111
        },
        "id": "e6G4W1JMpSuh",
        "outputId": "cfcbe989-f816-4b31-c303-a96466ee401a"
      },
      "source": [
        "df.iloc[3:5, 0:2]"
      ],
      "execution_count": 26,
      "outputs": [
        {
          "output_type": "execute_result",
          "data": {
            "text/html": [
              "<div>\n",
              "<style scoped>\n",
              "    .dataframe tbody tr th:only-of-type {\n",
              "        vertical-align: middle;\n",
              "    }\n",
              "\n",
              "    .dataframe tbody tr th {\n",
              "        vertical-align: top;\n",
              "    }\n",
              "\n",
              "    .dataframe thead th {\n",
              "        text-align: right;\n",
              "    }\n",
              "</style>\n",
              "<table border=\"1\" class=\"dataframe\">\n",
              "  <thead>\n",
              "    <tr style=\"text-align: right;\">\n",
              "      <th></th>\n",
              "      <th>A</th>\n",
              "      <th>B</th>\n",
              "    </tr>\n",
              "  </thead>\n",
              "  <tbody>\n",
              "    <tr>\n",
              "      <th>2013-01-04</th>\n",
              "      <td>1.232998</td>\n",
              "      <td>0.751265</td>\n",
              "    </tr>\n",
              "    <tr>\n",
              "      <th>2013-01-05</th>\n",
              "      <td>-1.459957</td>\n",
              "      <td>1.417531</td>\n",
              "    </tr>\n",
              "  </tbody>\n",
              "</table>\n",
              "</div>"
            ],
            "text/plain": [
              "                   A         B\n",
              "2013-01-04  1.232998  0.751265\n",
              "2013-01-05 -1.459957  1.417531"
            ]
          },
          "metadata": {
            "tags": []
          },
          "execution_count": 26
        }
      ]
    },
    {
      "cell_type": "code",
      "metadata": {
        "colab": {
          "base_uri": "https://localhost:8080/",
          "height": 142
        },
        "id": "ObCwFOtzpYaX",
        "outputId": "12cba083-fa96-4d27-b812-0932fcac23b8"
      },
      "source": [
        "df.iloc[[1,2,4],[0,2]]"
      ],
      "execution_count": 27,
      "outputs": [
        {
          "output_type": "execute_result",
          "data": {
            "text/html": [
              "<div>\n",
              "<style scoped>\n",
              "    .dataframe tbody tr th:only-of-type {\n",
              "        vertical-align: middle;\n",
              "    }\n",
              "\n",
              "    .dataframe tbody tr th {\n",
              "        vertical-align: top;\n",
              "    }\n",
              "\n",
              "    .dataframe thead th {\n",
              "        text-align: right;\n",
              "    }\n",
              "</style>\n",
              "<table border=\"1\" class=\"dataframe\">\n",
              "  <thead>\n",
              "    <tr style=\"text-align: right;\">\n",
              "      <th></th>\n",
              "      <th>A</th>\n",
              "      <th>C</th>\n",
              "    </tr>\n",
              "  </thead>\n",
              "  <tbody>\n",
              "    <tr>\n",
              "      <th>2013-01-02</th>\n",
              "      <td>0.360208</td>\n",
              "      <td>0.612337</td>\n",
              "    </tr>\n",
              "    <tr>\n",
              "      <th>2013-01-03</th>\n",
              "      <td>2.432118</td>\n",
              "      <td>0.489980</td>\n",
              "    </tr>\n",
              "    <tr>\n",
              "      <th>2013-01-05</th>\n",
              "      <td>-1.459957</td>\n",
              "      <td>0.487158</td>\n",
              "    </tr>\n",
              "  </tbody>\n",
              "</table>\n",
              "</div>"
            ],
            "text/plain": [
              "                   A         C\n",
              "2013-01-02  0.360208  0.612337\n",
              "2013-01-03  2.432118  0.489980\n",
              "2013-01-05 -1.459957  0.487158"
            ]
          },
          "metadata": {
            "tags": []
          },
          "execution_count": 27
        }
      ]
    },
    {
      "cell_type": "code",
      "metadata": {
        "colab": {
          "base_uri": "https://localhost:8080/",
          "height": 111
        },
        "id": "1z-Fwanjpu10",
        "outputId": "ffd417e2-96de-47c7-9c7a-34aa3dd8d079"
      },
      "source": [
        "df.iloc[1:3, :]"
      ],
      "execution_count": 28,
      "outputs": [
        {
          "output_type": "execute_result",
          "data": {
            "text/html": [
              "<div>\n",
              "<style scoped>\n",
              "    .dataframe tbody tr th:only-of-type {\n",
              "        vertical-align: middle;\n",
              "    }\n",
              "\n",
              "    .dataframe tbody tr th {\n",
              "        vertical-align: top;\n",
              "    }\n",
              "\n",
              "    .dataframe thead th {\n",
              "        text-align: right;\n",
              "    }\n",
              "</style>\n",
              "<table border=\"1\" class=\"dataframe\">\n",
              "  <thead>\n",
              "    <tr style=\"text-align: right;\">\n",
              "      <th></th>\n",
              "      <th>A</th>\n",
              "      <th>B</th>\n",
              "      <th>C</th>\n",
              "      <th>D</th>\n",
              "    </tr>\n",
              "  </thead>\n",
              "  <tbody>\n",
              "    <tr>\n",
              "      <th>2013-01-02</th>\n",
              "      <td>0.360208</td>\n",
              "      <td>0.552296</td>\n",
              "      <td>0.612337</td>\n",
              "      <td>0.029651</td>\n",
              "    </tr>\n",
              "    <tr>\n",
              "      <th>2013-01-03</th>\n",
              "      <td>2.432118</td>\n",
              "      <td>0.019141</td>\n",
              "      <td>0.489980</td>\n",
              "      <td>-0.931976</td>\n",
              "    </tr>\n",
              "  </tbody>\n",
              "</table>\n",
              "</div>"
            ],
            "text/plain": [
              "                   A         B         C         D\n",
              "2013-01-02  0.360208  0.552296  0.612337  0.029651\n",
              "2013-01-03  2.432118  0.019141  0.489980 -0.931976"
            ]
          },
          "metadata": {
            "tags": []
          },
          "execution_count": 28
        }
      ]
    },
    {
      "cell_type": "code",
      "metadata": {
        "colab": {
          "base_uri": "https://localhost:8080/"
        },
        "id": "gKUPSVFUpy7D",
        "outputId": "26cb46f1-6f26-4b84-a69a-95745c722dae"
      },
      "source": [
        "df.iloc[1,1]"
      ],
      "execution_count": 29,
      "outputs": [
        {
          "output_type": "execute_result",
          "data": {
            "text/plain": [
              "0.5522958085327175"
            ]
          },
          "metadata": {
            "tags": []
          },
          "execution_count": 29
        }
      ]
    },
    {
      "cell_type": "code",
      "metadata": {
        "colab": {
          "base_uri": "https://localhost:8080/"
        },
        "id": "Vrddm268p8Ix",
        "outputId": "9d95794f-11f4-4c2b-8124-eaa2a939f6f1"
      },
      "source": [
        "# .iat: scalar 가져올 때 .iloc 보다 더 빠른 방법\n",
        "df.iat[1,1]"
      ],
      "execution_count": 30,
      "outputs": [
        {
          "output_type": "execute_result",
          "data": {
            "text/plain": [
              "0.5522958085327175"
            ]
          },
          "metadata": {
            "tags": []
          },
          "execution_count": 30
        }
      ]
    },
    {
      "cell_type": "markdown",
      "metadata": {
        "id": "E9vF6pSrqEqJ"
      },
      "source": [
        "## 조건에 해당하는 값 가져오기 (.isin)"
      ]
    },
    {
      "cell_type": "code",
      "metadata": {
        "id": "McOz5PqTqKCg",
        "colab": {
          "base_uri": "https://localhost:8080/",
          "height": 142
        },
        "outputId": "cef3f960-ef40-4231-f1b9-5d8fbe793d36"
      },
      "source": [
        "df[df['A']>0]"
      ],
      "execution_count": 31,
      "outputs": [
        {
          "output_type": "execute_result",
          "data": {
            "text/html": [
              "<div>\n",
              "<style scoped>\n",
              "    .dataframe tbody tr th:only-of-type {\n",
              "        vertical-align: middle;\n",
              "    }\n",
              "\n",
              "    .dataframe tbody tr th {\n",
              "        vertical-align: top;\n",
              "    }\n",
              "\n",
              "    .dataframe thead th {\n",
              "        text-align: right;\n",
              "    }\n",
              "</style>\n",
              "<table border=\"1\" class=\"dataframe\">\n",
              "  <thead>\n",
              "    <tr style=\"text-align: right;\">\n",
              "      <th></th>\n",
              "      <th>A</th>\n",
              "      <th>B</th>\n",
              "      <th>C</th>\n",
              "      <th>D</th>\n",
              "    </tr>\n",
              "  </thead>\n",
              "  <tbody>\n",
              "    <tr>\n",
              "      <th>2013-01-02</th>\n",
              "      <td>0.360208</td>\n",
              "      <td>0.552296</td>\n",
              "      <td>0.612337</td>\n",
              "      <td>0.029651</td>\n",
              "    </tr>\n",
              "    <tr>\n",
              "      <th>2013-01-03</th>\n",
              "      <td>2.432118</td>\n",
              "      <td>0.019141</td>\n",
              "      <td>0.489980</td>\n",
              "      <td>-0.931976</td>\n",
              "    </tr>\n",
              "    <tr>\n",
              "      <th>2013-01-04</th>\n",
              "      <td>1.232998</td>\n",
              "      <td>0.751265</td>\n",
              "      <td>1.879437</td>\n",
              "      <td>-1.262870</td>\n",
              "    </tr>\n",
              "  </tbody>\n",
              "</table>\n",
              "</div>"
            ],
            "text/plain": [
              "                   A         B         C         D\n",
              "2013-01-02  0.360208  0.552296  0.612337  0.029651\n",
              "2013-01-03  2.432118  0.019141  0.489980 -0.931976\n",
              "2013-01-04  1.232998  0.751265  1.879437 -1.262870"
            ]
          },
          "metadata": {
            "tags": []
          },
          "execution_count": 31
        }
      ]
    },
    {
      "cell_type": "code",
      "metadata": {
        "colab": {
          "base_uri": "https://localhost:8080/",
          "height": 235
        },
        "id": "qHeW9_ScQ3pp",
        "outputId": "1195c3f7-f8fd-4a21-de83-ec14d63e169d"
      },
      "source": [
        "df[df>0]"
      ],
      "execution_count": 32,
      "outputs": [
        {
          "output_type": "execute_result",
          "data": {
            "text/html": [
              "<div>\n",
              "<style scoped>\n",
              "    .dataframe tbody tr th:only-of-type {\n",
              "        vertical-align: middle;\n",
              "    }\n",
              "\n",
              "    .dataframe tbody tr th {\n",
              "        vertical-align: top;\n",
              "    }\n",
              "\n",
              "    .dataframe thead th {\n",
              "        text-align: right;\n",
              "    }\n",
              "</style>\n",
              "<table border=\"1\" class=\"dataframe\">\n",
              "  <thead>\n",
              "    <tr style=\"text-align: right;\">\n",
              "      <th></th>\n",
              "      <th>A</th>\n",
              "      <th>B</th>\n",
              "      <th>C</th>\n",
              "      <th>D</th>\n",
              "    </tr>\n",
              "  </thead>\n",
              "  <tbody>\n",
              "    <tr>\n",
              "      <th>2013-01-01</th>\n",
              "      <td>NaN</td>\n",
              "      <td>NaN</td>\n",
              "      <td>1.198916</td>\n",
              "      <td>0.021897</td>\n",
              "    </tr>\n",
              "    <tr>\n",
              "      <th>2013-01-02</th>\n",
              "      <td>0.360208</td>\n",
              "      <td>0.552296</td>\n",
              "      <td>0.612337</td>\n",
              "      <td>0.029651</td>\n",
              "    </tr>\n",
              "    <tr>\n",
              "      <th>2013-01-03</th>\n",
              "      <td>2.432118</td>\n",
              "      <td>0.019141</td>\n",
              "      <td>0.489980</td>\n",
              "      <td>NaN</td>\n",
              "    </tr>\n",
              "    <tr>\n",
              "      <th>2013-01-04</th>\n",
              "      <td>1.232998</td>\n",
              "      <td>0.751265</td>\n",
              "      <td>1.879437</td>\n",
              "      <td>NaN</td>\n",
              "    </tr>\n",
              "    <tr>\n",
              "      <th>2013-01-05</th>\n",
              "      <td>NaN</td>\n",
              "      <td>1.417531</td>\n",
              "      <td>0.487158</td>\n",
              "      <td>NaN</td>\n",
              "    </tr>\n",
              "    <tr>\n",
              "      <th>2013-01-06</th>\n",
              "      <td>NaN</td>\n",
              "      <td>0.808607</td>\n",
              "      <td>1.607757</td>\n",
              "      <td>0.960547</td>\n",
              "    </tr>\n",
              "  </tbody>\n",
              "</table>\n",
              "</div>"
            ],
            "text/plain": [
              "                   A         B         C         D\n",
              "2013-01-01       NaN       NaN  1.198916  0.021897\n",
              "2013-01-02  0.360208  0.552296  0.612337  0.029651\n",
              "2013-01-03  2.432118  0.019141  0.489980       NaN\n",
              "2013-01-04  1.232998  0.751265  1.879437       NaN\n",
              "2013-01-05       NaN  1.417531  0.487158       NaN\n",
              "2013-01-06       NaN  0.808607  1.607757  0.960547"
            ]
          },
          "metadata": {
            "tags": []
          },
          "execution_count": 32
        }
      ]
    },
    {
      "cell_type": "code",
      "metadata": {
        "colab": {
          "base_uri": "https://localhost:8080/",
          "height": 235
        },
        "id": "v3emKtXhQ-LS",
        "outputId": "3b8846a3-3812-4e8d-c565-bd583d5edd1f"
      },
      "source": [
        "df2 = df.copy()\n",
        "df2['E'] = ['one', 'one', 'two', 'three', 'four', 'three']\n",
        "df2"
      ],
      "execution_count": 33,
      "outputs": [
        {
          "output_type": "execute_result",
          "data": {
            "text/html": [
              "<div>\n",
              "<style scoped>\n",
              "    .dataframe tbody tr th:only-of-type {\n",
              "        vertical-align: middle;\n",
              "    }\n",
              "\n",
              "    .dataframe tbody tr th {\n",
              "        vertical-align: top;\n",
              "    }\n",
              "\n",
              "    .dataframe thead th {\n",
              "        text-align: right;\n",
              "    }\n",
              "</style>\n",
              "<table border=\"1\" class=\"dataframe\">\n",
              "  <thead>\n",
              "    <tr style=\"text-align: right;\">\n",
              "      <th></th>\n",
              "      <th>A</th>\n",
              "      <th>B</th>\n",
              "      <th>C</th>\n",
              "      <th>D</th>\n",
              "      <th>E</th>\n",
              "    </tr>\n",
              "  </thead>\n",
              "  <tbody>\n",
              "    <tr>\n",
              "      <th>2013-01-01</th>\n",
              "      <td>-1.471857</td>\n",
              "      <td>-0.480625</td>\n",
              "      <td>1.198916</td>\n",
              "      <td>0.021897</td>\n",
              "      <td>one</td>\n",
              "    </tr>\n",
              "    <tr>\n",
              "      <th>2013-01-02</th>\n",
              "      <td>0.360208</td>\n",
              "      <td>0.552296</td>\n",
              "      <td>0.612337</td>\n",
              "      <td>0.029651</td>\n",
              "      <td>one</td>\n",
              "    </tr>\n",
              "    <tr>\n",
              "      <th>2013-01-03</th>\n",
              "      <td>2.432118</td>\n",
              "      <td>0.019141</td>\n",
              "      <td>0.489980</td>\n",
              "      <td>-0.931976</td>\n",
              "      <td>two</td>\n",
              "    </tr>\n",
              "    <tr>\n",
              "      <th>2013-01-04</th>\n",
              "      <td>1.232998</td>\n",
              "      <td>0.751265</td>\n",
              "      <td>1.879437</td>\n",
              "      <td>-1.262870</td>\n",
              "      <td>three</td>\n",
              "    </tr>\n",
              "    <tr>\n",
              "      <th>2013-01-05</th>\n",
              "      <td>-1.459957</td>\n",
              "      <td>1.417531</td>\n",
              "      <td>0.487158</td>\n",
              "      <td>-2.013769</td>\n",
              "      <td>four</td>\n",
              "    </tr>\n",
              "    <tr>\n",
              "      <th>2013-01-06</th>\n",
              "      <td>-0.047570</td>\n",
              "      <td>0.808607</td>\n",
              "      <td>1.607757</td>\n",
              "      <td>0.960547</td>\n",
              "      <td>three</td>\n",
              "    </tr>\n",
              "  </tbody>\n",
              "</table>\n",
              "</div>"
            ],
            "text/plain": [
              "                   A         B         C         D      E\n",
              "2013-01-01 -1.471857 -0.480625  1.198916  0.021897    one\n",
              "2013-01-02  0.360208  0.552296  0.612337  0.029651    one\n",
              "2013-01-03  2.432118  0.019141  0.489980 -0.931976    two\n",
              "2013-01-04  1.232998  0.751265  1.879437 -1.262870  three\n",
              "2013-01-05 -1.459957  1.417531  0.487158 -2.013769   four\n",
              "2013-01-06 -0.047570  0.808607  1.607757  0.960547  three"
            ]
          },
          "metadata": {
            "tags": []
          },
          "execution_count": 33
        }
      ]
    },
    {
      "cell_type": "code",
      "metadata": {
        "id": "qbXRmnC1qBFZ",
        "colab": {
          "base_uri": "https://localhost:8080/",
          "height": 111
        },
        "outputId": "8bc1fbb9-0fc5-418a-db2b-c36155a78fa3"
      },
      "source": [
        "df2[df2['E'].isin(['two','four'])]"
      ],
      "execution_count": 34,
      "outputs": [
        {
          "output_type": "execute_result",
          "data": {
            "text/html": [
              "<div>\n",
              "<style scoped>\n",
              "    .dataframe tbody tr th:only-of-type {\n",
              "        vertical-align: middle;\n",
              "    }\n",
              "\n",
              "    .dataframe tbody tr th {\n",
              "        vertical-align: top;\n",
              "    }\n",
              "\n",
              "    .dataframe thead th {\n",
              "        text-align: right;\n",
              "    }\n",
              "</style>\n",
              "<table border=\"1\" class=\"dataframe\">\n",
              "  <thead>\n",
              "    <tr style=\"text-align: right;\">\n",
              "      <th></th>\n",
              "      <th>A</th>\n",
              "      <th>B</th>\n",
              "      <th>C</th>\n",
              "      <th>D</th>\n",
              "      <th>E</th>\n",
              "    </tr>\n",
              "  </thead>\n",
              "  <tbody>\n",
              "    <tr>\n",
              "      <th>2013-01-03</th>\n",
              "      <td>2.432118</td>\n",
              "      <td>0.019141</td>\n",
              "      <td>0.489980</td>\n",
              "      <td>-0.931976</td>\n",
              "      <td>two</td>\n",
              "    </tr>\n",
              "    <tr>\n",
              "      <th>2013-01-05</th>\n",
              "      <td>-1.459957</td>\n",
              "      <td>1.417531</td>\n",
              "      <td>0.487158</td>\n",
              "      <td>-2.013769</td>\n",
              "      <td>four</td>\n",
              "    </tr>\n",
              "  </tbody>\n",
              "</table>\n",
              "</div>"
            ],
            "text/plain": [
              "                   A         B         C         D     E\n",
              "2013-01-03  2.432118  0.019141  0.489980 -0.931976   two\n",
              "2013-01-05 -1.459957  1.417531  0.487158 -2.013769  four"
            ]
          },
          "metadata": {
            "tags": []
          },
          "execution_count": 34
        }
      ]
    },
    {
      "cell_type": "markdown",
      "metadata": {
        "id": "j7gP4FxfSEnu"
      },
      "source": [
        "## 값 설정하기"
      ]
    },
    {
      "cell_type": "code",
      "metadata": {
        "colab": {
          "base_uri": "https://localhost:8080/"
        },
        "id": "nNkYGKu7SEXe",
        "outputId": "4e5a7ac1-4e5a-49b4-fe73-5e6bb6e0aa84"
      },
      "source": [
        "s1 = pd.Series([1, 2, 3, 4, 5, 6], index=pd.date_range('20130102', periods=6))\n",
        "s1"
      ],
      "execution_count": 35,
      "outputs": [
        {
          "output_type": "execute_result",
          "data": {
            "text/plain": [
              "2013-01-02    1\n",
              "2013-01-03    2\n",
              "2013-01-04    3\n",
              "2013-01-05    4\n",
              "2013-01-06    5\n",
              "2013-01-07    6\n",
              "Freq: D, dtype: int64"
            ]
          },
          "metadata": {
            "tags": []
          },
          "execution_count": 35
        }
      ]
    },
    {
      "cell_type": "code",
      "metadata": {
        "colab": {
          "base_uri": "https://localhost:8080/",
          "height": 235
        },
        "id": "JP4wA3IQSRKa",
        "outputId": "90422917-6909-4c05-b3ed-0e5eee44fab9"
      },
      "source": [
        "df"
      ],
      "execution_count": 36,
      "outputs": [
        {
          "output_type": "execute_result",
          "data": {
            "text/html": [
              "<div>\n",
              "<style scoped>\n",
              "    .dataframe tbody tr th:only-of-type {\n",
              "        vertical-align: middle;\n",
              "    }\n",
              "\n",
              "    .dataframe tbody tr th {\n",
              "        vertical-align: top;\n",
              "    }\n",
              "\n",
              "    .dataframe thead th {\n",
              "        text-align: right;\n",
              "    }\n",
              "</style>\n",
              "<table border=\"1\" class=\"dataframe\">\n",
              "  <thead>\n",
              "    <tr style=\"text-align: right;\">\n",
              "      <th></th>\n",
              "      <th>A</th>\n",
              "      <th>B</th>\n",
              "      <th>C</th>\n",
              "      <th>D</th>\n",
              "    </tr>\n",
              "  </thead>\n",
              "  <tbody>\n",
              "    <tr>\n",
              "      <th>2013-01-01</th>\n",
              "      <td>-1.471857</td>\n",
              "      <td>-0.480625</td>\n",
              "      <td>1.198916</td>\n",
              "      <td>0.021897</td>\n",
              "    </tr>\n",
              "    <tr>\n",
              "      <th>2013-01-02</th>\n",
              "      <td>0.360208</td>\n",
              "      <td>0.552296</td>\n",
              "      <td>0.612337</td>\n",
              "      <td>0.029651</td>\n",
              "    </tr>\n",
              "    <tr>\n",
              "      <th>2013-01-03</th>\n",
              "      <td>2.432118</td>\n",
              "      <td>0.019141</td>\n",
              "      <td>0.489980</td>\n",
              "      <td>-0.931976</td>\n",
              "    </tr>\n",
              "    <tr>\n",
              "      <th>2013-01-04</th>\n",
              "      <td>1.232998</td>\n",
              "      <td>0.751265</td>\n",
              "      <td>1.879437</td>\n",
              "      <td>-1.262870</td>\n",
              "    </tr>\n",
              "    <tr>\n",
              "      <th>2013-01-05</th>\n",
              "      <td>-1.459957</td>\n",
              "      <td>1.417531</td>\n",
              "      <td>0.487158</td>\n",
              "      <td>-2.013769</td>\n",
              "    </tr>\n",
              "    <tr>\n",
              "      <th>2013-01-06</th>\n",
              "      <td>-0.047570</td>\n",
              "      <td>0.808607</td>\n",
              "      <td>1.607757</td>\n",
              "      <td>0.960547</td>\n",
              "    </tr>\n",
              "  </tbody>\n",
              "</table>\n",
              "</div>"
            ],
            "text/plain": [
              "                   A         B         C         D\n",
              "2013-01-01 -1.471857 -0.480625  1.198916  0.021897\n",
              "2013-01-02  0.360208  0.552296  0.612337  0.029651\n",
              "2013-01-03  2.432118  0.019141  0.489980 -0.931976\n",
              "2013-01-04  1.232998  0.751265  1.879437 -1.262870\n",
              "2013-01-05 -1.459957  1.417531  0.487158 -2.013769\n",
              "2013-01-06 -0.047570  0.808607  1.607757  0.960547"
            ]
          },
          "metadata": {
            "tags": []
          },
          "execution_count": 36
        }
      ]
    },
    {
      "cell_type": "code",
      "metadata": {
        "colab": {
          "base_uri": "https://localhost:8080/",
          "height": 235
        },
        "id": "J2N60Zw0SSvA",
        "outputId": "0e8b5a0b-df90-4e66-93fe-798b47d31406"
      },
      "source": [
        "# 새로운 컬럼 추가(인덱스에 해당하는 값만 가져옴)\n",
        "df['F'] = s1\n",
        "df"
      ],
      "execution_count": 37,
      "outputs": [
        {
          "output_type": "execute_result",
          "data": {
            "text/html": [
              "<div>\n",
              "<style scoped>\n",
              "    .dataframe tbody tr th:only-of-type {\n",
              "        vertical-align: middle;\n",
              "    }\n",
              "\n",
              "    .dataframe tbody tr th {\n",
              "        vertical-align: top;\n",
              "    }\n",
              "\n",
              "    .dataframe thead th {\n",
              "        text-align: right;\n",
              "    }\n",
              "</style>\n",
              "<table border=\"1\" class=\"dataframe\">\n",
              "  <thead>\n",
              "    <tr style=\"text-align: right;\">\n",
              "      <th></th>\n",
              "      <th>A</th>\n",
              "      <th>B</th>\n",
              "      <th>C</th>\n",
              "      <th>D</th>\n",
              "      <th>F</th>\n",
              "    </tr>\n",
              "  </thead>\n",
              "  <tbody>\n",
              "    <tr>\n",
              "      <th>2013-01-01</th>\n",
              "      <td>-1.471857</td>\n",
              "      <td>-0.480625</td>\n",
              "      <td>1.198916</td>\n",
              "      <td>0.021897</td>\n",
              "      <td>NaN</td>\n",
              "    </tr>\n",
              "    <tr>\n",
              "      <th>2013-01-02</th>\n",
              "      <td>0.360208</td>\n",
              "      <td>0.552296</td>\n",
              "      <td>0.612337</td>\n",
              "      <td>0.029651</td>\n",
              "      <td>1.0</td>\n",
              "    </tr>\n",
              "    <tr>\n",
              "      <th>2013-01-03</th>\n",
              "      <td>2.432118</td>\n",
              "      <td>0.019141</td>\n",
              "      <td>0.489980</td>\n",
              "      <td>-0.931976</td>\n",
              "      <td>2.0</td>\n",
              "    </tr>\n",
              "    <tr>\n",
              "      <th>2013-01-04</th>\n",
              "      <td>1.232998</td>\n",
              "      <td>0.751265</td>\n",
              "      <td>1.879437</td>\n",
              "      <td>-1.262870</td>\n",
              "      <td>3.0</td>\n",
              "    </tr>\n",
              "    <tr>\n",
              "      <th>2013-01-05</th>\n",
              "      <td>-1.459957</td>\n",
              "      <td>1.417531</td>\n",
              "      <td>0.487158</td>\n",
              "      <td>-2.013769</td>\n",
              "      <td>4.0</td>\n",
              "    </tr>\n",
              "    <tr>\n",
              "      <th>2013-01-06</th>\n",
              "      <td>-0.047570</td>\n",
              "      <td>0.808607</td>\n",
              "      <td>1.607757</td>\n",
              "      <td>0.960547</td>\n",
              "      <td>5.0</td>\n",
              "    </tr>\n",
              "  </tbody>\n",
              "</table>\n",
              "</div>"
            ],
            "text/plain": [
              "                   A         B         C         D    F\n",
              "2013-01-01 -1.471857 -0.480625  1.198916  0.021897  NaN\n",
              "2013-01-02  0.360208  0.552296  0.612337  0.029651  1.0\n",
              "2013-01-03  2.432118  0.019141  0.489980 -0.931976  2.0\n",
              "2013-01-04  1.232998  0.751265  1.879437 -1.262870  3.0\n",
              "2013-01-05 -1.459957  1.417531  0.487158 -2.013769  4.0\n",
              "2013-01-06 -0.047570  0.808607  1.607757  0.960547  5.0"
            ]
          },
          "metadata": {
            "tags": []
          },
          "execution_count": 37
        }
      ]
    },
    {
      "cell_type": "code",
      "metadata": {
        "colab": {
          "base_uri": "https://localhost:8080/",
          "height": 235
        },
        "id": "FP5WyB3ySYRc",
        "outputId": "ecdce27d-69b7-4b8f-a0a3-303b3350c4ec"
      },
      "source": [
        "# 새로운 값으로 바꾸기\n",
        "df.at[dates[0],'A'] = 0\n",
        "df.iat[0, 1] = 0\n",
        "df.loc[:, 'D'] = np.array([5] * len(df))\n",
        "df"
      ],
      "execution_count": 38,
      "outputs": [
        {
          "output_type": "execute_result",
          "data": {
            "text/html": [
              "<div>\n",
              "<style scoped>\n",
              "    .dataframe tbody tr th:only-of-type {\n",
              "        vertical-align: middle;\n",
              "    }\n",
              "\n",
              "    .dataframe tbody tr th {\n",
              "        vertical-align: top;\n",
              "    }\n",
              "\n",
              "    .dataframe thead th {\n",
              "        text-align: right;\n",
              "    }\n",
              "</style>\n",
              "<table border=\"1\" class=\"dataframe\">\n",
              "  <thead>\n",
              "    <tr style=\"text-align: right;\">\n",
              "      <th></th>\n",
              "      <th>A</th>\n",
              "      <th>B</th>\n",
              "      <th>C</th>\n",
              "      <th>D</th>\n",
              "      <th>F</th>\n",
              "    </tr>\n",
              "  </thead>\n",
              "  <tbody>\n",
              "    <tr>\n",
              "      <th>2013-01-01</th>\n",
              "      <td>0.000000</td>\n",
              "      <td>0.000000</td>\n",
              "      <td>1.198916</td>\n",
              "      <td>5</td>\n",
              "      <td>NaN</td>\n",
              "    </tr>\n",
              "    <tr>\n",
              "      <th>2013-01-02</th>\n",
              "      <td>0.360208</td>\n",
              "      <td>0.552296</td>\n",
              "      <td>0.612337</td>\n",
              "      <td>5</td>\n",
              "      <td>1.0</td>\n",
              "    </tr>\n",
              "    <tr>\n",
              "      <th>2013-01-03</th>\n",
              "      <td>2.432118</td>\n",
              "      <td>0.019141</td>\n",
              "      <td>0.489980</td>\n",
              "      <td>5</td>\n",
              "      <td>2.0</td>\n",
              "    </tr>\n",
              "    <tr>\n",
              "      <th>2013-01-04</th>\n",
              "      <td>1.232998</td>\n",
              "      <td>0.751265</td>\n",
              "      <td>1.879437</td>\n",
              "      <td>5</td>\n",
              "      <td>3.0</td>\n",
              "    </tr>\n",
              "    <tr>\n",
              "      <th>2013-01-05</th>\n",
              "      <td>-1.459957</td>\n",
              "      <td>1.417531</td>\n",
              "      <td>0.487158</td>\n",
              "      <td>5</td>\n",
              "      <td>4.0</td>\n",
              "    </tr>\n",
              "    <tr>\n",
              "      <th>2013-01-06</th>\n",
              "      <td>-0.047570</td>\n",
              "      <td>0.808607</td>\n",
              "      <td>1.607757</td>\n",
              "      <td>5</td>\n",
              "      <td>5.0</td>\n",
              "    </tr>\n",
              "  </tbody>\n",
              "</table>\n",
              "</div>"
            ],
            "text/plain": [
              "                   A         B         C  D    F\n",
              "2013-01-01  0.000000  0.000000  1.198916  5  NaN\n",
              "2013-01-02  0.360208  0.552296  0.612337  5  1.0\n",
              "2013-01-03  2.432118  0.019141  0.489980  5  2.0\n",
              "2013-01-04  1.232998  0.751265  1.879437  5  3.0\n",
              "2013-01-05 -1.459957  1.417531  0.487158  5  4.0\n",
              "2013-01-06 -0.047570  0.808607  1.607757  5  5.0"
            ]
          },
          "metadata": {
            "tags": []
          },
          "execution_count": 38
        }
      ]
    },
    {
      "cell_type": "code",
      "metadata": {
        "colab": {
          "base_uri": "https://localhost:8080/",
          "height": 235
        },
        "id": "PP7vsiRgTOp-",
        "outputId": "05f571e6-fe65-4843-f801-df9b0367c362"
      },
      "source": [
        "df2 = df.copy()\n",
        "df2[df2>0] = -df2\n",
        "df2"
      ],
      "execution_count": 39,
      "outputs": [
        {
          "output_type": "execute_result",
          "data": {
            "text/html": [
              "<div>\n",
              "<style scoped>\n",
              "    .dataframe tbody tr th:only-of-type {\n",
              "        vertical-align: middle;\n",
              "    }\n",
              "\n",
              "    .dataframe tbody tr th {\n",
              "        vertical-align: top;\n",
              "    }\n",
              "\n",
              "    .dataframe thead th {\n",
              "        text-align: right;\n",
              "    }\n",
              "</style>\n",
              "<table border=\"1\" class=\"dataframe\">\n",
              "  <thead>\n",
              "    <tr style=\"text-align: right;\">\n",
              "      <th></th>\n",
              "      <th>A</th>\n",
              "      <th>B</th>\n",
              "      <th>C</th>\n",
              "      <th>D</th>\n",
              "      <th>F</th>\n",
              "    </tr>\n",
              "  </thead>\n",
              "  <tbody>\n",
              "    <tr>\n",
              "      <th>2013-01-01</th>\n",
              "      <td>0.000000</td>\n",
              "      <td>0.000000</td>\n",
              "      <td>-1.198916</td>\n",
              "      <td>-5</td>\n",
              "      <td>NaN</td>\n",
              "    </tr>\n",
              "    <tr>\n",
              "      <th>2013-01-02</th>\n",
              "      <td>-0.360208</td>\n",
              "      <td>-0.552296</td>\n",
              "      <td>-0.612337</td>\n",
              "      <td>-5</td>\n",
              "      <td>-1.0</td>\n",
              "    </tr>\n",
              "    <tr>\n",
              "      <th>2013-01-03</th>\n",
              "      <td>-2.432118</td>\n",
              "      <td>-0.019141</td>\n",
              "      <td>-0.489980</td>\n",
              "      <td>-5</td>\n",
              "      <td>-2.0</td>\n",
              "    </tr>\n",
              "    <tr>\n",
              "      <th>2013-01-04</th>\n",
              "      <td>-1.232998</td>\n",
              "      <td>-0.751265</td>\n",
              "      <td>-1.879437</td>\n",
              "      <td>-5</td>\n",
              "      <td>-3.0</td>\n",
              "    </tr>\n",
              "    <tr>\n",
              "      <th>2013-01-05</th>\n",
              "      <td>-1.459957</td>\n",
              "      <td>-1.417531</td>\n",
              "      <td>-0.487158</td>\n",
              "      <td>-5</td>\n",
              "      <td>-4.0</td>\n",
              "    </tr>\n",
              "    <tr>\n",
              "      <th>2013-01-06</th>\n",
              "      <td>-0.047570</td>\n",
              "      <td>-0.808607</td>\n",
              "      <td>-1.607757</td>\n",
              "      <td>-5</td>\n",
              "      <td>-5.0</td>\n",
              "    </tr>\n",
              "  </tbody>\n",
              "</table>\n",
              "</div>"
            ],
            "text/plain": [
              "                   A         B         C  D    F\n",
              "2013-01-01  0.000000  0.000000 -1.198916 -5  NaN\n",
              "2013-01-02 -0.360208 -0.552296 -0.612337 -5 -1.0\n",
              "2013-01-03 -2.432118 -0.019141 -0.489980 -5 -2.0\n",
              "2013-01-04 -1.232998 -0.751265 -1.879437 -5 -3.0\n",
              "2013-01-05 -1.459957 -1.417531 -0.487158 -5 -4.0\n",
              "2013-01-06 -0.047570 -0.808607 -1.607757 -5 -5.0"
            ]
          },
          "metadata": {
            "tags": []
          },
          "execution_count": 39
        }
      ]
    },
    {
      "cell_type": "markdown",
      "metadata": {
        "id": "eOF3ktnqjav2"
      },
      "source": [
        "# 4. 결측치 처리 (Missing data)"
      ]
    },
    {
      "cell_type": "code",
      "metadata": {
        "colab": {
          "base_uri": "https://localhost:8080/",
          "height": 173
        },
        "id": "2lcwnZ0Ljh9h",
        "outputId": "d29237a3-a265-4f5f-a41a-e4b7220f1262"
      },
      "source": [
        "# 인덱스 변경/추가/삭제: reindex\n",
        "df1 = df.reindex(index=dates[0:4], columns=list(df.columns)+['E'])\n",
        "df1.loc[dates[0]:dates[1],'E'] = 1\n",
        "df1"
      ],
      "execution_count": 42,
      "outputs": [
        {
          "output_type": "execute_result",
          "data": {
            "text/html": [
              "<div>\n",
              "<style scoped>\n",
              "    .dataframe tbody tr th:only-of-type {\n",
              "        vertical-align: middle;\n",
              "    }\n",
              "\n",
              "    .dataframe tbody tr th {\n",
              "        vertical-align: top;\n",
              "    }\n",
              "\n",
              "    .dataframe thead th {\n",
              "        text-align: right;\n",
              "    }\n",
              "</style>\n",
              "<table border=\"1\" class=\"dataframe\">\n",
              "  <thead>\n",
              "    <tr style=\"text-align: right;\">\n",
              "      <th></th>\n",
              "      <th>A</th>\n",
              "      <th>B</th>\n",
              "      <th>C</th>\n",
              "      <th>D</th>\n",
              "      <th>F</th>\n",
              "      <th>E</th>\n",
              "    </tr>\n",
              "  </thead>\n",
              "  <tbody>\n",
              "    <tr>\n",
              "      <th>2013-01-01</th>\n",
              "      <td>0.000000</td>\n",
              "      <td>0.000000</td>\n",
              "      <td>1.198916</td>\n",
              "      <td>5</td>\n",
              "      <td>NaN</td>\n",
              "      <td>1.0</td>\n",
              "    </tr>\n",
              "    <tr>\n",
              "      <th>2013-01-02</th>\n",
              "      <td>0.360208</td>\n",
              "      <td>0.552296</td>\n",
              "      <td>0.612337</td>\n",
              "      <td>5</td>\n",
              "      <td>1.0</td>\n",
              "      <td>1.0</td>\n",
              "    </tr>\n",
              "    <tr>\n",
              "      <th>2013-01-03</th>\n",
              "      <td>2.432118</td>\n",
              "      <td>0.019141</td>\n",
              "      <td>0.489980</td>\n",
              "      <td>5</td>\n",
              "      <td>2.0</td>\n",
              "      <td>NaN</td>\n",
              "    </tr>\n",
              "    <tr>\n",
              "      <th>2013-01-04</th>\n",
              "      <td>1.232998</td>\n",
              "      <td>0.751265</td>\n",
              "      <td>1.879437</td>\n",
              "      <td>5</td>\n",
              "      <td>3.0</td>\n",
              "      <td>NaN</td>\n",
              "    </tr>\n",
              "  </tbody>\n",
              "</table>\n",
              "</div>"
            ],
            "text/plain": [
              "                   A         B         C  D    F    E\n",
              "2013-01-01  0.000000  0.000000  1.198916  5  NaN  1.0\n",
              "2013-01-02  0.360208  0.552296  0.612337  5  1.0  1.0\n",
              "2013-01-03  2.432118  0.019141  0.489980  5  2.0  NaN\n",
              "2013-01-04  1.232998  0.751265  1.879437  5  3.0  NaN"
            ]
          },
          "metadata": {
            "tags": []
          },
          "execution_count": 42
        }
      ]
    },
    {
      "cell_type": "code",
      "metadata": {
        "colab": {
          "base_uri": "https://localhost:8080/",
          "height": 80
        },
        "id": "uC9nlfl0kOUx",
        "outputId": "958b7b3e-7800-4106-de00-4c7ce27425ea"
      },
      "source": [
        "# 결측치 있는 행 모두 삭제\n",
        "df1.dropna(how='any')"
      ],
      "execution_count": 43,
      "outputs": [
        {
          "output_type": "execute_result",
          "data": {
            "text/html": [
              "<div>\n",
              "<style scoped>\n",
              "    .dataframe tbody tr th:only-of-type {\n",
              "        vertical-align: middle;\n",
              "    }\n",
              "\n",
              "    .dataframe tbody tr th {\n",
              "        vertical-align: top;\n",
              "    }\n",
              "\n",
              "    .dataframe thead th {\n",
              "        text-align: right;\n",
              "    }\n",
              "</style>\n",
              "<table border=\"1\" class=\"dataframe\">\n",
              "  <thead>\n",
              "    <tr style=\"text-align: right;\">\n",
              "      <th></th>\n",
              "      <th>A</th>\n",
              "      <th>B</th>\n",
              "      <th>C</th>\n",
              "      <th>D</th>\n",
              "      <th>F</th>\n",
              "      <th>E</th>\n",
              "    </tr>\n",
              "  </thead>\n",
              "  <tbody>\n",
              "    <tr>\n",
              "      <th>2013-01-02</th>\n",
              "      <td>0.360208</td>\n",
              "      <td>0.552296</td>\n",
              "      <td>0.612337</td>\n",
              "      <td>5</td>\n",
              "      <td>1.0</td>\n",
              "      <td>1.0</td>\n",
              "    </tr>\n",
              "  </tbody>\n",
              "</table>\n",
              "</div>"
            ],
            "text/plain": [
              "                   A         B         C  D    F    E\n",
              "2013-01-02  0.360208  0.552296  0.612337  5  1.0  1.0"
            ]
          },
          "metadata": {
            "tags": []
          },
          "execution_count": 43
        }
      ]
    },
    {
      "cell_type": "code",
      "metadata": {
        "colab": {
          "base_uri": "https://localhost:8080/",
          "height": 173
        },
        "id": "RvyfrSBxkUvb",
        "outputId": "417a49bd-24f2-4a00-ed73-2e0b726cf0cc"
      },
      "source": [
        "# 모든 결측치 값에 5 넣기\n",
        "df1.fillna(value=5)"
      ],
      "execution_count": 47,
      "outputs": [
        {
          "output_type": "execute_result",
          "data": {
            "text/html": [
              "<div>\n",
              "<style scoped>\n",
              "    .dataframe tbody tr th:only-of-type {\n",
              "        vertical-align: middle;\n",
              "    }\n",
              "\n",
              "    .dataframe tbody tr th {\n",
              "        vertical-align: top;\n",
              "    }\n",
              "\n",
              "    .dataframe thead th {\n",
              "        text-align: right;\n",
              "    }\n",
              "</style>\n",
              "<table border=\"1\" class=\"dataframe\">\n",
              "  <thead>\n",
              "    <tr style=\"text-align: right;\">\n",
              "      <th></th>\n",
              "      <th>A</th>\n",
              "      <th>B</th>\n",
              "      <th>C</th>\n",
              "      <th>D</th>\n",
              "      <th>F</th>\n",
              "      <th>E</th>\n",
              "    </tr>\n",
              "  </thead>\n",
              "  <tbody>\n",
              "    <tr>\n",
              "      <th>2013-01-01</th>\n",
              "      <td>0.000000</td>\n",
              "      <td>0.000000</td>\n",
              "      <td>1.198916</td>\n",
              "      <td>5</td>\n",
              "      <td>5.0</td>\n",
              "      <td>1.0</td>\n",
              "    </tr>\n",
              "    <tr>\n",
              "      <th>2013-01-02</th>\n",
              "      <td>0.360208</td>\n",
              "      <td>0.552296</td>\n",
              "      <td>0.612337</td>\n",
              "      <td>5</td>\n",
              "      <td>1.0</td>\n",
              "      <td>1.0</td>\n",
              "    </tr>\n",
              "    <tr>\n",
              "      <th>2013-01-03</th>\n",
              "      <td>2.432118</td>\n",
              "      <td>0.019141</td>\n",
              "      <td>0.489980</td>\n",
              "      <td>5</td>\n",
              "      <td>2.0</td>\n",
              "      <td>5.0</td>\n",
              "    </tr>\n",
              "    <tr>\n",
              "      <th>2013-01-04</th>\n",
              "      <td>1.232998</td>\n",
              "      <td>0.751265</td>\n",
              "      <td>1.879437</td>\n",
              "      <td>5</td>\n",
              "      <td>3.0</td>\n",
              "      <td>5.0</td>\n",
              "    </tr>\n",
              "  </tbody>\n",
              "</table>\n",
              "</div>"
            ],
            "text/plain": [
              "                   A         B         C  D    F    E\n",
              "2013-01-01  0.000000  0.000000  1.198916  5  5.0  1.0\n",
              "2013-01-02  0.360208  0.552296  0.612337  5  1.0  1.0\n",
              "2013-01-03  2.432118  0.019141  0.489980  5  2.0  5.0\n",
              "2013-01-04  1.232998  0.751265  1.879437  5  3.0  5.0"
            ]
          },
          "metadata": {
            "tags": []
          },
          "execution_count": 47
        }
      ]
    },
    {
      "cell_type": "code",
      "metadata": {
        "colab": {
          "base_uri": "https://localhost:8080/"
        },
        "id": "pv4IihZXkjsc",
        "outputId": "eff4de34-aadd-4a54-9f24-e37c16851456"
      },
      "source": [
        "# 특정 컬럼의 결측치 값에 5 넣기\n",
        "df1.F.fillna(value=5)"
      ],
      "execution_count": 48,
      "outputs": [
        {
          "output_type": "execute_result",
          "data": {
            "text/plain": [
              "2013-01-01    5.0\n",
              "2013-01-02    1.0\n",
              "2013-01-03    2.0\n",
              "2013-01-04    3.0\n",
              "Freq: D, Name: F, dtype: float64"
            ]
          },
          "metadata": {
            "tags": []
          },
          "execution_count": 48
        }
      ]
    },
    {
      "cell_type": "code",
      "metadata": {
        "colab": {
          "base_uri": "https://localhost:8080/",
          "height": 173
        },
        "id": "8yvLeX-lkuhv",
        "outputId": "600c1003-7c21-4cc0-951f-6876c352cb35"
      },
      "source": [
        "# 결측치 있는지 없는지 위치 확인하기\n",
        "pd.isna(df1)"
      ],
      "execution_count": 49,
      "outputs": [
        {
          "output_type": "execute_result",
          "data": {
            "text/html": [
              "<div>\n",
              "<style scoped>\n",
              "    .dataframe tbody tr th:only-of-type {\n",
              "        vertical-align: middle;\n",
              "    }\n",
              "\n",
              "    .dataframe tbody tr th {\n",
              "        vertical-align: top;\n",
              "    }\n",
              "\n",
              "    .dataframe thead th {\n",
              "        text-align: right;\n",
              "    }\n",
              "</style>\n",
              "<table border=\"1\" class=\"dataframe\">\n",
              "  <thead>\n",
              "    <tr style=\"text-align: right;\">\n",
              "      <th></th>\n",
              "      <th>A</th>\n",
              "      <th>B</th>\n",
              "      <th>C</th>\n",
              "      <th>D</th>\n",
              "      <th>F</th>\n",
              "      <th>E</th>\n",
              "    </tr>\n",
              "  </thead>\n",
              "  <tbody>\n",
              "    <tr>\n",
              "      <th>2013-01-01</th>\n",
              "      <td>False</td>\n",
              "      <td>False</td>\n",
              "      <td>False</td>\n",
              "      <td>False</td>\n",
              "      <td>True</td>\n",
              "      <td>False</td>\n",
              "    </tr>\n",
              "    <tr>\n",
              "      <th>2013-01-02</th>\n",
              "      <td>False</td>\n",
              "      <td>False</td>\n",
              "      <td>False</td>\n",
              "      <td>False</td>\n",
              "      <td>False</td>\n",
              "      <td>False</td>\n",
              "    </tr>\n",
              "    <tr>\n",
              "      <th>2013-01-03</th>\n",
              "      <td>False</td>\n",
              "      <td>False</td>\n",
              "      <td>False</td>\n",
              "      <td>False</td>\n",
              "      <td>False</td>\n",
              "      <td>True</td>\n",
              "    </tr>\n",
              "    <tr>\n",
              "      <th>2013-01-04</th>\n",
              "      <td>False</td>\n",
              "      <td>False</td>\n",
              "      <td>False</td>\n",
              "      <td>False</td>\n",
              "      <td>False</td>\n",
              "      <td>True</td>\n",
              "    </tr>\n",
              "  </tbody>\n",
              "</table>\n",
              "</div>"
            ],
            "text/plain": [
              "                A      B      C      D      F      E\n",
              "2013-01-01  False  False  False  False   True  False\n",
              "2013-01-02  False  False  False  False  False  False\n",
              "2013-01-03  False  False  False  False  False   True\n",
              "2013-01-04  False  False  False  False  False   True"
            ]
          },
          "metadata": {
            "tags": []
          },
          "execution_count": 49
        }
      ]
    },
    {
      "cell_type": "markdown",
      "metadata": {
        "id": "xj8iCsQonzNh"
      },
      "source": [
        "# 5. 조작 (Operations)"
      ]
    },
    {
      "cell_type": "markdown",
      "metadata": {
        "id": "2Bm3gs4Ln3N8"
      },
      "source": [
        "## 데이터 프레임의 기본 통계 구하기"
      ]
    },
    {
      "cell_type": "code",
      "metadata": {
        "colab": {
          "base_uri": "https://localhost:8080/"
        },
        "id": "YaRHsUiSn2EV",
        "outputId": "8066d1be-70f0-42bf-d76c-2278db963080"
      },
      "source": [
        "print(df.mean())  # 컬럼별 평균\n",
        "print(df.mean(1)) # 행별 평균"
      ],
      "execution_count": 50,
      "outputs": [
        {
          "output_type": "stream",
          "text": [
            "A    0.419633\n",
            "B    0.591473\n",
            "C    1.045931\n",
            "D    5.000000\n",
            "F    3.000000\n",
            "dtype: float64\n",
            "2013-01-01    1.549729\n",
            "2013-01-02    1.504968\n",
            "2013-01-03    1.988248\n",
            "2013-01-04    2.372740\n",
            "2013-01-05    1.888946\n",
            "2013-01-06    2.473759\n",
            "Freq: D, dtype: float64\n"
          ],
          "name": "stdout"
        }
      ]
    },
    {
      "cell_type": "code",
      "metadata": {
        "colab": {
          "base_uri": "https://localhost:8080/"
        },
        "id": "uM0Dzut9oBIu",
        "outputId": "cb66469f-5b94-4ccb-b4d9-686809ab8afa"
      },
      "source": [
        "s = pd.Series([1,3,5,np.nan,6,8], index=dates).shift(2)\n",
        "s"
      ],
      "execution_count": 51,
      "outputs": [
        {
          "output_type": "execute_result",
          "data": {
            "text/plain": [
              "2013-01-01    NaN\n",
              "2013-01-02    NaN\n",
              "2013-01-03    1.0\n",
              "2013-01-04    3.0\n",
              "2013-01-05    5.0\n",
              "2013-01-06    NaN\n",
              "Freq: D, dtype: float64"
            ]
          },
          "metadata": {
            "tags": []
          },
          "execution_count": 51
        }
      ]
    },
    {
      "cell_type": "code",
      "metadata": {
        "colab": {
          "base_uri": "https://localhost:8080/",
          "height": 354
        },
        "id": "Nb9L6HLAk20T",
        "outputId": "edff50d6-2a43-4150-a2cc-b3bfbe0e9a45"
      },
      "source": [
        "print(df)\n",
        "df.sub(s, axis='index')"
      ],
      "execution_count": 52,
      "outputs": [
        {
          "output_type": "stream",
          "text": [
            "                   A         B         C  D    F\n",
            "2013-01-01  0.000000  0.000000  1.198916  5  NaN\n",
            "2013-01-02  0.360208  0.552296  0.612337  5  1.0\n",
            "2013-01-03  2.432118  0.019141  0.489980  5  2.0\n",
            "2013-01-04  1.232998  0.751265  1.879437  5  3.0\n",
            "2013-01-05 -1.459957  1.417531  0.487158  5  4.0\n",
            "2013-01-06 -0.047570  0.808607  1.607757  5  5.0\n"
          ],
          "name": "stdout"
        },
        {
          "output_type": "execute_result",
          "data": {
            "text/html": [
              "<div>\n",
              "<style scoped>\n",
              "    .dataframe tbody tr th:only-of-type {\n",
              "        vertical-align: middle;\n",
              "    }\n",
              "\n",
              "    .dataframe tbody tr th {\n",
              "        vertical-align: top;\n",
              "    }\n",
              "\n",
              "    .dataframe thead th {\n",
              "        text-align: right;\n",
              "    }\n",
              "</style>\n",
              "<table border=\"1\" class=\"dataframe\">\n",
              "  <thead>\n",
              "    <tr style=\"text-align: right;\">\n",
              "      <th></th>\n",
              "      <th>A</th>\n",
              "      <th>B</th>\n",
              "      <th>C</th>\n",
              "      <th>D</th>\n",
              "      <th>F</th>\n",
              "    </tr>\n",
              "  </thead>\n",
              "  <tbody>\n",
              "    <tr>\n",
              "      <th>2013-01-01</th>\n",
              "      <td>NaN</td>\n",
              "      <td>NaN</td>\n",
              "      <td>NaN</td>\n",
              "      <td>NaN</td>\n",
              "      <td>NaN</td>\n",
              "    </tr>\n",
              "    <tr>\n",
              "      <th>2013-01-02</th>\n",
              "      <td>NaN</td>\n",
              "      <td>NaN</td>\n",
              "      <td>NaN</td>\n",
              "      <td>NaN</td>\n",
              "      <td>NaN</td>\n",
              "    </tr>\n",
              "    <tr>\n",
              "      <th>2013-01-03</th>\n",
              "      <td>1.432118</td>\n",
              "      <td>-0.980859</td>\n",
              "      <td>-0.510020</td>\n",
              "      <td>4.0</td>\n",
              "      <td>1.0</td>\n",
              "    </tr>\n",
              "    <tr>\n",
              "      <th>2013-01-04</th>\n",
              "      <td>-1.767002</td>\n",
              "      <td>-2.248735</td>\n",
              "      <td>-1.120563</td>\n",
              "      <td>2.0</td>\n",
              "      <td>0.0</td>\n",
              "    </tr>\n",
              "    <tr>\n",
              "      <th>2013-01-05</th>\n",
              "      <td>-6.459957</td>\n",
              "      <td>-3.582469</td>\n",
              "      <td>-4.512842</td>\n",
              "      <td>0.0</td>\n",
              "      <td>-1.0</td>\n",
              "    </tr>\n",
              "    <tr>\n",
              "      <th>2013-01-06</th>\n",
              "      <td>NaN</td>\n",
              "      <td>NaN</td>\n",
              "      <td>NaN</td>\n",
              "      <td>NaN</td>\n",
              "      <td>NaN</td>\n",
              "    </tr>\n",
              "  </tbody>\n",
              "</table>\n",
              "</div>"
            ],
            "text/plain": [
              "                   A         B         C    D    F\n",
              "2013-01-01       NaN       NaN       NaN  NaN  NaN\n",
              "2013-01-02       NaN       NaN       NaN  NaN  NaN\n",
              "2013-01-03  1.432118 -0.980859 -0.510020  4.0  1.0\n",
              "2013-01-04 -1.767002 -2.248735 -1.120563  2.0  0.0\n",
              "2013-01-05 -6.459957 -3.582469 -4.512842  0.0 -1.0\n",
              "2013-01-06       NaN       NaN       NaN  NaN  NaN"
            ]
          },
          "metadata": {
            "tags": []
          },
          "execution_count": 52
        }
      ]
    },
    {
      "cell_type": "markdown",
      "metadata": {
        "id": "Y3idFf9_o3w9"
      },
      "source": [
        "## 데이터 프레임에 함수 적용하기: df.apply()"
      ]
    },
    {
      "cell_type": "code",
      "metadata": {
        "colab": {
          "base_uri": "https://localhost:8080/",
          "height": 235
        },
        "id": "FWXWoq-fpP3L",
        "outputId": "52c8d89a-2ec6-41a0-cbe7-b74f190f1589"
      },
      "source": [
        "df"
      ],
      "execution_count": 54,
      "outputs": [
        {
          "output_type": "execute_result",
          "data": {
            "text/html": [
              "<div>\n",
              "<style scoped>\n",
              "    .dataframe tbody tr th:only-of-type {\n",
              "        vertical-align: middle;\n",
              "    }\n",
              "\n",
              "    .dataframe tbody tr th {\n",
              "        vertical-align: top;\n",
              "    }\n",
              "\n",
              "    .dataframe thead th {\n",
              "        text-align: right;\n",
              "    }\n",
              "</style>\n",
              "<table border=\"1\" class=\"dataframe\">\n",
              "  <thead>\n",
              "    <tr style=\"text-align: right;\">\n",
              "      <th></th>\n",
              "      <th>A</th>\n",
              "      <th>B</th>\n",
              "      <th>C</th>\n",
              "      <th>D</th>\n",
              "      <th>F</th>\n",
              "    </tr>\n",
              "  </thead>\n",
              "  <tbody>\n",
              "    <tr>\n",
              "      <th>2013-01-01</th>\n",
              "      <td>0.000000</td>\n",
              "      <td>0.000000</td>\n",
              "      <td>1.198916</td>\n",
              "      <td>5</td>\n",
              "      <td>NaN</td>\n",
              "    </tr>\n",
              "    <tr>\n",
              "      <th>2013-01-02</th>\n",
              "      <td>0.360208</td>\n",
              "      <td>0.552296</td>\n",
              "      <td>0.612337</td>\n",
              "      <td>5</td>\n",
              "      <td>1.0</td>\n",
              "    </tr>\n",
              "    <tr>\n",
              "      <th>2013-01-03</th>\n",
              "      <td>2.432118</td>\n",
              "      <td>0.019141</td>\n",
              "      <td>0.489980</td>\n",
              "      <td>5</td>\n",
              "      <td>2.0</td>\n",
              "    </tr>\n",
              "    <tr>\n",
              "      <th>2013-01-04</th>\n",
              "      <td>1.232998</td>\n",
              "      <td>0.751265</td>\n",
              "      <td>1.879437</td>\n",
              "      <td>5</td>\n",
              "      <td>3.0</td>\n",
              "    </tr>\n",
              "    <tr>\n",
              "      <th>2013-01-05</th>\n",
              "      <td>-1.459957</td>\n",
              "      <td>1.417531</td>\n",
              "      <td>0.487158</td>\n",
              "      <td>5</td>\n",
              "      <td>4.0</td>\n",
              "    </tr>\n",
              "    <tr>\n",
              "      <th>2013-01-06</th>\n",
              "      <td>-0.047570</td>\n",
              "      <td>0.808607</td>\n",
              "      <td>1.607757</td>\n",
              "      <td>5</td>\n",
              "      <td>5.0</td>\n",
              "    </tr>\n",
              "  </tbody>\n",
              "</table>\n",
              "</div>"
            ],
            "text/plain": [
              "                   A         B         C  D    F\n",
              "2013-01-01  0.000000  0.000000  1.198916  5  NaN\n",
              "2013-01-02  0.360208  0.552296  0.612337  5  1.0\n",
              "2013-01-03  2.432118  0.019141  0.489980  5  2.0\n",
              "2013-01-04  1.232998  0.751265  1.879437  5  3.0\n",
              "2013-01-05 -1.459957  1.417531  0.487158  5  4.0\n",
              "2013-01-06 -0.047570  0.808607  1.607757  5  5.0"
            ]
          },
          "metadata": {
            "tags": []
          },
          "execution_count": 54
        }
      ]
    },
    {
      "cell_type": "code",
      "metadata": {
        "colab": {
          "base_uri": "https://localhost:8080/",
          "height": 235
        },
        "id": "Z7rBL_izot-9",
        "outputId": "7d822b3e-c5ba-4ecf-cb6c-368b5d9c0967"
      },
      "source": [
        "# df의 컬럼별로 누적합 구하기\n",
        "df.apply(np.cumsum)"
      ],
      "execution_count": 55,
      "outputs": [
        {
          "output_type": "execute_result",
          "data": {
            "text/html": [
              "<div>\n",
              "<style scoped>\n",
              "    .dataframe tbody tr th:only-of-type {\n",
              "        vertical-align: middle;\n",
              "    }\n",
              "\n",
              "    .dataframe tbody tr th {\n",
              "        vertical-align: top;\n",
              "    }\n",
              "\n",
              "    .dataframe thead th {\n",
              "        text-align: right;\n",
              "    }\n",
              "</style>\n",
              "<table border=\"1\" class=\"dataframe\">\n",
              "  <thead>\n",
              "    <tr style=\"text-align: right;\">\n",
              "      <th></th>\n",
              "      <th>A</th>\n",
              "      <th>B</th>\n",
              "      <th>C</th>\n",
              "      <th>D</th>\n",
              "      <th>F</th>\n",
              "    </tr>\n",
              "  </thead>\n",
              "  <tbody>\n",
              "    <tr>\n",
              "      <th>2013-01-01</th>\n",
              "      <td>0.000000</td>\n",
              "      <td>0.000000</td>\n",
              "      <td>1.198916</td>\n",
              "      <td>5</td>\n",
              "      <td>NaN</td>\n",
              "    </tr>\n",
              "    <tr>\n",
              "      <th>2013-01-02</th>\n",
              "      <td>0.360208</td>\n",
              "      <td>0.552296</td>\n",
              "      <td>1.811253</td>\n",
              "      <td>10</td>\n",
              "      <td>1.0</td>\n",
              "    </tr>\n",
              "    <tr>\n",
              "      <th>2013-01-03</th>\n",
              "      <td>2.792327</td>\n",
              "      <td>0.571437</td>\n",
              "      <td>2.301233</td>\n",
              "      <td>15</td>\n",
              "      <td>3.0</td>\n",
              "    </tr>\n",
              "    <tr>\n",
              "      <th>2013-01-04</th>\n",
              "      <td>4.025325</td>\n",
              "      <td>1.322702</td>\n",
              "      <td>4.180669</td>\n",
              "      <td>20</td>\n",
              "      <td>6.0</td>\n",
              "    </tr>\n",
              "    <tr>\n",
              "      <th>2013-01-05</th>\n",
              "      <td>2.565368</td>\n",
              "      <td>2.740232</td>\n",
              "      <td>4.667828</td>\n",
              "      <td>25</td>\n",
              "      <td>10.0</td>\n",
              "    </tr>\n",
              "    <tr>\n",
              "      <th>2013-01-06</th>\n",
              "      <td>2.517798</td>\n",
              "      <td>3.548840</td>\n",
              "      <td>6.275585</td>\n",
              "      <td>30</td>\n",
              "      <td>15.0</td>\n",
              "    </tr>\n",
              "  </tbody>\n",
              "</table>\n",
              "</div>"
            ],
            "text/plain": [
              "                   A         B         C   D     F\n",
              "2013-01-01  0.000000  0.000000  1.198916   5   NaN\n",
              "2013-01-02  0.360208  0.552296  1.811253  10   1.0\n",
              "2013-01-03  2.792327  0.571437  2.301233  15   3.0\n",
              "2013-01-04  4.025325  1.322702  4.180669  20   6.0\n",
              "2013-01-05  2.565368  2.740232  4.667828  25  10.0\n",
              "2013-01-06  2.517798  3.548840  6.275585  30  15.0"
            ]
          },
          "metadata": {
            "tags": []
          },
          "execution_count": 55
        }
      ]
    },
    {
      "cell_type": "code",
      "metadata": {
        "colab": {
          "base_uri": "https://localhost:8080/"
        },
        "id": "2UD0aDrupmb9",
        "outputId": "0296884f-e7a1-4dab-9f83-251ee1835f8c"
      },
      "source": [
        "# df의 컬럼별로 lambda함수 적용하기\n",
        "df.apply(lambda x:x.max()-x.min())"
      ],
      "execution_count": 56,
      "outputs": [
        {
          "output_type": "execute_result",
          "data": {
            "text/plain": [
              "A    3.892075\n",
              "B    1.417531\n",
              "C    1.392278\n",
              "D    0.000000\n",
              "F    4.000000\n",
              "dtype: float64"
            ]
          },
          "metadata": {
            "tags": []
          },
          "execution_count": 56
        }
      ]
    },
    {
      "cell_type": "markdown",
      "metadata": {
        "id": "y_uxwJHeqU89"
      },
      "source": [
        "## 열의 value 개수 세기: s.value_counts()"
      ]
    },
    {
      "cell_type": "code",
      "metadata": {
        "colab": {
          "base_uri": "https://localhost:8080/"
        },
        "id": "Rcuczhnjp3G9",
        "outputId": "99ba09b8-b91e-497a-880e-ced4a5447ad4"
      },
      "source": [
        "s = pd.Series(np.random.randint(0,7,size=10))\n",
        "s"
      ],
      "execution_count": 57,
      "outputs": [
        {
          "output_type": "execute_result",
          "data": {
            "text/plain": [
              "0    4\n",
              "1    6\n",
              "2    3\n",
              "3    3\n",
              "4    6\n",
              "5    0\n",
              "6    2\n",
              "7    5\n",
              "8    0\n",
              "9    6\n",
              "dtype: int64"
            ]
          },
          "metadata": {
            "tags": []
          },
          "execution_count": 57
        }
      ]
    },
    {
      "cell_type": "code",
      "metadata": {
        "colab": {
          "base_uri": "https://localhost:8080/"
        },
        "id": "ONZsP_-pqgHw",
        "outputId": "0b55bf9a-8336-4060-f5a4-cee46e4c2acb"
      },
      "source": [
        "s.value_counts()"
      ],
      "execution_count": 58,
      "outputs": [
        {
          "output_type": "execute_result",
          "data": {
            "text/plain": [
              "6    3\n",
              "3    2\n",
              "0    2\n",
              "5    1\n",
              "4    1\n",
              "2    1\n",
              "dtype: int64"
            ]
          },
          "metadata": {
            "tags": []
          },
          "execution_count": 58
        }
      ]
    },
    {
      "cell_type": "markdown",
      "metadata": {
        "id": "qYdayhB6rBmX"
      },
      "source": [
        "## 문자열 조작하기"
      ]
    },
    {
      "cell_type": "code",
      "metadata": {
        "colab": {
          "base_uri": "https://localhost:8080/"
        },
        "id": "TNdrDMphqh_O",
        "outputId": "7dc2ed11-17bf-4a1a-dbbb-3561018231e2"
      },
      "source": [
        "s = pd.Series(['A', 'B', 'C', 'Aaba', 'Baca', np.nan, 'CABA', 'dog', 'cat'])\n",
        "s"
      ],
      "execution_count": 59,
      "outputs": [
        {
          "output_type": "execute_result",
          "data": {
            "text/plain": [
              "0       A\n",
              "1       B\n",
              "2       C\n",
              "3    Aaba\n",
              "4    Baca\n",
              "5     NaN\n",
              "6    CABA\n",
              "7     dog\n",
              "8     cat\n",
              "dtype: object"
            ]
          },
          "metadata": {
            "tags": []
          },
          "execution_count": 59
        }
      ]
    },
    {
      "cell_type": "code",
      "metadata": {
        "colab": {
          "base_uri": "https://localhost:8080/"
        },
        "id": "PuUAuRJrrMU8",
        "outputId": "fca7dbd1-f525-430e-9765-b070010cda1a"
      },
      "source": [
        "# 대문자 > 소문자로 만들기\n",
        "s.str.lower()"
      ],
      "execution_count": 60,
      "outputs": [
        {
          "output_type": "execute_result",
          "data": {
            "text/plain": [
              "0       a\n",
              "1       b\n",
              "2       c\n",
              "3    aaba\n",
              "4    baca\n",
              "5     NaN\n",
              "6    caba\n",
              "7     dog\n",
              "8     cat\n",
              "dtype: object"
            ]
          },
          "metadata": {
            "tags": []
          },
          "execution_count": 60
        }
      ]
    }
  ]
}